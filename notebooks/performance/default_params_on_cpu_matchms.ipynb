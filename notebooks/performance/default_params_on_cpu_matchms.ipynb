{
 "cells": [
  {
   "cell_type": "markdown",
   "metadata": {},
   "source": [
    "This notebook evaluates the performance of just parallelizing the similarity over CPUs (**not GPUs**)."
   ]
  },
  {
   "cell_type": "code",
   "execution_count": 1,
   "metadata": {},
   "outputs": [
    {
     "name": "stdout",
     "output_type": "stream",
     "text": [
      "Number of CPU cores 32\n"
     ]
    }
   ],
   "source": [
    "# We compare pairwise similarity performance on `spectra_file`\n",
    "# We can use pickled version for much faster loading times\n",
    "spectra_file = 'GNPS-LIBRARY.pickle'\n",
    "\n",
    "# We take a random sample of spectra from said file\n",
    "\n",
    "# Minimum size:\n",
    "chunk_sizes_min = 32\n",
    "\n",
    "# Maximum size\n",
    "chunk_sizes_max = 1024\n",
    "\n",
    "# how many points to evaluate (in logspace) between min and max\n",
    "num_evals = 15\n",
    "\n",
    "! echo Number of CPU cores $(nproc)"
   ]
  },
  {
   "cell_type": "code",
   "execution_count": 2,
   "metadata": {},
   "outputs": [
    {
     "name": "stdout",
     "output_type": "stream",
     "text": [
      "\u001b[33mWARNING: Running pip as the 'root' user can result in broken permissions and conflicting behaviour with the system package manager. It is recommended to use a virtual environment instead: https://pip.pypa.io/warnings/venv\u001b[0m\u001b[33m\n",
      "\u001b[0m\u001b[33mWARNING: Running pip as the 'root' user can result in broken permissions and conflicting behaviour with the system package manager. It is recommended to use a virtual environment instead: https://pip.pypa.io/warnings/venv\u001b[0m\u001b[33m\n",
      "\u001b[0m"
     ]
    }
   ],
   "source": [
    "! pip uninstall cudams -q -y\n",
    "! pip install -q --upgrade git+https://github.com/tornikeo/cosine-similarity@main"
   ]
  },
  {
   "cell_type": "code",
   "execution_count": 3,
   "metadata": {},
   "outputs": [],
   "source": [
    "from cudams.utils import argbatch, Timer\n",
    "from pathlib import Path\n",
    "from tqdm import tqdm\n",
    "import numpy as np\n",
    "import matplotlib.pyplot as plt\n",
    "import torch\n",
    "import pickle\n",
    "from cudams.utils import download\n",
    "from joblib import Parallel, delayed\n",
    "from matchms.filtering import default_filters, normalize_intensities, reduce_to_number_of_peaks\n",
    "from matchms.importing import load_from_mgf\n",
    "from matchms.similarity import CosineGreedy\n",
    "from matchms import calculate_scores\n",
    "from cudams.utils import Timer\n",
    "\n",
    "spectra = pickle.load(open(download('GNPS-LIBRARY.pickle'),'rb'))\n",
    "spectra = spectra[:chunk_sizes_max]"
   ]
  },
  {
   "cell_type": "code",
   "execution_count": 4,
   "metadata": {},
   "outputs": [
    {
     "name": "stderr",
     "output_type": "stream",
     "text": [
      "100%|██████████| 15/15 [00:00<00:00, 241.19it/s]\n"
     ]
    }
   ],
   "source": [
    "chunk_sizes = np.round(np.logspace(\n",
    "    np.log2(chunk_sizes_min), \n",
    "    np.log2(chunk_sizes_max), \n",
    "    num=num_evals, \n",
    "    base=2, \n",
    "    endpoint=True)\n",
    ").astype(int)\n",
    "\n",
    "times = []\n",
    "pairs = []\n",
    "kernel = CosineGreedy()\n",
    "\n",
    "def loop(chunk_size):\n",
    "    references = spectra[:chunk_size]\n",
    "    queries = spectra[:chunk_size]\n",
    "    with Timer() as timer:\n",
    "        kernel.matrix(references, queries)\n",
    "    return timer.duration, len(references) * len(queries) # All samples\n",
    "\n",
    "# Do it in parallel, each experiment gets own CPU, so comparison is still fair.\n",
    "data = Parallel(-1)(delayed(loop)(chunk_size) for chunk_size in tqdm(chunk_sizes))\n",
    "\n",
    "## Not sure if Joblib would interfere with Numba's jit prange... \n",
    "# data = (loop(chunk_size) for chunk_size in tqdm(chunk_sizes))\n",
    "times, pairs = zip(*data)"
   ]
  },
  {
   "cell_type": "code",
   "execution_count": 5,
   "metadata": {},
   "outputs": [
    {
     "data": {
      "image/png": "[encoded data removed]",
      "text/plain": [
       "<Figure size 640x480 with 1 Axes>"
      ]
     },
     "metadata": {},
     "output_type": "display_data"
    }
   ],
   "source": [
    "plt.semilogx(pairs, times, label='signle_cpu')\n",
    "plt.title(f\"Performance plot\")\n",
    "plt.xlabel(\"# pairs\")\n",
    "plt.ylabel(\"time (s)\")\n",
    "plt.legend()\n",
    "plt.show()"
   ]
  },
  {
   "cell_type": "code",
   "execution_count": 6,
   "metadata": {},
   "outputs": [
    {
     "name": "stdout",
     "output_type": "stream",
     "text": [
      "{\n",
      " \"pairs\": [\n",
      "  1024,\n",
      "  1681,\n",
      "  2809,\n",
      "  4489,\n",
      "  7396,\n",
      "  12100,\n",
      "  19881,\n",
      "  32761,\n",
      "  53824,\n",
      "  88209,\n",
      "  144400,\n",
      "  237169,\n",
      "  389376,\n",
      "  638401,\n",
      "  1048576\n",
      " ],\n",
      " \"times\": [\n",
      "  3.814275030978024,\n",
      "  3.9308944329968654,\n",
      "  4.06755640701158,\n",
      "  4.3567147250287235,\n",
      "  4.638497123960406,\n",
      "  5.494515477039386,\n",
      "  6.654877407010645,\n",
      "  8.274874125025235,\n",
      "  10.89242931600893,\n",
      "  15.17167440499179,\n",
      "  22.59791873197537,\n",
      "  36.181747893977445,\n",
      "  56.44161673996132,\n",
      "  92.67165851598838,\n",
      "  158.3780818840023\n",
      " ],\n",
      " \"device\": \"NVIDIA GeForce RTX 4090\",\n",
      " \"nproc\": 32\n",
      "}\n"
     ]
    }
   ],
   "source": [
    "import json, os\n",
    "\n",
    "benchmark_summary = dict(\n",
    "        pairs=pairs,\n",
    "        times=times,\n",
    "        device=torch.cuda.get_device_name(),\n",
    "        nproc=os.cpu_count(),    \n",
    "    )\n",
    "print(json.dumps(benchmark_summary,indent=1))"
   ]
  }
 ],
 "metadata": {
  "kernelspec": {
   "display_name": "Python 3 (ipykernel)",
   "language": "python",
   "name": "python3"
  },
  "language_info": {
   "codemirror_mode": {
    "name": "ipython",
    "version": 3
   },
   "file_extension": ".py",
   "mimetype": "text/x-python",
   "name": "python",
   "nbconvert_exporter": "python",
   "pygments_lexer": "ipython3",
   "version": "3.10.13"
  }
 },
 "nbformat": 4,
 "nbformat_minor": 4
}
