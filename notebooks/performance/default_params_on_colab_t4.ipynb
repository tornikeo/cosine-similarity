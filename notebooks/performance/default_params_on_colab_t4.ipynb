{
  "cells": [
    {
      "cell_type": "markdown",
      "metadata": {
        "id": "AfveuYsebIlP"
      },
      "source": [
        "This notebook evaluates performance gains of `CudaCosineGreedy` against `matchms`.\n",
        "\n",
        "Performance depends heavily on used hardware, as well as how correlated the spectra are with each other, (i.e. on average, how many common pairs of peaks do spectra have).\n",
        "\n",
        "This specific notebook evaulates the performance given the following below arguments (feel free to change these):"
      ]
    },
    {
      "cell_type": "code",
      "execution_count": 1,
      "metadata": {
        "colab": {
          "base_uri": "https://localhost:8080/"
        },
        "id": "93s3TUmZbIlU",
        "outputId": "c7e791bc-1ac0-43f3-f8df-6d668c43913d"
      },
      "outputs": [
        {
          "output_type": "stream",
          "name": "stdout",
          "text": [
            "GPU 0: Tesla T4 (UUID: GPU-dd33e699-718c-4769-263b-3ccf5fc7fe91)\n",
            "Number of CPU cores 2\n"
          ]
        }
      ],
      "source": [
        "# We compare pairwise similarity performance on `spectra_file`\n",
        "# We can use pickled version for much faster loading times\n",
        "spectra_file = 'ALL_GNPS.pickle'\n",
        "\n",
        "# We take a random sample of spectra from said file\n",
        "\n",
        "# Minimum size:\n",
        "chunk_sizes_min = 32\n",
        "\n",
        "# Maximum size\n",
        "chunk_sizes_max = 4096 # Colab GPU is miserable, so we make this smaller here....\n",
        "\n",
        "# how many points to evaluate (in logspace) between min and max\n",
        "num_evals = 15\n",
        "\n",
        "# max number of peaks to retain in any spectra - larger numbers are marginally more accurate, but much slower\n",
        "max_peaks = 1024\n",
        "\n",
        "# optimal batch size is hardware-dependent, but usually the best number is the largest the hardware can handle (without an OOM error)\n",
        "batch_size = 2048\n",
        "\n",
        "# Hardware matters! These results are only repeatable using this GPU (shown as an output)\n",
        "! nvidia-smi -L\n",
        "! echo Number of CPU cores $(nproc)"
      ]
    },
    {
      "cell_type": "code",
      "execution_count": 2,
      "metadata": {
        "colab": {
          "base_uri": "https://localhost:8080/",
          "height": 122
        },
        "id": "JMj8TGRZbIlY",
        "outputId": "d2488a5a-be53-4161-d652-9dfbe8437730"
      },
      "outputs": [
        {
          "output_type": "stream",
          "name": "stdout",
          "text": [
            "\u001b[33mWARNING: Skipping cudams as it is not installed.\u001b[0m\u001b[33m\n",
            "\u001b[0m  Installing build dependencies ... \u001b[?25l\u001b[?25hdone\n",
            "  Getting requirements to build wheel ... \u001b[?25l\u001b[?25hdone\n",
            "  Preparing metadata (pyproject.toml) ... \u001b[?25l\u001b[?25hdone\n",
            "  Building wheel for cudams (pyproject.toml) ... \u001b[?25l\u001b[?25hdone\n"
          ]
        },
        {
          "output_type": "execute_result",
          "data": {
            "text/plain": [
              "'1.24.0'"
            ],
            "application/vnd.google.colaboratory.intrinsic+json": {
              "type": "string"
            }
          },
          "metadata": {},
          "execution_count": 2
        }
      ],
      "source": [
        "# Colab environment needs numpy==1.24 or less, so we have to do this beforehand.\n",
        "! pip uninstall -qy numpy\n",
        "! pip install -q --no-dependencies numpy==1.24\n",
        "! pip uninstall cudams -q -y\n",
        "! pip install -q --no-dependencies git+https://github.com/tornikeo/cosine-similarity@main\n",
        "\n",
        "import numpy as np\n",
        "np.__version__"
      ]
    },
    {
      "cell_type": "code",
      "source": [
        "! pip uninstall cudams -q -y\n",
        "! pip install -q --upgrade git+https://github.com/tornikeo/cosine-similarity@main"
      ],
      "metadata": {
        "colab": {
          "base_uri": "https://localhost:8080/"
        },
        "id": "fTRxL5C_mh8z",
        "outputId": "3c6d0c4c-0531-4e0b-da07-a1e6caee2ac3"
      },
      "execution_count": 3,
      "outputs": [
        {
          "output_type": "stream",
          "name": "stdout",
          "text": [
            "  Installing build dependencies ... \u001b[?25l\u001b[?25hdone\n",
            "  Getting requirements to build wheel ... \u001b[?25l\u001b[?25hdone\n",
            "  Preparing metadata (pyproject.toml) ... \u001b[?25l\u001b[?25hdone\n",
            "  Building wheel for cudams (pyproject.toml) ... \u001b[?25l\u001b[?25hdone\n"
          ]
        }
      ]
    },
    {
      "cell_type": "code",
      "execution_count": 4,
      "metadata": {
        "id": "_NX_mMqEbIlZ"
      },
      "outputs": [],
      "source": [
        "from cudams.utils import argbatch, Timer\n",
        "from cudams.similarity.spectrum_similarity_functions import cosine_greedy_kernel\n",
        "from pathlib import Path\n",
        "from tqdm import tqdm\n",
        "from numba import cuda\n",
        "import numpy as np\n",
        "import matplotlib.pyplot as plt\n",
        "import torch\n",
        "\n",
        "assert cuda.is_available()"
      ]
    },
    {
      "cell_type": "code",
      "execution_count": 5,
      "metadata": {
        "colab": {
          "base_uri": "https://localhost:8080/"
        },
        "id": "s1H9KBJcbIla",
        "outputId": "4b7d6675-48b1-4648-ddae-746c7df95897"
      },
      "outputs": [
        {
          "output_type": "stream",
          "name": "stderr",
          "text": [
            "/usr/local/lib/python3.10/dist-packages/cudams/utils.py:243: UserWarning: As of 2024, ALL_GNPS.pickle is a large file (1.76GB) make sure the machine can handle this\n",
            "  warnings.warn(f\"As of 2024, {name} is a large file (1.76GB) make sure the machine can handle this\")\n",
            "Downloading data from 'https://github.com/tornikeo/cosine-similarity/releases/download/samples-0.1/ALL_GNPS.pickle' to file '/root/.cache/pooch/a77e59fe0d8571b2d91a56e12790b36a-ALL_GNPS.pickle'.\n",
            "100%|█████████████████████████████████████| 1.47G/1.47G [00:00<00:00, 1.30TB/s]\n",
            "SHA256 hash of downloaded file: 473593b86b35de9bc90c216b70ca7f64628bf577cb4bc64afd1d4d0a533ab1f9\n",
            "Use this value as the 'known_hash' argument of 'pooch.retrieve' to ensure that the file hasn't changed if it is downloaded again in the future.\n"
          ]
        }
      ],
      "source": [
        "import pickle\n",
        "from cudams.utils import download\n",
        "from joblib import Parallel, delayed\n",
        "from matchms.filtering import default_filters, normalize_intensities, reduce_to_number_of_peaks\n",
        "from matchms.importing import load_from_mgf\n",
        "from cudams.utils import get_device_name_as_str, mute_stdout\n",
        "\n",
        "spectra = pickle.load(open(download(spectra_file),'rb'))"
      ]
    },
    {
      "cell_type": "code",
      "execution_count": 6,
      "metadata": {
        "colab": {
          "base_uri": "https://localhost:8080/"
        },
        "id": "2Z6EyaoibIlc",
        "outputId": "5a0c3520-d4b9-454a-a41e-3aa9715ff250"
      },
      "outputs": [
        {
          "output_type": "stream",
          "name": "stderr",
          "text": [
            "100%|██████████| 1/1 [00:03<00:00,  3.30s/it]\n",
            "  0%|          | 0/15 [00:00<?, ?it/s]\n",
            "  0%|          | 0/1 [00:00<?, ?it/s]\u001b[A\n",
            "100%|██████████| 1/1 [00:00<00:00,  1.09it/s]\n",
            "  7%|▋         | 1/15 [00:00<00:13,  1.07it/s]\n",
            "  0%|          | 0/1 [00:00<?, ?it/s]\u001b[A\n",
            "100%|██████████| 1/1 [00:00<00:00,  1.08it/s]\n",
            " 13%|█▎        | 2/15 [00:01<00:12,  1.07it/s]\n",
            "  0%|          | 0/1 [00:00<?, ?it/s]\u001b[A\n",
            "100%|██████████| 1/1 [00:00<00:00,  1.08it/s]\n",
            " 20%|██        | 3/15 [00:02<00:11,  1.06it/s]\n",
            "  0%|          | 0/1 [00:00<?, ?it/s]\u001b[A\n",
            "100%|██████████| 1/1 [00:01<00:00,  1.21s/it]\n",
            " 27%|██▋       | 4/15 [00:04<00:11,  1.05s/it]\n",
            "  0%|          | 0/1 [00:00<?, ?it/s]\u001b[A\n",
            "100%|██████████| 1/1 [00:01<00:00,  1.45s/it]\n",
            " 33%|███▎      | 5/15 [00:05<00:12,  1.20s/it]\n",
            "  0%|          | 0/1 [00:00<?, ?it/s]\u001b[A\n",
            "100%|██████████| 1/1 [00:01<00:00,  1.51s/it]\n",
            " 40%|████      | 6/15 [00:07<00:11,  1.32s/it]\n",
            "  0%|          | 0/1 [00:00<?, ?it/s]\u001b[A\n",
            "100%|██████████| 1/1 [00:01<00:00,  1.57s/it]\n",
            " 47%|████▋     | 7/15 [00:08<00:11,  1.41s/it]\n",
            "  0%|          | 0/1 [00:00<?, ?it/s]\u001b[A\n",
            "100%|██████████| 1/1 [00:01<00:00,  1.84s/it]\n",
            " 53%|█████▎    | 8/15 [00:10<00:10,  1.57s/it]\n",
            "  0%|          | 0/1 [00:00<?, ?it/s]\u001b[A\n",
            "100%|██████████| 1/1 [00:03<00:00,  3.49s/it]\n",
            " 60%|██████    | 9/15 [00:14<00:13,  2.18s/it]\n",
            "  0%|          | 0/1 [00:00<?, ?it/s]\u001b[A\n",
            "100%|██████████| 1/1 [00:06<00:00,  6.31s/it]\n",
            " 67%|██████▋   | 10/15 [00:20<00:17,  3.48s/it]\n",
            "  0%|          | 0/1 [00:00<?, ?it/s]\u001b[A\n",
            "100%|██████████| 1/1 [00:14<00:00, 14.98s/it]\n",
            " 73%|███████▎  | 11/15 [00:35<00:28,  7.04s/it]\n",
            "  0%|          | 0/1 [00:00<?, ?it/s]\u001b[A\n",
            "100%|██████████| 1/1 [00:23<00:00, 23.95s/it]\n",
            " 80%|████████  | 12/15 [00:59<00:36, 12.22s/it]\n",
            "  0%|          | 0/1 [00:00<?, ?it/s]\u001b[A\n",
            "100%|██████████| 1/1 [00:50<00:00, 50.54s/it]\n",
            " 87%|████████▋ | 13/15 [01:50<00:47, 23.89s/it]\n",
            "  0%|          | 0/4 [00:00<?, ?it/s]\u001b[A\n",
            " 25%|██▌       | 1/4 [00:50<02:31, 50.40s/it]\u001b[A\n",
            " 50%|█████     | 2/4 [01:15<01:10, 35.39s/it]\u001b[A\n",
            " 75%|███████▌  | 3/4 [01:36<00:28, 28.79s/it]\u001b[A\n",
            "100%|██████████| 4/4 [01:56<00:00, 29.19s/it]\n",
            " 93%|█████████▎| 14/15 [03:47<00:52, 52.05s/it]\n",
            "  0%|          | 0/4 [00:00<?, ?it/s]\u001b[A\n",
            " 25%|██▌       | 1/4 [00:50<02:32, 50.78s/it]\u001b[A\n",
            " 50%|█████     | 2/4 [01:52<01:54, 57.03s/it]\u001b[A\n",
            " 75%|███████▌  | 3/4 [02:53<00:58, 58.80s/it]\u001b[A\n",
            "100%|██████████| 4/4 [05:06<00:00, 76.70s/it]\n",
            "100%|██████████| 15/15 [08:55<00:00, 35.67s/it] \n"
          ]
        }
      ],
      "source": [
        "from cudams.similarity import CudaCosineGreedy\n",
        "\n",
        "np.random.seed(42)\n",
        "chunk_sizes = np.round(np.logspace(\n",
        "    np.log2(chunk_sizes_min),\n",
        "    np.log2(chunk_sizes_max),\n",
        "    num=num_evals,\n",
        "    base=2,\n",
        "    endpoint=True)\n",
        ").astype(int)\n",
        "\n",
        "times = []\n",
        "pairs = []\n",
        "\n",
        "# Kernel compilation might take a bit of time initially\n",
        "kernel = CudaCosineGreedy(batch_size=batch_size)\n",
        "\n",
        "# To force CUDA to load code to GPU, we need to do warmup\n",
        "kernel.matrix(spectra[:64], spectra[:64])\n",
        "\n",
        "# We avoid parallel here, since we only have one GPU, after all.\n",
        "for chunk_size in tqdm(chunk_sizes):\n",
        "    chunk_size = min(len(spectra), chunk_size) # We might run out of spectra\n",
        "    references = spectra[:chunk_size]\n",
        "    queries = references # Pairwise\n",
        "    with Timer() as timer:\n",
        "        kernel.matrix(references, queries)\n",
        "    times.append(timer.duration)\n",
        "    pairs.append(len(references) * len(queries)) # We've processed all pairs"
      ]
    },
    {
      "cell_type": "code",
      "execution_count": 9,
      "metadata": {
        "id": "Bvmh_5dcbIle",
        "colab": {
          "base_uri": "https://localhost:8080/",
          "height": 476
        },
        "outputId": "5ef1fba1-36eb-4d50-f599-77ec40ce14b8"
      },
      "outputs": [
        {
          "output_type": "display_data",
          "data": {
            "text/plain": [
              "<Figure size 640x480 with 1 Axes>"
            ],
            "image/png": "[encoded data removed]"
          },
          "metadata": {}
        }
      ],
      "source": [
        "plt.loglog(pairs, times, label='gpu')\n",
        "plt.title(f\"Performance plot of CosineGreedy ({torch.cuda.get_device_name()})\")\n",
        "plt.xlabel(\"# pairs\")\n",
        "plt.ylabel(\"time (s)\")\n",
        "plt.legend()\n",
        "plt.show()"
      ]
    },
    {
      "cell_type": "code",
      "source": [
        "plt.plot(pairs, times, label='gpu')\n",
        "plt.title(f\"Performance plot of CosineGreedy ({torch.cuda.get_device_name()})\")\n",
        "plt.xlabel(\"# pairs\")\n",
        "plt.ylabel(\"time (s)\")\n",
        "plt.legend()\n",
        "plt.show()"
      ],
      "metadata": {
        "colab": {
          "base_uri": "https://localhost:8080/",
          "height": 472
        },
        "id": "ym8AsxFzphrV",
        "outputId": "33676418-1d5d-486c-c97b-b89ff2fca381"
      },
      "execution_count": 11,
      "outputs": [
        {
          "output_type": "display_data",
          "data": {
            "text/plain": [
              "<Figure size 640x480 with 1 Axes>"
            ],
            "image/png": "[encoded data removed]"
          },
          "metadata": {}
        }
      ]
    },
    {
      "cell_type": "code",
      "execution_count": 10,
      "metadata": {
        "id": "Ecycd_p5oeQY",
        "colab": {
          "base_uri": "https://localhost:8080/"
        },
        "outputId": "d9c0f93e-f8dc-4cf4-c6df-edf18064caf7"
      },
      "outputs": [
        {
          "output_type": "stream",
          "name": "stdout",
          "text": [
            "{\n",
            " \"pairs\": [\n",
            "  1024,\n",
            "  2025,\n",
            "  4096,\n",
            "  8281,\n",
            "  16384,\n",
            "  32761,\n",
            "  65536,\n",
            "  131044,\n",
            "  262144,\n",
            "  524176,\n",
            "  1048576,\n",
            "  2096704,\n",
            "  4194304,\n",
            "  8386816,\n",
            "  16777216\n",
            " ],\n",
            " \"times\": [\n",
            "  0.9332277150000436,\n",
            "  0.9405126579999887,\n",
            "  0.9414207849999912,\n",
            "  1.2243749110000408,\n",
            "  1.4739638879999575,\n",
            "  1.537869397999998,\n",
            "  1.601218743000004,\n",
            "  1.8953012860000626,\n",
            "  3.531102654000051,\n",
            "  6.3728779780000195,\n",
            "  15.107737008000072,\n",
            "  24.074336751000033,\n",
            "  50.74331069499999,\n",
            "  117.12675006699999,\n",
            "  307.51109804299995\n",
            " ],\n",
            " \"device\": \"Tesla T4\",\n",
            " \"nproc\": 2\n",
            "}\n"
          ]
        }
      ],
      "source": [
        "import json, os\n",
        "\n",
        "benchmark_summary = dict(\n",
        "        pairs=pairs,\n",
        "        times=times,\n",
        "        device=torch.cuda.get_device_name(),\n",
        "        nproc=os.cpu_count(),\n",
        "    )\n",
        "print(json.dumps(benchmark_summary,indent=1))"
      ]
    }
  ],
  "metadata": {
    "accelerator": "GPU",
    "colab": {
      "gpuType": "T4",
      "provenance": []
    },
    "kernelspec": {
      "display_name": "Python 3",
      "name": "python3"
    },
    "language_info": {
      "codemirror_mode": {
        "name": "ipython",
        "version": 3
      },
      "file_extension": ".py",
      "mimetype": "text/x-python",
      "name": "python",
      "nbconvert_exporter": "python",
      "pygments_lexer": "ipython3",
      "version": "3.11.8"
    }
  },
  "nbformat": 4,
  "nbformat_minor": 0
}