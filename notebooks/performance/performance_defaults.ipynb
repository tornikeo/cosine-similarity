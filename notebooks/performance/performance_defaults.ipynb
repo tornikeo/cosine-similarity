{
 "cells": [
  {
   "cell_type": "markdown",
   "metadata": {},
   "source": [
    "This notebook evaluates performance gains of `CudaCosineGreedy` against `matchms`.\n",
    "\n",
    "Performance depends heavily on used hardware, as well as how correlated the spectra are with each other, (i.e. on average, how many common pairs of peaks do spectra have). \n",
    "\n",
    "This specific notebook evaulates the performance given the following below arguments (feel free to change these):"
   ]
  },
  {
   "cell_type": "code",
   "execution_count": 1,
   "metadata": {},
   "outputs": [
    {
     "name": "stdout",
     "output_type": "stream",
     "text": [
      "GPU 0: NVIDIA GeForce RTX 4090 (UUID: GPU-f8fb1eac-99d9-c8fe-8fdd-b0bfa14b6b19)\n",
      "Number of CPU cores 64\n"
     ]
    }
   ],
   "source": [
    "# We compare pairwise similarity performance on `spectra_file`\n",
    "# We can use pickled version for much faster loading times\n",
    "spectra_file = 'ALL_GNPS.pickle'\n",
    "\n",
    "# We take a random sample of spectra from said file\n",
    "\n",
    "# Minimum size:\n",
    "chunk_sizes_min = 32\n",
    "\n",
    "# Maximum size\n",
    "chunk_sizes_max = 5_000\n",
    "\n",
    "# Minimum size\n",
    "chunk_sizes_min_cu = 32\n",
    "\n",
    "# Maximum size\n",
    "chunk_sizes_max_cu = 5_000\n",
    "\n",
    "# how many points to evaluate (in logspace) between min and max\n",
    "num_evals = 15\n",
    "\n",
    "# max number of peaks to retain in any spectra - larger numbers are marginally more accurate, but much slower\n",
    "max_peaks = 1024\n",
    "\n",
    "# optimal batch size is hardware-dependent, but usually the best number is the largest the hardware can handle (without an OOM error)\n",
    "batch_size = 2048\n",
    "\n",
    "# Hardware matters! These results are only repeatable using this GPU (shown as an output)\n",
    "! nvidia-smi -L\n",
    "! echo Number of CPU cores $(nproc)"
   ]
  },
  {
   "cell_type": "code",
   "execution_count": 2,
   "metadata": {},
   "outputs": [
    {
     "name": "stdout",
     "output_type": "stream",
     "text": [
      "\u001b[33mWARNING: Running pip as the 'root' user can result in broken permissions and conflicting behaviour with the system package manager. It is recommended to use a virtual environment instead: https://pip.pypa.io/warnings/venv\u001b[0m\u001b[33m\n",
      "\u001b[0m\u001b[33mWARNING: Running pip as the 'root' user can result in broken permissions and conflicting behaviour with the system package manager. It is recommended to use a virtual environment instead: https://pip.pypa.io/warnings/venv\u001b[0m\u001b[33m\n",
      "\u001b[0m"
     ]
    }
   ],
   "source": [
    "! pip uninstall cudams -q -y\n",
    "! pip install -q --upgrade git+https://github.com/tornikeo/cosine-similarity@main"
   ]
  },
  {
   "cell_type": "code",
   "execution_count": 3,
   "metadata": {},
   "outputs": [],
   "source": [
    "from cudams.utils import argbatch, Timer\n",
    "from cudams.similarity.spectrum_similarity_functions import cosine_greedy_kernel\n",
    "from pathlib import Path\n",
    "from tqdm import tqdm\n",
    "from numba import cuda\n",
    "import numpy as np\n",
    "import matplotlib.pyplot as plt\n",
    "\n",
    "assert cuda.is_available()"
   ]
  },
  {
   "cell_type": "code",
   "execution_count": 4,
   "metadata": {},
   "outputs": [
    {
     "name": "stderr",
     "output_type": "stream",
     "text": [
      "/opt/conda/lib/python3.10/site-packages/cudams/utils.py:242: UserWarning: As of 2024, ALL_GNPS.pickle is a large file (1.76GB) make sure the machine can handle this\n",
      "  warnings.warn(f\"As of 2024, {name} is a large file (1.76GB) make sure the machine can handle this\")\n"
     ]
    }
   ],
   "source": [
    "import pickle\n",
    "from cudams.utils import download\n",
    "from joblib import Parallel, delayed\n",
    "from matchms.filtering import default_filters, normalize_intensities, reduce_to_number_of_peaks\n",
    "from matchms.importing import load_from_mgf\n",
    "from cudams.utils import get_device_name_as_str, mute_stdout\n",
    "\n",
    "# with mute_stdout():\n",
    "#     fpath = download(spectra_file)\n",
    "#     def parse_spectrum(spectrum):\n",
    "#         spectrum = default_filters(spectrum)\n",
    "#         spectrum = reduce_to_number_of_peaks(spectrum, n_max=max_peaks)\n",
    "#         spectrum = normalize_intensities(spectrum)\n",
    "#         return spectrum\n",
    "#     spectra = tuple(spe for _, spe in zip(range(chunk_sizes_max_cu), load_from_mgf(fpath)) )\n",
    "#     spectra = Parallel(-1)(delayed(parse_spectrum)(spec) for spec in tqdm(spectra))\n",
    "#     spectra = [spe for spe in spectra if spe is not None]\n",
    "spectra = pickle.load(open(download(spectra_file),'rb'))\n",
    "# Cut off unneeded spectra, save memory\n",
    "spectra = spectra[:max(chunk_sizes_max, chunk_sizes_max_cu)]"
   ]
  },
  {
   "cell_type": "code",
   "execution_count": 5,
   "metadata": {},
   "outputs": [
    {
     "name": "stderr",
     "output_type": "stream",
     "text": [
      "100%|██████████| 15/15 [00:00<00:00, 267.16it/s]\n"
     ]
    }
   ],
   "source": [
    "from matchms.similarity import CosineGreedy\n",
    "from matchms import calculate_scores\n",
    "from cudams.utils import Timer\n",
    "\n",
    "np.random.seed(42)\n",
    "chunk_sizes = np.round(np.logspace(\n",
    "    np.log2(chunk_sizes_min), \n",
    "    np.log2(chunk_sizes_max), \n",
    "    num=num_evals, \n",
    "    base=2, \n",
    "    endpoint=True)\n",
    ").astype(int)\n",
    "\n",
    "times = []\n",
    "pairs = []\n",
    "kernel = CosineGreedy()\n",
    "\n",
    "def loop(chunk_size):\n",
    "    references = np.random.choice(spectra, size=chunk_size, replace=False)\n",
    "    queries = references\n",
    "    with Timer() as timer:\n",
    "        kernel.matrix(references, queries, is_symmetric=True)\n",
    "    return timer.duration, len(references) * len(queries) / 2 # Div by 2 because it's symmetric\n",
    "\n",
    "# Do it in parallel, each experiment gets own CPU, so comparison is still fair.\n",
    "data = Parallel(-1)(delayed(loop)(chunk_size) for chunk_size in tqdm(chunk_sizes))\n",
    "times, pairs = zip(*data)"
   ]
  },
  {
   "cell_type": "code",
   "execution_count": 6,
   "metadata": {},
   "outputs": [
    {
     "name": "stderr",
     "output_type": "stream",
     "text": [
      "100%|██████████| 1/1 [00:01<00:00,  1.31s/it]\n",
      "  0%|          | 0/15 [00:00<?, ?it/s]\n",
      "  0%|          | 0/1 [00:00<?, ?it/s]\u001b[A\n",
      "100%|██████████| 1/1 [00:00<00:00,  1.99it/s]\u001b[A\n",
      "  7%|▋         | 1/15 [00:00<00:07,  1.86it/s]\n",
      "  0%|          | 0/1 [00:00<?, ?it/s]\u001b[A\n",
      "100%|██████████| 1/1 [00:00<00:00,  3.84it/s]\u001b[A\n",
      " 13%|█▎        | 2/15 [00:00<00:05,  2.53it/s]\n",
      "  0%|          | 0/1 [00:00<?, ?it/s]\u001b[A\n",
      "100%|██████████| 1/1 [00:00<00:00,  1.64it/s]\u001b[A\n",
      " 20%|██        | 3/15 [00:01<00:06,  1.96it/s]\n",
      "  0%|          | 0/1 [00:00<?, ?it/s]\u001b[A\n",
      "100%|██████████| 1/1 [00:00<00:00,  1.46it/s]\u001b[A\n",
      " 27%|██▋       | 4/15 [00:02<00:06,  1.68it/s]\n",
      "  0%|          | 0/1 [00:00<?, ?it/s]\u001b[A\n",
      "100%|██████████| 1/1 [00:00<00:00,  1.07it/s]\u001b[A\n",
      " 33%|███▎      | 5/15 [00:03<00:07,  1.36it/s]\n",
      "  0%|          | 0/1 [00:00<?, ?it/s]\u001b[A\n",
      "100%|██████████| 1/1 [00:01<00:00,  1.44s/it]\u001b[A\n",
      " 40%|████      | 6/15 [00:04<00:08,  1.01it/s]\n",
      "  0%|          | 0/1 [00:00<?, ?it/s]\u001b[A\n",
      "100%|██████████| 1/1 [00:02<00:00,  2.22s/it]\u001b[A\n",
      " 47%|████▋     | 7/15 [00:06<00:11,  1.41s/it]\n",
      "  0%|          | 0/1 [00:00<?, ?it/s]\u001b[A\n",
      "100%|██████████| 1/1 [00:03<00:00,  3.49s/it]\u001b[A\n",
      " 53%|█████▎    | 8/15 [00:10<00:14,  2.09s/it]\n",
      "  0%|          | 0/1 [00:00<?, ?it/s]\u001b[A\n",
      "100%|██████████| 1/1 [00:04<00:00,  4.89s/it]\u001b[A\n",
      " 60%|██████    | 9/15 [00:15<00:17,  2.99s/it]\n",
      "  0%|          | 0/1 [00:00<?, ?it/s]\u001b[A\n",
      "100%|██████████| 1/1 [00:08<00:00,  8.35s/it]\u001b[A\n",
      " 67%|██████▋   | 10/15 [00:23<00:23,  4.68s/it]\n",
      "  0%|          | 0/1 [00:00<?, ?it/s]\u001b[A\n",
      "100%|██████████| 1/1 [00:13<00:00, 13.72s/it]\u001b[A\n",
      " 73%|███████▎  | 11/15 [00:37<00:29,  7.50s/it]\n",
      "  0%|          | 0/4 [00:00<?, ?it/s]\u001b[A\n",
      " 25%|██▌       | 1/4 [00:15<00:45, 15.24s/it]\u001b[A\n",
      " 50%|█████     | 2/4 [00:23<00:21, 10.87s/it]\u001b[A\n",
      " 75%|███████▌  | 3/4 [00:30<00:09,  9.13s/it]\u001b[A\n",
      "100%|██████████| 4/4 [00:34<00:00,  8.72s/it]\u001b[A\n",
      " 80%|████████  | 12/15 [01:12<00:47, 15.89s/it]\n",
      "  0%|          | 0/9 [00:00<?, ?it/s]\u001b[A\n",
      " 11%|█         | 1/9 [00:16<02:10, 16.34s/it]\u001b[A\n",
      " 22%|██▏       | 2/9 [00:32<01:53, 16.16s/it]\u001b[A\n",
      " 33%|███▎      | 3/9 [00:35<01:01, 10.24s/it]\u001b[A\n",
      " 44%|████▍     | 4/9 [00:51<01:02, 12.50s/it]\u001b[A\n",
      " 56%|█████▌    | 5/9 [01:08<00:55, 13.95s/it]\u001b[A\n",
      " 67%|██████▋   | 6/9 [01:11<00:30, 10.22s/it]\u001b[A\n",
      " 78%|███████▊  | 7/9 [01:16<00:17,  8.58s/it]\u001b[A\n",
      " 89%|████████▉ | 8/9 [01:21<00:07,  7.37s/it]\u001b[A\n",
      "100%|██████████| 9/9 [01:22<00:00,  9.16s/it]\u001b[A\n",
      " 87%|████████▋ | 13/15 [02:35<01:12, 36.20s/it]\n",
      "  0%|          | 0/16 [00:00<?, ?it/s]\u001b[A\n",
      "  6%|▋         | 1/16 [00:15<03:58, 15.88s/it]\u001b[A\n",
      " 12%|█▎        | 2/16 [00:32<03:49, 16.36s/it]\u001b[A\n",
      " 19%|█▉        | 3/16 [00:48<03:32, 16.36s/it]\u001b[A\n",
      " 25%|██▌       | 4/16 [00:54<02:26, 12.20s/it]\u001b[A\n",
      " 31%|███▏      | 5/16 [01:10<02:26, 13.32s/it]\u001b[A\n",
      " 38%|███▊      | 6/16 [01:26<02:23, 14.35s/it]\u001b[A\n",
      " 44%|████▍     | 7/16 [01:42<02:13, 14.84s/it]\u001b[A\n",
      " 50%|█████     | 8/16 [01:47<01:34, 11.86s/it]\u001b[A\n",
      " 56%|█████▋    | 9/16 [02:03<01:30, 12.99s/it]\u001b[A\n",
      " 62%|██████▎   | 10/16 [02:19<01:24, 14.10s/it]\u001b[A\n",
      " 69%|██████▉   | 11/16 [02:35<01:13, 14.61s/it]\u001b[A\n",
      " 75%|███████▌  | 12/16 [02:40<00:47, 11.79s/it]\u001b[A\n",
      " 81%|████████▏ | 13/16 [02:45<00:28,  9.65s/it]\u001b[A\n",
      " 88%|████████▊ | 14/16 [02:50<00:16,  8.24s/it]\u001b[A\n",
      " 94%|█████████▍| 15/16 [02:55<00:07,  7.18s/it]\u001b[A\n",
      "100%|██████████| 16/16 [02:57<00:00, 11.12s/it]\u001b[A\n",
      " 93%|█████████▎| 14/15 [05:34<01:19, 79.33s/it]\n",
      "  0%|          | 0/25 [00:00<?, ?it/s]\u001b[A\n",
      "  4%|▍         | 1/25 [00:16<06:33, 16.40s/it]\u001b[A\n",
      "  8%|▊         | 2/25 [00:32<06:13, 16.22s/it]\u001b[A\n",
      " 12%|█▏        | 3/25 [00:48<05:50, 15.95s/it]\u001b[A\n",
      " 16%|█▌        | 4/25 [01:04<05:41, 16.24s/it]\u001b[A\n",
      " 20%|██        | 5/25 [01:18<05:08, 15.44s/it]\u001b[A\n",
      " 24%|██▍       | 6/25 [01:36<05:07, 16.19s/it]\u001b[A\n",
      " 28%|██▊       | 7/25 [01:54<05:01, 16.72s/it]\u001b[A\n",
      " 32%|███▏      | 8/25 [02:11<04:46, 16.83s/it]\u001b[A\n",
      " 36%|███▌      | 9/25 [02:29<04:36, 17.28s/it]\u001b[A\n",
      " 40%|████      | 10/25 [02:44<04:08, 16.58s/it]\u001b[A\n",
      " 44%|████▍     | 11/25 [03:00<03:51, 16.51s/it]\u001b[A\n",
      " 48%|████▊     | 12/25 [03:17<03:34, 16.51s/it]\u001b[A\n",
      " 52%|█████▏    | 13/25 [03:33<03:15, 16.29s/it]\u001b[A\n",
      " 56%|█████▌    | 14/25 [03:50<03:01, 16.47s/it]\u001b[A\n",
      " 60%|██████    | 15/25 [04:04<02:37, 15.73s/it]\u001b[A\n",
      " 64%|██████▍   | 16/25 [04:20<02:22, 15.84s/it]\u001b[A\n",
      " 68%|██████▊   | 17/25 [04:36<02:06, 15.82s/it]\u001b[A\n",
      " 72%|███████▏  | 18/25 [04:51<01:50, 15.72s/it]\u001b[A\n",
      " 76%|███████▌  | 19/25 [05:07<01:35, 15.92s/it]\u001b[A\n",
      " 80%|████████  | 20/25 [05:21<01:16, 15.25s/it]\u001b[A\n",
      " 84%|████████▍ | 21/25 [05:35<00:59, 14.93s/it]\u001b[A\n",
      " 88%|████████▊ | 22/25 [05:49<00:44, 14.70s/it]\u001b[A\n",
      " 92%|█████████▏| 23/25 [06:03<00:28, 14.33s/it]\u001b[A\n",
      " 96%|█████████▌| 24/25 [06:17<00:14, 14.31s/it]\u001b[A\n",
      "100%|██████████| 25/25 [06:29<00:00, 15.60s/it]\u001b[A\n",
      "100%|██████████| 15/15 [12:07<00:00, 48.51s/it] \n"
     ]
    }
   ],
   "source": [
    "from cudams.similarity import CudaCosineGreedy\n",
    "\n",
    "np.random.seed(42)\n",
    "chunk_sizes_cu = np.round(np.logspace(\n",
    "    np.log2(chunk_sizes_min_cu), \n",
    "    np.log2(chunk_sizes_max_cu), \n",
    "    num=num_evals, \n",
    "    base=2, \n",
    "    endpoint=True)\n",
    ").astype(int)\n",
    "\n",
    "times_cu = []\n",
    "pairs_cu = []\n",
    "\n",
    "# Kernel compilation might take a bit of time initially\n",
    "kernel = CudaCosineGreedy(batch_size=batch_size)\n",
    "\n",
    "# To force CUDA to load code to GPU, we need to do warmup\n",
    "kernel.matrix(spectra[:64], spectra[:64])\n",
    "\n",
    "# We avoid parallel here, since we only have one GPU, after all.\n",
    "for chunk_size in tqdm(chunk_sizes_cu):\n",
    "    chunk_size = min(len(spectra), chunk_size) # We might run out of spectra\n",
    "    # Don't do symmetric, as it's not implemented (or necessary)\n",
    "    references = np.random.choice(spectra, size=chunk_size, replace=False)\n",
    "    queries = np.random.choice(spectra, size=chunk_size, replace=False)\n",
    "    with Timer() as timer:\n",
    "        kernel.matrix(references, queries)\n",
    "    times_cu.append(timer.duration)\n",
    "    pairs_cu.append(len(references) * len(queries)) # We've processed all pairs"
   ]
  },
  {
   "cell_type": "code",
   "execution_count": 9,
   "metadata": {},
   "outputs": [
    {
     "data": {
      "image/png": "[encoded data removed]",
      "text/plain": [
       "<Figure size 640x480 with 1 Axes>"
      ]
     },
     "metadata": {},
     "output_type": "display_data"
    }
   ],
   "source": [
    "plt.semilogx(pairs_cu, times_cu, label='gpu')\n",
    "plt.semilogx(pairs, times, label='cpu')\n",
    "plt.title(f\"Performance comparison of CosineGreedy ({get_device_name_as_str()})\")\n",
    "plt.xlabel(\"# pairs\")\n",
    "plt.ylabel(\"time (s)\")\n",
    "plt.legend()\n",
    "plt.show()"
   ]
  }
 ],
 "metadata": {
  "kernelspec": {
   "display_name": "Python 3 (ipykernel)",
   "language": "python",
   "name": "python3"
  },
  "language_info": {
   "codemirror_mode": {
    "name": "ipython",
    "version": 3
   },
   "file_extension": ".py",
   "mimetype": "text/x-python",
   "name": "python",
   "nbconvert_exporter": "python",
   "pygments_lexer": "ipython3",
   "version": "3.11.8"
  }
 },
 "nbformat": 4,
 "nbformat_minor": 4
}
