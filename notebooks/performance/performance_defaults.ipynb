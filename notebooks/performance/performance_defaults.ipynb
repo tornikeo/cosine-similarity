{
 "cells": [
  {
   "cell_type": "markdown",
   "metadata": {},
   "source": [
    "This notebook evaluates performance gains of `CudaCosineGreedy` against `matchms`.\n",
    "\n",
    "Performance depends heavily on used hardware, as well as how correlated the spectra are with each other, (i.e. on average, how many common pairs of peaks do spectra have). \n",
    "\n",
    "This specific notebook evaulates the performance given the following below arguments (feel free to change these):"
   ]
  },
  {
   "cell_type": "code",
   "execution_count": 25,
   "metadata": {},
   "outputs": [
    {
     "name": "stdout",
     "output_type": "stream",
     "text": [
      "GPU 0: NVIDIA GeForce RTX 2070 with Max-Q Design (UUID: GPU-f6e241c8-f0ad-720e-be22-2713a6b0868d)\n",
      "Number of CPU cores 12\n"
     ]
    }
   ],
   "source": [
    "# We compare pairwise similarity performance on `spectra_file`\n",
    "spectra_file = 'GNPS-LIBRARY.mgf'\n",
    "# We take a random sample of spectra from said file\n",
    "# Minimum size (as a power of two):\n",
    "chunk_sizes_min = 2\n",
    "# Maximum size (as a power of two):\n",
    "chunk_sizes_max = 14\n",
    "\n",
    "# max number of peaks to retain in any spectra - larger numbers are marginally more accurate, but much slower\n",
    "max_peaks = 1024\n",
    "\n",
    "# optimal batch size is hardware-dependent, but usually the best number is the largest the hardware can handle (without an OOM error)\n",
    "batch_size = 2048\n",
    "\n",
    "# Hardware matters! These results are only repeatable using this GPU (shown as an output)\n",
    "! nvidia-smi -L\n",
    "! echo Number of CPU cores $(nproc)"
   ]
  },
  {
   "cell_type": "code",
   "execution_count": 4,
   "metadata": {},
   "outputs": [
    {
     "name": "stdout",
     "output_type": "stream",
     "text": [
      "The autoreload extension is already loaded. To reload it, use:\n",
      "  %reload_ext autoreload\n",
      "env: PYTHONWARNINGS=ignore\n"
     ]
    }
   ],
   "source": [
    "%load_ext autoreload\n",
    "%autoreload 2\n",
    "%env PYTHONWARNINGS ignore\n",
    "! pip uninstall cudams -q -y\n",
    "! pip install -q --upgrade git+https://github.com/tornikeo/cosine-similarity@main"
   ]
  },
  {
   "cell_type": "code",
   "execution_count": 5,
   "metadata": {},
   "outputs": [],
   "source": [
    "from cudams.utils import argbatch, Timer\n",
    "from cudams.similarity.kernels import compile_cuda_cosine_greedy_kernel\n",
    "from pathlib import Path\n",
    "from tqdm import tqdm\n",
    "from numba import cuda\n",
    "import numpy as np\n",
    "import matplotlib.pyplot as plt\n",
    "\n",
    "assert cuda.is_available()"
   ]
  },
  {
   "cell_type": "code",
   "execution_count": 10,
   "metadata": {},
   "outputs": [
    {
     "name": "stderr",
     "output_type": "stream",
     "text": [
      "1694it [00:01, 1345.62it/s]"
     ]
    },
    {
     "name": "stdout",
     "output_type": "stream",
     "text": [
      "2024-03-01 14:25:04,982:WARNING:matchms:correct_charge:Changed sign of given charge: -1 to match positive ionmode\n",
      "2024-03-01 14:25:04,987:WARNING:matchms:correct_charge:Changed sign of given charge: -1 to match positive ionmode\n",
      "2024-03-01 14:25:04,992:WARNING:matchms:correct_charge:Changed sign of given charge: -1 to match positive ionmode\n"
     ]
    },
    {
     "name": "stderr",
     "output_type": "stream",
     "text": [
      "3522it [00:03, 574.97it/s] "
     ]
    },
    {
     "name": "stdout",
     "output_type": "stream",
     "text": [
      "2024-03-01 14:25:07,084:WARNING:matchms:interpret_unknown_adduct:Charge was found 0 times in adduct [M+Fe-2H]\n",
      "2024-03-01 14:25:07,107:WARNING:matchms:interpret_unknown_adduct:Charge was found 0 times in adduct [M+Fe-2H]\n",
      "2024-03-01 14:25:07,118:WARNING:matchms:interpret_unknown_adduct:Charge was found 0 times in adduct [M+Fe-2H]\n",
      "2024-03-01 14:25:07,123:WARNING:matchms:interpret_unknown_adduct:Charge was found 0 times in adduct [M+Fe-2H]\n",
      "2024-03-01 14:25:07,133:WARNING:matchms:interpret_unknown_adduct:Charge was found 0 times in adduct [M+Fe-2H]\n",
      "2024-03-01 14:25:07,143:WARNING:matchms:interpret_unknown_adduct:Charge was found 0 times in adduct [M+Fe-2H]\n",
      "2024-03-01 14:25:07,148:WARNING:matchms:interpret_unknown_adduct:Charge was found 0 times in adduct [M+Fe-2H]\n",
      "2024-03-01 14:25:07,158:WARNING:matchms:interpret_unknown_adduct:Charge was found 0 times in adduct [M+Fe-2H]\n",
      "2024-03-01 14:25:07,168:WARNING:matchms:interpret_unknown_adduct:Charge was found 0 times in adduct [M+Fe-2H]\n",
      "2024-03-01 14:25:07,173:WARNING:matchms:interpret_unknown_adduct:Charge was found 0 times in adduct [M+Cr-2H]\n",
      "2024-03-01 14:25:07,178:WARNING:matchms:interpret_unknown_adduct:Charge was found 0 times in adduct [M+Al-2H]\n",
      "2024-03-01 14:25:07,184:WARNING:matchms:interpret_unknown_adduct:Charge was found 0 times in adduct [M+Al-2H]\n",
      "2024-03-01 14:25:07,188:WARNING:matchms:interpret_unknown_adduct:Charge was found 0 times in adduct [M+Al-2H]\n",
      "2024-03-01 14:25:07,196:WARNING:matchms:interpret_unknown_adduct:Charge was found 0 times in adduct [M+Fe-2H]\n",
      "2024-03-01 14:25:07,203:WARNING:matchms:interpret_unknown_adduct:Charge was found 0 times in adduct [M+Al-2H]\n",
      "2024-03-01 14:25:07,207:WARNING:matchms:interpret_unknown_adduct:Charge was found 0 times in adduct [M+Fe-2H]\n"
     ]
    },
    {
     "name": "stderr",
     "output_type": "stream",
     "text": [
      "4118it [00:04, 1032.40it/s]"
     ]
    },
    {
     "name": "stdout",
     "output_type": "stream",
     "text": [
      "2024-03-01 14:25:07,577:WARNING:matchms:derive_adduct_from_name:Two potential adducts were found in the compound name that are both valid adducts. The first adduct is used. The adducts found are: ['[2M+H]+', '[M+H]+']\n"
     ]
    },
    {
     "name": "stderr",
     "output_type": "stream",
     "text": [
      "4398it [00:04, 1192.72it/s]"
     ]
    },
    {
     "name": "stdout",
     "output_type": "stream",
     "text": [
      "2024-03-01 14:25:07,819:WARNING:matchms:interpret_unknown_adduct:Charge was found 0 times in adduct [M+Na+]\n"
     ]
    },
    {
     "name": "stderr",
     "output_type": "stream",
     "text": [
      "4554it [00:04, 1181.06it/s]"
     ]
    },
    {
     "name": "stdout",
     "output_type": "stream",
     "text": [
      "2024-03-01 14:25:08,041:WARNING:matchms:interpret_unknown_adduct:Charge was found 0 times in adduct [M+H+]\n",
      "2024-03-01 14:25:08,045:WARNING:matchms:interpret_unknown_adduct:Charge was found 0 times in adduct [M+Na+]\n"
     ]
    },
    {
     "name": "stderr",
     "output_type": "stream",
     "text": [
      "4906it [00:04, 1084.32it/s]"
     ]
    },
    {
     "name": "stdout",
     "output_type": "stream",
     "text": [
      "2024-03-01 14:25:08,154:WARNING:matchms:interpret_unknown_adduct:Charge was found 0 times in adduct [M+H+]\n",
      "2024-03-01 14:25:08,159:WARNING:matchms:interpret_unknown_adduct:Charge was found 0 times in adduct [M+Na+]\n"
     ]
    },
    {
     "name": "stderr",
     "output_type": "stream",
     "text": [
      "5172it [00:05, 1162.60it/s]"
     ]
    },
    {
     "name": "stdout",
     "output_type": "stream",
     "text": [
      "2024-03-01 14:25:08,522:WARNING:matchms:interpret_unknown_adduct:Charge was found 0 times in adduct [M+NH4;]\n",
      "2024-03-01 14:25:08,544:WARNING:matchms:interpret_unknown_adduct:Charge was found 0 times in adduct [M+H-CO]\n",
      "2024-03-01 14:25:08,546:WARNING:matchms:interpret_unknown_adduct:Charge was found 0 times in adduct [M-CO+Hputative]\n",
      "2024-03-01 14:25:08,559:WARNING:matchms:interpret_unknown_adduct:Charge was found 0 times in adduct [M-CO+H]\n",
      "2024-03-01 14:25:08,729:WARNING:matchms:interpret_unknown_adduct:Charge was found 0 times in adduct [M-3H+Fe+Na]\n"
     ]
    },
    {
     "name": "stderr",
     "output_type": "stream",
     "text": [
      "5593it [00:05, 1290.86it/s]"
     ]
    },
    {
     "name": "stdout",
     "output_type": "stream",
     "text": [
      "2024-03-01 14:25:08,771:WARNING:matchms:interpret_unknown_adduct:Charge was found 0 times in adduct [M-H2\n",
      "2024-03-01 14:25:08,791:WARNING:matchms:interpret_unknown_adduct:Charge was found 0 times in adduct [M-H2+Fe]\n",
      "2024-03-01 14:25:08,801:WARNING:matchms:interpret_unknown_adduct:Charge was found 0 times in adduct [M-H2+Fe]\n",
      "2024-03-01 14:25:08,810:WARNING:matchms:interpret_unknown_adduct:Charge was found 0 times in adduct [M-H2+Fe]\n",
      "2024-03-01 14:25:08,815:WARNING:matchms:interpret_unknown_adduct:Charge was found 0 times in adduct [M-H2+Fe]\n",
      "2024-03-01 14:25:08,820:WARNING:matchms:interpret_unknown_adduct:Charge was found 0 times in adduct [M-H2+Fe]\n",
      "2024-03-01 14:25:08,825:WARNING:matchms:interpret_unknown_adduct:Charge was found 0 times in adduct [M-H2+Fe]\n",
      "2024-03-01 14:25:08,856:WARNING:matchms:interpret_unknown_adduct:Charge was found 0 times in adduct [M-3H+Fe+Na]\n"
     ]
    },
    {
     "name": "stderr",
     "output_type": "stream",
     "text": [
      "6445it [00:06, 916.75it/s] "
     ]
    },
    {
     "name": "stdout",
     "output_type": "stream",
     "text": [
      "2024-03-01 14:25:09,771:WARNING:matchms:correct_charge:Changed sign of given charge: -1 to match positive ionmode\n",
      "2024-03-01 14:25:09,775:WARNING:matchms:correct_charge:Changed sign of given charge: -1 to match positive ionmode\n"
     ]
    },
    {
     "name": "stderr",
     "output_type": "stream",
     "text": [
      "7769it [00:07, 1234.50it/s]"
     ]
    },
    {
     "name": "stdout",
     "output_type": "stream",
     "text": [
      "2024-03-01 14:25:10,915:WARNING:matchms:derive_adduct_from_name:Two potential adducts were found in the compound name that are both valid adducts. The first adduct is used. The adducts found are: ['[M+H]+', '[M+Al]+']\n"
     ]
    },
    {
     "name": "stderr",
     "output_type": "stream",
     "text": [
      "11870it [00:11, 1150.92it/s]"
     ]
    },
    {
     "name": "stdout",
     "output_type": "stream",
     "text": [
      "2024-03-01 14:25:15,066:WARNING:matchms:derive_adduct_from_name:Two potential adducts were found in the compound name that are both valid adducts. The first adduct is used. The adducts found are: ['[M+H]+', '[M+Na]+']\n",
      "2024-03-01 14:25:15,070:WARNING:matchms:derive_adduct_from_name:Two potential adducts were found in the compound name that are both valid adducts. The first adduct is used. The adducts found are: ['[M+H]+', '[M+Na]+']\n"
     ]
    },
    {
     "name": "stderr",
     "output_type": "stream",
     "text": [
      "12108it [00:11, 946.33it/s] "
     ]
    },
    {
     "name": "stdout",
     "output_type": "stream",
     "text": [
      "2024-03-01 14:25:15,343:WARNING:matchms:correct_charge:Changed sign of given charge: -1 to match positive ionmode\n",
      "2024-03-01 14:25:15,359:WARNING:matchms:correct_charge:Changed sign of given charge: -1 to match positive ionmode\n",
      "2024-03-01 14:25:15,388:WARNING:matchms:interpret_unknown_adduct:Charge was found 0 times in adduct [M+2H+]\n"
     ]
    },
    {
     "name": "stderr",
     "output_type": "stream",
     "text": [
      "13559it [00:13, 817.64it/s] "
     ]
    },
    {
     "name": "stdout",
     "output_type": "stream",
     "text": [
      "2024-03-01 14:25:16,730:WARNING:matchms:correct_charge:Changed sign of given charge: -1 to match positive ionmode\n"
     ]
    },
    {
     "name": "stderr",
     "output_type": "stream",
     "text": [
      "14244it [00:14, 997.54it/s]\n"
     ]
    }
   ],
   "source": [
    "from cudams.utils import download\n",
    "from joblib import Parallel, delayed\n",
    "from matchms.filtering import default_filters, normalize_intensities, reduce_to_number_of_peaks\n",
    "from matchms.importing import load_from_mgf\n",
    "from cudams.utils import mute_stdout\n",
    "\n",
    "with mute_stdout():\n",
    "    fpath = download(spectra_file)\n",
    "    def parse_spectrum(spectrum):\n",
    "        spectrum = default_filters(spectrum)\n",
    "        spectrum = reduce_to_number_of_peaks(spectrum, n_max=max_peaks)\n",
    "        spectrum = normalize_intensities(spectrum)\n",
    "        return spectrum\n",
    "\n",
    "    spectra = Parallel(-2)(delayed(parse_spectrum)(spec) \n",
    "                            for spec in tqdm(load_from_mgf(fpath)))\n",
    "    spectra = [spe for spe in spectra if spe is not None]"
   ]
  },
  {
   "cell_type": "markdown",
   "metadata": {},
   "source": [
    "Estimate total runtime of matchms using linear interpolation"
   ]
  },
  {
   "cell_type": "code",
   "execution_count": 21,
   "metadata": {},
   "outputs": [
    {
     "name": "stderr",
     "output_type": "stream",
     "text": [
      "100%|██████████| 9/9 [04:01<00:00, 26.83s/it]\n"
     ]
    }
   ],
   "source": [
    "from matchms.similarity import CosineGreedy\n",
    "from matchms import calculate_scores\n",
    "from cudams.utils import Timer\n",
    "\n",
    "np.random.seed(42)\n",
    "chunk_sizes = 2 ** np.arange(chunk_sizes_min, chunk_sizes_max, dtype=int)\n",
    "times = []\n",
    "pairs = []\n",
    "kernel = CosineGreedy()\n",
    "for chunk_size in tqdm(chunk_sizes):\n",
    "    references = np.random.choice(spectra, size=chunk_size, replace=False)\n",
    "    queries = references\n",
    "    with Timer() as timer:\n",
    "        kernel.matrix(references, queries, is_symmetric=True)\n",
    "    times.append(timer.duration)\n",
    "    pairs.append(len(references) * len(queries) / 2) # Div by 2 because it's symmetric"
   ]
  },
  {
   "cell_type": "code",
   "execution_count": 24,
   "metadata": {},
   "outputs": [
    {
     "name": "stderr",
     "output_type": "stream",
     "text": [
      "100%|██████████| 1/1 [00:01<00:00,  1.30s/it]\n",
      "100%|██████████| 1/1 [00:00<00:00, 12.70it/s]\n",
      "100%|██████████| 1/1 [00:00<00:00, 10.93it/s]]\n",
      "100%|██████████| 1/1 [00:00<00:00,  2.03it/s]]\n",
      "100%|██████████| 1/1 [00:00<00:00,  1.98it/s]]\n",
      "100%|██████████| 1/1 [00:00<00:00,  1.24it/s]]\n",
      "100%|██████████| 1/1 [00:02<00:00,  2.09s/it]]\n",
      "  0%|          | 0/1 [00:03<?, ?it/s]1.10s/it]\n",
      " 55%|█████▍    | 6/11 [00:07<00:06,  1.30s/it]\n"
     ]
    },
    {
     "ename": "KeyboardInterrupt",
     "evalue": "",
     "output_type": "error",
     "traceback": [
      "\u001b[0;31m---------------------------------------------------------------------------\u001b[0m",
      "\u001b[0;31mKeyboardInterrupt\u001b[0m                         Traceback (most recent call last)",
      "Cell \u001b[0;32mIn[24], line 21\u001b[0m\n\u001b[1;32m     19\u001b[0m queries \u001b[38;5;241m=\u001b[39m np\u001b[38;5;241m.\u001b[39mrandom\u001b[38;5;241m.\u001b[39mchoice(spectra, size\u001b[38;5;241m=\u001b[39mchunk_size, replace\u001b[38;5;241m=\u001b[39m\u001b[38;5;28;01mFalse\u001b[39;00m)\n\u001b[1;32m     20\u001b[0m \u001b[38;5;28;01mwith\u001b[39;00m Timer() \u001b[38;5;28;01mas\u001b[39;00m timer:\n\u001b[0;32m---> 21\u001b[0m     \u001b[43mkernel\u001b[49m\u001b[38;5;241;43m.\u001b[39;49m\u001b[43mmatrix\u001b[49m\u001b[43m(\u001b[49m\u001b[43mreferences\u001b[49m\u001b[43m,\u001b[49m\u001b[43m \u001b[49m\u001b[43mqueries\u001b[49m\u001b[43m)\u001b[49m\n\u001b[1;32m     22\u001b[0m times_cu\u001b[38;5;241m.\u001b[39mappend(timer\u001b[38;5;241m.\u001b[39mduration)\n\u001b[1;32m     23\u001b[0m pairs_cu\u001b[38;5;241m.\u001b[39mappend(\u001b[38;5;28mlen\u001b[39m(references) \u001b[38;5;241m*\u001b[39m \u001b[38;5;28mlen\u001b[39m(queries)) \u001b[38;5;66;03m# We've processed all pairs\u001b[39;00m\n",
      "File \u001b[0;32m~/Documents/work/scalexa/pangeaai/optimize-cosine/cudams/similarity/CudaCosineGreedy.py:264\u001b[0m, in \u001b[0;36mCudaCosineGreedy.matrix\u001b[0;34m(self, references, queries, array_type, is_symmetric, sparse_threshold)\u001b[0m\n\u001b[1;32m    261\u001b[0m \u001b[38;5;28;01massert\u001b[39;00m \u001b[38;5;28mself\u001b[39m\u001b[38;5;241m.\u001b[39mkernel \u001b[38;5;129;01mis\u001b[39;00m \u001b[38;5;129;01mnot\u001b[39;00m \u001b[38;5;28;01mNone\u001b[39;00m, \u001b[38;5;124m\"\u001b[39m\u001b[38;5;124mKernel isn\u001b[39m\u001b[38;5;124m'\u001b[39m\u001b[38;5;124mt compiled - use .compile() first\u001b[39m\u001b[38;5;124m\"\u001b[39m\n\u001b[1;32m    263\u001b[0m \u001b[38;5;28;01mif\u001b[39;00m array_type \u001b[38;5;241m==\u001b[39m \u001b[38;5;124m\"\u001b[39m\u001b[38;5;124mnumpy\u001b[39m\u001b[38;5;124m\"\u001b[39m:\n\u001b[0;32m--> 264\u001b[0m     \u001b[38;5;28;01mreturn\u001b[39;00m \u001b[38;5;28;43mself\u001b[39;49m\u001b[38;5;241;43m.\u001b[39;49m\u001b[43m_matrix_with_numpy_output\u001b[49m\u001b[43m(\u001b[49m\u001b[43mreferences\u001b[49m\u001b[43m,\u001b[49m\u001b[43m \u001b[49m\u001b[43mqueries\u001b[49m\u001b[43m,\u001b[49m\u001b[43m \u001b[49m\u001b[43mis_symmetric\u001b[49m\u001b[38;5;241;43m=\u001b[39;49m\u001b[43mis_symmetric\u001b[49m\u001b[43m)\u001b[49m\n\u001b[1;32m    265\u001b[0m \u001b[38;5;28;01melif\u001b[39;00m array_type \u001b[38;5;241m==\u001b[39m \u001b[38;5;124m\"\u001b[39m\u001b[38;5;124msparse\u001b[39m\u001b[38;5;124m\"\u001b[39m:\n\u001b[1;32m    266\u001b[0m     \u001b[38;5;28;01mreturn\u001b[39;00m \u001b[38;5;28mself\u001b[39m\u001b[38;5;241m.\u001b[39m_matrix_with_sparse_output(references, queries, is_symmetric\u001b[38;5;241m=\u001b[39mis_symmetric, threshold\u001b[38;5;241m=\u001b[39msparse_threshold)\n",
      "File \u001b[0;32m~/Documents/work/scalexa/pangeaai/optimize-cosine/cudams/similarity/CudaCosineGreedy.py:111\u001b[0m, in \u001b[0;36mCudaCosineGreedy._matrix_with_numpy_output\u001b[0;34m(self, references, queries, is_symmetric)\u001b[0m\n\u001b[1;32m    105\u001b[0m         out \u001b[38;5;241m=\u001b[39m cuda\u001b[38;5;241m.\u001b[39mas_cuda_array(out)\n\u001b[1;32m    107\u001b[0m         \u001b[38;5;28mself\u001b[39m\u001b[38;5;241m.\u001b[39mkernel(\n\u001b[1;32m    108\u001b[0m             rspec, qspec, lens, out\n\u001b[1;32m    109\u001b[0m         )\n\u001b[0;32m--> 111\u001b[0m         out \u001b[38;5;241m=\u001b[39m \u001b[43mtorch\u001b[49m\u001b[38;5;241;43m.\u001b[39;49m\u001b[43mas_tensor\u001b[49m\u001b[43m(\u001b[49m\u001b[43mout\u001b[49m\u001b[43m)\u001b[49m\n\u001b[1;32m    112\u001b[0m         result[:, rstart:rend, qstart:qend] \u001b[38;5;241m=\u001b[39m out[:, :\u001b[38;5;28mlen\u001b[39m(rlen), :\u001b[38;5;28mlen\u001b[39m(qlen)]\n\u001b[1;32m    113\u001b[0m \u001b[38;5;66;03m# result[:, rstart:rend, qstart:qend] = out\u001b[39;00m\n\u001b[1;32m    114\u001b[0m \u001b[38;5;66;03m# result = np.rec.fromarrays(\u001b[39;00m\n\u001b[1;32m    115\u001b[0m \u001b[38;5;66;03m#     result[:, :len(references),:len(queries)], \u001b[39;00m\n\u001b[0;32m   (...)\u001b[0m\n\u001b[1;32m    123\u001b[0m \u001b[38;5;66;03m# scores, matches, overflow = result.to(host).numpy()\u001b[39;00m\n\u001b[1;32m    124\u001b[0m \u001b[38;5;66;03m# print(scores.shape, R, Q)\u001b[39;00m\n",
      "\u001b[0;31mKeyboardInterrupt\u001b[0m: "
     ]
    }
   ],
   "source": [
    "from cudams.similarity import CudaCosineGreedy\n",
    "\n",
    "np.random.seed(42)\n",
    "\n",
    "times_cu = []\n",
    "pairs_cu = []\n",
    "\n",
    "# Kernel compilation might take a bit of time initially\n",
    "kernel = CudaCosineGreedy(batch_size=batch_size)\n",
    "\n",
    "# To force CUDA to load code to GPU, we need to do warmup\n",
    "kernel.matrix(spectra[:64], spectra[:64])\n",
    "\n",
    "for chunk_size in tqdm(chunk_sizes):\n",
    "    chunk_size = min(len(spectra), chunk_size) # We might run out of spectra\n",
    "    # Don't do symmetric, as it's not implemented (or necessary)\n",
    "    references = np.random.choice(spectra, size=chunk_size, replace=False)\n",
    "    queries = np.random.choice(spectra, size=chunk_size, replace=False)\n",
    "    with Timer() as timer:\n",
    "        kernel.matrix(references, queries)\n",
    "    times_cu.append(timer.duration)\n",
    "    pairs_cu.append(len(references) * len(queries)) # We've processed all pairs"
   ]
  },
  {
   "cell_type": "code",
   "execution_count": 26,
   "metadata": {},
   "outputs": [
    {
     "name": "stderr",
     "output_type": "stream",
     "text": [
      "100%|██████████| 1/1 [00:01<00:00,  1.41s/it]\n",
      "100%|██████████| 1/1 [00:00<00:00, 16.25it/s]\n",
      "100%|██████████| 1/1 [00:00<00:00, 13.62it/s]]\n",
      "100%|██████████| 1/1 [00:00<00:00,  2.10it/s]]\n",
      "100%|██████████| 1/1 [00:00<00:00,  2.04it/s]]\n",
      "100%|██████████| 1/1 [00:00<00:00,  1.26it/s]]\n",
      "100%|██████████| 1/1 [00:02<00:00,  2.08s/it]]\n",
      "100%|██████████| 1/1 [00:03<00:00,  3.43s/it]]\n",
      "100%|██████████| 1/1 [00:08<00:00,  8.13s/it]]\n",
      "100%|██████████| 1/1 [00:25<00:00, 25.72s/it]]\n",
      " 82%|████████▏ | 9/11 [00:41<00:21, 10.75s/it]"
     ]
    }
   ],
   "source": [
    "from cudams.similarity import CudaCosineGreedy\n",
    "\n",
    "np.random.seed(42)\n",
    "chunk_sizes_cu = 2 ** np.arange(2, 13, dtype=int)\n",
    "times_cu_sparse = []\n",
    "pairs_cu_sparse = []\n",
    "\n",
    "# Kernel compilation might take a bit of time initially\n",
    "kernel = CudaCosineGreedy(batch_size=batch_size)\n",
    "\n",
    "# To force CUDA to load code to GPU, we need to do warmup\n",
    "kernel.matrix(spectra[:64], spectra[:64], array_type='sparse')\n",
    "\n",
    "for chunk_size in tqdm(chunk_sizes):\n",
    "    chunk_size = min(len(spectra), chunk_size) # We might run out of spectra\n",
    "    # Don't do symmetric, as it's not implemented (or necessary)\n",
    "    references = np.random.choice(spectra, size=chunk_size, replace=False)\n",
    "    queries = np.random.choice(spectra, size=chunk_size, replace=False)\n",
    "    with Timer() as timer:\n",
    "        kernel.matrix(references, queries, array_type='sparse')\n",
    "    times_cu_sparse.append(timer.duration)\n",
    "    pairs_cu_sparse.append(len(references) * len(queries)) # We've processed all pairs"
   ]
  },
  {
   "cell_type": "code",
   "execution_count": 23,
   "metadata": {},
   "outputs": [
    {
     "data": {
      "image/png": "[encoded data removed]",
      "text/plain": [
       "<Figure size 640x480 with 1 Axes>"
      ]
     },
     "metadata": {},
     "output_type": "display_data"
    }
   ],
   "source": [
    "plt.semilogx(pairs_cu, times_cu, label='gpu')\n",
    "plt.semilogx(pairs_cu_sparse, times_cu_sparse, label='gpu_sparse')\n",
    "plt.semilogx(pairs, times, label='cpu')\n",
    "plt.xlabel(\"# pairs\")\n",
    "plt.ylabel(\"time (sec)\")\n",
    "plt.legend()\n",
    "plt.show()"
   ]
  }
 ],
 "metadata": {
  "kernelspec": {
   "display_name": "Python 3",
   "language": "python",
   "name": "python3"
  },
  "language_info": {
   "codemirror_mode": {
    "name": "ipython",
    "version": 3
   },
   "file_extension": ".py",
   "mimetype": "text/x-python",
   "name": "python",
   "nbconvert_exporter": "python",
   "pygments_lexer": "ipython3",
   "version": "3.11.8"
  }
 },
 "nbformat": 4,
 "nbformat_minor": 2
}
