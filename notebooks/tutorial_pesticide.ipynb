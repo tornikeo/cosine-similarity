{
 "cells": [
  {
   "cell_type": "markdown",
   "metadata": {},
   "source": [
    "This example notebook shows how to use the cosine similarity kernel for some common tasks. In this case we consider [current home-page example](https://matchms.readthedocs.io/en/latest/#example) of pesticide similarity evaluation."
   ]
  },
  {
   "cell_type": "code",
   "execution_count": 23,
   "metadata": {},
   "outputs": [
    {
     "name": "stdout",
     "output_type": "stream",
     "text": [
      "The autoreload extension is already loaded. To reload it, use:\n",
      "  %reload_ext autoreload\n"
     ]
    }
   ],
   "source": [
    "%load_ext autoreload\n",
    "%autoreload 2\n",
    "from nbutils import chdir_to_root\n",
    "chdir_to_root()"
   ]
  },
  {
   "cell_type": "code",
   "execution_count": 24,
   "metadata": {},
   "outputs": [],
   "source": [
    "from matchms.importing import load_from_mgf\n",
    "from matchms.filtering import default_filters\n",
    "from matchms.filtering import normalize_intensities\n",
    "from matchms import calculate_scores\n",
    "from matchms.similarity import CosineGreedy\n",
    "\n",
    "from cudams.similarity import CudaCosineGreedy"
   ]
  },
  {
   "cell_type": "code",
   "execution_count": 22,
   "metadata": {},
   "outputs": [],
   "source": [
    "file = list(load_from_mgf('data/pesticides.mgf'))\n",
    "# Apply filters to clean and enhance each spectrum\n",
    "spectrums = []\n",
    "for spectrum in file:\n",
    "    # Apply default filter to standardize ion mode, correct charge and more.\n",
    "    # Default filter is fully explained at https://matchms.readthedocs.io/en/latest/api/matchms.filtering.html .\n",
    "    spectrum = default_filters(spectrum)\n",
    "    # Scale peak intensities to maximum of 1\n",
    "    spectrum = normalize_intensities(spectrum)\n",
    "    spectrums.append(spectrum)"
   ]
  },
  {
   "cell_type": "code",
   "execution_count": null,
   "metadata": {},
   "outputs": [],
   "source": [
    "from cudams import "
   ]
  },
  {
   "cell_type": "code",
   "execution_count": null,
   "metadata": {},
   "outputs": [],
   "source": [
    "# Calculate Cosine similarity scores between all spectrums\n",
    "# For other similarity score methods see https://matchms.readthedocs.io/en/latest/api/matchms.similarity.html .\n",
    "# Because references and queries are here the same spectra, we can set is_symmetric=True\n",
    "scores = calculate_scores(references=spectrums,\n",
    "                          queries=spectrums,\n",
    "                          similarity_function=CosineGreedy(),\n",
    "                          is_symmetric=True)"
   ]
  },
  {
   "cell_type": "code",
   "execution_count": null,
   "metadata": {},
   "outputs": [],
   "source": [
    "\n",
    "# This computed all-vs-all similarity scores, the array of which can be accessed as scores.scores\n",
    "print(f\"Size of matrix of computed similarities: {scores.scores.shape}\")\n",
    "\n",
    "# Matchms allows to get the best matches for any query using scores_by_query\n",
    "query = spectrums[15]  # just an example\n",
    "best_matches = scores.scores_by_query(query, 'CosineGreedy_score', sort=True)\n",
    "\n",
    "# Print the calculated scores for each spectrum pair\n",
    "for (reference, score) in best_matches[:10]:\n",
    "    # Ignore scores between same spectrum\n",
    "    if reference is not query:\n",
    "        print(f\"Reference scan id: {reference.metadata['scans']}\")\n",
    "        print(f\"Query scan id: {query.metadata['scans']}\")\n",
    "        print(f\"Score: {score[0]:.4f}\")\n",
    "        print(f\"Number of matching peaks: {score[1]}\")\n",
    "        print(\"----------------------------\")\n"
   ]
  }
 ],
 "metadata": {
  "kernelspec": {
   "display_name": "pb2",
   "language": "python",
   "name": "python3"
  },
  "language_info": {
   "codemirror_mode": {
    "name": "ipython",
    "version": 3
   },
   "file_extension": ".py",
   "mimetype": "text/x-python",
   "name": "python",
   "nbconvert_exporter": "python",
   "pygments_lexer": "ipython3",
   "version": "3.10.11"
  }
 },
 "nbformat": 4,
 "nbformat_minor": 2
}
