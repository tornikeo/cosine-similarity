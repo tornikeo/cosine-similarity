{
 "cells": [
  {
   "cell_type": "markdown",
   "metadata": {},
   "source": [
    "This example notebook shows how to use the cosine similarity kernel for some common tasks. In this case we consider [current home-page example](https://matchms.readthedocs.io/en/latest/#example) of pesticide similarity evaluation."
   ]
  },
  {
   "cell_type": "code",
   "execution_count": 20,
   "metadata": {},
   "outputs": [
    {
     "name": "stdout",
     "output_type": "stream",
     "text": [
      "The autoreload extension is already loaded. To reload it, use:\n",
      "  %reload_ext autoreload\n"
     ]
    }
   ],
   "source": [
    "%load_ext autoreload\n",
    "%autoreload 2\n",
    "from nbutils import chdir_to_root\n",
    "chdir_to_root()"
   ]
  },
  {
   "cell_type": "code",
   "execution_count": 21,
   "metadata": {},
   "outputs": [],
   "source": [
    "from matchms.importing import load_from_mgf\n",
    "from matchms.filtering import default_filters\n",
    "from matchms.filtering import normalize_intensities\n",
    "from matchms import calculate_scores\n",
    "from matchms.similarity import CosineGreedy\n",
    "from cudams.similarity import CudaCosineGreedy\n",
    "from numba import cuda\n",
    "assert cuda.is_available()"
   ]
  },
  {
   "cell_type": "code",
   "execution_count": 22,
   "metadata": {},
   "outputs": [],
   "source": [
    "file = list(load_from_mgf('data/pesticides.mgf'))\n",
    "# Apply filters to clean and enhance each spectrum\n",
    "spectrums = []\n",
    "\n",
    "for spectrum in file:\n",
    "    # Apply default filter to standardize ion mode, correct charge and more.\n",
    "    # Default filter is fully explained at https://matchms.readthedocs.io/en/latest/api/matchms.filtering.html .\n",
    "    spectrum = default_filters(spectrum)\n",
    "    # Scale peak intensities to maximum of 1\n",
    "    spectrum = normalize_intensities(spectrum)\n",
    "    spectrums.append(spectrum)"
   ]
  },
  {
   "cell_type": "code",
   "execution_count": 42,
   "metadata": {},
   "outputs": [],
   "source": [
    "scores = calculate_scores(references=spectrums,\n",
    "                          queries=spectrums,\n",
    "                          similarity_function=CosineGreedy(),\n",
    "                          is_symmetric=True)"
   ]
  },
  {
   "cell_type": "code",
   "execution_count": 43,
   "metadata": {},
   "outputs": [
    {
     "name": "stdout",
     "output_type": "stream",
     "text": [
      "Size of matrix of computed similarities: (76, 76, 2)\n"
     ]
    }
   ],
   "source": [
    "print(f\"Size of matrix of computed similarities: {scores.scores.shape}\")"
   ]
  },
  {
   "cell_type": "code",
   "execution_count": 44,
   "metadata": {},
   "outputs": [
    {
     "data": {
      "text/plain": [
       "(array([ 0,  0,  0, ..., 75, 75, 75]),\n",
       " array([ 0,  1,  2, ..., 73, 74, 75]),\n",
       " array([53,  2,  2, ...,  3,  2, 70]))"
      ]
     },
     "execution_count": 44,
     "metadata": {},
     "output_type": "execute_result"
    }
   ],
   "source": [
    "scores.scores['CosineGreedy_matches']"
   ]
  },
  {
   "cell_type": "code",
   "execution_count": 45,
   "metadata": {},
   "outputs": [
    {
     "data": {
      "text/plain": [
       "<76x76x2 stacked sparse array containing scores for ('CosineGreedy_score', 'CosineGreedy_matches') with 5050 stored elements in COOrdinate format>"
      ]
     },
     "execution_count": 45,
     "metadata": {},
     "output_type": "execute_result"
    }
   ],
   "source": [
    "scores"
   ]
  },
  {
   "cell_type": "code",
   "execution_count": 46,
   "metadata": {},
   "outputs": [],
   "source": [
    "from matchms.filtering import reduce_to_number_of_peaks\n",
    "import numpy as np\n",
    "\n",
    "MAX_PEAKS = 1024\n",
    "\n",
    "def process_spectrum(spectrum: np.ndarray) -> np.ndarray:\n",
    "    # spectrum = select_by_mz(spectrum, mz_from=10.0, mz_to=1000.0)\n",
    "    # spectrum = normalize_intensities(spectrum)\n",
    "    # spectrum = select_by_relative_intensity(spectrum, intensity_from=0.001)\n",
    "    # spectrum = reduce_to_number_of_peaks(spectrum, n_max=1000)\n",
    "    spectrum = reduce_to_number_of_peaks(spectrum, n_max=MAX_PEAKS)\n",
    "    # spectrum = require_minimum_number_of_peaks(spectrum, n_required=5)\n",
    "    return spectrum\n",
    "\n",
    "f_specs = [process_spectrum(s) for s in spectrums]"
   ]
  },
  {
   "cell_type": "code",
   "execution_count": 54,
   "metadata": {},
   "outputs": [
    {
     "name": "stdout",
     "output_type": "stream",
     "text": [
      "256 76 76\n"
     ]
    },
    {
     "name": "stderr",
     "output_type": "stream",
     "text": [
      "Batch all references: 1it [00:00, 342.25it/s]\n",
      "Batch all queries: 1it [00:00, 547.85it/s]\n",
      "  0%|          | 0/1 [00:00<?, ?it/s]"
     ]
    },
    {
     "name": "stdout",
     "output_type": "stream",
     "text": [
      "(2, 76, 247) (2, 76, 247) [[ 53  56  30  66  37  38  43  77  53  34  30  47  71  86  82  81  55  82\n",
      "   37  59  34  26  59  41  51  30  46  42  21  21  66  41  45  19  84  36\n",
      "   65  58  42  55  17  47  38  16  37 100  51  70  67  68  55 123  56 159\n",
      "   34  61  69  90  94  71 103  92  66  43  50  86 247  65  59 103  93 126\n",
      "   85  57  54  70   0   0   0   0   0   0   0   0   0   0   0   0   0   0\n",
      "    0   0   0   0   0   0   0   0   0   0   0   0   0   0   0   0   0   0\n",
      "    0   0   0   0   0   0   0   0   0   0   0   0   0   0   0   0   0   0\n",
      "    0   0   0   0   0   0   0   0   0   0   0   0   0   0   0   0   0   0\n",
      "    0   0   0   0   0   0   0   0   0   0   0   0   0   0   0   0   0   0\n",
      "    0   0   0   0   0   0   0   0   0   0   0   0   0   0   0   0   0   0\n",
      "    0   0   0   0   0   0   0   0   0   0   0   0   0   0   0   0   0   0\n",
      "    0   0   0   0   0   0   0   0   0   0   0   0   0   0   0   0   0   0\n",
      "    0   0   0   0   0   0   0   0   0   0   0   0   0   0   0   0   0   0\n",
      "    0   0   0   0   0   0   0   0   0   0   0   0   0   0   0   0   0   0\n",
      "    0   0   0   0]\n",
      " [ 53  56  30  66  37  38  43  77  53  34  30  47  71  86  82  81  55  82\n",
      "   37  59  34  26  59  41  51  30  46  42  21  21  66  41  45  19  84  36\n",
      "   65  58  42  55  17  47  38  16  37 100  51  70  67  68  55 123  56 159\n",
      "   34  61  69  90  94  71 103  92  66  43  50  86 247  65  59 103  93 126\n",
      "   85  57  54  70   0   0   0   0   0   0   0   0   0   0   0   0   0   0\n",
      "    0   0   0   0   0   0   0   0   0   0   0   0   0   0   0   0   0   0\n",
      "    0   0   0   0   0   0   0   0   0   0   0   0   0   0   0   0   0   0\n",
      "    0   0   0   0   0   0   0   0   0   0   0   0   0   0   0   0   0   0\n",
      "    0   0   0   0   0   0   0   0   0   0   0   0   0   0   0   0   0   0\n",
      "    0   0   0   0   0   0   0   0   0   0   0   0   0   0   0   0   0   0\n",
      "    0   0   0   0   0   0   0   0   0   0   0   0   0   0   0   0   0   0\n",
      "    0   0   0   0   0   0   0   0   0   0   0   0   0   0   0   0   0   0\n",
      "    0   0   0   0   0   0   0   0   0   0   0   0   0   0   0   0   0   0\n",
      "    0   0   0   0   0   0   0   0   0   0   0   0   0   0   0   0   0   0\n",
      "    0   0   0   0]]\n",
      "(8, 8) (32, 32) 0.000150176 0.000524288\n"
     ]
    },
    {
     "name": "stderr",
     "output_type": "stream",
     "text": [
      "/home/tornikeo/miniconda3/envs/pb2/lib/python3.10/site-packages/numba/cuda/dispatcher.py:536: NumbaPerformanceWarning: \u001b[1mGrid size 64 will likely result in GPU under-utilization due to low occupancy.\u001b[0m\n",
      "  warn(NumbaPerformanceWarning(msg))\n",
      "100%|██████████| 1/1 [00:01<00:00,  1.06s/it]\n"
     ]
    }
   ],
   "source": [
    "from cudams.similarity import CudaCosineGreedy\n",
    "# Calculate Cosine similarity scores between all spectrums\n",
    "# For other similarity score methods see https://matchms.readthedocs.io/en/latest/api/matchms.similarity.html .\n",
    "# Because references and queries are here the same spectra, we can set is_symmetric=True\n",
    "scores_cu = calculate_scores(references=f_specs,\n",
    "                          queries=f_specs,\n",
    "                          similarity_function=CudaCosineGreedy(batch_size=256))"
   ]
  },
  {
   "cell_type": "code",
   "execution_count": 55,
   "metadata": {},
   "outputs": [
    {
     "data": {
      "text/plain": [
       "<76x76x3 stacked sparse array containing scores for ('CudaCosineGreedy_score', 'CudaCosineGreedy_matches', 'CudaCosineGreedy_overflow') with 5050 stored elements in COOrdinate format>"
      ]
     },
     "execution_count": 55,
     "metadata": {},
     "output_type": "execute_result"
    }
   ],
   "source": [
    "scores_cu"
   ]
  },
  {
   "cell_type": "code",
   "execution_count": 56,
   "metadata": {},
   "outputs": [
    {
     "data": {
      "text/plain": [
       "<76x76x2 stacked sparse array containing scores for ('CosineGreedy_score', 'CosineGreedy_matches') with 5050 stored elements in COOrdinate format>"
      ]
     },
     "execution_count": 56,
     "metadata": {},
     "output_type": "execute_result"
    }
   ],
   "source": [
    "scores"
   ]
  },
  {
   "cell_type": "code",
   "execution_count": 63,
   "metadata": {},
   "outputs": [
    {
     "name": "stdout",
     "output_type": "stream",
     "text": [
      "Size of matrix of computed similarities: (76, 76, 2)\n",
      "Reference scan id: 613\n",
      "Query scan id: 2161\n",
      "Score: 0.8646\n",
      "Number of matching peaks: 14\n",
      "----------------------------\n",
      "Reference scan id: 603\n",
      "Query scan id: 2161\n",
      "Score: 0.8237\n",
      "Number of matching peaks: 14\n",
      "----------------------------\n",
      "Reference scan id: 2160\n",
      "Query scan id: 2161\n",
      "Score: 0.8015\n",
      "Number of matching peaks: 25\n",
      "----------------------------\n",
      "Reference scan id: 2362\n",
      "Query scan id: 2161\n",
      "Score: 0.2923\n",
      "Number of matching peaks: 7\n",
      "----------------------------\n",
      "Reference scan id: 2598\n",
      "Query scan id: 2161\n",
      "Score: 0.2231\n",
      "Number of matching peaks: 5\n",
      "----------------------------\n",
      "Reference scan id: 2594\n",
      "Query scan id: 2161\n",
      "Score: 0.1761\n",
      "Number of matching peaks: 3\n",
      "----------------------------\n",
      "Reference scan id: 1944\n",
      "Query scan id: 2161\n",
      "Score: 0.1396\n",
      "Number of matching peaks: 5\n",
      "----------------------------\n",
      "Reference scan id: 1772\n",
      "Query scan id: 2161\n",
      "Score: 0.1037\n",
      "Number of matching peaks: 4\n",
      "----------------------------\n",
      "Reference scan id: 2284\n",
      "Query scan id: 2161\n",
      "Score: 0.0675\n",
      "Number of matching peaks: 9\n",
      "----------------------------\n"
     ]
    }
   ],
   "source": [
    "\n",
    "# This computed all-vs-all similarity scores, the array of which can be accessed as scores.scores\n",
    "print(f\"Size of matrix of computed similarities: {scores.scores.shape}\")\n",
    "\n",
    "# Matchms allows to get the best matches for any query using scores_by_query\n",
    "query = spectrums[15]  # just an example\n",
    "best_matches = scores.scores_by_query(query, 'CosineGreedy_score', sort=True)\n",
    "\n",
    "# Print the calculated scores for each spectrum pair\n",
    "for (reference, (score, matches)) in best_matches[:10]:\n",
    "    # Ignore scores between same spectrum\n",
    "    if reference is not query:\n",
    "        print(f\"Reference scan id: {reference.metadata['scans']}\")\n",
    "        print(f\"Query scan id: {query.metadata['scans']}\")\n",
    "        print(f\"Score: {score:.4f}\")\n",
    "        print(f\"Number of matching peaks: {matches}\")\n",
    "        print(\"----------------------------\")\n"
   ]
  },
  {
   "cell_type": "code",
   "execution_count": 73,
   "metadata": {},
   "outputs": [
    {
     "name": "stdout",
     "output_type": "stream",
     "text": [
      "Size of matrix of computed similarities: (76, 76, 3)\n"
     ]
    }
   ],
   "source": [
    "\n",
    "# This computed all-vs-all similarity scores, the array of which can be accessed as scores.scores\n",
    "print(f\"Size of matrix of computed similarities: {scores_cu.scores.shape}\")\n",
    "\n",
    "# Matchms allows to get the best matches for any query using scores_by_query\n",
    "query = spectrums[15]  # just an example\n",
    "best_matches_cu = scores_cu.scores_by_query(query, 'CudaCosineGreedy_score', sort=True)"
   ]
  },
  {
   "cell_type": "code",
   "execution_count": 74,
   "metadata": {},
   "outputs": [
    {
     "name": "stdout",
     "output_type": "stream",
     "text": [
      "Reference scan id: 2161\n",
      "Query scan id: 2161\n",
      "Score: 1.0000\n",
      "Number of matching peaks: 0\n",
      "Did GPU overflow at this pair: 0\n",
      "----------------------------\n",
      "Reference scan id: 613\n",
      "Query scan id: 2161\n",
      "Score: 0.8646\n",
      "Number of matching peaks: 0\n",
      "Did GPU overflow at this pair: 0\n",
      "----------------------------\n",
      "Reference scan id: 603\n",
      "Query scan id: 2161\n",
      "Score: 0.8237\n",
      "Number of matching peaks: 0\n",
      "Did GPU overflow at this pair: 0\n",
      "----------------------------\n",
      "Reference scan id: 2160\n",
      "Query scan id: 2161\n",
      "Score: 0.8015\n",
      "Number of matching peaks: 0\n",
      "Did GPU overflow at this pair: 0\n",
      "----------------------------\n",
      "Reference scan id: 2362\n",
      "Query scan id: 2161\n",
      "Score: 0.2923\n",
      "Number of matching peaks: 0\n",
      "Did GPU overflow at this pair: 0\n",
      "----------------------------\n",
      "Reference scan id: 2598\n",
      "Query scan id: 2161\n",
      "Score: 0.2231\n",
      "Number of matching peaks: 0\n",
      "Did GPU overflow at this pair: 0\n",
      "----------------------------\n",
      "Reference scan id: 2594\n",
      "Query scan id: 2161\n",
      "Score: 0.1761\n",
      "Number of matching peaks: 0\n",
      "Did GPU overflow at this pair: 0\n",
      "----------------------------\n",
      "Reference scan id: 1944\n",
      "Query scan id: 2161\n",
      "Score: 0.1396\n",
      "Number of matching peaks: 0\n",
      "Did GPU overflow at this pair: 0\n",
      "----------------------------\n",
      "Reference scan id: 1772\n",
      "Query scan id: 2161\n",
      "Score: 0.1037\n",
      "Number of matching peaks: 0\n",
      "Did GPU overflow at this pair: 0\n",
      "----------------------------\n",
      "Reference scan id: 2284\n",
      "Query scan id: 2161\n",
      "Score: 0.0675\n",
      "Number of matching peaks: 0\n",
      "Did GPU overflow at this pair: 0\n",
      "----------------------------\n"
     ]
    }
   ],
   "source": [
    "\n",
    "# Print the calculated scores_cu for each spectrum pair\n",
    "for (reference, (score, matches, overflow)) in best_matches_cu[:10]:\n",
    "    # Ignore scores_cu between same spectrum\n",
    "    if reference is not query:\n",
    "        print(f\"Reference scan id: {reference.metadata['scans']}\")\n",
    "        print(f\"Query scan id: {query.metadata['scans']}\")\n",
    "        print(f\"Score: {score:.4f}\")\n",
    "        print(f\"Number of matching peaks: {matches}\")\n",
    "        print(f\"Did GPU overflow at this pair: {overflow}\")\n",
    "        print(\"----------------------------\")\n"
   ]
  },
  {
   "cell_type": "code",
   "execution_count": 68,
   "metadata": {},
   "outputs": [
    {
     "data": {
      "text/plain": [
       "(Spectrum(precursor m/z=526.98, 81 fragments between 70.1 and 554.9), (1., 81))"
      ]
     },
     "execution_count": 68,
     "metadata": {},
     "output_type": "execute_result"
    }
   ],
   "source": [
    "best_matches[0]"
   ]
  }
 ],
 "metadata": {
  "kernelspec": {
   "display_name": "pb2",
   "language": "python",
   "name": "python3"
  },
  "language_info": {
   "codemirror_mode": {
    "name": "ipython",
    "version": 3
   },
   "file_extension": ".py",
   "mimetype": "text/x-python",
   "name": "python",
   "nbconvert_exporter": "python",
   "pygments_lexer": "ipython3",
   "version": "3.10.11"
  }
 },
 "nbformat": 4,
 "nbformat_minor": 2
}
