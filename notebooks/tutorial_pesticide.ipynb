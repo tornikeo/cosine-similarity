{
 "cells": [
  {
   "cell_type": "markdown",
   "metadata": {},
   "source": [
    "This example notebook shows how to use the cosine similarity kernel for some common tasks. In this case we consider [current home-page example](https://matchms.readthedocs.io/en/latest/#example) of pesticide similarity evaluation."
   ]
  },
  {
   "cell_type": "code",
   "execution_count": 1,
   "metadata": {},
   "outputs": [],
   "source": [
    "%load_ext autoreload\n",
    "%autoreload 2\n",
    "import os\n",
    "from nbutils import chdir_to_root\n",
    "chdir_to_root()"
   ]
  },
  {
   "cell_type": "code",
   "execution_count": 2,
   "metadata": {},
   "outputs": [],
   "source": [
    "from matchms.importing import load_from_mgf\n",
    "from matchms.filtering import default_filters\n",
    "from matchms.filtering import normalize_intensities\n",
    "from matchms import calculate_scores\n",
    "from matchms.similarity import CosineGreedy\n",
    "from cudams.similarity import CudaCosineGreedy\n",
    "from numba import cuda\n",
    "assert cuda.is_available()"
   ]
  },
  {
   "cell_type": "code",
   "execution_count": 3,
   "metadata": {},
   "outputs": [],
   "source": [
    "file = list(load_from_mgf('tests/data/pesticides.mgf'))\n",
    "# Apply filters to clean and enhance each spectrum\n",
    "spectrums = []\n",
    "\n",
    "for spectrum in file:\n",
    "    # Apply default filter to standardize ion mode, correct charge and more.\n",
    "    # Default filter is fully explained at https://matchms.readthedocs.io/en/latest/api/matchms.filtering.html .\n",
    "    spectrum = default_filters(spectrum)\n",
    "    # Scale peak intensities to maximum of 1\n",
    "    spectrum = normalize_intensities(spectrum)\n",
    "    spectrums.append(spectrum)"
   ]
  },
  {
   "cell_type": "code",
   "execution_count": 4,
   "metadata": {},
   "outputs": [
    {
     "name": "stdout",
     "output_type": "stream",
     "text": [
      "Size of matrix of computed similarities: (76, 76, 2)\n",
      "Reference scan id: 613\n",
      "Query scan id: 2161\n",
      "Score: 0.8646\n",
      "Number of matching peaks: 14\n",
      "----------------------------\n",
      "Reference scan id: 603\n",
      "Query scan id: 2161\n",
      "Score: 0.8237\n",
      "Number of matching peaks: 14\n",
      "----------------------------\n",
      "Reference scan id: 2160\n",
      "Query scan id: 2161\n",
      "Score: 0.8015\n",
      "Number of matching peaks: 25\n",
      "----------------------------\n",
      "Reference scan id: 2362\n",
      "Query scan id: 2161\n",
      "Score: 0.2923\n",
      "Number of matching peaks: 7\n",
      "----------------------------\n",
      "Reference scan id: 2598\n",
      "Query scan id: 2161\n",
      "Score: 0.2231\n",
      "Number of matching peaks: 5\n",
      "----------------------------\n",
      "Reference scan id: 2594\n",
      "Query scan id: 2161\n",
      "Score: 0.1761\n",
      "Number of matching peaks: 3\n",
      "----------------------------\n",
      "Reference scan id: 1944\n",
      "Query scan id: 2161\n",
      "Score: 0.1396\n",
      "Number of matching peaks: 5\n",
      "----------------------------\n",
      "Reference scan id: 1772\n",
      "Query scan id: 2161\n",
      "Score: 0.1037\n",
      "Number of matching peaks: 4\n",
      "----------------------------\n",
      "Reference scan id: 2284\n",
      "Query scan id: 2161\n",
      "Score: 0.0675\n",
      "Number of matching peaks: 9\n",
      "----------------------------\n"
     ]
    }
   ],
   "source": [
    "scores = calculate_scores(references=spectrums,\n",
    "                          queries=spectrums,\n",
    "                          similarity_function=CosineGreedy(),\n",
    "                          is_symmetric=True)\n",
    "print(f\"Size of matrix of computed similarities: {scores.scores.shape}\")\n",
    "\n",
    "# Matchms allows to get the best matches for any query using scores_by_query\n",
    "query = spectrums[15]  # just an example\n",
    "best_matches = scores.scores_by_query(query, 'CosineGreedy_score', sort=True)\n",
    "\n",
    "# Print the calculated scores for each spectrum pair\n",
    "for (reference, (score, matches)) in best_matches[:10]:\n",
    "    # Ignore scores between same spectrum\n",
    "    if reference is not query:\n",
    "        print(f\"Reference scan id: {reference.metadata['scans']}\")\n",
    "        print(f\"Query scan id: {query.metadata['scans']}\")\n",
    "        print(f\"Score: {score:.4f}\")\n",
    "        print(f\"Number of matching peaks: {matches}\")\n",
    "        print(\"----------------------------\")"
   ]
  },
  {
   "cell_type": "code",
   "execution_count": 5,
   "metadata": {},
   "outputs": [],
   "source": [
    "from matchms.filtering import reduce_to_number_of_peaks\n",
    "import numpy as np\n",
    "# It is necessary to make sure that the number of peaks are reasonable\n",
    "\n",
    "MAX_PEAKS = 1024\n",
    "\n",
    "def process_spectrum(spectrum: np.ndarray) -> np.ndarray:\n",
    "    # spectrum = select_by_mz(spectrum, mz_from=10.0, mz_to=1000.0)\n",
    "    # spectrum = normalize_intensities(spectrum)\n",
    "    # spectrum = select_by_relative_intensity(spectrum, intensity_from=0.001)\n",
    "    # spectrum = reduce_to_number_of_peaks(spectrum, n_max=1000)\n",
    "    spectrum = reduce_to_number_of_peaks(spectrum, n_max=MAX_PEAKS)\n",
    "    # spectrum = require_minimum_number_of_peaks(spectrum, n_required=5)\n",
    "    return spectrum\n",
    "\n",
    "f_specs = [process_spectrum(s) for s in spectrums]"
   ]
  },
  {
   "cell_type": "code",
   "execution_count": 6,
   "metadata": {},
   "outputs": [],
   "source": [
    "scores_cu = calculate_scores(\n",
    "    references=f_specs,\n",
    "    queries=f_specs, \n",
    "    similarity_function=CudaCosineGreedy(batch_size=512))"
   ]
  },
  {
   "cell_type": "code",
   "execution_count": 7,
   "metadata": {},
   "outputs": [
    {
     "name": "stdout",
     "output_type": "stream",
     "text": [
      "Size of matrix of computed similarities: (76, 76, 3)\n"
     ]
    }
   ],
   "source": [
    "# This computed all-vs-all similarity scores, the array of which can be accessed as scores.scores\n",
    "print(f\"Size of matrix of computed similarities: {scores_cu.scores.shape}\")\n",
    "\n",
    "# Matchms allows to get the best matches for any query using scores_by_query\n",
    "query = spectrums[15]  # just an example\n",
    "best_matches_cu = scores_cu.scores_by_query(query, 'CudaCosineGreedy_score', sort=True)"
   ]
  },
  {
   "cell_type": "code",
   "execution_count": 8,
   "metadata": {},
   "outputs": [
    {
     "name": "stdout",
     "output_type": "stream",
     "text": [
      "Reference scan id: 613\n",
      "Query scan id: 2161\n",
      "Score: 0.8646\n",
      "Number of matching peaks: 14\n",
      "Did GPU overflow at this pair: 0\n",
      "----------------------------\n",
      "Reference scan id: 603\n",
      "Query scan id: 2161\n",
      "Score: 0.8237\n",
      "Number of matching peaks: 14\n",
      "Did GPU overflow at this pair: 0\n",
      "----------------------------\n",
      "Reference scan id: 2160\n",
      "Query scan id: 2161\n",
      "Score: 0.8015\n",
      "Number of matching peaks: 25\n",
      "Did GPU overflow at this pair: 0\n",
      "----------------------------\n",
      "Reference scan id: 2362\n",
      "Query scan id: 2161\n",
      "Score: 0.2923\n",
      "Number of matching peaks: 7\n",
      "Did GPU overflow at this pair: 0\n",
      "----------------------------\n",
      "Reference scan id: 2598\n",
      "Query scan id: 2161\n",
      "Score: 0.2231\n",
      "Number of matching peaks: 5\n",
      "Did GPU overflow at this pair: 0\n",
      "----------------------------\n",
      "Reference scan id: 2594\n",
      "Query scan id: 2161\n",
      "Score: 0.1761\n",
      "Number of matching peaks: 3\n",
      "Did GPU overflow at this pair: 0\n",
      "----------------------------\n",
      "Reference scan id: 1944\n",
      "Query scan id: 2161\n",
      "Score: 0.1396\n",
      "Number of matching peaks: 5\n",
      "Did GPU overflow at this pair: 0\n",
      "----------------------------\n",
      "Reference scan id: 1772\n",
      "Query scan id: 2161\n",
      "Score: 0.1037\n",
      "Number of matching peaks: 4\n",
      "Did GPU overflow at this pair: 0\n",
      "----------------------------\n",
      "Reference scan id: 2284\n",
      "Query scan id: 2161\n",
      "Score: 0.0675\n",
      "Number of matching peaks: 9\n",
      "Did GPU overflow at this pair: 0\n",
      "----------------------------\n"
     ]
    }
   ],
   "source": [
    "\n",
    "# Print the calculated scores_cu for each spectrum pair\n",
    "for (reference, (score, matches, overflow)) in best_matches_cu[:10]:\n",
    "    # Ignore scores_cu between same spectrum\n",
    "    if reference != query:\n",
    "        print(f\"Reference scan id: {reference.metadata['scans']}\")\n",
    "        print(f\"Query scan id: {query.metadata['scans']}\")\n",
    "        print(f\"Score: {score:.4f}\")\n",
    "        print(f\"Number of matching peaks: {matches}\")\n",
    "        print(f\"Did GPU overflow at this pair: {overflow}\")\n",
    "        print(\"----------------------------\")\n"
   ]
  },
  {
   "cell_type": "code",
   "execution_count": 9,
   "metadata": {},
   "outputs": [],
   "source": [
    "for a, b in zip(best_matches[:10], best_matches_cu[:10]):\n",
    "    reference, (score_a, matches_a) = a\n",
    "    reference, (score_b, matches_b, overflow_b) = b\n",
    "    if reference != query:\n",
    "        # If we didn't overflow\n",
    "        if not overflow_b:\n",
    "            assert np.isclose(score_a, score_b), (\"score error\", score_a, score_b)\n",
    "            assert np.isclose(matches_a, matches_b), ('match error', matches_a, matches_b)\n",
    "        # If overflow, score must be leq\n",
    "        else:\n",
    "            assert score_a >= score_b\n",
    "            assert matches_a >= matches_b"
   ]
  }
 ],
 "metadata": {
  "kernelspec": {
   "display_name": "pb2",
   "language": "python",
   "name": "python3"
  },
  "language_info": {
   "codemirror_mode": {
    "name": "ipython",
    "version": 3
   },
   "file_extension": ".py",
   "mimetype": "text/x-python",
   "name": "python",
   "nbconvert_exporter": "python",
   "pygments_lexer": "ipython3",
   "version": "3.10.11"
  }
 },
 "nbformat": 4,
 "nbformat_minor": 2
}
