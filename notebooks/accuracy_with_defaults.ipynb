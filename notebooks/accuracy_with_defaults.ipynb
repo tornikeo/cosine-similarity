{
 "cells": [
  {
   "cell_type": "code",
   "execution_count": 7,
   "metadata": {},
   "outputs": [
    {
     "name": "stdout",
     "output_type": "stream",
     "text": [
      "The autoreload extension is already loaded. To reload it, use:\n",
      "  %reload_ext autoreload\n"
     ]
    },
    {
     "data": {
      "text/plain": [
       "'/home/tornikeo/Documents/work/scalexa/pangeaai/optimize-cosine'"
      ]
     },
     "execution_count": 7,
     "metadata": {},
     "output_type": "execute_result"
    }
   ],
   "source": [
    "%load_ext autoreload\n",
    "%autoreload 2\n",
    "from nbutils import chdir_to_root\n",
    "chdir_to_root()\n",
    "%pwd"
   ]
  },
  {
   "cell_type": "code",
   "execution_count": 8,
   "metadata": {},
   "outputs": [],
   "source": [
    "from cudams.utils import argbatch, mkdir\n",
    "from cudams.data import get_ref_spectra_from_df\n",
    "from cudams.kernel import compile\n",
    "from cudams.utils import name2idx\n",
    "from cudams.cosine import similarity\n",
    "import math\n",
    "from pathlib import Path\n",
    "import pandas as pd\n",
    "from tqdm import tqdm\n",
    "from cudams.data import spectra_peaks_to_tensor\n",
    "from cudams.processor import Config\n",
    "from numba import cuda\n",
    "from itertools import product\n",
    "from time import perf_counter\n",
    "from multiprocessing.pool import ThreadPool\n",
    "from multiprocessing import shared_memory\n",
    "import numpy as np\n",
    "import json\n",
    "import matplotlib.pyplot as plt\n",
    "import matplotlib\n",
    "\n",
    "assert cuda.is_available()"
   ]
  },
  {
   "cell_type": "code",
   "execution_count": 10,
   "metadata": {},
   "outputs": [],
   "source": [
    "## Define constants\n",
    "tolerance: float = 0.05\n",
    "shift: float = 0\n",
    "mz_power: float = 0\n",
    "int_power: float = 1\n",
    "\n",
    "## How many pairs per batch. Has to be a power of 2.\n",
    "# Hardware specific - An RTX2070 works best at around 1024 * 2\n",
    "# But Colab T4 GPU might work best at 1024 * 4\n",
    "BATCH_SIZE = 512\n",
    "\n",
    "# MAX NUMBER OF PEAKS \n",
    "MAX_PEAKS = 1024\n",
    "\n",
    "# MATCH_LIMIT specifies max how many mz-mz pairs we could consider for each RQ pair, before we sort and filter. \n",
    "# E.g. a value of 256 usually causes around ~0.003% of RQ pairs to \"overflow\".\n",
    "# The overflown RQ scores will be strictly less than or equal to perfectly accurate score.\n",
    "# The mean absolute difference at 256, for all overflown pairs is on the order of ~1e-3\n",
    "# Small values of MATCH_LIMIT (e.g. 128, 64,) cause a dramatic speedup in the processing speed.\n",
    "MATCH_LIMIT = 1024 * 4\n",
    "\n",
    "## GPU-specific constants\n",
    "THREADS_PER_BLOCK = (32, 32)\n",
    "BLOCKS_PER_GRID_X = math.ceil(BATCH_SIZE / THREADS_PER_BLOCK[0])\n",
    "BLOCKS_PER_GRID_Y = math.ceil(BATCH_SIZE / THREADS_PER_BLOCK[1])\n",
    "BLOCKS_PER_GRID = (BLOCKS_PER_GRID_X, BLOCKS_PER_GRID_Y)\n",
    "\n",
    "# Since Greedy cosine is an unstable algorithm, because approximate mz-mz values do not\n",
    "# result in approximately the same scores and number of matches.\n",
    "# So we need to use fp64 to minimize the deviation as much as possible.\n",
    "# Using float32 causes a significant speedup in the processing speed.\n",
    "dtype = 'float64'\n",
    "\n",
    "# Data path\n",
    "reference_csv_file = Path(\"data/input/test_set_cosine.csv\")\n",
    "query_csv_file = Path(\"data/input/test_set_cosine.csv\")"
   ]
  },
  {
   "cell_type": "code",
   "execution_count": 11,
   "metadata": {},
   "outputs": [
    {
     "name": "stderr",
     "output_type": "stream",
     "text": [
      "100%|██████████| 512/512 [00:02<00:00, 223.14it/s]\n",
      "100%|██████████| 512/512 [00:00<00:00, 3161.72it/s]\n"
     ]
    }
   ],
   "source": [
    "from cudams.processor import CudaCosineGreedy, CpuCosineGreedy\n",
    "from collections import defaultdict\n",
    "from matchms import calculate_scores\n",
    "from matchms.similarity import CosineGreedy\n",
    "from tqdm import tqdm\n",
    "from matchms.filtering import normalize_intensities, select_by_mz, select_by_relative_intensity, reduce_to_number_of_peaks, \\\n",
    "    require_minimum_number_of_peaks\n",
    "from cudams.utils import mute_stdout\n",
    "\n",
    "def process_spectrum(spectrum: np.ndarray) -> np.ndarray:\n",
    "    # spectrum = select_by_mz(spectrum, mz_from=10.0, mz_to=1000.0)\n",
    "    # spectrum = normalize_intensities(spectrum)\n",
    "    # spectrum = select_by_relative_intensity(spectrum, intensity_from=0.001)\n",
    "    # spectrum = reduce_to_number_of_peaks(spectrum, n_max=1000)\n",
    "    spectrum = reduce_to_number_of_peaks(spectrum, n_max=MAX_PEAKS)\n",
    "    # spectrum = require_minimum_number_of_peaks(spectrum, n_required=5)\n",
    "    return spectrum\n",
    "\n",
    "ref_spectra_df_path = Path(reference_csv_file)\n",
    "ref_spectra_df = pd.read_csv(ref_spectra_df_path)\n",
    "references = get_ref_spectra_from_df(ref_spectra_df, \n",
    "                                    spectrum_processor=process_spectrum,\n",
    "                                    limit=BATCH_SIZE,)\n",
    "\n",
    "query_spectra_df_path = Path(query_csv_file)\n",
    "query_spectra_df = pd.read_csv(query_spectra_df_path)\n",
    "queries = get_ref_spectra_from_df(query_spectra_df, \n",
    "                                spectrum_processor=process_spectrum,\n",
    "                                limit=BATCH_SIZE,)\n",
    "\n",
    "similarity_measure = CosineGreedy(tolerance=tolerance, \n",
    "                                mz_power= 0.0, \n",
    "                                intensity_power = 1.0)\n",
    "C_orig = calculate_scores(references, queries, similarity_measure, is_symmetric=True)\n",
    "Cy = C_orig.to_array()\n",
    "Cy, Cm = Cy['CosineGreedy_score'], Cy['CosineGreedy_matches']\n",
    "Cy = np.stack([Cy,Cm],axis=-1)\n",
    "\n",
    "refs = list([r.peaks.to_numpy for r in references])\n",
    "ques = list([q.peaks.to_numpy for q in queries])\n",
    "\n",
    "rlims = argbatch(refs, BATCH_SIZE)\n",
    "qlims = argbatch(ques, BATCH_SIZE)\n",
    "R = len(references)\n",
    "Q = len(queries)\n",
    "\n",
    "batches_rq = list(product(rlims, qlims))\n"
   ]
  },
  {
   "cell_type": "code",
   "execution_count": 12,
   "metadata": {},
   "outputs": [
    {
     "name": "stderr",
     "output_type": "stream",
     "text": [
      "  0%|          | 0/1 [00:00<?, ?it/s]"
     ]
    },
    {
     "name": "stderr",
     "output_type": "stream",
     "text": [
      "100%|██████████| 1/1 [00:04<00:00,  4.48s/it]\n",
      "Batch all references: 1it [00:00, 68.11it/s]\n",
      "Batch all queries: 1it [00:00, 64.91it/s]\n",
      "100%|██████████| 1/1 [00:01<00:00,  1.66s/it]"
     ]
    },
    {
     "name": "stdout",
     "output_type": "stream",
     "text": [
      "Overflows 0.0 0\n",
      "CPU orig vs GPU 0.999847412109375 80\n",
      "CPU opt vs GPU: 0.9998264312744141 91\n",
      "CPU orig vs CPU opt 0.9998874664306641 59\n"
     ]
    },
    {
     "name": "stderr",
     "output_type": "stream",
     "text": [
      "\n"
     ]
    }
   ],
   "source": [
    "from cudams.processor import CudaCosineGreedy, CpuCosineGreedy\n",
    "from collections import defaultdict\n",
    "from matchms import calculate_scores\n",
    "from matchms.similarity import CosineGreedy\n",
    "from tqdm import tqdm\n",
    "from matchms.filtering import normalize_intensities, select_by_mz, select_by_relative_intensity, reduce_to_number_of_peaks, \\\n",
    "    require_minimum_number_of_peaks\n",
    "from cudams.utils import mute_stdout\n",
    "\n",
    "\n",
    "for (rstart, rend), (qstart, qend) in tqdm(batches_rq, total=len(batches_rq)):\n",
    "    rspec = refs[rstart:rend]\n",
    "    qspec = ques[qstart:qend]\n",
    "    out_true = np.full((BATCH_SIZE, BATCH_SIZE, 2), fill_value=0, dtype='float32')\n",
    "    for (i, spec1), (j, spec2) in product(enumerate(rspec), enumerate(qspec)):\n",
    "            score = similarity(\n",
    "                spec1,\n",
    "                spec2,\n",
    "                tolerance=tolerance,\n",
    "                shift=shift,\n",
    "                mz_power=mz_power,\n",
    "                int_power=int_power,\n",
    "            )\n",
    "            if score is not None:\n",
    "                out_true[i,j,0] = score[0]\n",
    "                out_true[i,j,1] = score[1]\n",
    "    \n",
    "C = np.empty((BATCH_SIZE,BATCH_SIZE,2), dtype='float32')\n",
    "C[:] = out_true[:]\n",
    "\n",
    "cosine = CudaCosineGreedy(\n",
    "            tolerance=tolerance,\n",
    "            mz_power=0,\n",
    "            intensity_power=1, \n",
    "            shift=0,\n",
    "            batch_size=BATCH_SIZE,\n",
    "            match_limit=MATCH_LIMIT,\n",
    "        )\n",
    "cosine.compile()\n",
    "G, Ov = cosine.matrix(\n",
    "    references=references, \n",
    "    queries=queries, \n",
    "    array_type=\"numpy\"\n",
    ")\n",
    "R,Q,_ = Cy.shape\n",
    "\n",
    "print(\"Overflows\", Ov[:R,:Q].mean(), Ov[:R,:Q].sum())\n",
    "\n",
    "C_match = np.isclose(Cy[:R,:Q], G[:R,:Q])\n",
    "corr = C_match.mean()\n",
    "print(\"CPU orig vs GPU\", corr, (1-C_match).sum())\n",
    "\n",
    "C_match = np.isclose(C[:R,:Q], G[:R,:Q])\n",
    "corr = C_match.mean()\n",
    "print(\"CPU opt vs GPU:\", corr, (1-C_match).sum())\n",
    "\n",
    "C_match = np.isclose(Cy[:R,:Q], C[:R,:Q])\n",
    "corr = C_match.mean()\n",
    "print(\"CPU orig vs CPU opt\", corr, (1-C_match).sum())"
   ]
  },
  {
   "cell_type": "code",
   "execution_count": 11,
   "metadata": {},
   "outputs": [
    {
     "data": {
      "text/plain": [
       "<matplotlib.image.AxesImage at 0x7f7d5ed013f0>"
      ]
     },
     "execution_count": 11,
     "metadata": {},
     "output_type": "execute_result"
    },
    {
     "data": {
      "image/png": "[encoded data removed]",
      "text/plain": [
       "<Figure size 480x480 with 1 Axes>"
      ]
     },
     "metadata": {},
     "output_type": "display_data"
    }
   ],
   "source": [
    "plt.matshow(C_match[...,1])"
   ]
  },
  {
   "cell_type": "code",
   "execution_count": 19,
   "metadata": {},
   "outputs": [
    {
     "data": {
      "text/plain": [
       "(55.16981, 39.835857)"
      ]
     },
     "execution_count": 19,
     "metadata": {},
     "output_type": "execute_result"
    }
   ],
   "source": [
    "C_match = ~np.isclose(Cy[:R,:Q], G[:R,:Q])\n",
    "a,b = np.nonzero(C_match[...,1])\n",
    "G[a,b,1].mean(), G[a,b,1].std()"
   ]
  },
  {
   "cell_type": "code",
   "execution_count": 20,
   "metadata": {},
   "outputs": [
    {
     "data": {
      "text/plain": [
       "(13.768106, 27.25964)"
      ]
     },
     "execution_count": 20,
     "metadata": {},
     "output_type": "execute_result"
    }
   ],
   "source": [
    "C_match = np.isclose(Cy[:R,:Q], G[:R,:Q])\n",
    "a,b = np.nonzero(C_match[...,1])\n",
    "G[a,b,1].mean(), G[a,b,1].std()"
   ]
  },
  {
   "cell_type": "code",
   "execution_count": 8,
   "metadata": {},
   "outputs": [
    {
     "name": "stdout",
     "output_type": "stream",
     "text": [
      "Overflows 0.0 0\n",
      "CPU orig vs GPU 0.9995307922363281 246\n",
      "CPU opt vs GPU: 0.999420166015625 304\n",
      "CPU orig vs CPU opt 0.9996414184570312 188\n"
     ]
    }
   ],
   "source": [
    "print(\"Overflows\", Ov[:R,:Q].mean(), Ov[:R,:Q].sum())\n",
    "\n",
    "C_match = np.isclose(Cy[:R,:Q], G[:R,:Q])\n",
    "corr = C_match.mean()\n",
    "print(\"CPU orig vs GPU\", corr, (1-C_match).sum())\n",
    "\n",
    "C_match = np.isclose(C[:R,:Q], G[:R,:Q])\n",
    "corr = C_match.mean()\n",
    "print(\"CPU opt vs GPU:\", corr, (1-C_match).sum())\n",
    "\n",
    "C_match = np.isclose(Cy[:R,:Q], C[:R,:Q])\n",
    "corr = C_match.mean()\n",
    "print(\"CPU orig vs CPU opt\", corr, (1-C_match).sum())"
   ]
  }
 ],
 "metadata": {
  "kernelspec": {
   "display_name": "pb2",
   "language": "python",
   "name": "python3"
  },
  "language_info": {
   "codemirror_mode": {
    "name": "ipython",
    "version": 3
   },
   "file_extension": ".py",
   "mimetype": "text/x-python",
   "name": "python",
   "nbconvert_exporter": "python",
   "pygments_lexer": "ipython3",
   "version": "3.10.11"
  }
 },
 "nbformat": 4,
 "nbformat_minor": 2
}
