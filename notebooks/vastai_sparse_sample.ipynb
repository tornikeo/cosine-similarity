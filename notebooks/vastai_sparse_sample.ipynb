{
 "cells": [
  {
   "cell_type": "code",
   "execution_count": 17,
   "metadata": {},
   "outputs": [
    {
     "name": "stdout",
     "output_type": "stream",
     "text": [
      "The autoreload extension is already loaded. To reload it, use:\n",
      "  %reload_ext autoreload\n"
     ]
    },
    {
     "data": {
      "text/plain": [
       "'/workspace'"
      ]
     },
     "execution_count": 17,
     "metadata": {},
     "output_type": "execute_result"
    }
   ],
   "source": [
    "%load_ext autoreload\n",
    "%autoreload 2\n",
    "%pwd"
   ]
  },
  {
   "cell_type": "code",
   "execution_count": 18,
   "metadata": {},
   "outputs": [
    {
     "name": "stdout",
     "output_type": "stream",
     "text": [
      "\u001b[33mWARNING: Running pip as the 'root' user can result in broken permissions and conflicting behaviour with the system package manager. It is recommended to use a virtual environment instead: https://pip.pypa.io/warnings/venv\u001b[0m\u001b[33m\n",
      "\u001b[0mCollecting git+https://github.com/tornikeo/cosine-similarity.git@dev\n",
      "  Cloning https://github.com/tornikeo/cosine-similarity.git (to revision dev) to /tmp/pip-req-build-t2aisiwe\n",
      "  Running command git clone --filter=blob:none --quiet https://github.com/tornikeo/cosine-similarity.git /tmp/pip-req-build-t2aisiwe\n",
      "  Running command git checkout -b dev --track origin/dev\n",
      "  Switched to a new branch 'dev'\n",
      "  Branch 'dev' set up to track remote branch 'dev' from 'origin'.\n",
      "  Resolved https://github.com/tornikeo/cosine-similarity.git to commit 305448299d2b9bdb372dee08fe1192618aff2ac4\n",
      "  Installing build dependencies ... \u001b[?25ldone\n",
      "\u001b[?25h  Getting requirements to build wheel ... \u001b[?25ldone\n",
      "\u001b[?25h  Preparing metadata (pyproject.toml) ... \u001b[?25ldone\n",
      "\u001b[?25hRequirement already satisfied: matchms>=0.24.0 in /opt/conda/lib/python3.10/site-packages (from cudams==0.0.1) (0.24.2)\n",
      "Requirement already satisfied: rdkit in /opt/conda/lib/python3.10/site-packages (from cudams==0.0.1) (2023.9.5)\n",
      "Requirement already satisfied: h5py in /opt/conda/lib/python3.10/site-packages (from cudams==0.0.1) (3.10.0)\n",
      "Requirement already satisfied: pydantic in /opt/conda/lib/python3.10/site-packages (from cudams==0.0.1) (2.6.2)\n",
      "Requirement already satisfied: numba in /opt/conda/lib/python3.10/site-packages (from cudams==0.0.1) (0.57.1)\n",
      "Requirement already satisfied: pandas in /opt/conda/lib/python3.10/site-packages (from cudams==0.0.1) (2.2.1)\n",
      "Requirement already satisfied: joblib in /opt/conda/lib/python3.10/site-packages (from cudams==0.0.1) (1.3.2)\n",
      "Requirement already satisfied: tqdm in /opt/conda/lib/python3.10/site-packages (from cudams==0.0.1) (4.65.0)\n",
      "Requirement already satisfied: requests in /opt/conda/lib/python3.10/site-packages (from cudams==0.0.1) (2.31.0)\n",
      "Requirement already satisfied: deprecated<2.0.0,>=1.2.14 in /opt/conda/lib/python3.10/site-packages (from matchms>=0.24.0->cudams==0.0.1) (1.2.14)\n",
      "Requirement already satisfied: lxml<5.0.0,>=4.9.3 in /opt/conda/lib/python3.10/site-packages (from matchms>=0.24.0->cudams==0.0.1) (4.9.4)\n",
      "Requirement already satisfied: matplotlib<4.0.0,>=3.7.2 in /opt/conda/lib/python3.10/site-packages (from matchms>=0.24.0->cudams==0.0.1) (3.8.3)\n",
      "Requirement already satisfied: networkx<4.0,>=3.1 in /opt/conda/lib/python3.10/site-packages (from matchms>=0.24.0->cudams==0.0.1) (3.1)\n",
      "Requirement already satisfied: numpy<1.25 in /opt/conda/lib/python3.10/site-packages (from matchms>=0.24.0->cudams==0.0.1) (1.24.4)\n",
      "Requirement already satisfied: pickydict<0.5.0,>=0.4.0 in /opt/conda/lib/python3.10/site-packages (from matchms>=0.24.0->cudams==0.0.1) (0.4.0)\n",
      "Requirement already satisfied: pillow!=9.4.0 in /opt/conda/lib/python3.10/site-packages (from matchms>=0.24.0->cudams==0.0.1) (10.2.0)\n",
      "Requirement already satisfied: pubchempy in /opt/conda/lib/python3.10/site-packages (from matchms>=0.24.0->cudams==0.0.1) (1.0.4)\n",
      "Requirement already satisfied: pyteomics<5.0,>=4.6 in /opt/conda/lib/python3.10/site-packages (from matchms>=0.24.0->cudams==0.0.1) (4.7.1)\n",
      "Requirement already satisfied: pyyaml<7.0.0,>=6.0.1 in /opt/conda/lib/python3.10/site-packages (from matchms>=0.24.0->cudams==0.0.1) (6.0.1)\n",
      "Requirement already satisfied: scipy<1.11 in /opt/conda/lib/python3.10/site-packages (from matchms>=0.24.0->cudams==0.0.1) (1.10.1)\n",
      "Requirement already satisfied: sparsestack<0.5.0,>=0.4.1 in /opt/conda/lib/python3.10/site-packages (from matchms>=0.24.0->cudams==0.0.1) (0.4.1)\n",
      "Requirement already satisfied: llvmlite<0.41,>=0.40.0dev0 in /opt/conda/lib/python3.10/site-packages (from numba->cudams==0.0.1) (0.40.1)\n",
      "Requirement already satisfied: python-dateutil>=2.8.2 in /opt/conda/lib/python3.10/site-packages (from pandas->cudams==0.0.1) (2.8.2)\n",
      "Requirement already satisfied: pytz>=2020.1 in /opt/conda/lib/python3.10/site-packages (from pandas->cudams==0.0.1) (2023.3.post1)\n",
      "Requirement already satisfied: tzdata>=2022.7 in /opt/conda/lib/python3.10/site-packages (from pandas->cudams==0.0.1) (2024.1)\n",
      "Requirement already satisfied: charset-normalizer<4,>=2 in /opt/conda/lib/python3.10/site-packages (from requests->cudams==0.0.1) (2.0.4)\n",
      "Requirement already satisfied: idna<4,>=2.5 in /opt/conda/lib/python3.10/site-packages (from requests->cudams==0.0.1) (3.4)\n",
      "Requirement already satisfied: urllib3<3,>=1.21.1 in /opt/conda/lib/python3.10/site-packages (from requests->cudams==0.0.1) (2.1.0)\n",
      "Requirement already satisfied: certifi>=2017.4.17 in /opt/conda/lib/python3.10/site-packages (from requests->cudams==0.0.1) (2024.2.2)\n",
      "Requirement already satisfied: annotated-types>=0.4.0 in /opt/conda/lib/python3.10/site-packages (from pydantic->cudams==0.0.1) (0.6.0)\n",
      "Requirement already satisfied: pydantic-core==2.16.3 in /opt/conda/lib/python3.10/site-packages (from pydantic->cudams==0.0.1) (2.16.3)\n",
      "Requirement already satisfied: typing-extensions>=4.6.1 in /opt/conda/lib/python3.10/site-packages (from pydantic->cudams==0.0.1) (4.9.0)\n",
      "Requirement already satisfied: wrapt<2,>=1.10 in /opt/conda/lib/python3.10/site-packages (from deprecated<2.0.0,>=1.2.14->matchms>=0.24.0->cudams==0.0.1) (1.16.0)\n",
      "Requirement already satisfied: contourpy>=1.0.1 in /opt/conda/lib/python3.10/site-packages (from matplotlib<4.0.0,>=3.7.2->matchms>=0.24.0->cudams==0.0.1) (1.2.0)\n",
      "Requirement already satisfied: cycler>=0.10 in /opt/conda/lib/python3.10/site-packages (from matplotlib<4.0.0,>=3.7.2->matchms>=0.24.0->cudams==0.0.1) (0.12.1)\n",
      "Requirement already satisfied: fonttools>=4.22.0 in /opt/conda/lib/python3.10/site-packages (from matplotlib<4.0.0,>=3.7.2->matchms>=0.24.0->cudams==0.0.1) (4.49.0)\n",
      "Requirement already satisfied: kiwisolver>=1.3.1 in /opt/conda/lib/python3.10/site-packages (from matplotlib<4.0.0,>=3.7.2->matchms>=0.24.0->cudams==0.0.1) (1.4.5)\n",
      "Requirement already satisfied: packaging>=20.0 in /opt/conda/lib/python3.10/site-packages (from matplotlib<4.0.0,>=3.7.2->matchms>=0.24.0->cudams==0.0.1) (23.1)\n",
      "Requirement already satisfied: pyparsing>=2.3.1 in /opt/conda/lib/python3.10/site-packages (from matplotlib<4.0.0,>=3.7.2->matchms>=0.24.0->cudams==0.0.1) (3.1.1)\n",
      "Requirement already satisfied: six>=1.5 in /opt/conda/lib/python3.10/site-packages (from python-dateutil>=2.8.2->pandas->cudams==0.0.1) (1.16.0)\n",
      "Building wheels for collected packages: cudams\n",
      "  Building wheel for cudams (pyproject.toml) ... \u001b[?25ldone\n",
      "\u001b[?25h  Created wheel for cudams: filename=cudams-0.0.1-py3-none-any.whl size=18066 sha256=0b6efc4482fe0c6a1d1a1207cc443612594c5d5b1fcedd2a56ef34eb608d0a4c\n",
      "  Stored in directory: /tmp/pip-ephem-wheel-cache-qs4m3qt5/wheels/69/5a/b2/042e17f5c3a426762af6e3eded8492596b447c5c6dd3dcfdd8\n",
      "Successfully built cudams\n",
      "Installing collected packages: cudams\n",
      "Successfully installed cudams-0.0.1\n",
      "\u001b[33mWARNING: Running pip as the 'root' user can result in broken permissions and conflicting behaviour with the system package manager. It is recommended to use a virtual environment instead: https://pip.pypa.io/warnings/venv\u001b[0m\u001b[33m\n",
      "\u001b[0m"
     ]
    }
   ],
   "source": [
    "! pip uninstall cudams -q -y\n",
    "! pip install git+https://github.com/tornikeo/cosine-similarity.git@dev"
   ]
  },
  {
   "cell_type": "markdown",
   "metadata": {},
   "source": [
    "# Load data"
   ]
  },
  {
   "cell_type": "code",
   "execution_count": 19,
   "metadata": {},
   "outputs": [],
   "source": [
    "from cudams.utils import \\\n",
    "    argbatch, mkdir, get_ref_spectra_from_df\n",
    "import math\n",
    "from pathlib import Path\n",
    "import pandas as pd\n",
    "from itertools import product\n",
    "from time import perf_counter\n",
    "from multiprocessing.pool import ThreadPool\n",
    "from multiprocessing import shared_memory\n",
    "import numpy as np\n",
    "import json\n",
    "import matplotlib.pyplot as plt\n",
    "import matplotlib\n",
    "from tqdm import tqdm\n",
    "import torch\n",
    "import numba\n",
    "from numba import cuda\n",
    "\n",
    "assert torch.cuda.is_available()\n",
    "assert cuda.is_available()"
   ]
  },
  {
   "cell_type": "code",
   "execution_count": 20,
   "metadata": {},
   "outputs": [],
   "source": [
    "from cudams.similarity.kernels import compile_cuda_cosine_greedy_kernel\n",
    "\n",
    "match_limit = 1024\n",
    "max_peaks = 1024\n",
    "batch_size = 2048\n",
    "threshold = .75\n",
    "\n",
    "kernel = compile_cuda_cosine_greedy_kernel(\n",
    "    tolerance=.1,\n",
    "    shift=0,\n",
    "    mz_power=0,\n",
    "    int_power=1,\n",
    "    match_limit=match_limit,\n",
    "    batch_size=batch_size,\n",
    ")"
   ]
  },
  {
   "cell_type": "code",
   "execution_count": 27,
   "metadata": {},
   "outputs": [],
   "source": [
    "from cudams.utils import download_cosine_100k_sample\n",
    "from pathlib import Path\n",
    "\n",
    "spectra_file = download_cosine_100k_sample('spectra_100k.csv')"
   ]
  },
  {
   "cell_type": "code",
   "execution_count": 28,
   "metadata": {},
   "outputs": [
    {
     "name": "stdout",
     "output_type": "stream",
     "text": [
      "63M\tcosine.csv\n",
      "4.0K\tonstart.sh\n",
      "4.0K\tports.log\n",
      "16K\tsparse_standalone.ipynb\n",
      "60M\tspectra_100k.csv\n",
      "152K\ttests/data\n",
      "152K\ttests\n",
      "16K\ttutorial_pesticide.ipynb\n"
     ]
    }
   ],
   "source": [
    "! du -h *"
   ]
  },
  {
   "cell_type": "code",
   "execution_count": 29,
   "metadata": {},
   "outputs": [
    {
     "name": "stderr",
     "output_type": "stream",
     "text": [
      "100%|██████████| 65536/65536 [00:11<00:00, 5696.16it/s]\n"
     ]
    }
   ],
   "source": [
    "from cudams.utils import get_spectra_batches\n",
    "\n",
    "references, queries, batched_inputs = get_spectra_batches(\n",
    "    reference_csv_file=spectra_file, # File paths\n",
    "    query_csv_file=spectra_file,\n",
    "    batch_size=batch_size, # Batch size for processing - large batch size requires more powerful hardware, and is faster\n",
    "    max_peaks=max_peaks, # Number of max peaks in each batch. Large number requires much more memory and time, but is more accurate (after 1024, it doesn't matter much)\n",
    "    padding=None, # Not required for current kernels\n",
    "    max_pairs=(batch_size**2) * 256 # we use 256 batches\n",
    ")"
   ]
  },
  {
   "cell_type": "code",
   "execution_count": 39,
   "metadata": {},
   "outputs": [
    {
     "name": "stderr",
     "output_type": "stream",
     "text": [
      "  0%|          | 0/256 [00:00<?, ?it/s]\n"
     ]
    },
    {
     "ename": "TypeError",
     "evalue": "*obj* doesn't implement the cuda array interface.",
     "output_type": "error",
     "traceback": [
      "\u001b[0;31m---------------------------------------------------------------------------\u001b[0m",
      "\u001b[0;31mTypeError\u001b[0m                                 Traceback (most recent call last)",
      "Cell \u001b[0;32mIn[39], line 19\u001b[0m\n\u001b[1;32m     15\u001b[0m qspec \u001b[38;5;241m=\u001b[39m torch\u001b[38;5;241m.\u001b[39mfrom_numpy(qspec)\n\u001b[1;32m     16\u001b[0m out \u001b[38;5;241m=\u001b[39m torch\u001b[38;5;241m.\u001b[39mzeros(\u001b[38;5;241m3\u001b[39m, batch_size, batch_size, dtype\u001b[38;5;241m=\u001b[39mtorch\u001b[38;5;241m.\u001b[39mfloat32)\n\u001b[0;32m---> 19\u001b[0m rspec \u001b[38;5;241m=\u001b[39m \u001b[43mcuda\u001b[49m\u001b[38;5;241;43m.\u001b[39;49m\u001b[43mas_cuda_array\u001b[49m\u001b[43m(\u001b[49m\u001b[43mrspec\u001b[49m\u001b[43m)\u001b[49m\n\u001b[1;32m     20\u001b[0m qspec \u001b[38;5;241m=\u001b[39m cuda\u001b[38;5;241m.\u001b[39mas_cuda_array(qspec)\n\u001b[1;32m     21\u001b[0m lens \u001b[38;5;241m=\u001b[39m cuda\u001b[38;5;241m.\u001b[39mas_cuda_array(lens)\n",
      "File \u001b[0;32m/opt/conda/lib/python3.10/site-packages/numba/cuda/api.py:74\u001b[0m, in \u001b[0;36mas_cuda_array\u001b[0;34m(obj, sync)\u001b[0m\n\u001b[1;32m     64\u001b[0m \u001b[38;5;250m\u001b[39m\u001b[38;5;124;03m\"\"\"Create a DeviceNDArray from any object that implements\u001b[39;00m\n\u001b[1;32m     65\u001b[0m \u001b[38;5;124;03mthe :ref:`cuda array interface <cuda-array-interface>`.\u001b[39;00m\n\u001b[1;32m     66\u001b[0m \n\u001b[0;32m   (...)\u001b[0m\n\u001b[1;32m     71\u001b[0m \u001b[38;5;124;03msynchronized.\u001b[39;00m\n\u001b[1;32m     72\u001b[0m \u001b[38;5;124;03m\"\"\"\u001b[39;00m\n\u001b[1;32m     73\u001b[0m \u001b[38;5;28;01mif\u001b[39;00m \u001b[38;5;129;01mnot\u001b[39;00m is_cuda_array(obj):\n\u001b[0;32m---> 74\u001b[0m     \u001b[38;5;28;01mraise\u001b[39;00m \u001b[38;5;167;01mTypeError\u001b[39;00m(\u001b[38;5;124m\"\u001b[39m\u001b[38;5;124m*obj* doesn\u001b[39m\u001b[38;5;124m'\u001b[39m\u001b[38;5;124mt implement the cuda array interface.\u001b[39m\u001b[38;5;124m\"\u001b[39m)\n\u001b[1;32m     75\u001b[0m \u001b[38;5;28;01melse\u001b[39;00m:\n\u001b[1;32m     76\u001b[0m     \u001b[38;5;28;01mreturn\u001b[39;00m from_cuda_array_interface(obj\u001b[38;5;241m.\u001b[39m__cuda_array_interface__,\n\u001b[1;32m     77\u001b[0m                                      owner\u001b[38;5;241m=\u001b[39mobj, sync\u001b[38;5;241m=\u001b[39msync)\n",
      "\u001b[0;31mTypeError\u001b[0m: *obj* doesn't implement the cuda array interface."
     ]
    }
   ],
   "source": [
    "device = torch.device('cuda')\n",
    "! rm -rf data/output\n",
    "! mkdir -p data/output\n",
    "with torch.no_grad():\n",
    "    for batch_i in tqdm(range(len(batched_inputs))):\n",
    "        (rspec, rlen, rstart, rend), (qspec, qlen, qstart, qend) = batched_inputs[\n",
    "            batch_i\n",
    "        ]\n",
    "        \n",
    "        lens = torch.zeros(2, batch_size, dtype=torch.int32)\n",
    "        lens[0, :len(rlen)] = torch.from_numpy(rlen)\n",
    "        lens[1, :len(qlen)] = torch.from_numpy(qlen)\n",
    "        \n",
    "        rspec = torch.from_numpy(rspec)\n",
    "        qspec = torch.from_numpy(qspec)\n",
    "        out = torch.zeros(3, batch_size, batch_size, dtype=torch.float32).to(device)\n",
    "        \n",
    "        rspec = cuda.as_cuda_array(rspec)\n",
    "        qspec = cuda.as_cuda_array(qspec)\n",
    "        lens = cuda.as_cuda_array(lens)\n",
    "        out = cuda.as_cuda_array(out)\n",
    "        \n",
    "        kernel(rspec, qspec, lens, out)\n",
    "        \n",
    "        mask = out[0] >= threshold\n",
    "        \n",
    "        row, col = cp.nonzero(mask)\n",
    "        score, matches, overflow = out[:, mask]\n",
    "        rabs = rstart + row\n",
    "        qabs = qstart + col\n",
    "        cp.savez_compressed(f'data/output/{rstart}-{rend}-{qstart}-{qend}.npz', \n",
    "                            rabs=rabs, \n",
    "                            qabs=qabs, \n",
    "                            score=score, \n",
    "                            matches=matches,\n",
    "                            overflow=overflow)"
   ]
  },
  {
   "cell_type": "code",
   "execution_count": 77,
   "metadata": {},
   "outputs": [
    {
     "name": "stdout",
     "output_type": "stream",
     "text": [
      "5,1M\tdata/output\n"
     ]
    }
   ],
   "source": [
    "! du -hs data/output"
   ]
  },
  {
   "cell_type": "code",
   "execution_count": 82,
   "metadata": {},
   "outputs": [],
   "source": [
    "# Suppose we want to query these absolute query IDs, and sort their results\n",
    "\n",
    "query = np.array([1, 42, 121, 100010])\n"
   ]
  },
  {
   "cell_type": "code",
   "execution_count": 89,
   "metadata": {},
   "outputs": [
    {
     "name": "stdout",
     "output_type": "stream",
     "text": [
      "[False False False False]\n"
     ]
    }
   ],
   "source": [
    "q = cp.asarray(query)\n",
    "for file in Path('data/output').glob('*.npz'):\n",
    "    bunch = cp.load(file)\n",
    "    qabs = bunch['qabs']\n",
    "    interest = cp.isin(q, qabs)\n",
    "    if interest.any():\n",
    "        # We need to accumulate interests over all batches \n",
    "        # Concat them, sort them by `score` and return\n",
    "        # cp.where(qabs == , )\n",
    "    print(interest)\n",
    "    break"
   ]
  }
 ],
 "metadata": {
  "kernelspec": {
   "display_name": "Python 3 (ipykernel)",
   "language": "python",
   "name": "python3"
  },
  "language_info": {
   "codemirror_mode": {
    "name": "ipython",
    "version": 3
   },
   "file_extension": ".py",
   "mimetype": "text/x-python",
   "name": "python",
   "nbconvert_exporter": "python",
   "pygments_lexer": "ipython3",
   "version": "3.10.13"
  }
 },
 "nbformat": 4,
 "nbformat_minor": 4
}
