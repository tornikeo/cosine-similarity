{
 "cells": [
  {
   "cell_type": "code",
   "execution_count": 45,
   "metadata": {},
   "outputs": [
    {
     "name": "stdout",
     "output_type": "stream",
     "text": [
      "The autoreload extension is already loaded. To reload it, use:\n",
      "  %reload_ext autoreload\n"
     ]
    },
    {
     "data": {
      "text/plain": [
       "'/home/tornikeo/Documents/work/scalexa/pangeaai/optimize-cosine'"
      ]
     },
     "execution_count": 45,
     "metadata": {},
     "output_type": "execute_result"
    }
   ],
   "source": [
    "%load_ext autoreload\n",
    "%autoreload 2\n",
    "from nbutils import chdir_to_root\n",
    "chdir_to_root()\n",
    "%pwd"
   ]
  },
  {
   "cell_type": "code",
   "execution_count": 46,
   "metadata": {},
   "outputs": [],
   "source": [
    "from cudams.utils import argbatch, mkdir\n",
    "from cudams.data import get_ref_spectra_from_df\n",
    "from cudams.kernel import compile\n",
    "from cudams.utils import name2idx\n",
    "from cudams.cosine import similarity\n",
    "import math\n",
    "from pathlib import Path\n",
    "import pandas as pd\n",
    "from tqdm import tqdm\n",
    "from cudams.data import spectra_peaks_to_tensor\n",
    "from cudams.processor import Config\n",
    "from numba import cuda\n",
    "from itertools import product\n",
    "from time import perf_counter\n",
    "from multiprocessing.pool import ThreadPool\n",
    "from multiprocessing import shared_memory\n",
    "import numpy as np\n",
    "import json\n",
    "import matplotlib.pyplot as plt\n",
    "import matplotlib\n",
    "\n",
    "assert cuda.is_available()"
   ]
  },
  {
   "cell_type": "code",
   "execution_count": 47,
   "metadata": {},
   "outputs": [
    {
     "name": "stdout",
     "output_type": "stream",
     "text": [
      "{\n",
      " \"tolerance\": 0.1,\n",
      " \"shift\": 0.0,\n",
      " \"mz_power\": 0,\n",
      " \"int_power\": 1,\n",
      " \"dtype\": \"float64\",\n",
      " \"reference_csv_file\": \"data/input/test_set_cosine.csv\",\n",
      " \"query_csv_file\": \"data/input/test_set_cosine.csv\",\n",
      " \"BATCH_SIZE\": 512,\n",
      " \"MATCH_LIMIT\": 1024\n",
      "}\n"
     ]
    }
   ],
   "source": [
    "## Define constants\n",
    "tolerance: float = 0.1\n",
    "shift: float = 0\n",
    "mz_power: float = 0\n",
    "int_power: float = 1\n",
    "\n",
    "## How many pairs per batch. Has to be a power of 2.\n",
    "# Hardware specific - An RTX2070 works best at around 1024 * 2\n",
    "# But Colab T4 GPU might work best at 1024 * 4\n",
    "BATCH_SIZE = 512\n",
    "\n",
    "# MAX NUMBER OF PEAKS \n",
    "MAX_N_PEAKS = 1024\n",
    "\n",
    "\n",
    "# MATCH_LIMIT specifies max how many mz-mz pairs we could consider for each RQ pair, before we sort and filter. \n",
    "# E.g. a value of 256 usually causes around ~0.003% of RQ pairs to \"overflow\".\n",
    "# The overflown RQ scores will be strictly less than or equal to perfectly accurate score.\n",
    "# The mean absolute difference at 256, for all overflown pairs is on the order of ~1e-3\n",
    "# Small values of MATCH_LIMIT (e.g. 128, 64,) cause a dramatic speedup in the processing speed.\n",
    "MATCH_LIMIT = 1024\n",
    "\n",
    "## GPU-specific constants\n",
    "THREADS_PER_BLOCK = (32, 32)\n",
    "BLOCKS_PER_GRID_X = math.ceil(BATCH_SIZE / THREADS_PER_BLOCK[0])\n",
    "BLOCKS_PER_GRID_Y = math.ceil(BATCH_SIZE / THREADS_PER_BLOCK[1])\n",
    "BLOCKS_PER_GRID = (BLOCKS_PER_GRID_X, BLOCKS_PER_GRID_Y)\n",
    "\n",
    "# Since Greedy cosine is an unstable algorithm, because approximate mz-mz values do not\n",
    "# result in approximately the same scores and number of matches.\n",
    "# So we need to use fp64 to minimize the deviation as much as possible.\n",
    "# Using float32 causes a significant speedup in the processing speed.\n",
    "dtype = 'float64'\n",
    "\n",
    "# Data path\n",
    "reference_csv_file = Path(\"data/input/test_set_cosine.csv\")\n",
    "query_csv_file = Path(\"data/input/test_set_cosine.csv\")\n",
    "\n",
    "# For keeping track of experiments\n",
    "\n",
    "CONFIG = Config(\n",
    "    tolerance = tolerance,\n",
    "    shift = shift,\n",
    "    mz_power = mz_power,\n",
    "    int_power = int_power,\n",
    "    dtype = dtype,\n",
    "    reference_csv_file = reference_csv_file,\n",
    "    query_csv_file = query_csv_file,\n",
    "    BATCH_SIZE = BATCH_SIZE,\n",
    "    MATCH_LIMIT = MATCH_LIMIT,\n",
    ")\n",
    "\n",
    "CONFIG_DEFAULT = CONFIG.model_copy()\n",
    "\n",
    "config_str = CONFIG.model_dump_json(indent=1)\n",
    "experiment_hash = abs(hash(config_str))\n",
    "output_dir = mkdir(Path(f'data/experiments/{experiment_hash}'))\n",
    "(output_dir / 'config.json').write_text(config_str)\n",
    "print(config_str)"
   ]
  },
  {
   "cell_type": "code",
   "execution_count": 48,
   "metadata": {},
   "outputs": [
    {
     "name": "stderr",
     "output_type": "stream",
     "text": []
    },
    {
     "name": "stderr",
     "output_type": "stream",
     "text": [
      "100%|██████████| 512/512 [00:00<00:00, 1254.97it/s]\n",
      "100%|██████████| 512/512 [00:00<00:00, 1200.24it/s]\n",
      "100%|██████████| 512/512 [00:00<00:00, 1121.17it/s]\n",
      "100%|██████████| 512/512 [00:00<00:00, 1198.13it/s]\n",
      "100%|██████████| 512/512 [00:00<00:00, 1184.38it/s]\n",
      "100%|██████████| 512/512 [00:00<00:00, 1226.10it/s]\n",
      "100%|██████████| 512/512 [00:00<00:00, 1635.75it/s]\n",
      "100%|██████████| 512/512 [00:00<00:00, 1532.34it/s]\n",
      " 34%|███▍      | 176/512 [00:00<00:00, 1747.10it/s]"
     ]
    },
    {
     "name": "stdout",
     "output_type": "stream",
     "text": [
      "We have 512 references and 512 queries\n",
      "We have 512 references and 512 queries\n",
      "We have 512 references and 512 queries\n",
      "We have 512 references and 512 queries\n"
     ]
    },
    {
     "name": "stderr",
     "output_type": "stream",
     "text": [
      "100%|██████████| 512/512 [00:00<00:00, 1386.08it/s]\n",
      "100%|██████████| 512/512 [00:00<00:00, 1549.42it/s]\n",
      "100%|██████████| 512/512 [00:00<00:00, 1437.67it/s]\n"
     ]
    },
    {
     "name": "stdout",
     "output_type": "stream",
     "text": [
      "We have 512 references and 512 queries\n",
      "We have 512 references and 512 queries\n"
     ]
    },
    {
     "name": "stderr",
     "output_type": "stream",
     "text": [
      "100%|██████████| 512/512 [00:00<00:00, 1382.50it/s]\n",
      "100%|██████████| 1/1 [00:05<00:00,  5.65s/it]\n",
      "Batch all references: 1it [00:00, 67.93it/s]\n",
      "Batch all queries: 1it [00:00, 79.80it/s]\n",
      "100%|██████████| 1/1 [00:05<00:00,  5.73s/it]\n",
      "Batch all references: 1it [00:00, 61.75it/s]\n",
      "Batch all queries: 1it [00:00, 78.80it/s]\n",
      "100%|██████████| 1/1 [00:05<00:00,  5.83s/it]\n",
      "Batch all references: 1it [00:00, 67.08it/s]\n",
      "Batch all queries: 1it [00:00, 64.66it/s]\n",
      "100%|██████████| 1/1 [00:05<00:00,  5.86s/it]\n",
      "Batch all references: 1it [00:00, 60.99it/s]\n",
      "Batch all queries: 1it [00:00, 63.77it/s]\n",
      "100%|██████████| 1/1 [00:03<00:00,  3.87s/it]\n",
      "Batch all references: 1it [00:00, 98.86it/s]\n",
      "Batch all queries: 1it [00:00, 101.79it/s]\n",
      "100%|██████████| 1/1 [00:02<00:00,  2.40s/it]\n",
      "100%|██████████| 1/1 [00:02<00:00,  2.78s/it]\n",
      "100%|██████████| 1/1 [00:01<00:00,  1.44s/it]\n",
      "100%|██████████| 512/512 [00:00<00:00, 1642.00it/s]\n",
      "100%|██████████| 1/1 [00:02<00:00,  2.82s/it]\n",
      "100%|██████████| 1/1 [00:02<00:00,  2.78s/it]7it/s]\n",
      "100%|██████████| 512/512 [00:00<00:00, 1509.01it/s]\n",
      "100%|██████████| 512/512 [00:00<00:00, 1438.93it/s]\n",
      "100%|██████████| 512/512 [00:00<00:00, 1739.98it/s]\n"
     ]
    },
    {
     "name": "stdout",
     "output_type": "stream",
     "text": [
      "We have 512 references and 512 queries\n"
     ]
    },
    {
     "name": "stderr",
     "output_type": "stream",
     "text": [
      "100%|██████████| 512/512 [00:00<00:00, 1611.80it/s]\n",
      "100%|██████████| 512/512 [00:00<00:00, 1580.61it/s]\n",
      "100%|██████████| 512/512 [00:00<00:00, 1574.08it/s]\n",
      "100%|██████████| 512/512 [00:00<00:00, 1587.58it/s]\n"
     ]
    },
    {
     "name": "stdout",
     "output_type": "stream",
     "text": [
      "We have 512 references and 512 queries\n",
      "We have 512 references and 512 queries\n"
     ]
    },
    {
     "name": "stderr",
     "output_type": "stream",
     "text": [
      "100%|██████████| 1/1 [00:05<00:00,  5.69s/it]9it/s]\n",
      "Batch all references: 1it [00:00, 61.30it/s]79it/s]\n",
      "Batch all queries: 1it [00:00, 66.27it/s]\n",
      "100%|██████████| 512/512 [00:00<00:00, 1631.61it/s]\n",
      "100%|██████████| 512/512 [00:00<00:00, 1638.18it/s]\n"
     ]
    },
    {
     "name": "stdout",
     "output_type": "stream",
     "text": [
      "We have 512 references and 512 queries\n",
      "We have 512 references and 512 queries\n"
     ]
    },
    {
     "name": "stderr",
     "output_type": "stream",
     "text": [
      "100%|██████████| 1/1 [00:01<00:00,  1.45s/it]\n",
      "100%|██████████| 512/512 [00:00<00:00, 1197.47it/s]\n",
      "100%|██████████| 512/512 [00:00<00:00, 1237.91it/s]\n"
     ]
    },
    {
     "name": "stdout",
     "output_type": "stream",
     "text": [
      "We have 512 references and 512 queries\n"
     ]
    },
    {
     "name": "stderr",
     "output_type": "stream",
     "text": [
      "100%|██████████| 1/1 [00:03<00:00,  3.18s/it]\n",
      "Batch all references: 1it [00:00, 63.20it/s]\n",
      "Batch all queries: 1it [00:00, 62.21it/s]\n",
      "100%|██████████| 1/1 [00:03<00:00,  3.26s/it]\n",
      "100%|██████████| 1/1 [00:03<00:00,  3.31s/it]\n",
      "Batch all references: 1it [00:00, 58.50it/s]\n",
      "Batch all references: 1it [00:00, 54.54it/s]\n",
      "Batch all queries: 1it [00:00, 56.77it/s]\n",
      "100%|██████████| 1/1 [00:01<00:00,  1.42s/it]\n",
      "Batch all queries: 1it [00:00, 43.49it/s]\n",
      "100%|██████████| 18/18 [00:42<00:00,  2.35s/it]\n",
      "100%|██████████| 1/1 [00:03<00:00,  3.38s/it]\n",
      "Batch all references: 1it [00:00, 56.55it/s]\n",
      "Batch all queries: 1it [00:00, 55.67it/s]\n",
      "100%|██████████| 1/1 [00:03<00:00,  3.35s/it]\n",
      "Batch all references: 1it [00:00, 48.01it/s]\n",
      "Batch all queries: 1it [00:00, 59.40it/s]\n",
      "100%|██████████| 512/512 [00:00<00:00, 1439.71it/s]\n",
      "100%|██████████| 512/512 [00:00<00:00, 1550.40it/s]\n"
     ]
    },
    {
     "name": "stdout",
     "output_type": "stream",
     "text": [
      "We have 512 references and 512 queries\n"
     ]
    },
    {
     "name": "stderr",
     "output_type": "stream",
     "text": [
      "100%|██████████| 1/1 [00:03<00:00,  3.38s/it]\n",
      "Batch all references: 1it [00:00, 55.00it/s]\n",
      "Batch all queries: 1it [00:00, 52.77it/s]\n",
      "100%|██████████| 1/1 [00:03<00:00,  3.31s/it]\n",
      "100%|██████████| 1/1 [00:03<00:00,  3.30s/it]\n",
      "100%|██████████| 1/1 [00:03<00:00,  3.34s/it]\n",
      "100%|██████████| 1/1 [00:03<00:00,  3.02s/it]\n",
      "100%|██████████| 512/512 [00:00<00:00, 1379.69it/s]\n",
      "100%|██████████| 512/512 [00:00<00:00, 1359.87it/s]\n",
      "100%|██████████| 512/512 [00:00<00:00, 1361.07it/s]\n",
      "100%|██████████| 512/512 [00:00<00:00, 1473.19it/s]\n",
      "100%|██████████| 1/1 [00:01<00:00,  1.26s/it]\n",
      "100%|██████████| 512/512 [00:00<00:00, 1505.63it/s]\n"
     ]
    },
    {
     "name": "stdout",
     "output_type": "stream",
     "text": [
      "We have 512 references and 512 queries\n",
      "We have 512 references and 512 queries\n",
      "We have 512 references and 512 queries\n"
     ]
    },
    {
     "name": "stderr",
     "output_type": "stream",
     "text": [
      "100%|██████████| 512/512 [00:00<00:00, 1557.85it/s]\n",
      "100%|██████████| 512/512 [00:00<00:00, 1590.64it/s]\n",
      "100%|██████████| 512/512 [00:00<00:00, 1588.61it/s]\n"
     ]
    },
    {
     "name": "stdout",
     "output_type": "stream",
     "text": [
      "We have 512 references and 512 queries\n"
     ]
    },
    {
     "name": "stderr",
     "output_type": "stream",
     "text": [
      "100%|██████████| 512/512 [00:00<00:00, 1632.69it/s]\n",
      "100%|██████████| 512/512 [00:00<00:00, 1365.72it/s]\n"
     ]
    },
    {
     "name": "stdout",
     "output_type": "stream",
     "text": [
      "We have 512 references and 512 queries\n"
     ]
    },
    {
     "name": "stderr",
     "output_type": "stream",
     "text": [
      "100%|██████████| 1/1 [00:03<00:00,  3.54s/it]\n",
      "Batch all references: 1it [00:00, 53.29it/s]\n",
      "Batch all queries: 1it [00:00, 57.45it/s]\n",
      "100%|██████████| 1/1 [00:01<00:00,  1.67s/it]\n",
      "100%|██████████| 1/1 [00:03<00:00,  3.65s/it]\n",
      "Batch all references: 1it [00:00, 53.64it/s]\n",
      "Batch all queries: 1it [00:00, 55.46it/s]\n",
      "100%|██████████| 1/1 [00:03<00:00,  3.72s/it]\n",
      "Batch all references: 1it [00:00, 45.07it/s]\n",
      "Batch all queries: 1it [00:00, 44.21it/s]\n",
      "100%|██████████| 1/1 [00:03<00:00,  3.75s/it]\n",
      "Batch all references: 1it [00:00, 52.86it/s]\n",
      "Batch all queries: 1it [00:00, 55.37it/s]\n",
      "100%|██████████| 1/1 [00:03<00:00,  3.68s/it]\n",
      "Batch all references: 1it [00:00, 52.15it/s]\n",
      "Batch all queries: 1it [00:00, 59.73it/s]\n",
      "100%|██████████| 1/1 [00:03<00:00,  3.58s/it]\n",
      "Batch all references: 1it [00:00, 54.73it/s]\n",
      "Batch all queries: 1it [00:00, 56.04it/s]\n",
      "100%|██████████| 1/1 [00:02<00:00,  2.92s/it]\n",
      "100%|██████████| 1/1 [00:03<00:00,  3.70s/it]\n",
      "100%|██████████| 1/1 [00:03<00:00,  3.79s/it]\n",
      "100%|██████████| 1/1 [00:03<00:00,  3.73s/it]\n",
      "100%|██████████| 1/1 [00:03<00:00,  3.02s/it]\n"
     ]
    }
   ],
   "source": [
    "from cudams.processor import CudaCosineGreedy, CpuCosineGreedy\n",
    "from collections import defaultdict\n",
    "from matchms import calculate_scores\n",
    "from matchms.similarity import CosineGreedy\n",
    "from tqdm import tqdm\n",
    "from matchms.filtering import normalize_intensities, select_by_mz, select_by_relative_intensity, reduce_to_number_of_peaks, \\\n",
    "    require_minimum_number_of_peaks\n",
    "from cudams.utils import mute_stdout\n",
    "\n",
    "acum = []\n",
    "def it(MAX_N_PEAKS):\n",
    "    # MATCH_LIMIT = int(MAX_N_PEAKS) # To avoid overflows\n",
    "\n",
    "    def process_spectrum(spectrum: np.ndarray) -> np.ndarray:\n",
    "        # spectrum = select_by_mz(spectrum, mz_from=10.0, mz_to=1000.0)\n",
    "        # spectrum = normalize_intensities(spectrum)\n",
    "        # spectrum = select_by_relative_intensity(spectrum, intensity_from=0.001)\n",
    "        # spectrum = reduce_to_number_of_peaks(spectrum, n_max=1000)\n",
    "        spectrum = reduce_to_number_of_peaks(spectrum, n_max=MAX_N_PEAKS)\n",
    "        # spectrum = require_minimum_number_of_peaks(spectrum, n_required=5)\n",
    "        return spectrum\n",
    "\n",
    "    ref_spectra_df_path = Path(reference_csv_file)\n",
    "    ref_spectra_df = pd.read_csv(ref_spectra_df_path)\n",
    "    references = get_ref_spectra_from_df(ref_spectra_df, \n",
    "                                        spectrum_processor=process_spectrum,\n",
    "                                        limit=BATCH_SIZE,)\n",
    "\n",
    "    query_spectra_df_path = Path(query_csv_file)\n",
    "    query_spectra_df = pd.read_csv(query_spectra_df_path)\n",
    "    queries = get_ref_spectra_from_df(query_spectra_df, \n",
    "                                    spectrum_processor=process_spectrum,\n",
    "                                    limit=BATCH_SIZE,)\n",
    "\n",
    "    print(f\"We have {len(references)} references and {len(queries)} queries\")\n",
    "\n",
    "    similarity_measure = CosineGreedy(tolerance= 0.1, \n",
    "                                    mz_power= 0.0, \n",
    "                                    intensity_power = 1.0)\n",
    "    C_orig = calculate_scores(references, queries, similarity_measure, is_symmetric=True)\n",
    "    Cy = C_orig.to_array()\n",
    "    Cy, Cm = Cy['CosineGreedy_score'], Cy['CosineGreedy_matches']\n",
    "    Cy = np.stack([Cy,Cm],axis=-1)\n",
    "\n",
    "    refs = list([r.peaks.to_numpy for r in references])\n",
    "    ques = list([q.peaks.to_numpy for q in queries])\n",
    "\n",
    "    rlims = argbatch(refs, BATCH_SIZE)\n",
    "    qlims = argbatch(ques, BATCH_SIZE)\n",
    "    R = len(references)\n",
    "    Q = len(queries)\n",
    "\n",
    "    batches_rq = list(product(rlims, qlims))\n",
    "\n",
    "    for (rstart, rend), (qstart, qend) in tqdm(batches_rq, total=len(batches_rq)):\n",
    "        rspec = refs[rstart:rend]\n",
    "        qspec = ques[qstart:qend]\n",
    "        out_true = np.full((BATCH_SIZE, BATCH_SIZE, 2), fill_value=0, dtype='float32')\n",
    "        for (i, spec1), (j, spec2) in product(enumerate(rspec), enumerate(qspec)):\n",
    "                score = similarity(\n",
    "                    spec1,\n",
    "                    spec2,\n",
    "                    tolerance=tolerance,\n",
    "                    shift=shift,\n",
    "                    mz_power=mz_power,\n",
    "                    int_power=int_power,\n",
    "                )\n",
    "                if score is not None:\n",
    "                    out_true[i,j,0] = score[0]\n",
    "                    out_true[i,j,1] = score[1]\n",
    "        \n",
    "    C = np.empty((BATCH_SIZE,BATCH_SIZE,2), dtype='float32')\n",
    "    C[:] = out_true[:]\n",
    "    \n",
    "    cosine = CudaCosineGreedy(\n",
    "                tolerance=.1,\n",
    "                mz_power=0,\n",
    "                intensity_power=1, \n",
    "                shift=0,\n",
    "                batch_size=BATCH_SIZE,\n",
    "                match_limit=MATCH_LIMIT,\n",
    "            )\n",
    "    cosine.compile()\n",
    "    G, Ov = cosine.matrix(\n",
    "        references=references, \n",
    "        queries=queries, \n",
    "        array_type=\"numpy\"\n",
    "    )\n",
    "    R,Q,_ = Cy.shape\n",
    "    return MAX_N_PEAKS,C[:R,:Q],G[:R,:Q],Cy[:R,:Q],Ov[:R,:Q]\n",
    "\n",
    "from joblib import Parallel, delayed\n",
    "\n",
    "acum = Parallel(n_jobs=6)(\n",
    "    delayed(\n",
    "       it \n",
    "    )(MAX_N_PEAKS)\n",
    "    \n",
    "    for MAX_N_PEAKS in tqdm(np.linspace(128, 8192 // 2, 18, dtype='int32'))\n",
    ")"
   ]
  },
  {
   "cell_type": "code",
   "execution_count": 49,
   "metadata": {},
   "outputs": [],
   "source": [
    "x = []\n",
    "y = []\n",
    "R, Q = BATCH_SIZE, BATCH_SIZE\n",
    "for MAX_N_PEAKS, C,G,Cy,Ov in acum:\n",
    "    y_row = []\n",
    "    # print(MAX_N_PEAKS)\n",
    "    \n",
    "    C_match = np.isclose(C[:R,:Q], G[:R,:Q])\n",
    "    corr = C_match.mean()\n",
    "    # print(\"Overflows\", Ov[:R,:Q].mean())\n",
    "    # print(\"CPU opt vs GPU:\", corr)\n",
    "    y_row.append(corr)\n",
    "\n",
    "    C_match = np.isclose(Cy[:R,:Q], G[:R,:Q])\n",
    "    corr = C_match.mean()\n",
    "    # print(\"CPU orig vs GPU\", corr)\n",
    "    y_row.append(corr)\n",
    "\n",
    "    C_match = np.isclose(Cy[:R,:Q], C[:R,:Q])\n",
    "    corr = C_match.mean()\n",
    "    # print(\"CPU orig vs CPU opt\", corr)\n",
    "    y_row.append(corr)\n",
    "    \n",
    "    y_row.append(1-Ov.mean())\n",
    "    \n",
    "    y.append(y_row)\n",
    "    x.append(MAX_N_PEAKS)"
   ]
  },
  {
   "cell_type": "code",
   "execution_count": 51,
   "metadata": {},
   "outputs": [
    {
     "data": {
      "text/plain": [
       "Text(0.5, 0, 'reduce_to_number_of_peaks(n_max)')"
      ]
     },
     "execution_count": 51,
     "metadata": {},
     "output_type": "execute_result"
    },
    {
     "data": {
      "image/png": "[encoded data removed]",
      "text/plain": [
       "<Figure size 640x480 with 1 Axes>"
      ]
     },
     "metadata": {},
     "output_type": "display_data"
    }
   ],
   "source": [
    "plt.plot(x,y)\n",
    "plt.title(\"accuracy vs. number of peaks (MATCH_LIMIT=1024)\")\n",
    "plt.legend(['isclose(matchms, gpu).mean()',\n",
    "            'isclose(matchms, matchms_opt).mean()',\n",
    "            'isclose(matchms_opt, gpu).mean()',\n",
    "            \"1 - overflows.mean()\"])\n",
    "plt.ylabel(\"Accuracy\")\n",
    "plt.xlabel(\"reduce_to_number_of_peaks(n_max)\")"
   ]
  }
 ],
 "metadata": {
  "kernelspec": {
   "display_name": "pb2",
   "language": "python",
   "name": "python3"
  },
  "language_info": {
   "codemirror_mode": {
    "name": "ipython",
    "version": 3
   },
   "file_extension": ".py",
   "mimetype": "text/x-python",
   "name": "python",
   "nbconvert_exporter": "python",
   "pygments_lexer": "ipython3",
   "version": "3.10.11"
  }
 },
 "nbformat": 4,
 "nbformat_minor": 2
}
