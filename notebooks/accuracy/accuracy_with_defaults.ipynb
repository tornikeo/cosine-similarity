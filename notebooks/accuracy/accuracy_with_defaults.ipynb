{
 "cells": [
  {
   "cell_type": "code",
   "execution_count": 1,
   "metadata": {},
   "outputs": [
    {
     "data": {
      "text/plain": [
       "'/home/tornikeo/Documents/work/scalexa/pangeaai/optimize-cosine'"
      ]
     },
     "execution_count": 1,
     "metadata": {},
     "output_type": "execute_result"
    }
   ],
   "source": [
    "%load_ext autoreload\n",
    "%autoreload 2\n",
    "from nbutils import chdir_to_root\n",
    "chdir_to_root()\n",
    "%pwd"
   ]
  },
  {
   "cell_type": "code",
   "execution_count": 2,
   "metadata": {},
   "outputs": [],
   "source": [
    "from cudams.utils import argbatch, mkdir\n",
    "from cudams.data import get_ref_spectra_from_df\n",
    "from cudams.kernel import compile\n",
    "from cudams.utils import name2idx\n",
    "from cudams.cosine import similarity\n",
    "import math\n",
    "from pathlib import Path\n",
    "import pandas as pd\n",
    "from tqdm import tqdm\n",
    "from cudams.data import spectra_peaks_to_tensor\n",
    "from cudams.processor import Config\n",
    "from numba import cuda\n",
    "from itertools import product\n",
    "from time import perf_counter\n",
    "from multiprocessing.pool import ThreadPool\n",
    "from multiprocessing import shared_memory\n",
    "import numpy as np\n",
    "import json\n",
    "import matplotlib.pyplot as plt\n",
    "import matplotlib\n",
    "\n",
    "assert cuda.is_available()"
   ]
  },
  {
   "cell_type": "code",
   "execution_count": 3,
   "metadata": {},
   "outputs": [],
   "source": [
    "## Define constants\n",
    "tolerance: float = 0.1\n",
    "shift: float = 0\n",
    "mz_power: float = 0\n",
    "int_power: float = 1\n",
    "\n",
    "## How many pairs per batch. Has to be a power of 2.\n",
    "# Hardware specific - An RTX2070 works best at around 1024 * 2\n",
    "# But Colab T4 GPU might work best at 1024 * 4\n",
    "BATCH_SIZE = 512\n",
    "\n",
    "# MAX NUMBER OF PEAKS \n",
    "MAX_PEAKS = 1024\n",
    "\n",
    "# MATCH_LIMIT specifies max how many mz-mz pairs we could consider for each RQ pair, before we sort and filter. \n",
    "# E.g. a value of 256 usually causes around ~0.003% of RQ pairs to \"overflow\".\n",
    "# The overflown RQ scores will be strictly less than or equal to perfectly accurate score.\n",
    "# The mean absolute difference at 256, for all overflown pairs is on the order of ~1e-3\n",
    "# Small values of MATCH_LIMIT (e.g. 128, 64,) cause a dramatic speedup in the processing speed.\n",
    "MATCH_LIMIT = 1024 * 2\n",
    "\n",
    "## GPU-specific constants\n",
    "THREADS_PER_BLOCK = (32, 32)\n",
    "BLOCKS_PER_GRID_X = math.ceil(BATCH_SIZE / THREADS_PER_BLOCK[0])\n",
    "BLOCKS_PER_GRID_Y = math.ceil(BATCH_SIZE / THREADS_PER_BLOCK[1])\n",
    "BLOCKS_PER_GRID = (BLOCKS_PER_GRID_X, BLOCKS_PER_GRID_Y)\n",
    "\n",
    "# Since Greedy cosine is an unstable algorithm, because approximate mz-mz values do not\n",
    "# result in approximately the same scores and number of matches.\n",
    "# So we need to use fp64 to minimize the deviation as much as possible.\n",
    "# Using float32 causes a significant speedup in the processing speed.\n",
    "dtype = 'float32'\n",
    "\n",
    "# Data path\n",
    "reference_csv_file = Path(\"data/input/test_set_cosine.csv\")\n",
    "query_csv_file = Path(\"data/input/test_set_cosine.csv\")"
   ]
  },
  {
   "cell_type": "code",
   "execution_count": 5,
   "metadata": {},
   "outputs": [
    {
     "name": "stderr",
     "output_type": "stream",
     "text": [
      "100%|██████████| 5120/5120 [00:00<00:00, 6140.69it/s]\n",
      "100%|██████████| 5120/5120 [00:01<00:00, 4973.08it/s]\n"
     ]
    }
   ],
   "source": [
    "from cudams.processor import CudaCosineGreedy, CpuCosineGreedy\n",
    "from collections import defaultdict\n",
    "from matchms import calculate_scores\n",
    "from matchms.similarity import CosineGreedy\n",
    "from tqdm import tqdm\n",
    "from matchms.filtering import normalize_intensities, select_by_mz, select_by_relative_intensity, reduce_to_number_of_peaks, \\\n",
    "    require_minimum_number_of_peaks\n",
    "from cudams.utils import mute_stdout\n",
    "\n",
    "def process_spectrum(spectrum: np.ndarray) -> np.ndarray:\n",
    "    # spectrum = select_by_mz(spectrum, mz_from=10.0, mz_to=1000.0)\n",
    "    # spectrum = normalize_intensities(spectrum)\n",
    "    # spectrum = select_by_relative_intensity(spectrum, intensity_from=0.001)\n",
    "    # spectrum = reduce_to_number_of_peaks(spectrum, n_max=1000)\n",
    "    spectrum = reduce_to_number_of_peaks(spectrum, n_max=MAX_PEAKS)\n",
    "    # spectrum = require_minimum_number_of_peaks(spectrum, n_required=5)\n",
    "    return spectrum\n",
    "\n",
    "ref_spectra_df_path = Path(reference_csv_file)\n",
    "ref_spectra_df = pd.read_csv(ref_spectra_df_path)\n",
    "references = get_ref_spectra_from_df(ref_spectra_df, \n",
    "                                    spectrum_processor=process_spectrum,\n",
    "                                    limit=BATCH_SIZE * 10,)\n",
    "\n",
    "query_spectra_df_path = Path(query_csv_file)\n",
    "query_spectra_df = pd.read_csv(query_spectra_df_path)\n",
    "queries = get_ref_spectra_from_df(query_spectra_df, \n",
    "                                spectrum_processor=process_spectrum,\n",
    "                                limit=BATCH_SIZE * 10,)"
   ]
  },
  {
   "cell_type": "code",
   "execution_count": 6,
   "metadata": {},
   "outputs": [
    {
     "ename": "KeyboardInterrupt",
     "evalue": "",
     "output_type": "error",
     "traceback": [
      "\u001b[0;31m---------------------------------------------------------------------------\u001b[0m",
      "\u001b[0;31mKeyboardInterrupt\u001b[0m                         Traceback (most recent call last)",
      "Cell \u001b[0;32mIn[6], line 50\u001b[0m\n\u001b[1;32m     45\u001b[0m         \u001b[38;5;28;01mreturn\u001b[39;00m np\u001b[38;5;241m.\u001b[39masarray(score, dtype\u001b[38;5;241m=\u001b[39m\u001b[38;5;28mself\u001b[39m\u001b[38;5;241m.\u001b[39mscore_datatype)\n\u001b[1;32m     47\u001b[0m similarity_measure \u001b[38;5;241m=\u001b[39m CosineGreedy(tolerance\u001b[38;5;241m=\u001b[39mtolerance, \n\u001b[1;32m     48\u001b[0m                                 mz_power\u001b[38;5;241m=\u001b[39m \u001b[38;5;241m0.0\u001b[39m, \n\u001b[1;32m     49\u001b[0m                                 intensity_power \u001b[38;5;241m=\u001b[39m \u001b[38;5;241m1.0\u001b[39m)\n\u001b[0;32m---> 50\u001b[0m C_orig \u001b[38;5;241m=\u001b[39m \u001b[43mcalculate_scores\u001b[49m\u001b[43m(\u001b[49m\u001b[43mreferences\u001b[49m\u001b[43m,\u001b[49m\u001b[43m \u001b[49m\u001b[43mqueries\u001b[49m\u001b[43m,\u001b[49m\u001b[43m \u001b[49m\u001b[43msimilarity_measure\u001b[49m\u001b[43m,\u001b[49m\u001b[43m \u001b[49m\u001b[43mis_symmetric\u001b[49m\u001b[38;5;241;43m=\u001b[39;49m\u001b[38;5;28;43;01mFalse\u001b[39;49;00m\u001b[43m)\u001b[49m\n\u001b[1;32m     51\u001b[0m Cy \u001b[38;5;241m=\u001b[39m C_orig\u001b[38;5;241m.\u001b[39mto_array()\n\u001b[1;32m     53\u001b[0m Cy, Cm \u001b[38;5;241m=\u001b[39m Cy[\u001b[38;5;124m'\u001b[39m\u001b[38;5;124mCosineGreedy_score\u001b[39m\u001b[38;5;124m'\u001b[39m], Cy[\u001b[38;5;124m'\u001b[39m\u001b[38;5;124mCosineGreedy_matches\u001b[39m\u001b[38;5;124m'\u001b[39m]\n",
      "File \u001b[0;32m~/miniconda3/envs/pb2/lib/python3.10/site-packages/matchms/calculate_scores.py:63\u001b[0m, in \u001b[0;36mcalculate_scores\u001b[0;34m(references, queries, similarity_function, array_type, is_symmetric)\u001b[0m\n\u001b[1;32m      6\u001b[0m \u001b[38;5;28;01mdef\u001b[39;00m \u001b[38;5;21mcalculate_scores\u001b[39m(references: ReferencesType, queries: QueriesType,\n\u001b[1;32m      7\u001b[0m                      similarity_function: BaseSimilarity,\n\u001b[1;32m      8\u001b[0m                      array_type: \u001b[38;5;28mstr\u001b[39m \u001b[38;5;241m=\u001b[39m \u001b[38;5;124m\"\u001b[39m\u001b[38;5;124mnumpy\u001b[39m\u001b[38;5;124m\"\u001b[39m,\n\u001b[1;32m      9\u001b[0m                      is_symmetric: \u001b[38;5;28mbool\u001b[39m \u001b[38;5;241m=\u001b[39m \u001b[38;5;28;01mFalse\u001b[39;00m) \u001b[38;5;241m-\u001b[39m\u001b[38;5;241m>\u001b[39m Scores:\n\u001b[1;32m     10\u001b[0m     \u001b[38;5;124;03m\"\"\"Calculate the similarity between all reference objects versus all query objects.\u001b[39;00m\n\u001b[1;32m     11\u001b[0m \n\u001b[1;32m     12\u001b[0m \u001b[38;5;124;03m    Example to calculate scores between 2 spectrums and iterate over the scores\u001b[39;00m\n\u001b[0;32m   (...)\u001b[0m\n\u001b[1;32m     61\u001b[0m \u001b[38;5;124;03m    ~matchms.Scores.Scores\u001b[39;00m\n\u001b[1;32m     62\u001b[0m \u001b[38;5;124;03m    \"\"\"\u001b[39;00m\n\u001b[0;32m---> 63\u001b[0m     \u001b[38;5;28;01mreturn\u001b[39;00m \u001b[43mScores\u001b[49m\u001b[43m(\u001b[49m\u001b[43mreferences\u001b[49m\u001b[38;5;241;43m=\u001b[39;49m\u001b[43mreferences\u001b[49m\u001b[43m,\u001b[49m\u001b[43m \u001b[49m\u001b[43mqueries\u001b[49m\u001b[38;5;241;43m=\u001b[39;49m\u001b[43mqueries\u001b[49m\u001b[43m,\u001b[49m\n\u001b[1;32m     64\u001b[0m \u001b[43m                  \u001b[49m\u001b[43mis_symmetric\u001b[49m\u001b[38;5;241;43m=\u001b[39;49m\u001b[43mis_symmetric\u001b[49m\u001b[43m)\u001b[49m\u001b[38;5;241;43m.\u001b[39;49m\u001b[43mcalculate\u001b[49m\u001b[43m(\u001b[49m\u001b[43msimilarity_function\u001b[49m\u001b[43m,\u001b[49m\u001b[43m \u001b[49m\u001b[43marray_type\u001b[49m\u001b[38;5;241;43m=\u001b[39;49m\u001b[43marray_type\u001b[49m\u001b[43m)\u001b[49m\n",
      "File \u001b[0;32m~/miniconda3/envs/pb2/lib/python3.10/site-packages/matchms/Scores.py:176\u001b[0m, in \u001b[0;36mScores.calculate\u001b[0;34m(self, similarity_function, name, array_type, join_type)\u001b[0m\n\u001b[1;32m    171\u001b[0m     \u001b[38;5;28mself\u001b[39m\u001b[38;5;241m.\u001b[39m_scores\u001b[38;5;241m.\u001b[39madd_sparse_data(\u001b[38;5;28mself\u001b[39m\u001b[38;5;241m.\u001b[39m_scores\u001b[38;5;241m.\u001b[39mrow,\n\u001b[1;32m    172\u001b[0m                                  \u001b[38;5;28mself\u001b[39m\u001b[38;5;241m.\u001b[39m_scores\u001b[38;5;241m.\u001b[39mcol,\n\u001b[1;32m    173\u001b[0m                                  new_scores,\n\u001b[1;32m    174\u001b[0m                                  name)\n\u001b[1;32m    175\u001b[0m \u001b[38;5;28;01melse\u001b[39;00m:\n\u001b[0;32m--> 176\u001b[0m     new_scores \u001b[38;5;241m=\u001b[39m \u001b[43msimilarity_function\u001b[49m\u001b[38;5;241;43m.\u001b[39;49m\u001b[43mmatrix\u001b[49m\u001b[43m(\u001b[49m\u001b[38;5;28;43mself\u001b[39;49m\u001b[38;5;241;43m.\u001b[39;49m\u001b[43mreferences\u001b[49m\u001b[43m,\u001b[49m\n\u001b[1;32m    177\u001b[0m \u001b[43m                                            \u001b[49m\u001b[38;5;28;43mself\u001b[39;49m\u001b[38;5;241;43m.\u001b[39;49m\u001b[43mqueries\u001b[49m\u001b[43m,\u001b[49m\n\u001b[1;32m    178\u001b[0m \u001b[43m                                            \u001b[49m\u001b[43marray_type\u001b[49m\u001b[38;5;241;43m=\u001b[39;49m\u001b[43marray_type\u001b[49m\u001b[43m,\u001b[49m\n\u001b[1;32m    179\u001b[0m \u001b[43m                                            \u001b[49m\u001b[43mis_symmetric\u001b[49m\u001b[38;5;241;43m=\u001b[39;49m\u001b[38;5;28;43mself\u001b[39;49m\u001b[38;5;241;43m.\u001b[39;49m\u001b[43mis_symmetric\u001b[49m\u001b[43m)\u001b[49m\n\u001b[1;32m    180\u001b[0m     \u001b[38;5;28;01mif\u001b[39;00m \u001b[38;5;28misinstance\u001b[39m(new_scores, np\u001b[38;5;241m.\u001b[39mndarray):\n\u001b[1;32m    181\u001b[0m         \u001b[38;5;28mself\u001b[39m\u001b[38;5;241m.\u001b[39m_scores\u001b[38;5;241m.\u001b[39madd_dense_matrix(new_scores, name, join_type\u001b[38;5;241m=\u001b[39mjoin_type)\n",
      "File \u001b[0;32m~/miniconda3/envs/pb2/lib/python3.10/site-packages/matchms/similarity/BaseSimilarity.py:78\u001b[0m, in \u001b[0;36mBaseSimilarity.matrix\u001b[0;34m(self, references, queries, array_type, is_symmetric)\u001b[0m\n\u001b[1;32m     76\u001b[0m \u001b[38;5;28;01melse\u001b[39;00m:\n\u001b[1;32m     77\u001b[0m     \u001b[38;5;28;01mfor\u001b[39;00m i_query, query \u001b[38;5;129;01min\u001b[39;00m \u001b[38;5;28menumerate\u001b[39m(queries[:n_cols]):\n\u001b[0;32m---> 78\u001b[0m         score \u001b[38;5;241m=\u001b[39m \u001b[38;5;28;43mself\u001b[39;49m\u001b[38;5;241;43m.\u001b[39;49m\u001b[43mpair\u001b[49m\u001b[43m(\u001b[49m\u001b[43mreference\u001b[49m\u001b[43m,\u001b[49m\u001b[43m \u001b[49m\u001b[43mquery\u001b[49m\u001b[43m)\u001b[49m\n\u001b[1;32m     79\u001b[0m         \u001b[38;5;28;01mif\u001b[39;00m \u001b[38;5;28mself\u001b[39m\u001b[38;5;241m.\u001b[39mkeep_score(score):\n\u001b[1;32m     80\u001b[0m             idx_row\u001b[38;5;241m.\u001b[39mappend(i_ref)\n",
      "Cell \u001b[0;32mIn[6], line 39\u001b[0m, in \u001b[0;36mCosineGreedy.pair\u001b[0;34m(self, reference, query)\u001b[0m\n\u001b[1;32m     36\u001b[0m     \u001b[38;5;28;01mreturn\u001b[39;00m matching_pairs\n\u001b[1;32m     38\u001b[0m spec1 \u001b[38;5;241m=\u001b[39m reference\u001b[38;5;241m.\u001b[39mpeaks\u001b[38;5;241m.\u001b[39mto_numpy\n\u001b[0;32m---> 39\u001b[0m spec2 \u001b[38;5;241m=\u001b[39m \u001b[43mquery\u001b[49m\u001b[38;5;241;43m.\u001b[39;49m\u001b[43mpeaks\u001b[49m\u001b[38;5;241m.\u001b[39mto_numpy\n\u001b[1;32m     40\u001b[0m matching_pairs \u001b[38;5;241m=\u001b[39m get_matching_pairs()\n\u001b[1;32m     41\u001b[0m \u001b[38;5;28;01mif\u001b[39;00m matching_pairs \u001b[38;5;129;01mis\u001b[39;00m \u001b[38;5;28;01mNone\u001b[39;00m:\n",
      "File \u001b[0;32m~/miniconda3/envs/pb2/lib/python3.10/site-packages/matchms/Spectrum.py:229\u001b[0m, in \u001b[0;36mSpectrum.peaks\u001b[0;34m(self)\u001b[0m\n\u001b[1;32m    227\u001b[0m \u001b[38;5;129m@property\u001b[39m\n\u001b[1;32m    228\u001b[0m \u001b[38;5;28;01mdef\u001b[39;00m \u001b[38;5;21mpeaks\u001b[39m(\u001b[38;5;28mself\u001b[39m) \u001b[38;5;241m-\u001b[39m\u001b[38;5;241m>\u001b[39m Fragments:\n\u001b[0;32m--> 229\u001b[0m     \u001b[38;5;28;01mreturn\u001b[39;00m \u001b[38;5;28;43mself\u001b[39;49m\u001b[38;5;241;43m.\u001b[39;49m\u001b[43m_peaks\u001b[49m\u001b[38;5;241;43m.\u001b[39;49m\u001b[43mclone\u001b[49m\u001b[43m(\u001b[49m\u001b[43m)\u001b[49m\n",
      "File \u001b[0;32m~/miniconda3/envs/pb2/lib/python3.10/site-packages/matchms/Fragments.py:66\u001b[0m, in \u001b[0;36mFragments.clone\u001b[0;34m(self)\u001b[0m\n\u001b[1;32m     65\u001b[0m \u001b[38;5;28;01mdef\u001b[39;00m \u001b[38;5;21mclone\u001b[39m(\u001b[38;5;28mself\u001b[39m):\n\u001b[0;32m---> 66\u001b[0m     \u001b[38;5;28;01mreturn\u001b[39;00m Fragments(\u001b[38;5;28mself\u001b[39m\u001b[38;5;241m.\u001b[39mmz, \u001b[38;5;28;43mself\u001b[39;49m\u001b[38;5;241;43m.\u001b[39;49m\u001b[43mintensities\u001b[49m)\n",
      "File \u001b[0;32m~/miniconda3/envs/pb2/lib/python3.10/site-packages/matchms/Fragments.py:76\u001b[0m, in \u001b[0;36mFragments.intensities\u001b[0;34m(self)\u001b[0m\n\u001b[1;32m     73\u001b[0m \u001b[38;5;129m@property\u001b[39m\n\u001b[1;32m     74\u001b[0m \u001b[38;5;28;01mdef\u001b[39;00m \u001b[38;5;21mintensities\u001b[39m(\u001b[38;5;28mself\u001b[39m):\n\u001b[1;32m     75\u001b[0m     \u001b[38;5;124;03m\"\"\"getter method for intensities private variable\"\"\"\u001b[39;00m\n\u001b[0;32m---> 76\u001b[0m     \u001b[38;5;28;01mreturn\u001b[39;00m \u001b[38;5;28;43mself\u001b[39;49m\u001b[38;5;241;43m.\u001b[39;49m\u001b[43m_intensities\u001b[49m\u001b[38;5;241;43m.\u001b[39;49m\u001b[43mcopy\u001b[49m\u001b[43m(\u001b[49m\u001b[43m)\u001b[49m\n",
      "\u001b[0;31mKeyboardInterrupt\u001b[0m: "
     ]
    }
   ],
   "source": [
    "from typing import Tuple\n",
    "from matchms.typing import SpectrumType\n",
    "from matchms.similarity.BaseSimilarity import BaseSimilarity\n",
    "from matchms.similarity.spectrum_similarity_functions import (collect_peak_pairs,\n",
    "                                            score_best_matches)\n",
    "from matchms.similarity import CosineGreedy as OriginalCosineGreedy\n",
    "\n",
    "class CosineGreedy(OriginalCosineGreedy):\n",
    "    \"\"\"Stable implementation of original cosine greedy\"\"\"\n",
    "    def __init__(self, tolerance: float = 0.1, mz_power: float = 0, intensity_power: float = 1):\n",
    "        super().__init__(tolerance, mz_power, intensity_power)\n",
    "        \n",
    "    def pair(self, reference: SpectrumType, query: SpectrumType) -> Tuple[float, int]:\n",
    "        \"\"\"Calculate cosine score between two spectra.\n",
    "\n",
    "        Parameters\n",
    "        ----------\n",
    "        reference\n",
    "            Single reference spectrum.\n",
    "        query\n",
    "            Single query spectrum.\n",
    "\n",
    "        Returns\n",
    "        -------\n",
    "        Score\n",
    "            Tuple with cosine score and number of matched peaks.\n",
    "        \"\"\"\n",
    "        def get_matching_pairs():\n",
    "            \"\"\"Get pairs of peaks that match within the given tolerance.\"\"\"\n",
    "            matching_pairs = collect_peak_pairs(spec1, spec2, self.tolerance,\n",
    "                                                shift=0.0, mz_power=self.mz_power,\n",
    "                                                intensity_power=self.intensity_power)\n",
    "            if matching_pairs is None:\n",
    "                return None\n",
    "            matching_pairs = matching_pairs[np.argsort(matching_pairs[:, 2],kind='mergesort')[::-1], :]\n",
    "            return matching_pairs\n",
    "\n",
    "        spec1 = reference.peaks.to_numpy\n",
    "        spec2 = query.peaks.to_numpy\n",
    "        matching_pairs = get_matching_pairs()\n",
    "        if matching_pairs is None:\n",
    "            return np.asarray((float(0), 0), dtype=self.score_datatype)\n",
    "        score = score_best_matches(matching_pairs, spec1, spec2,\n",
    "                                   self.mz_power, self.intensity_power)\n",
    "        return np.asarray(score, dtype=self.score_datatype)\n",
    "\n",
    "similarity_measure = CosineGreedy(tolerance=tolerance, \n",
    "                                mz_power= 0.0, \n",
    "                                intensity_power = 1.0)\n",
    "C_orig = calculate_scores(references, queries, similarity_measure, is_symmetric=False)\n",
    "Cy = C_orig.to_array()\n",
    "\n",
    "Cy, Cm = Cy['CosineGreedy_score'], Cy['CosineGreedy_matches']\n",
    "Cy = np.stack([Cy,Cm],axis=-1)"
   ]
  },
  {
   "cell_type": "code",
   "execution_count": 20,
   "metadata": {},
   "outputs": [
    {
     "name": "stderr",
     "output_type": "stream",
     "text": [
      "  0%|          | 0/1 [00:00<?, ?it/s]"
     ]
    },
    {
     "name": "stderr",
     "output_type": "stream",
     "text": [
      "100%|██████████| 1/1 [00:05<00:00,  5.44s/it]\n",
      "Batch all references: 1it [00:00, 66.81it/s]\n",
      "Batch all queries: 1it [00:00, 67.31it/s]\n",
      "100%|██████████| 1/1 [00:01<00:00,  1.95s/it]"
     ]
    },
    {
     "name": "stdout",
     "output_type": "stream",
     "text": [
      "Overflows 1.1444091796875e-05 3\n",
      "CPU orig vs GPU 0.9999885559082031 6\n",
      "CPU opt vs GPU: 0.9999885559082031 6\n",
      "CPU orig vs CPU opt 1.0 0\n"
     ]
    },
    {
     "name": "stderr",
     "output_type": "stream",
     "text": [
      "\n"
     ]
    }
   ],
   "source": [
    "from cudams.processor import CudaCosineGreedy, CpuCosineGreedy\n",
    "from collections import defaultdict\n",
    "from matchms import calculate_scores\n",
    "from matchms.similarity import CosineGreedy\n",
    "from tqdm import tqdm\n",
    "from matchms.filtering import normalize_intensities, select_by_mz, select_by_relative_intensity, reduce_to_number_of_peaks, \\\n",
    "    require_minimum_number_of_peaks\n",
    "from cudams.utils import mute_stdout\n",
    "\n",
    "refs = list([r.peaks.to_numpy for r in references])\n",
    "ques = list([q.peaks.to_numpy for q in queries])\n",
    "\n",
    "rlims = argbatch(refs, BATCH_SIZE)\n",
    "qlims = argbatch(ques, BATCH_SIZE)\n",
    "R = len(references)\n",
    "Q = len(queries)\n",
    "\n",
    "batches_rq = list(product(rlims, qlims))\n",
    "\n",
    "for (rstart, rend), (qstart, qend) in tqdm(batches_rq, total=len(batches_rq)):\n",
    "    rspec = refs[rstart:rend]\n",
    "    qspec = ques[qstart:qend]\n",
    "    out_true = np.full((BATCH_SIZE, BATCH_SIZE, 2), fill_value=0, dtype='float32')\n",
    "    for (i, spec1), (j, spec2) in product(enumerate(rspec), enumerate(qspec)):\n",
    "            score = similarity(\n",
    "                spec1,\n",
    "                spec2,\n",
    "                tolerance=tolerance,\n",
    "                shift=shift,\n",
    "                mz_power=mz_power,\n",
    "                int_power=int_power,\n",
    "            )\n",
    "            if score is not None:\n",
    "                out_true[i,j,0] = score[0]\n",
    "                out_true[i,j,1] = score[1]\n",
    "    \n",
    "C = np.empty((BATCH_SIZE,BATCH_SIZE,2), dtype='float32')\n",
    "C[:] = out_true[:]\n",
    "\n",
    "cosine = CudaCosineGreedy(\n",
    "            tolerance=tolerance,\n",
    "            mz_power=0,\n",
    "            intensity_power=1, \n",
    "            shift=0,\n",
    "            batch_size=BATCH_SIZE,\n",
    "            match_limit=MATCH_LIMIT,\n",
    "        )\n",
    "cosine.compile()\n",
    "G, Ov = cosine.matrix(\n",
    "    references=references, \n",
    "    queries=queries, \n",
    "    array_type=\"numpy\"\n",
    ")\n",
    "R,Q,_ = Cy.shape\n",
    "\n",
    "print(\"Overflows\", Ov[:R,:Q].mean(), Ov[:R,:Q].sum())\n",
    "\n",
    "C_match = np.isclose(Cy[:R,:Q], G[:R,:Q])\n",
    "corr = C_match.mean()\n",
    "print(\"CPU orig vs GPU\", corr, (1-C_match).sum())\n",
    "assert (1-C_match).sum() == Ov.sum()*2, \"Only overflows can be wrong\"\n",
    "\n",
    "C_match = np.isclose(C[:R,:Q], G[:R,:Q])\n",
    "corr = C_match.mean()\n",
    "print(\"CPU opt vs GPU:\", corr, (1-C_match).sum())\n",
    "\n",
    "C_match = np.isclose(Cy[:R,:Q], C[:R,:Q])\n",
    "corr = C_match.mean()\n",
    "print(\"CPU orig vs CPU opt\", corr, (1-C_match).sum())"
   ]
  }
 ],
 "metadata": {
  "kernelspec": {
   "display_name": "pb2",
   "language": "python",
   "name": "python3"
  },
  "language_info": {
   "codemirror_mode": {
    "name": "ipython",
    "version": 3
   },
   "file_extension": ".py",
   "mimetype": "text/x-python",
   "name": "python",
   "nbconvert_exporter": "python",
   "pygments_lexer": "ipython3",
   "version": "3.10.11"
  }
 },
 "nbformat": 4,
 "nbformat_minor": 2
}
