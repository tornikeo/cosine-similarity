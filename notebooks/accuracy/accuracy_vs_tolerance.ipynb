{
 "cells": [
  {
   "cell_type": "code",
   "execution_count": 3,
   "metadata": {},
   "outputs": [
    {
     "name": "stdout",
     "output_type": "stream",
     "text": [
      "The autoreload extension is already loaded. To reload it, use:\n",
      "  %reload_ext autoreload\n"
     ]
    },
    {
     "data": {
      "text/plain": [
       "'/home/tornikeo/Documents/work/scalexa/pangeaai/optimize-cosine'"
      ]
     },
     "execution_count": 3,
     "metadata": {},
     "output_type": "execute_result"
    }
   ],
   "source": [
    "%load_ext autoreload\n",
    "%autoreload 2\n",
    "%pwd"
   ]
  },
  {
   "cell_type": "code",
   "execution_count": 4,
   "metadata": {},
   "outputs": [],
   "source": [
    "from cudams.utils import argbatch, mkdir\n",
    "from cudams.data import get_ref_spectra_from_df\n",
    "from cudams.kernel import compile\n",
    "from cudams.utils import name2idx\n",
    "from cudams.cosine import similarity\n",
    "import math\n",
    "from pathlib import Path\n",
    "import pandas as pd\n",
    "from tqdm import tqdm\n",
    "from cudams.data import spectra_peaks_to_tensor\n",
    "from cudams.processor import Config\n",
    "from numba import cuda\n",
    "from itertools import product\n",
    "from time import perf_counter\n",
    "from multiprocessing.pool import ThreadPool\n",
    "from multiprocessing import shared_memory\n",
    "import numpy as np\n",
    "import json\n",
    "import matplotlib.pyplot as plt\n",
    "import matplotlib\n",
    "\n",
    "assert cuda.is_available()"
   ]
  },
  {
   "cell_type": "code",
   "execution_count": 5,
   "metadata": {},
   "outputs": [],
   "source": [
    "## Define constants\n",
    "tolerance: float = 0.1\n",
    "shift: float = 0\n",
    "mz_power: float = 0\n",
    "int_power: float = 1\n",
    "\n",
    "## How many pairs per batch. Has to be a power of 2.\n",
    "# Hardware specific - An RTX2070 works best at around 1024 * 2\n",
    "# But Colab T4 GPU might work best at 1024 * 4\n",
    "BATCH_SIZE = 512\n",
    "\n",
    "# MAX NUMBER OF PEAKS \n",
    "MAX_N_PEAKS = 1024\n",
    "\n",
    "# MATCH_LIMIT specifies max how many mz-mz pairs we could consider for each RQ pair, before we sort and filter. \n",
    "# E.g. a value of 256 usually causes around ~0.003% of RQ pairs to \"overflow\".\n",
    "# The overflown RQ scores will be strictly less than or equal to perfectly accurate score.\n",
    "# The mean absolute difference at 256, for all overflown pairs is on the order of ~1e-3\n",
    "# Small values of MATCH_LIMIT (e.g. 128, 64,) cause a dramatic speedup in the processing speed.\n",
    "MATCH_LIMIT = 1024\n",
    "\n",
    "## GPU-specific constants\n",
    "THREADS_PER_BLOCK = (32, 32)\n",
    "BLOCKS_PER_GRID_X = math.ceil(BATCH_SIZE / THREADS_PER_BLOCK[0])\n",
    "BLOCKS_PER_GRID_Y = math.ceil(BATCH_SIZE / THREADS_PER_BLOCK[1])\n",
    "BLOCKS_PER_GRID = (BLOCKS_PER_GRID_X, BLOCKS_PER_GRID_Y)\n",
    "\n",
    "# Since Greedy cosine is an unstable algorithm, because approximate mz-mz values do not\n",
    "# result in approximately the same scores and number of matches.\n",
    "# So we need to use fp64 to minimize the deviation as much as possible.\n",
    "# Using float32 causes a significant speedup in the processing speed.\n",
    "dtype = 'float64'\n",
    "\n",
    "# Data path\n",
    "reference_csv_file = Path(\"data/input/test_set_cosine.csv\")\n",
    "query_csv_file = Path(\"data/input/test_set_cosine.csv\")\n",
    "\n",
    "# For keeping track of experiments\n",
    "\n",
    "CONFIG = Config(\n",
    "    tolerance = tolerance,\n",
    "    shift = shift,\n",
    "    mz_power = mz_power,\n",
    "    int_power = int_power,\n",
    "    dtype = dtype,\n",
    "    reference_csv_file = reference_csv_file,\n",
    "    query_csv_file = query_csv_file,\n",
    "    BATCH_SIZE = BATCH_SIZE,\n",
    "    MATCH_LIMIT = MATCH_LIMIT,\n",
    ")"
   ]
  },
  {
   "cell_type": "code",
   "execution_count": 6,
   "metadata": {},
   "outputs": [
    {
     "name": "stderr",
     "output_type": "stream",
     "text": [
      "  0%|          | 0/32 [00:00<?, ?it/s]"
     ]
    },
    {
     "name": "stderr",
     "output_type": "stream",
     "text": [
      "100%|██████████| 512/512 [00:00<00:00, 1576.78it/s]\n",
      "100%|██████████| 512/512 [00:00<00:00, 1594.61it/s]\n",
      "100%|██████████| 512/512 [00:00<00:00, 1585.71it/s]\n",
      "100%|██████████| 512/512 [00:00<00:00, 1573.18it/s]\n",
      "100%|██████████| 512/512 [00:00<00:00, 1584.97it/s]\n",
      "100%|██████████| 512/512 [00:00<00:00, 1627.76it/s]\n",
      "100%|██████████| 512/512 [00:00<00:00, 1683.98it/s]\n",
      "100%|██████████| 512/512 [00:00<00:00, 1691.60it/s]\n",
      "100%|██████████| 512/512 [00:00<00:00, 1677.96it/s]\n",
      "100%|██████████| 512/512 [00:00<00:00, 1641.14it/s]\n"
     ]
    },
    {
     "name": "stdout",
     "output_type": "stream",
     "text": [
      "We have 512 references and 512 queries\n",
      "We have 512 references and 512 queries\n",
      "We have 512 references and 512 queries\n",
      "We have 512 references and 512 queries\n",
      "We have 512 references and 512 queries\n",
      "We have 512 references and 512 queries\n"
     ]
    },
    {
     "name": "stderr",
     "output_type": "stream",
     "text": [
      "100%|██████████| 512/512 [00:00<00:00, 1666.85it/s]\n",
      "100%|██████████| 512/512 [00:00<00:00, 1694.23it/s]\n",
      "100%|██████████| 1/1 [00:04<00:00,  4.13s/it]\n",
      "Batch all references: 1it [00:00, 62.55it/s]\n",
      "Batch all queries: 1it [00:00, 60.74it/s]\n",
      "100%|██████████| 1/1 [00:04<00:00,  4.46s/it]\n",
      "Batch all references: 1it [00:00, 62.54it/s]\n",
      "Batch all queries: 1it [00:00, 58.59it/s]\n",
      "100%|██████████| 1/1 [00:04<00:00,  4.42s/it]\n",
      "Batch all references: 1it [00:00, 40.13it/s]\n",
      "Batch all queries: 1it [00:00, 56.62it/s]\n",
      "100%|██████████| 1/1 [00:04<00:00,  4.77s/it]\n",
      "Batch all references: 1it [00:00, 28.58it/s]\n",
      "Batch all queries: 1it [00:00, 47.38it/s]\n",
      "100%|██████████| 1/1 [00:04<00:00,  4.22s/it]\n",
      "Batch all references: 1it [00:00, 40.28it/s]\n",
      "Batch all queries: 1it [00:00, 29.25it/s]\n",
      "100%|██████████| 1/1 [00:04<00:00,  4.94s/it]\n",
      "Batch all references: 1it [00:00, 51.78it/s]\n",
      "Batch all queries: 1it [00:00, 44.35it/s]\n",
      "100%|██████████| 1/1 [00:04<00:00,  4.14s/it]\n",
      "100%|██████████| 1/1 [00:04<00:00,  4.16s/it]t]\n",
      "100%|██████████| 1/1 [00:04<00:00,  4.16s/it]\n",
      "100%|██████████| 1/1 [00:04<00:00,  4.03s/it]\n",
      "100%|██████████| 1/1 [00:03<00:00,  3.89s/it]\n",
      "100%|██████████| 1/1 [00:03<00:00,  3.71s/it]\n",
      "100%|██████████| 512/512 [00:00<00:00, 1702.93it/s]\n",
      "100%|██████████| 512/512 [00:00<00:00, 1615.26it/s]\n",
      "100%|██████████| 512/512 [00:00<00:00, 1631.67it/s]\n",
      "100%|██████████| 512/512 [00:00<00:00, 1681.02it/s]\n",
      "100%|██████████| 512/512 [00:00<00:00, 1572.29it/s]\n",
      "100%|██████████| 512/512 [00:00<00:00, 1567.84it/s]\n",
      "100%|██████████| 512/512 [00:00<00:00, 1568.91it/s]\n"
     ]
    },
    {
     "name": "stdout",
     "output_type": "stream",
     "text": [
      "We have 512 references and 512 queries\n"
     ]
    },
    {
     "name": "stderr",
     "output_type": "stream",
     "text": [
      "100%|██████████| 512/512 [00:00<00:00, 1566.73it/s]\n",
      "100%|██████████| 512/512 [00:00<00:00, 1479.20it/s]\n",
      "100%|██████████| 512/512 [00:00<00:00, 1435.58it/s]\n",
      " 39%|███▊      | 198/512 [00:00<00:00, 1867.70it/s]"
     ]
    },
    {
     "name": "stdout",
     "output_type": "stream",
     "text": [
      "We have 512 references and 512 queries\n",
      "We have 512 references and 512 queries\n",
      "We have 512 references and 512 queries\n"
     ]
    },
    {
     "name": "stderr",
     "output_type": "stream",
     "text": [
      "100%|██████████| 512/512 [00:00<00:00, 1693.81it/s]\n",
      "100%|██████████| 512/512 [00:00<00:00, 1686.49it/s]\n"
     ]
    },
    {
     "name": "stdout",
     "output_type": "stream",
     "text": [
      "We have 512 references and 512 queries\n",
      "We have 512 references and 512 queries\n"
     ]
    },
    {
     "name": "stderr",
     "output_type": "stream",
     "text": [
      "100%|██████████| 1/1 [00:01<00:00,  1.24s/it]\n",
      "Batch all references: 1it [00:00, 72.88it/s]\n",
      "Batch all queries: 1it [00:00, 78.41it/s]\n",
      "100%|██████████| 1/1 [00:01<00:00,  1.16s/it]\n",
      "Batch all references: 1it [00:00, 68.94it/s]\n",
      "Batch all queries: 1it [00:00, 74.55it/s]\n",
      "100%|██████████| 1/1 [00:01<00:00,  1.29s/it]\n",
      "Batch all references: 1it [00:00, 68.39it/s]\n",
      "Batch all queries: 1it [00:00, 79.36it/s]\n",
      "100%|██████████| 1/1 [00:01<00:00,  1.22s/it]\n",
      "Batch all references: 1it [00:00, 65.52it/s]\n",
      "Batch all queries: 1it [00:00, 66.77it/s]\n",
      "100%|██████████| 1/1 [00:01<00:00,  1.35s/it]\n",
      "Batch all references: 1it [00:00, 76.16it/s]\n",
      "Batch all queries: 1it [00:00, 79.58it/s]\n",
      "100%|██████████| 1/1 [00:01<00:00,  1.38s/it]\n",
      "Batch all references: 1it [00:00, 67.19it/s]\n",
      "Batch all queries: 1it [00:00, 76.57it/s]\n",
      "100%|██████████| 1/1 [00:03<00:00,  3.12s/it]\n",
      "100%|██████████| 1/1 [00:03<00:00,  3.19s/it]t]\n",
      "100%|██████████| 1/1 [00:03<00:00,  3.52s/it]3it/s]\n",
      "100%|██████████| 1/1 [00:03<00:00,  3.52s/it]\n",
      "100%|██████████| 512/512 [00:00<00:00, 1707.10it/s]\n",
      "100%|██████████| 512/512 [00:00<00:00, 1240.07it/s]\n",
      "100%|██████████| 1/1 [00:03<00:00,  3.28s/it]\n",
      "100%|██████████| 1/1 [00:03<00:00,  3.01s/it]\n",
      "100%|██████████| 512/512 [00:00<00:00, 1692.43it/s]\n",
      "100%|██████████| 512/512 [00:00<00:00, 1707.36it/s]\n",
      "100%|██████████| 512/512 [00:00<00:00, 1596.75it/s]\n",
      "100%|██████████| 512/512 [00:00<00:00, 1193.69it/s]\n",
      "100%|██████████| 512/512 [00:00<00:00, 1502.78it/s]\n"
     ]
    },
    {
     "name": "stdout",
     "output_type": "stream",
     "text": [
      "We have 512 references and 512 queries\n",
      "We have 512 references and 512 queries\n"
     ]
    },
    {
     "name": "stderr",
     "output_type": "stream",
     "text": [
      "100%|██████████| 512/512 [00:00<00:00, 1514.32it/s]\n",
      "100%|██████████| 512/512 [00:00<00:00, 1531.99it/s]\n",
      "  0%|          | 0/512 [00:00<?, ?it/s]1340.91it/s]"
     ]
    },
    {
     "name": "stdout",
     "output_type": "stream",
     "text": [
      "We have 512 references and 512 queries\n",
      "We have 512 references and 512 queries\n"
     ]
    },
    {
     "name": "stderr",
     "output_type": "stream",
     "text": [
      "100%|██████████| 512/512 [00:00<00:00, 1211.36it/s]\n",
      "100%|██████████| 512/512 [00:00<00:00, 1521.31it/s]\n",
      "100%|██████████| 512/512 [00:00<00:00, 1552.28it/s]\n"
     ]
    },
    {
     "name": "stdout",
     "output_type": "stream",
     "text": [
      "We have 512 references and 512 queries\n",
      "We have 512 references and 512 queries\n"
     ]
    },
    {
     "name": "stderr",
     "output_type": "stream",
     "text": [
      "100%|██████████| 1/1 [00:01<00:00,  1.55s/it]\n",
      "Batch all references: 1it [00:00, 80.77it/s]\n",
      "Batch all queries: 1it [00:00, 59.27it/s]\n",
      "100%|██████████| 1/1 [00:01<00:00,  1.56s/it]\n",
      "Batch all references: 1it [00:00, 77.96it/s]\n",
      "Batch all queries: 1it [00:00, 74.99it/s]\n",
      "100%|██████████| 1/1 [00:01<00:00,  1.42s/it]\n",
      "100%|██████████| 1/1 [00:01<00:00,  1.65s/it]t]\n",
      "Batch all references: 1it [00:00, 70.02it/s]\n",
      "Batch all queries: 1it [00:00, 76.00it/s]\n",
      "100%|██████████| 1/1 [00:01<00:00,  1.73s/it]\n",
      "100%|██████████| 1/1 [00:01<00:00,  1.23s/it]\n",
      "Batch all references: 1it [00:00, 58.72it/s]\n",
      "Batch all queries: 1it [00:00, 60.17it/s]32.22it/s]\n",
      "100%|██████████| 1/1 [00:01<00:00,  1.90s/it]9it/s]\n",
      "Batch all references: 1it [00:00, 70.37it/s]\n",
      "100%|██████████| 1/1 [00:01<00:00,  1.86s/it]\n",
      "Batch all queries: 1it [00:00, 70.90it/s]\n",
      "Batch all references: 1it [00:00, 69.44it/s]\n",
      "Batch all queries: 1it [00:00, 66.30it/s]\n",
      "100%|██████████| 512/512 [00:00<00:00, 1403.17it/s]\n",
      "100%|██████████| 512/512 [00:00<00:00, 1408.08it/s]\n",
      "100%|██████████| 512/512 [00:00<00:00, 1562.44it/s]\n"
     ]
    },
    {
     "name": "stdout",
     "output_type": "stream",
     "text": [
      "We have 512 references and 512 queries\n"
     ]
    },
    {
     "name": "stderr",
     "output_type": "stream",
     "text": [
      "100%|██████████| 512/512 [00:00<00:00, 1252.76it/s]\n"
     ]
    },
    {
     "name": "stdout",
     "output_type": "stream",
     "text": [
      "We have 512 references and 512 queries\n"
     ]
    },
    {
     "name": "stderr",
     "output_type": "stream",
     "text": [
      "100%|██████████| 1/1 [00:02<00:00,  2.48s/it]\n",
      "100%|██████████| 1/1 [00:02<00:00,  2.87s/it]3it/s]\n",
      "100%|██████████| 1/1 [00:02<00:00,  2.78s/it]3it/s]\n",
      "100%|██████████| 1/1 [00:02<00:00,  2.78s/it]\n",
      "100%|██████████| 512/512 [00:00<00:00, 1515.44it/s]\n",
      "100%|██████████| 512/512 [00:00<00:00, 1556.26it/s]\n",
      "100%|██████████| 512/512 [00:00<00:00, 1492.84it/s]\n",
      "100%|██████████| 512/512 [00:00<00:00, 1559.34it/s]\n",
      "100%|██████████| 512/512 [00:00<00:00, 1501.36it/s]\n"
     ]
    },
    {
     "name": "stdout",
     "output_type": "stream",
     "text": [
      "We have 512 references and 512 queries\n"
     ]
    },
    {
     "name": "stderr",
     "output_type": "stream",
     "text": [
      "100%|██████████| 512/512 [00:00<00:00, 1687.49it/s]\n",
      "100%|██████████| 512/512 [00:00<00:00, 1679.14it/s]\n",
      "100%|██████████| 512/512 [00:00<00:00, 1659.95it/s]\n"
     ]
    },
    {
     "name": "stdout",
     "output_type": "stream",
     "text": [
      "We have 512 references and 512 queries\n",
      "We have 512 references and 512 queries\n",
      "We have 512 references and 512 queries\n"
     ]
    },
    {
     "name": "stderr",
     "output_type": "stream",
     "text": [
      "100%|██████████| 1/1 [00:02<00:00,  2.35s/it]\n",
      "Batch all references: 1it [00:00, 67.59it/s]\n",
      "Batch all queries: 1it [00:00, 60.00it/s]\n",
      "100%|██████████| 1/1 [00:02<00:00,  2.34s/it]\n",
      "Batch all references: 1it [00:00, 74.22it/s]\n",
      "Batch all queries: 1it [00:00, 66.19it/s]\n",
      "100%|██████████| 1/1 [00:01<00:00,  1.60s/it]\n",
      "100%|██████████| 32/32 [01:04<00:00,  2.01s/it]\n",
      "100%|██████████| 512/512 [00:00<00:00, 1358.71it/s]\n",
      "100%|██████████| 1/1 [00:01<00:00,  1.66s/it]\n",
      "100%|██████████| 512/512 [00:00<00:00, 1391.14it/s]\n",
      "  0%|          | 0/512 [00:00<?, ?it/s]"
     ]
    },
    {
     "name": "stdout",
     "output_type": "stream",
     "text": [
      "We have 512 references and 512 queries\n"
     ]
    },
    {
     "name": "stderr",
     "output_type": "stream",
     "text": [
      "100%|██████████| 512/512 [00:00<00:00, 1296.54it/s]\n",
      "100%|██████████| 512/512 [00:00<00:00, 1305.45it/s]\n",
      "100%|██████████| 1/1 [00:03<00:00,  3.04s/it]\n",
      "Batch all references: 1it [00:00, 57.10it/s]\n",
      "Batch all queries: 1it [00:00, 39.46it/s]\n",
      "  0%|          | 0/1 [00:00<?, ?it/s]"
     ]
    },
    {
     "name": "stdout",
     "output_type": "stream",
     "text": [
      "We have 512 references and 512 queries\n"
     ]
    },
    {
     "name": "stderr",
     "output_type": "stream",
     "text": [
      "100%|██████████| 1/1 [00:02<00:00,  2.77s/it]\n",
      "Batch all references: 1it [00:00, 65.39it/s]\n",
      "Batch all queries: 1it [00:00, 65.48it/s]\n",
      "100%|██████████| 1/1 [00:03<00:00,  3.08s/it]\n",
      "Batch all references: 1it [00:00, 75.86it/s]\n",
      "Batch all queries: 1it [00:00, 70.66it/s]\n",
      "100%|██████████| 1/1 [00:03<00:00,  3.21s/it]\n",
      "Batch all references: 1it [00:00, 70.65it/s]\n",
      "Batch all queries: 1it [00:00, 71.11it/s]\n",
      "100%|██████████| 1/1 [00:01<00:00,  1.67s/it]\n",
      "100%|██████████| 512/512 [00:00<00:00, 1458.74it/s]\n",
      "100%|██████████| 1/1 [00:01<00:00,  1.78s/it]\n",
      "100%|██████████| 512/512 [00:00<00:00, 1417.98it/s]\n",
      "100%|██████████| 1/1 [00:02<00:00,  2.15s/it]\n",
      "100%|██████████| 512/512 [00:00<00:00, 1420.90it/s]\n"
     ]
    },
    {
     "name": "stdout",
     "output_type": "stream",
     "text": [
      "We have 512 references and 512 queries\n"
     ]
    },
    {
     "name": "stderr",
     "output_type": "stream",
     "text": [
      "100%|██████████| 1/1 [00:01<00:00,  1.99s/it]\n",
      "100%|██████████| 512/512 [00:00<00:00, 1477.51it/s]\n",
      " 63%|██████▎   | 323/512 [00:00<00:00, 1560.23it/s]"
     ]
    },
    {
     "name": "stdout",
     "output_type": "stream",
     "text": [
      "We have 512 references and 512 queries\n"
     ]
    },
    {
     "name": "stderr",
     "output_type": "stream",
     "text": [
      "100%|██████████| 512/512 [00:00<00:00, 1454.93it/s]\n",
      "100%|██████████| 512/512 [00:00<00:00, 1450.03it/s]\n",
      "100%|██████████| 512/512 [00:00<00:00, 1407.89it/s]\n",
      "100%|██████████| 512/512 [00:00<00:00, 1385.44it/s]\n"
     ]
    },
    {
     "name": "stdout",
     "output_type": "stream",
     "text": [
      "We have 512 references and 512 queries\n",
      "We have 512 references and 512 queries\n"
     ]
    },
    {
     "name": "stderr",
     "output_type": "stream",
     "text": [
      "100%|██████████| 1/1 [00:03<00:00,  3.13s/it]\n",
      "Batch all references: 1it [00:00, 80.33it/s]\n",
      "Batch all queries: 1it [00:00, 77.96it/s]\n",
      "100%|██████████| 1/1 [00:01<00:00,  1.43s/it]\n",
      "100%|██████████| 1/1 [00:03<00:00,  3.48s/it]0it/s]\n",
      "Batch all references: 1it [00:00, 68.05it/s]\n",
      "Batch all queries: 1it [00:00, 67.94it/s]\n",
      "100%|██████████| 512/512 [00:00<00:00, 1297.90it/s]\n",
      "100%|██████████| 512/512 [00:00<00:00, 1388.64it/s]\n"
     ]
    },
    {
     "name": "stdout",
     "output_type": "stream",
     "text": [
      "We have 512 references and 512 queries\n"
     ]
    },
    {
     "name": "stderr",
     "output_type": "stream",
     "text": [
      "100%|██████████| 1/1 [00:01<00:00,  1.46s/it]\n",
      "100%|██████████| 512/512 [00:00<00:00, 1355.85it/s]\n",
      "100%|██████████| 512/512 [00:00<00:00, 1209.63it/s]\n"
     ]
    },
    {
     "name": "stdout",
     "output_type": "stream",
     "text": [
      "We have 512 references and 512 queries\n"
     ]
    },
    {
     "name": "stderr",
     "output_type": "stream",
     "text": [
      "100%|██████████| 1/1 [00:03<00:00,  3.98s/it]\n",
      "Batch all references: 1it [00:00, 77.53it/s]\n",
      "Batch all queries: 1it [00:00, 71.24it/s]\n",
      "100%|██████████| 1/1 [00:04<00:00,  4.30s/it]\n",
      "Batch all references: 1it [00:00, 73.50it/s]\n",
      "Batch all queries: 1it [00:00, 69.70it/s]\n",
      "100%|██████████| 1/1 [00:01<00:00,  1.74s/it]\n",
      "100%|██████████| 1/1 [00:01<00:00,  1.67s/it]\n",
      "100%|██████████| 1/1 [00:04<00:00,  4.78s/it]\n",
      "Batch all references: 1it [00:00, 72.84it/s]\n",
      "Batch all queries: 1it [00:00, 81.76it/s]\n",
      "100%|██████████| 1/1 [00:04<00:00,  4.96s/it]\n",
      "Batch all references: 1it [00:00, 65.67it/s]\n",
      "Batch all queries: 1it [00:00, 72.75it/s]\n",
      "100%|██████████| 1/1 [00:02<00:00,  2.03s/it]\n",
      "100%|██████████| 1/1 [00:02<00:00,  2.02s/it]\n",
      "100%|██████████| 1/1 [00:04<00:00,  4.49s/it]\n",
      "Batch all references: 1it [00:00, 88.76it/s]\n",
      "Batch all queries: 1it [00:00, 87.87it/s]\n",
      "100%|██████████| 1/1 [00:01<00:00,  1.58s/it]\n",
      "100%|██████████| 1/1 [00:04<00:00,  4.78s/it]\n",
      "Batch all references: 1it [00:00, 81.22it/s]\n",
      "Batch all queries: 1it [00:00, 89.75it/s]\n",
      "100%|██████████| 1/1 [00:01<00:00,  1.55s/it]\n"
     ]
    }
   ],
   "source": [
    "from cudams.processor import CudaCosineGreedy, CpuCosineGreedy\n",
    "from collections import defaultdict\n",
    "from matchms import calculate_scores\n",
    "from matchms.similarity import CosineGreedy\n",
    "from tqdm import tqdm\n",
    "from matchms.filtering import normalize_intensities, select_by_mz, select_by_relative_intensity, reduce_to_number_of_peaks, \\\n",
    "    require_minimum_number_of_peaks\n",
    "from cudams.utils import mute_stdout\n",
    "\n",
    "acum = []\n",
    "def it(tolerance):\n",
    "    # MATCH_LIMIT = int(MAX_N_PEAKS) # To avoid overflows\n",
    "    tolerance = float(tolerance)\n",
    "    def process_spectrum(spectrum: np.ndarray) -> np.ndarray:\n",
    "        # spectrum = select_by_mz(spectrum, mz_from=10.0, mz_to=1000.0)\n",
    "        # spectrum = normalize_intensities(spectrum)\n",
    "        # spectrum = select_by_relative_intensity(spectrum, intensity_from=0.001)\n",
    "        # spectrum = reduce_to_number_of_peaks(spectrum, n_max=1000)\n",
    "        spectrum = reduce_to_number_of_peaks(spectrum, n_max=MAX_N_PEAKS)\n",
    "        # spectrum = require_minimum_number_of_peaks(spectrum, n_required=5)\n",
    "        return spectrum\n",
    "\n",
    "    ref_spectra_df_path = Path(reference_csv_file)\n",
    "    ref_spectra_df = pd.read_csv(ref_spectra_df_path)\n",
    "    references = get_ref_spectra_from_df(ref_spectra_df, \n",
    "                                        spectrum_processor=process_spectrum,\n",
    "                                        limit=BATCH_SIZE,)\n",
    "\n",
    "    query_spectra_df_path = Path(query_csv_file)\n",
    "    query_spectra_df = pd.read_csv(query_spectra_df_path)\n",
    "    queries = get_ref_spectra_from_df(query_spectra_df, \n",
    "                                    spectrum_processor=process_spectrum,\n",
    "                                    limit=BATCH_SIZE,)\n",
    "\n",
    "    print(f\"We have {len(references)} references and {len(queries)} queries\")\n",
    "\n",
    "    similarity_measure = CosineGreedy(tolerance=tolerance, \n",
    "                                    mz_power= 0.0, \n",
    "                                    intensity_power = 1.0)\n",
    "    C_orig = calculate_scores(references, queries, similarity_measure, is_symmetric=True)\n",
    "    Cy = C_orig.to_array()\n",
    "    Cy, Cm = Cy['CosineGreedy_score'], Cy['CosineGreedy_matches']\n",
    "    Cy = np.stack([Cy,Cm],axis=-1)\n",
    "\n",
    "    refs = list([r.peaks.to_numpy for r in references])\n",
    "    ques = list([q.peaks.to_numpy for q in queries])\n",
    "\n",
    "    rlims = argbatch(refs, BATCH_SIZE)\n",
    "    qlims = argbatch(ques, BATCH_SIZE)\n",
    "    R = len(references)\n",
    "    Q = len(queries)\n",
    "\n",
    "    batches_rq = list(product(rlims, qlims))\n",
    "\n",
    "    for (rstart, rend), (qstart, qend) in tqdm(batches_rq, total=len(batches_rq)):\n",
    "        rspec = refs[rstart:rend]\n",
    "        qspec = ques[qstart:qend]\n",
    "        out_true = np.full((BATCH_SIZE, BATCH_SIZE, 2), fill_value=0, dtype='float32')\n",
    "        for (i, spec1), (j, spec2) in product(enumerate(rspec), enumerate(qspec)):\n",
    "                score = similarity(\n",
    "                    spec1,\n",
    "                    spec2,\n",
    "                    tolerance=tolerance,\n",
    "                    shift=shift,\n",
    "                    mz_power=mz_power,\n",
    "                    int_power=int_power,\n",
    "                )\n",
    "                if score is not None:\n",
    "                    out_true[i,j,0] = score[0]\n",
    "                    out_true[i,j,1] = score[1]\n",
    "        \n",
    "    C = np.empty((BATCH_SIZE,BATCH_SIZE,2), dtype='float32')\n",
    "    C[:] = out_true[:]\n",
    "    \n",
    "    cosine = CudaCosineGreedy(\n",
    "                tolerance=tolerance,\n",
    "                mz_power=0,\n",
    "                intensity_power=1, \n",
    "                shift=0,\n",
    "                batch_size=BATCH_SIZE,\n",
    "                match_limit=MATCH_LIMIT,\n",
    "            )\n",
    "    cosine.compile()\n",
    "    G, Ov = cosine.matrix(\n",
    "        references=references, \n",
    "        queries=queries, \n",
    "        array_type=\"numpy\"\n",
    "    )\n",
    "    R,Q,_ = Cy.shape\n",
    "    return tolerance,C[:R,:Q],G[:R,:Q],Cy[:R,:Q],Ov[:R,:Q]\n",
    "\n",
    "from joblib import Parallel, delayed\n",
    "\n",
    "acum = Parallel(n_jobs=6)(\n",
    "    delayed(\n",
    "       it \n",
    "    )(tolerance)\n",
    "    \n",
    "    for tolerance in tqdm(np.logspace(-3,-.5,32))\n",
    ")"
   ]
  },
  {
   "cell_type": "code",
   "execution_count": 7,
   "metadata": {},
   "outputs": [],
   "source": [
    "x = []\n",
    "y = []\n",
    "R, Q = BATCH_SIZE, BATCH_SIZE\n",
    "for tolerance, C,G,Cy,Ov in acum:\n",
    "    y_row = []\n",
    "    # print(MAX_N_PEAKS)\n",
    "    \n",
    "    C_match = np.isclose(C[:R,:Q], G[:R,:Q])\n",
    "    corr = C_match.mean()\n",
    "    # print(\"Overflows\", Ov[:R,:Q].mean())\n",
    "    # print(\"CPU opt vs GPU:\", corr)\n",
    "    y_row.append(corr)\n",
    "\n",
    "    C_match = np.isclose(Cy[:R,:Q], G[:R,:Q])\n",
    "    corr = C_match.mean()\n",
    "    # print(\"CPU orig vs GPU\", corr)\n",
    "    y_row.append(corr)\n",
    "\n",
    "    C_match = np.isclose(Cy[:R,:Q], C[:R,:Q])\n",
    "    corr = C_match.mean()\n",
    "    # print(\"CPU orig vs CPU opt\", corr)\n",
    "    y_row.append(corr)\n",
    "    \n",
    "    y_row.append(1-Ov.mean())\n",
    "    \n",
    "    y.append(y_row)\n",
    "    x.append(tolerance)"
   ]
  },
  {
   "cell_type": "code",
   "execution_count": 8,
   "metadata": {},
   "outputs": [
    {
     "data": {
      "text/plain": [
       "Text(0.5, 0, 'tolerance')"
      ]
     },
     "execution_count": 8,
     "metadata": {},
     "output_type": "execute_result"
    },
    {
     "data": {
      "image/png": "[encoded data removed]",
      "text/plain": [
       "<Figure size 640x480 with 1 Axes>"
      ]
     },
     "metadata": {},
     "output_type": "display_data"
    }
   ],
   "source": [
    "plt.plot(x,y)\n",
    "plt.title(\"accuracy vs. number of peaks (MATCH_LIMIT=1024)\")\n",
    "plt.legend(['isclose(matchms, gpu).mean()',\n",
    "            'isclose(matchms, matchms_opt).mean()',\n",
    "            'isclose(matchms_opt, gpu).mean()',\n",
    "            \"1 - overflows.mean()\"])\n",
    "plt.ylabel(\"Accuracy\")\n",
    "plt.xlabel(\"tolerance\")"
   ]
  }
 ],
 "metadata": {
  "kernelspec": {
   "display_name": "pb2",
   "language": "python",
   "name": "python3"
  },
  "language_info": {
   "codemirror_mode": {
    "name": "ipython",
    "version": 3
   },
   "file_extension": ".py",
   "mimetype": "text/x-python",
   "name": "python",
   "nbconvert_exporter": "python",
   "pygments_lexer": "ipython3",
   "version": "3.10.11"
  }
 },
 "nbformat": 4,
 "nbformat_minor": 2
}
