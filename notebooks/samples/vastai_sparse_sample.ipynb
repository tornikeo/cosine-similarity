{
 "cells": [
  {
   "cell_type": "code",
   "execution_count": 3,
   "metadata": {},
   "outputs": [
    {
     "name": "stdout",
     "output_type": "stream",
     "text": [
      "The autoreload extension is already loaded. To reload it, use:\n",
      "  %reload_ext autoreload\n",
      "env: PYTHONWARNINGS=ignore\n",
      "/home/tornikeo/Documents/work/scalexa/pangeaai/optimize-cosine\n"
     ]
    },
    {
     "name": "stderr",
     "output_type": "stream",
     "text": [
      "/home/tornikeo/micromamba/envs/pb2/lib/python3.11/site-packages/IPython/core/magics/osm.py:417: UserWarning: This is now an optional IPython functionality, setting dhist requires you to install the `pickleshare` library.\n",
      "  self.shell.db['dhist'] = compress_dhist(dhist)[-100:]\n"
     ]
    }
   ],
   "source": [
    "%load_ext autoreload\n",
    "%autoreload 2\n",
    "%pwd\n",
    "%env PYTHONWARNINGS ignore"
   ]
  },
  {
   "cell_type": "code",
   "execution_count": 2,
   "metadata": {},
   "outputs": [
    {
     "name": "stdout",
     "output_type": "stream",
     "text": [
      "\u001b[33mWARNING: Running pip as the 'root' user can result in broken permissions and conflicting behaviour with the system package manager. It is recommended to use a virtual environment instead: https://pip.pypa.io/warnings/venv\u001b[0m\u001b[33m\n",
      "\u001b[0mCollecting git+https://github.com/tornikeo/cosine-similarity.git@dev\n",
      "  Cloning https://github.com/tornikeo/cosine-similarity.git (to revision dev) to /tmp/pip-req-build-cg4nlml4\n",
      "  Running command git clone --filter=blob:none --quiet https://github.com/tornikeo/cosine-similarity.git /tmp/pip-req-build-cg4nlml4\n",
      "  Running command git checkout -b dev --track origin/dev\n",
      "  Switched to a new branch 'dev'\n",
      "  Branch 'dev' set up to track remote branch 'dev' from 'origin'.\n",
      "  Resolved https://github.com/tornikeo/cosine-similarity.git to commit 21629031dc8c044a9454f521a2d265bd2ec234cf\n",
      "  Installing build dependencies ... \u001b[?25ldone\n",
      "\u001b[?25h  Getting requirements to build wheel ... \u001b[?25ldone\n",
      "\u001b[?25h  Preparing metadata (pyproject.toml) ... \u001b[?25ldone\n",
      "\u001b[?25hRequirement already satisfied: matchms>=0.24.0 in /opt/conda/lib/python3.10/site-packages (from cudams==0.0.1) (0.24.2)\n",
      "Requirement already satisfied: torch in /opt/conda/lib/python3.10/site-packages (from cudams==0.0.1) (2.2.1)\n",
      "Requirement already satisfied: rdkit in /opt/conda/lib/python3.10/site-packages (from cudams==0.0.1) (2023.9.5)\n",
      "Requirement already satisfied: h5py in /opt/conda/lib/python3.10/site-packages (from cudams==0.0.1) (3.10.0)\n",
      "Requirement already satisfied: pydantic in /opt/conda/lib/python3.10/site-packages (from cudams==0.0.1) (2.6.2)\n",
      "Requirement already satisfied: numba in /opt/conda/lib/python3.10/site-packages (from cudams==0.0.1) (0.57.1)\n",
      "Requirement already satisfied: pandas in /opt/conda/lib/python3.10/site-packages (from cudams==0.0.1) (2.2.1)\n",
      "Requirement already satisfied: joblib in /opt/conda/lib/python3.10/site-packages (from cudams==0.0.1) (1.3.2)\n",
      "Requirement already satisfied: tqdm in /opt/conda/lib/python3.10/site-packages (from cudams==0.0.1) (4.65.0)\n",
      "Requirement already satisfied: requests in /opt/conda/lib/python3.10/site-packages (from cudams==0.0.1) (2.31.0)\n",
      "Requirement already satisfied: pooch in /opt/conda/lib/python3.10/site-packages (from cudams==0.0.1) (1.8.1)\n",
      "Requirement already satisfied: deprecated<2.0.0,>=1.2.14 in /opt/conda/lib/python3.10/site-packages (from matchms>=0.24.0->cudams==0.0.1) (1.2.14)\n",
      "Requirement already satisfied: lxml<5.0.0,>=4.9.3 in /opt/conda/lib/python3.10/site-packages (from matchms>=0.24.0->cudams==0.0.1) (4.9.4)\n",
      "Requirement already satisfied: matplotlib<4.0.0,>=3.7.2 in /opt/conda/lib/python3.10/site-packages (from matchms>=0.24.0->cudams==0.0.1) (3.8.3)\n",
      "Requirement already satisfied: networkx<4.0,>=3.1 in /opt/conda/lib/python3.10/site-packages (from matchms>=0.24.0->cudams==0.0.1) (3.1)\n",
      "Requirement already satisfied: numpy<1.25 in /opt/conda/lib/python3.10/site-packages (from matchms>=0.24.0->cudams==0.0.1) (1.24.4)\n",
      "Requirement already satisfied: pickydict<0.5.0,>=0.4.0 in /opt/conda/lib/python3.10/site-packages (from matchms>=0.24.0->cudams==0.0.1) (0.4.0)\n",
      "Requirement already satisfied: pillow!=9.4.0 in /opt/conda/lib/python3.10/site-packages (from matchms>=0.24.0->cudams==0.0.1) (10.2.0)\n",
      "Requirement already satisfied: pubchempy in /opt/conda/lib/python3.10/site-packages (from matchms>=0.24.0->cudams==0.0.1) (1.0.4)\n",
      "Requirement already satisfied: pyteomics<5.0,>=4.6 in /opt/conda/lib/python3.10/site-packages (from matchms>=0.24.0->cudams==0.0.1) (4.7.1)\n",
      "Requirement already satisfied: pyyaml<7.0.0,>=6.0.1 in /opt/conda/lib/python3.10/site-packages (from matchms>=0.24.0->cudams==0.0.1) (6.0.1)\n",
      "Requirement already satisfied: scipy<1.11 in /opt/conda/lib/python3.10/site-packages (from matchms>=0.24.0->cudams==0.0.1) (1.10.1)\n",
      "Requirement already satisfied: sparsestack<0.5.0,>=0.4.1 in /opt/conda/lib/python3.10/site-packages (from matchms>=0.24.0->cudams==0.0.1) (0.4.1)\n",
      "Requirement already satisfied: llvmlite<0.41,>=0.40.0dev0 in /opt/conda/lib/python3.10/site-packages (from numba->cudams==0.0.1) (0.40.1)\n",
      "Requirement already satisfied: python-dateutil>=2.8.2 in /opt/conda/lib/python3.10/site-packages (from pandas->cudams==0.0.1) (2.8.2)\n",
      "Requirement already satisfied: pytz>=2020.1 in /opt/conda/lib/python3.10/site-packages (from pandas->cudams==0.0.1) (2023.3.post1)\n",
      "Requirement already satisfied: tzdata>=2022.7 in /opt/conda/lib/python3.10/site-packages (from pandas->cudams==0.0.1) (2024.1)\n",
      "Requirement already satisfied: charset-normalizer<4,>=2 in /opt/conda/lib/python3.10/site-packages (from requests->cudams==0.0.1) (2.0.4)\n",
      "Requirement already satisfied: idna<4,>=2.5 in /opt/conda/lib/python3.10/site-packages (from requests->cudams==0.0.1) (3.4)\n",
      "Requirement already satisfied: urllib3<3,>=1.21.1 in /opt/conda/lib/python3.10/site-packages (from requests->cudams==0.0.1) (2.1.0)\n",
      "Requirement already satisfied: certifi>=2017.4.17 in /opt/conda/lib/python3.10/site-packages (from requests->cudams==0.0.1) (2024.2.2)\n",
      "Requirement already satisfied: platformdirs>=2.5.0 in /opt/conda/lib/python3.10/site-packages (from pooch->cudams==0.0.1) (3.10.0)\n",
      "Requirement already satisfied: packaging>=20.0 in /opt/conda/lib/python3.10/site-packages (from pooch->cudams==0.0.1) (23.1)\n",
      "Requirement already satisfied: annotated-types>=0.4.0 in /opt/conda/lib/python3.10/site-packages (from pydantic->cudams==0.0.1) (0.6.0)\n",
      "Requirement already satisfied: pydantic-core==2.16.3 in /opt/conda/lib/python3.10/site-packages (from pydantic->cudams==0.0.1) (2.16.3)\n",
      "Requirement already satisfied: typing-extensions>=4.6.1 in /opt/conda/lib/python3.10/site-packages (from pydantic->cudams==0.0.1) (4.9.0)\n",
      "Requirement already satisfied: filelock in /opt/conda/lib/python3.10/site-packages (from torch->cudams==0.0.1) (3.13.1)\n",
      "Requirement already satisfied: sympy in /opt/conda/lib/python3.10/site-packages (from torch->cudams==0.0.1) (1.12)\n",
      "Requirement already satisfied: jinja2 in /opt/conda/lib/python3.10/site-packages (from torch->cudams==0.0.1) (3.1.3)\n",
      "Requirement already satisfied: fsspec in /opt/conda/lib/python3.10/site-packages (from torch->cudams==0.0.1) (2024.2.0)\n",
      "Requirement already satisfied: wrapt<2,>=1.10 in /opt/conda/lib/python3.10/site-packages (from deprecated<2.0.0,>=1.2.14->matchms>=0.24.0->cudams==0.0.1) (1.16.0)\n",
      "Requirement already satisfied: contourpy>=1.0.1 in /opt/conda/lib/python3.10/site-packages (from matplotlib<4.0.0,>=3.7.2->matchms>=0.24.0->cudams==0.0.1) (1.2.0)\n",
      "Requirement already satisfied: cycler>=0.10 in /opt/conda/lib/python3.10/site-packages (from matplotlib<4.0.0,>=3.7.2->matchms>=0.24.0->cudams==0.0.1) (0.12.1)\n",
      "Requirement already satisfied: fonttools>=4.22.0 in /opt/conda/lib/python3.10/site-packages (from matplotlib<4.0.0,>=3.7.2->matchms>=0.24.0->cudams==0.0.1) (4.49.0)\n",
      "Requirement already satisfied: kiwisolver>=1.3.1 in /opt/conda/lib/python3.10/site-packages (from matplotlib<4.0.0,>=3.7.2->matchms>=0.24.0->cudams==0.0.1) (1.4.5)\n",
      "Requirement already satisfied: pyparsing>=2.3.1 in /opt/conda/lib/python3.10/site-packages (from matplotlib<4.0.0,>=3.7.2->matchms>=0.24.0->cudams==0.0.1) (3.1.1)\n",
      "Requirement already satisfied: six>=1.5 in /opt/conda/lib/python3.10/site-packages (from python-dateutil>=2.8.2->pandas->cudams==0.0.1) (1.16.0)\n",
      "Requirement already satisfied: MarkupSafe>=2.0 in /opt/conda/lib/python3.10/site-packages (from jinja2->torch->cudams==0.0.1) (2.1.3)\n",
      "Requirement already satisfied: mpmath>=0.19 in /opt/conda/lib/python3.10/site-packages (from sympy->torch->cudams==0.0.1) (1.3.0)\n",
      "Building wheels for collected packages: cudams\n",
      "  Building wheel for cudams (pyproject.toml) ... \u001b[?25ldone\n",
      "\u001b[?25h  Created wheel for cudams: filename=cudams-0.0.1-py3-none-any.whl size=18593 sha256=59ce6a95d3c66d4979156c1109cb3a29e32287b7270c6b29ecf917e395edf6ab\n",
      "  Stored in directory: /tmp/pip-ephem-wheel-cache-7a30sa6h/wheels/69/5a/b2/042e17f5c3a426762af6e3eded8492596b447c5c6dd3dcfdd8\n",
      "Successfully built cudams\n",
      "Installing collected packages: cudams\n",
      "Successfully installed cudams-0.0.1\n",
      "\u001b[33mWARNING: Running pip as the 'root' user can result in broken permissions and conflicting behaviour with the system package manager. It is recommended to use a virtual environment instead: https://pip.pypa.io/warnings/venv\u001b[0m\u001b[33m\n",
      "\u001b[0m"
     ]
    }
   ],
   "source": [
    "! pip uninstall cudams -q -y\n",
    "! pip install git+https://github.com/tornikeo/cosine-similarity.git@dev"
   ]
  },
  {
   "cell_type": "markdown",
   "metadata": {},
   "source": [
    "# Load data"
   ]
  },
  {
   "cell_type": "code",
   "execution_count": 4,
   "metadata": {},
   "outputs": [],
   "source": [
    "from cudams.utils import \\\n",
    "    argbatch, mkdir, get_ref_spectra_from_df\n",
    "import math\n",
    "from pathlib import Path\n",
    "from time import perf_counter\n",
    "import numpy as np\n",
    "import json\n",
    "import matplotlib.pyplot as plt\n",
    "from tqdm import tqdm\n",
    "import torch\n",
    "import numba\n",
    "from numba import cuda\n",
    "\n",
    "assert torch.cuda.is_available()\n",
    "assert cuda.is_available()"
   ]
  },
  {
   "cell_type": "code",
   "execution_count": 5,
   "metadata": {},
   "outputs": [],
   "source": [
    "from cudams.similarity.kernels import compile_cuda_cosine_greedy_kernel\n",
    "\n",
    "match_limit = 1024\n",
    "max_peaks = 1024\n",
    "batch_size = 2048 * 4 # Works best on rtx4090. Use half for most other less advanced hardware (i.e. T4)\n",
    "\n",
    "# IMPORTANT! Keep this value above .5, especially for large spectra files. The score results might get *extremely* large (100s of GB)\n",
    "# for low sparsity thresholds. This value dictates the minimum cosine greedy similarity threshold at which we keep the result\n",
    "# similarity results with a score below threshold are discarded.\n",
    "threshold = .75\n",
    "\n",
    "kernel = compile_cuda_cosine_greedy_kernel(\n",
    "    tolerance=.1,\n",
    "    shift=0,\n",
    "    mz_power=0,\n",
    "    int_power=1,\n",
    "    match_limit=match_limit,\n",
    "    batch_size=batch_size,\n",
    ")"
   ]
  },
  {
   "cell_type": "markdown",
   "metadata": {},
   "source": [
    "We will run a pairwise cosine similarity on the entirety of the GNPS dataset (around 500_000 spectra).\n",
    "\n",
    "Parsing these many spectra takes a while, so I already have a pickled version of the same dataset ready to go in `ALL_GNPS.pickle`.\n",
    "\n",
    "Alternatively, you can use `ALL_GNPS.mgf` and wait for the parsing to finish."
   ]
  },
  {
   "cell_type": "code",
   "execution_count": null,
   "metadata": {
    "scrolled": true
   },
   "outputs": [
    {
     "name": "stderr",
     "output_type": "stream",
     "text": [
      "/opt/conda/lib/python3.10/site-packages/cudams/utils.py:239: UserWarning: As of 2024, ALL_GNPS.mgf is a large file (1.76GB) make sure the machine can handle this\n",
      "  warnings.warn(f\"As of 2024, {name} is a large file (1.76GB) make sure the machine can handle this\")\n"
     ]
    }
   ],
   "source": [
    "from cudams.utils import download\n",
    "from pathlib import Path\n",
    "from joblib import Parallel, delayed\n",
    "from matchms.filtering import default_filters, normalize_intensities, reduce_to_number_of_peaks\n",
    "from matchms.importing import load_from_mgf\n",
    "import pickle\n",
    "\n",
    "spectra_file = download('ALL_GNPS.mgf')\n",
    "def parse_spectrum(spectrum):\n",
    "    ## Uncomment if you want default filters enabled - add more if you need them.\n",
    "    # spectrum = default_filters(spectrum)\n",
    "    spectrum = reduce_to_number_of_peaks(spectrum, n_max=max_peaks)\n",
    "    # spectrum = normalize_intensities(spectrum)\n",
    "    return spectrum\n",
    "\n",
    "limit = 100_000\n",
    "spectrums = tuple(s for _, s in zip(range(limit), load_from_mgf(spectra_file)))\n",
    "spectrums = Parallel(-1)(delayed(parse_spectrum)(spec) for spec in tqdm(spectrums))\n",
    "spectrums = [spe for spe in spectrums if spe is not None]\n",
    "## Download and read prepared pickle\n",
    "# spectra_file = download('ALL_GNPS.pickle')\n",
    "# spectrums = tuple(pickle.load(open(spectra_file, 'rb')))"
   ]
  },
  {
   "cell_type": "code",
   "execution_count": 6,
   "metadata": {},
   "outputs": [
    {
     "name": "stdout",
     "output_type": "stream",
     "text": [
      "We have 2.000e+05 spectra\n",
      "Pairwise comparisons have 1.000e+10 pairs in total\n"
     ]
    }
   ],
   "source": [
    "# Pairwise similarity between all\n",
    "references, queries = spectrums, spectrums\n",
    "\n",
    "print(f\"We have {len(references) + len(queries):.3e} spectra\")\n",
    "print(f\"Pairwise comparisons have {len(references)*len(queries):.3e} pairs in total\")"
   ]
  },
  {
   "cell_type": "code",
   "execution_count": 7,
   "metadata": {},
   "outputs": [
    {
     "name": "stderr",
     "output_type": "stream",
     "text": [
      "Batch all references: 13it [00:02,  4.52it/s]                        \n",
      "Batch all queries: 13it [00:02,  4.55it/s]                        \n"
     ]
    }
   ],
   "source": [
    "from cudams.utils import spectra_peaks_to_tensor\n",
    "from itertools import product\n",
    "dtype = np.float32\n",
    "padding = None\n",
    "\n",
    "batches_r = []\n",
    "for bstart, bend in tqdm(\n",
    "    argbatch(references, batch_size), desc=\"Batch all references\",\n",
    "    total=len(references)//batch_size\n",
    "):\n",
    "    rbatch = references[bstart:bend]\n",
    "    rspec, rlen = spectra_peaks_to_tensor(rbatch, dtype=dtype)\n",
    "    batches_r.append([rspec, rlen, bstart, bend])\n",
    "\n",
    "batches_q = []\n",
    "for bstart, bend in tqdm(\n",
    "    argbatch(queries, batch_size), desc=\"Batch all queries\",\n",
    "    total=len(queries)//batch_size\n",
    "):\n",
    "    qbatch = queries[bstart:bend]\n",
    "    qspec, qlen = spectra_peaks_to_tensor(qbatch, dtype=dtype)\n",
    "    batches_q.append([qspec, qlen, bstart, bend])\n",
    "    \n",
    "batched_inputs = tuple(product(batches_r, batches_q))"
   ]
  },
  {
   "cell_type": "code",
   "execution_count": 8,
   "metadata": {},
   "outputs": [
    {
     "name": "stderr",
     "output_type": "stream",
     "text": [
      "100%|██████████| 169/169 [14:31<00:00,  5.16s/it] \n"
     ]
    }
   ],
   "source": [
    "device = torch.device('cuda')\n",
    "host = torch.device('cpu')\n",
    "\n",
    "! rm -rf data/output\n",
    "! mkdir -p data/output\n",
    "\n",
    "with torch.no_grad():\n",
    "    for batch_i in tqdm(range(len(batched_inputs))):\n",
    "        (rspec, rlen, rstart, rend), (qspec, qlen, qstart, qend) = batched_inputs[\n",
    "            batch_i\n",
    "        ]\n",
    "        \n",
    "        lens = torch.zeros(2, batch_size, dtype=torch.int32)\n",
    "        lens[0, :len(rlen)] = torch.from_numpy(rlen)\n",
    "        lens[1, :len(qlen)] = torch.from_numpy(qlen)\n",
    "        \n",
    "        lens = lens.to(device)\n",
    "        \n",
    "        rspec = torch.from_numpy(rspec).to(device)\n",
    "        qspec = torch.from_numpy(qspec).to(device)\n",
    "    \n",
    "        rspec = cuda.as_cuda_array(rspec)\n",
    "        qspec = cuda.as_cuda_array(qspec)\n",
    "        lens = cuda.as_cuda_array(lens)\n",
    "            \n",
    "        out = torch.empty(3, batch_size, batch_size, dtype=torch.float32, device=device)\n",
    "        out = cuda.as_cuda_array(out)\n",
    "        \n",
    "        kernel(rspec, qspec, lens, out)\n",
    "        \n",
    "        out = torch.as_tensor(out, device=device)\n",
    "        mask = out[0] >= threshold\n",
    "        row, col = torch.nonzero(mask, as_tuple=True)\n",
    "        rabs = rstart + row\n",
    "        qabs = qstart + col\n",
    "        score, matches, overflow = out[:, mask].to(host)\n",
    "        \n",
    "        np.savez_compressed(\n",
    "            f'data/output/{rstart}-{rend}-{qstart}-{qend}.npz', \n",
    "            rabs=rabs.int().to(host), \n",
    "            qabs=qabs.int().to(host), \n",
    "            score=score.float(),\n",
    "            matches=matches.int(),\n",
    "            overflow=overflow.bool()\n",
    "        )"
   ]
  },
  {
   "cell_type": "code",
   "execution_count": 9,
   "metadata": {},
   "outputs": [
    {
     "name": "stdout",
     "output_type": "stream",
     "text": [
      "667M\tdata/output/\n"
     ]
    }
   ],
   "source": [
    "! du -hs data/output/"
   ]
  },
  {
   "cell_type": "code",
   "execution_count": 10,
   "metadata": {},
   "outputs": [
    {
     "name": "stdout",
     "output_type": "stream",
     "text": [
      "667M\tdata/output/\n",
      "Total file size 0.699 GB\n"
     ]
    }
   ],
   "source": [
    "from pathlib import Path\n",
    "\n",
    "! du -hs data/output/\n",
    "\n",
    "total_size = sum(f.stat().st_size for f in Path('data/output').glob('**/*') if f.is_file())\n",
    "print(f'Total file size {total_size/1e9:.3f} GB')"
   ]
  },
  {
   "cell_type": "code",
   "execution_count": 11,
   "metadata": {},
   "outputs": [
    {
     "name": "stderr",
     "output_type": "stream",
     "text": [
      "169it [00:07, 23.78it/s]\n"
     ]
    }
   ],
   "source": [
    "qabs = []\n",
    "rabs = []\n",
    "score = []\n",
    "matches = []\n",
    "overflow = []\n",
    "for file in tqdm(Path('data/output').glob('*.npz')):\n",
    "    bunch = np.load(file)\n",
    "    qabs += [bunch['qabs']]\n",
    "    rabs += [bunch['rabs']]\n",
    "    score += [bunch['score']]\n",
    "    matches += [bunch['matches']]\n",
    "    overflow += [bunch['overflow']]"
   ]
  },
  {
   "cell_type": "code",
   "execution_count": 12,
   "metadata": {},
   "outputs": [],
   "source": [
    "qabs = np.concatenate(qabs)\n",
    "rabs = np.concatenate(rabs)\n",
    "score = np.concatenate(score)\n",
    "matches = np.concatenate(matches)\n",
    "overflow = np.concatenate(overflow)"
   ]
  },
  {
   "cell_type": "code",
   "execution_count": 13,
   "metadata": {},
   "outputs": [],
   "source": [
    "# Suppose we want to query these absolute query IDs, and sort their results\n",
    "query = np.array([1, 42, 121, 99_999])"
   ]
  },
  {
   "cell_type": "code",
   "execution_count": 14,
   "metadata": {},
   "outputs": [
    {
     "name": "stdout",
     "output_type": "stream",
     "text": [
      "Similarity for chemical with QueryID=1\n"
     ]
    },
    {
     "data": {
      "text/html": [
       "<div>\n",
       "<style scoped>\n",
       "    .dataframe tbody tr th:only-of-type {\n",
       "        vertical-align: middle;\n",
       "    }\n",
       "\n",
       "    .dataframe tbody tr th {\n",
       "        vertical-align: top;\n",
       "    }\n",
       "\n",
       "    .dataframe thead th {\n",
       "        text-align: right;\n",
       "    }\n",
       "</style>\n",
       "<table border=\"1\" class=\"dataframe\">\n",
       "  <thead>\n",
       "    <tr style=\"text-align: right;\">\n",
       "      <th></th>\n",
       "      <th>ReferenceID</th>\n",
       "      <th>Score</th>\n",
       "      <th>Matches</th>\n",
       "      <th>Overflow</th>\n",
       "    </tr>\n",
       "  </thead>\n",
       "  <tbody>\n",
       "    <tr>\n",
       "      <th>0</th>\n",
       "      <td>1.0</td>\n",
       "      <td>1.0</td>\n",
       "      <td>335.0</td>\n",
       "      <td>0.0</td>\n",
       "    </tr>\n",
       "  </tbody>\n",
       "</table>\n",
       "</div>"
      ],
      "text/plain": [
       "   ReferenceID  Score  Matches  Overflow\n",
       "0          1.0    1.0    335.0       0.0"
      ]
     },
     "metadata": {},
     "output_type": "display_data"
    },
    {
     "name": "stdout",
     "output_type": "stream",
     "text": [
      "Similarity for chemical with QueryID=42\n"
     ]
    },
    {
     "data": {
      "text/html": [
       "<div>\n",
       "<style scoped>\n",
       "    .dataframe tbody tr th:only-of-type {\n",
       "        vertical-align: middle;\n",
       "    }\n",
       "\n",
       "    .dataframe tbody tr th {\n",
       "        vertical-align: top;\n",
       "    }\n",
       "\n",
       "    .dataframe thead th {\n",
       "        text-align: right;\n",
       "    }\n",
       "</style>\n",
       "<table border=\"1\" class=\"dataframe\">\n",
       "  <thead>\n",
       "    <tr style=\"text-align: right;\">\n",
       "      <th></th>\n",
       "      <th>ReferenceID</th>\n",
       "      <th>Score</th>\n",
       "      <th>Matches</th>\n",
       "      <th>Overflow</th>\n",
       "    </tr>\n",
       "  </thead>\n",
       "  <tbody>\n",
       "    <tr>\n",
       "      <th>0</th>\n",
       "      <td>42.0</td>\n",
       "      <td>1.000000</td>\n",
       "      <td>14.0</td>\n",
       "      <td>0.0</td>\n",
       "    </tr>\n",
       "    <tr>\n",
       "      <th>1</th>\n",
       "      <td>44.0</td>\n",
       "      <td>0.920637</td>\n",
       "      <td>10.0</td>\n",
       "      <td>0.0</td>\n",
       "    </tr>\n",
       "    <tr>\n",
       "      <th>2</th>\n",
       "      <td>31928.0</td>\n",
       "      <td>0.767068</td>\n",
       "      <td>4.0</td>\n",
       "      <td>0.0</td>\n",
       "    </tr>\n",
       "  </tbody>\n",
       "</table>\n",
       "</div>"
      ],
      "text/plain": [
       "   ReferenceID     Score  Matches  Overflow\n",
       "0         42.0  1.000000     14.0       0.0\n",
       "1         44.0  0.920637     10.0       0.0\n",
       "2      31928.0  0.767068      4.0       0.0"
      ]
     },
     "metadata": {},
     "output_type": "display_data"
    },
    {
     "name": "stdout",
     "output_type": "stream",
     "text": [
      "Similarity for chemical with QueryID=121\n"
     ]
    },
    {
     "data": {
      "text/html": [
       "<div>\n",
       "<style scoped>\n",
       "    .dataframe tbody tr th:only-of-type {\n",
       "        vertical-align: middle;\n",
       "    }\n",
       "\n",
       "    .dataframe tbody tr th {\n",
       "        vertical-align: top;\n",
       "    }\n",
       "\n",
       "    .dataframe thead th {\n",
       "        text-align: right;\n",
       "    }\n",
       "</style>\n",
       "<table border=\"1\" class=\"dataframe\">\n",
       "  <thead>\n",
       "    <tr style=\"text-align: right;\">\n",
       "      <th></th>\n",
       "      <th>ReferenceID</th>\n",
       "      <th>Score</th>\n",
       "      <th>Matches</th>\n",
       "      <th>Overflow</th>\n",
       "    </tr>\n",
       "  </thead>\n",
       "  <tbody>\n",
       "    <tr>\n",
       "      <th>0</th>\n",
       "      <td>121.0</td>\n",
       "      <td>1.000000</td>\n",
       "      <td>16.0</td>\n",
       "      <td>0.0</td>\n",
       "    </tr>\n",
       "    <tr>\n",
       "      <th>1</th>\n",
       "      <td>137.0</td>\n",
       "      <td>0.996308</td>\n",
       "      <td>6.0</td>\n",
       "      <td>0.0</td>\n",
       "    </tr>\n",
       "    <tr>\n",
       "      <th>2</th>\n",
       "      <td>7200.0</td>\n",
       "      <td>0.909340</td>\n",
       "      <td>1.0</td>\n",
       "      <td>0.0</td>\n",
       "    </tr>\n",
       "    <tr>\n",
       "      <th>3</th>\n",
       "      <td>27747.0</td>\n",
       "      <td>0.898213</td>\n",
       "      <td>1.0</td>\n",
       "      <td>0.0</td>\n",
       "    </tr>\n",
       "  </tbody>\n",
       "</table>\n",
       "</div>"
      ],
      "text/plain": [
       "   ReferenceID     Score  Matches  Overflow\n",
       "0        121.0  1.000000     16.0       0.0\n",
       "1        137.0  0.996308      6.0       0.0\n",
       "2       7200.0  0.909340      1.0       0.0\n",
       "3      27747.0  0.898213      1.0       0.0"
      ]
     },
     "metadata": {},
     "output_type": "display_data"
    },
    {
     "name": "stdout",
     "output_type": "stream",
     "text": [
      "Similarity for chemical with QueryID=99999\n"
     ]
    },
    {
     "data": {
      "text/html": [
       "<div>\n",
       "<style scoped>\n",
       "    .dataframe tbody tr th:only-of-type {\n",
       "        vertical-align: middle;\n",
       "    }\n",
       "\n",
       "    .dataframe tbody tr th {\n",
       "        vertical-align: top;\n",
       "    }\n",
       "\n",
       "    .dataframe thead th {\n",
       "        text-align: right;\n",
       "    }\n",
       "</style>\n",
       "<table border=\"1\" class=\"dataframe\">\n",
       "  <thead>\n",
       "    <tr style=\"text-align: right;\">\n",
       "      <th></th>\n",
       "      <th>ReferenceID</th>\n",
       "      <th>Score</th>\n",
       "      <th>Matches</th>\n",
       "      <th>Overflow</th>\n",
       "    </tr>\n",
       "  </thead>\n",
       "  <tbody>\n",
       "    <tr>\n",
       "      <th>0</th>\n",
       "      <td>2250.0</td>\n",
       "      <td>0.860784</td>\n",
       "      <td>2.0</td>\n",
       "      <td>0.0</td>\n",
       "    </tr>\n",
       "    <tr>\n",
       "      <th>1</th>\n",
       "      <td>16953.0</td>\n",
       "      <td>0.883292</td>\n",
       "      <td>6.0</td>\n",
       "      <td>0.0</td>\n",
       "    </tr>\n",
       "    <tr>\n",
       "      <th>2</th>\n",
       "      <td>17925.0</td>\n",
       "      <td>0.926368</td>\n",
       "      <td>1.0</td>\n",
       "      <td>0.0</td>\n",
       "    </tr>\n",
       "    <tr>\n",
       "      <th>3</th>\n",
       "      <td>24743.0</td>\n",
       "      <td>0.841180</td>\n",
       "      <td>8.0</td>\n",
       "      <td>0.0</td>\n",
       "    </tr>\n",
       "    <tr>\n",
       "      <th>4</th>\n",
       "      <td>24823.0</td>\n",
       "      <td>0.854928</td>\n",
       "      <td>2.0</td>\n",
       "      <td>0.0</td>\n",
       "    </tr>\n",
       "    <tr>\n",
       "      <th>5</th>\n",
       "      <td>24949.0</td>\n",
       "      <td>0.769974</td>\n",
       "      <td>5.0</td>\n",
       "      <td>0.0</td>\n",
       "    </tr>\n",
       "    <tr>\n",
       "      <th>6</th>\n",
       "      <td>31472.0</td>\n",
       "      <td>0.887954</td>\n",
       "      <td>3.0</td>\n",
       "      <td>0.0</td>\n",
       "    </tr>\n",
       "    <tr>\n",
       "      <th>7</th>\n",
       "      <td>31681.0</td>\n",
       "      <td>0.848997</td>\n",
       "      <td>1.0</td>\n",
       "      <td>0.0</td>\n",
       "    </tr>\n",
       "    <tr>\n",
       "      <th>8</th>\n",
       "      <td>31824.0</td>\n",
       "      <td>0.755243</td>\n",
       "      <td>6.0</td>\n",
       "      <td>0.0</td>\n",
       "    </tr>\n",
       "    <tr>\n",
       "      <th>9</th>\n",
       "      <td>34241.0</td>\n",
       "      <td>0.848997</td>\n",
       "      <td>1.0</td>\n",
       "      <td>0.0</td>\n",
       "    </tr>\n",
       "    <tr>\n",
       "      <th>10</th>\n",
       "      <td>99831.0</td>\n",
       "      <td>0.955330</td>\n",
       "      <td>2.0</td>\n",
       "      <td>0.0</td>\n",
       "    </tr>\n",
       "    <tr>\n",
       "      <th>11</th>\n",
       "      <td>99867.0</td>\n",
       "      <td>0.939054</td>\n",
       "      <td>2.0</td>\n",
       "      <td>0.0</td>\n",
       "    </tr>\n",
       "    <tr>\n",
       "      <th>12</th>\n",
       "      <td>99869.0</td>\n",
       "      <td>0.944399</td>\n",
       "      <td>1.0</td>\n",
       "      <td>0.0</td>\n",
       "    </tr>\n",
       "    <tr>\n",
       "      <th>13</th>\n",
       "      <td>99938.0</td>\n",
       "      <td>0.953977</td>\n",
       "      <td>1.0</td>\n",
       "      <td>0.0</td>\n",
       "    </tr>\n",
       "    <tr>\n",
       "      <th>14</th>\n",
       "      <td>99997.0</td>\n",
       "      <td>0.963578</td>\n",
       "      <td>2.0</td>\n",
       "      <td>0.0</td>\n",
       "    </tr>\n",
       "    <tr>\n",
       "      <th>15</th>\n",
       "      <td>99999.0</td>\n",
       "      <td>1.000000</td>\n",
       "      <td>15.0</td>\n",
       "      <td>0.0</td>\n",
       "    </tr>\n",
       "  </tbody>\n",
       "</table>\n",
       "</div>"
      ],
      "text/plain": [
       "    ReferenceID     Score  Matches  Overflow\n",
       "0        2250.0  0.860784      2.0       0.0\n",
       "1       16953.0  0.883292      6.0       0.0\n",
       "2       17925.0  0.926368      1.0       0.0\n",
       "3       24743.0  0.841180      8.0       0.0\n",
       "4       24823.0  0.854928      2.0       0.0\n",
       "5       24949.0  0.769974      5.0       0.0\n",
       "6       31472.0  0.887954      3.0       0.0\n",
       "7       31681.0  0.848997      1.0       0.0\n",
       "8       31824.0  0.755243      6.0       0.0\n",
       "9       34241.0  0.848997      1.0       0.0\n",
       "10      99831.0  0.955330      2.0       0.0\n",
       "11      99867.0  0.939054      2.0       0.0\n",
       "12      99869.0  0.944399      1.0       0.0\n",
       "13      99938.0  0.953977      1.0       0.0\n",
       "14      99997.0  0.963578      2.0       0.0\n",
       "15      99999.0  1.000000     15.0       0.0"
      ]
     },
     "metadata": {},
     "output_type": "display_data"
    }
   ],
   "source": [
    "import pandas as pd\n",
    "from IPython.display import display\n",
    "for q in query:\n",
    "    idx = qabs == q\n",
    "    res = np.stack([rabs[idx], score[idx], matches[idx], overflow[idx]],axis=1)\n",
    "    res = pd.DataFrame(res, columns='ReferenceID Score Matches Overflow'.split())\n",
    "    print(f\"Similarity for chemical with QueryID={q}\")\n",
    "    display(res)"
   ]
  }
 ],
 "metadata": {
  "kernelspec": {
   "display_name": "Python 3 (ipykernel)",
   "language": "python",
   "name": "python3"
  },
  "language_info": {
   "codemirror_mode": {
    "name": "ipython",
    "version": 3
   },
   "file_extension": ".py",
   "mimetype": "text/x-python",
   "name": "python",
   "nbconvert_exporter": "python",
   "pygments_lexer": "ipython3",
   "version": "3.11.8"
  }
 },
 "nbformat": 4,
 "nbformat_minor": 4
}
