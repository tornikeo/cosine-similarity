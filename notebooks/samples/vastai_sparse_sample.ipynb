{
 "cells": [
  {
   "cell_type": "code",
   "execution_count": 1,
   "metadata": {},
   "outputs": [
    {
     "name": "stdout",
     "output_type": "stream",
     "text": [
      "env: PYTHONWARNINGS=ignore\n"
     ]
    }
   ],
   "source": [
    "%load_ext autoreload\n",
    "%autoreload 2\n",
    "%pwd\n",
    "%env PYTHONWARNINGS ignore"
   ]
  },
  {
   "cell_type": "code",
   "execution_count": 2,
   "metadata": {},
   "outputs": [
    {
     "name": "stdout",
     "output_type": "stream",
     "text": [
      "\u001b[33mWARNING: Running pip as the 'root' user can result in broken permissions and conflicting behaviour with the system package manager. It is recommended to use a virtual environment instead: https://pip.pypa.io/warnings/venv\u001b[0m\u001b[33m\n",
      "\u001b[0mCollecting git+https://github.com/tornikeo/cosine-similarity.git@dev\n",
      "  Cloning https://github.com/tornikeo/cosine-similarity.git (to revision dev) to /tmp/pip-req-build-cg4nlml4\n",
      "  Running command git clone --filter=blob:none --quiet https://github.com/tornikeo/cosine-similarity.git /tmp/pip-req-build-cg4nlml4\n",
      "  Running command git checkout -b dev --track origin/dev\n",
      "  Switched to a new branch 'dev'\n",
      "  Branch 'dev' set up to track remote branch 'dev' from 'origin'.\n",
      "  Resolved https://github.com/tornikeo/cosine-similarity.git to commit 21629031dc8c044a9454f521a2d265bd2ec234cf\n",
      "  Installing build dependencies ... \u001b[?25ldone\n",
      "\u001b[?25h  Getting requirements to build wheel ... \u001b[?25ldone\n",
      "\u001b[?25h  Preparing metadata (pyproject.toml) ... \u001b[?25ldone\n",
      "\u001b[?25hRequirement already satisfied: matchms>=0.24.0 in /opt/conda/lib/python3.10/site-packages (from cudams==0.0.1) (0.24.2)\n",
      "Requirement already satisfied: torch in /opt/conda/lib/python3.10/site-packages (from cudams==0.0.1) (2.2.1)\n",
      "Requirement already satisfied: rdkit in /opt/conda/lib/python3.10/site-packages (from cudams==0.0.1) (2023.9.5)\n",
      "Requirement already satisfied: h5py in /opt/conda/lib/python3.10/site-packages (from cudams==0.0.1) (3.10.0)\n",
      "Requirement already satisfied: pydantic in /opt/conda/lib/python3.10/site-packages (from cudams==0.0.1) (2.6.2)\n",
      "Requirement already satisfied: numba in /opt/conda/lib/python3.10/site-packages (from cudams==0.0.1) (0.57.1)\n",
      "Requirement already satisfied: pandas in /opt/conda/lib/python3.10/site-packages (from cudams==0.0.1) (2.2.1)\n",
      "Requirement already satisfied: joblib in /opt/conda/lib/python3.10/site-packages (from cudams==0.0.1) (1.3.2)\n",
      "Requirement already satisfied: tqdm in /opt/conda/lib/python3.10/site-packages (from cudams==0.0.1) (4.65.0)\n",
      "Requirement already satisfied: requests in /opt/conda/lib/python3.10/site-packages (from cudams==0.0.1) (2.31.0)\n",
      "Requirement already satisfied: pooch in /opt/conda/lib/python3.10/site-packages (from cudams==0.0.1) (1.8.1)\n",
      "Requirement already satisfied: deprecated<2.0.0,>=1.2.14 in /opt/conda/lib/python3.10/site-packages (from matchms>=0.24.0->cudams==0.0.1) (1.2.14)\n",
      "Requirement already satisfied: lxml<5.0.0,>=4.9.3 in /opt/conda/lib/python3.10/site-packages (from matchms>=0.24.0->cudams==0.0.1) (4.9.4)\n",
      "Requirement already satisfied: matplotlib<4.0.0,>=3.7.2 in /opt/conda/lib/python3.10/site-packages (from matchms>=0.24.0->cudams==0.0.1) (3.8.3)\n",
      "Requirement already satisfied: networkx<4.0,>=3.1 in /opt/conda/lib/python3.10/site-packages (from matchms>=0.24.0->cudams==0.0.1) (3.1)\n",
      "Requirement already satisfied: numpy<1.25 in /opt/conda/lib/python3.10/site-packages (from matchms>=0.24.0->cudams==0.0.1) (1.24.4)\n",
      "Requirement already satisfied: pickydict<0.5.0,>=0.4.0 in /opt/conda/lib/python3.10/site-packages (from matchms>=0.24.0->cudams==0.0.1) (0.4.0)\n",
      "Requirement already satisfied: pillow!=9.4.0 in /opt/conda/lib/python3.10/site-packages (from matchms>=0.24.0->cudams==0.0.1) (10.2.0)\n",
      "Requirement already satisfied: pubchempy in /opt/conda/lib/python3.10/site-packages (from matchms>=0.24.0->cudams==0.0.1) (1.0.4)\n",
      "Requirement already satisfied: pyteomics<5.0,>=4.6 in /opt/conda/lib/python3.10/site-packages (from matchms>=0.24.0->cudams==0.0.1) (4.7.1)\n",
      "Requirement already satisfied: pyyaml<7.0.0,>=6.0.1 in /opt/conda/lib/python3.10/site-packages (from matchms>=0.24.0->cudams==0.0.1) (6.0.1)\n",
      "Requirement already satisfied: scipy<1.11 in /opt/conda/lib/python3.10/site-packages (from matchms>=0.24.0->cudams==0.0.1) (1.10.1)\n",
      "Requirement already satisfied: sparsestack<0.5.0,>=0.4.1 in /opt/conda/lib/python3.10/site-packages (from matchms>=0.24.0->cudams==0.0.1) (0.4.1)\n",
      "Requirement already satisfied: llvmlite<0.41,>=0.40.0dev0 in /opt/conda/lib/python3.10/site-packages (from numba->cudams==0.0.1) (0.40.1)\n",
      "Requirement already satisfied: python-dateutil>=2.8.2 in /opt/conda/lib/python3.10/site-packages (from pandas->cudams==0.0.1) (2.8.2)\n",
      "Requirement already satisfied: pytz>=2020.1 in /opt/conda/lib/python3.10/site-packages (from pandas->cudams==0.0.1) (2023.3.post1)\n",
      "Requirement already satisfied: tzdata>=2022.7 in /opt/conda/lib/python3.10/site-packages (from pandas->cudams==0.0.1) (2024.1)\n",
      "Requirement already satisfied: charset-normalizer<4,>=2 in /opt/conda/lib/python3.10/site-packages (from requests->cudams==0.0.1) (2.0.4)\n",
      "Requirement already satisfied: idna<4,>=2.5 in /opt/conda/lib/python3.10/site-packages (from requests->cudams==0.0.1) (3.4)\n",
      "Requirement already satisfied: urllib3<3,>=1.21.1 in /opt/conda/lib/python3.10/site-packages (from requests->cudams==0.0.1) (2.1.0)\n",
      "Requirement already satisfied: certifi>=2017.4.17 in /opt/conda/lib/python3.10/site-packages (from requests->cudams==0.0.1) (2024.2.2)\n",
      "Requirement already satisfied: platformdirs>=2.5.0 in /opt/conda/lib/python3.10/site-packages (from pooch->cudams==0.0.1) (3.10.0)\n",
      "Requirement already satisfied: packaging>=20.0 in /opt/conda/lib/python3.10/site-packages (from pooch->cudams==0.0.1) (23.1)\n",
      "Requirement already satisfied: annotated-types>=0.4.0 in /opt/conda/lib/python3.10/site-packages (from pydantic->cudams==0.0.1) (0.6.0)\n",
      "Requirement already satisfied: pydantic-core==2.16.3 in /opt/conda/lib/python3.10/site-packages (from pydantic->cudams==0.0.1) (2.16.3)\n",
      "Requirement already satisfied: typing-extensions>=4.6.1 in /opt/conda/lib/python3.10/site-packages (from pydantic->cudams==0.0.1) (4.9.0)\n",
      "Requirement already satisfied: filelock in /opt/conda/lib/python3.10/site-packages (from torch->cudams==0.0.1) (3.13.1)\n",
      "Requirement already satisfied: sympy in /opt/conda/lib/python3.10/site-packages (from torch->cudams==0.0.1) (1.12)\n",
      "Requirement already satisfied: jinja2 in /opt/conda/lib/python3.10/site-packages (from torch->cudams==0.0.1) (3.1.3)\n",
      "Requirement already satisfied: fsspec in /opt/conda/lib/python3.10/site-packages (from torch->cudams==0.0.1) (2024.2.0)\n",
      "Requirement already satisfied: wrapt<2,>=1.10 in /opt/conda/lib/python3.10/site-packages (from deprecated<2.0.0,>=1.2.14->matchms>=0.24.0->cudams==0.0.1) (1.16.0)\n",
      "Requirement already satisfied: contourpy>=1.0.1 in /opt/conda/lib/python3.10/site-packages (from matplotlib<4.0.0,>=3.7.2->matchms>=0.24.0->cudams==0.0.1) (1.2.0)\n",
      "Requirement already satisfied: cycler>=0.10 in /opt/conda/lib/python3.10/site-packages (from matplotlib<4.0.0,>=3.7.2->matchms>=0.24.0->cudams==0.0.1) (0.12.1)\n",
      "Requirement already satisfied: fonttools>=4.22.0 in /opt/conda/lib/python3.10/site-packages (from matplotlib<4.0.0,>=3.7.2->matchms>=0.24.0->cudams==0.0.1) (4.49.0)\n",
      "Requirement already satisfied: kiwisolver>=1.3.1 in /opt/conda/lib/python3.10/site-packages (from matplotlib<4.0.0,>=3.7.2->matchms>=0.24.0->cudams==0.0.1) (1.4.5)\n",
      "Requirement already satisfied: pyparsing>=2.3.1 in /opt/conda/lib/python3.10/site-packages (from matplotlib<4.0.0,>=3.7.2->matchms>=0.24.0->cudams==0.0.1) (3.1.1)\n",
      "Requirement already satisfied: six>=1.5 in /opt/conda/lib/python3.10/site-packages (from python-dateutil>=2.8.2->pandas->cudams==0.0.1) (1.16.0)\n",
      "Requirement already satisfied: MarkupSafe>=2.0 in /opt/conda/lib/python3.10/site-packages (from jinja2->torch->cudams==0.0.1) (2.1.3)\n",
      "Requirement already satisfied: mpmath>=0.19 in /opt/conda/lib/python3.10/site-packages (from sympy->torch->cudams==0.0.1) (1.3.0)\n",
      "Building wheels for collected packages: cudams\n",
      "  Building wheel for cudams (pyproject.toml) ... \u001b[?25ldone\n",
      "\u001b[?25h  Created wheel for cudams: filename=cudams-0.0.1-py3-none-any.whl size=18593 sha256=59ce6a95d3c66d4979156c1109cb3a29e32287b7270c6b29ecf917e395edf6ab\n",
      "  Stored in directory: /tmp/pip-ephem-wheel-cache-7a30sa6h/wheels/69/5a/b2/042e17f5c3a426762af6e3eded8492596b447c5c6dd3dcfdd8\n",
      "Successfully built cudams\n",
      "Installing collected packages: cudams\n",
      "Successfully installed cudams-0.0.1\n",
      "\u001b[33mWARNING: Running pip as the 'root' user can result in broken permissions and conflicting behaviour with the system package manager. It is recommended to use a virtual environment instead: https://pip.pypa.io/warnings/venv\u001b[0m\u001b[33m\n",
      "\u001b[0m"
     ]
    }
   ],
   "source": [
    "! pip uninstall cudams -q -y\n",
    "! pip install git+https://github.com/tornikeo/cosine-similarity.git@dev"
   ]
  },
  {
   "cell_type": "markdown",
   "metadata": {},
   "source": [
    "# Load data"
   ]
  },
  {
   "cell_type": "code",
   "execution_count": 3,
   "metadata": {},
   "outputs": [],
   "source": [
    "from cudams.utils import \\\n",
    "    argbatch, mkdir, get_ref_spectra_from_df\n",
    "import math\n",
    "from pathlib import Path\n",
    "from time import perf_counter\n",
    "import numpy as np\n",
    "import json\n",
    "import matplotlib.pyplot as plt\n",
    "from tqdm import tqdm\n",
    "import torch\n",
    "import numba\n",
    "from numba import cuda\n",
    "\n",
    "assert torch.cuda.is_available()\n",
    "assert cuda.is_available()"
   ]
  },
  {
   "cell_type": "code",
   "execution_count": 4,
   "metadata": {},
   "outputs": [],
   "source": [
    "from cudams.similarity.kernels import compile_cuda_cosine_greedy_kernel\n",
    "\n",
    "match_limit = 1024\n",
    "max_peaks = 1024\n",
    "batch_size = 2048 * 4 # Works best on rtx4090. Use half for most other less advanced hardware (i.e. T4)\n",
    "\n",
    "# IMPORTANT! Keep this value above .5, especially for large spectra files. The score results might get *extremely* large (100s of GB)\n",
    "# for low sparsity thresholds. This value dictates the minimum cosine greedy similarity threshold at which we keep the result\n",
    "# similarity results with a score below threshold are discarded.\n",
    "threshold = .75\n",
    "\n",
    "kernel = compile_cuda_cosine_greedy_kernel(\n",
    "    tolerance=.1,\n",
    "    shift=0,\n",
    "    mz_power=0,\n",
    "    int_power=1,\n",
    "    match_limit=match_limit,\n",
    "    batch_size=batch_size,\n",
    ")"
   ]
  },
  {
   "cell_type": "markdown",
   "metadata": {},
   "source": [
    "We will run a pairwise cosine similarity on the entirety of the GNPS dataset (around 500_000 spectra).\n",
    "\n",
    "Parsing these many spectra takes a while, so I already have a pickled version of the same dataset ready to go in `ALL_GNPS.pickle`.\n",
    "\n",
    "Alternatively, you can use `ALL_GNPS.mgf` and wait for the parsing to finish."
   ]
  },
  {
   "cell_type": "code",
   "execution_count": 5,
   "metadata": {
    "collapsed": true,
    "jupyter": {
     "outputs_hidden": true
    },
    "scrolled": true
   },
   "outputs": [
    {
     "name": "stderr",
     "output_type": "stream",
     "text": [
      "/opt/conda/lib/python3.10/site-packages/cudams/utils.py:239: UserWarning: As of 2024, ALL_GNPS.mgf is a large file (1.76GB) make sure the machine can handle this\n",
      "  warnings.warn(f\"As of 2024, {name} is a large file (1.76GB) make sure the machine can handle this\")\n",
      "1682it [00:04, 615.42it/s]"
     ]
    },
    {
     "name": "stdout",
     "output_type": "stream",
     "text": [
      "2024-02-27 13:13:34,413:WARNING:matchms:correct_charge:Changed sign of given charge: -1 to match positive ionmode\n",
      "2024-02-27 13:13:34,420:WARNING:matchms:correct_charge:Changed sign of given charge: -1 to match positive ionmode\n"
     ]
    },
    {
     "name": "stderr",
     "output_type": "stream",
     "text": [
      "1871it [00:05, 274.54it/s]"
     ]
    },
    {
     "name": "stdout",
     "output_type": "stream",
     "text": [
      "2024-02-27 13:13:35,436:WARNING:matchms:correct_charge:Changed sign of given charge: -1 to match positive ionmode\n"
     ]
    },
    {
     "name": "stderr",
     "output_type": "stream",
     "text": [
      "3344it [00:08, 462.60it/s]"
     ]
    },
    {
     "name": "stdout",
     "output_type": "stream",
     "text": [
      "2024-02-27 13:13:38,254:WARNING:matchms:interpret_unknown_adduct:Charge was found 0 times in adduct [M+Fe-2H]\n",
      "2024-02-27 13:13:38,263:WARNING:matchms:interpret_unknown_adduct:Charge was found 0 times in adduct [M+Fe-2H]\n",
      "2024-02-27 13:13:38,276:WARNING:matchms:interpret_unknown_adduct:Charge was found 0 times in adduct [M+Fe-2H]\n",
      "2024-02-27 13:13:38,289:WARNING:matchms:interpret_unknown_adduct:Charge was found 0 times in adduct [M+Fe-2H]\n",
      "2024-02-27 13:13:38,296:WARNING:matchms:interpret_unknown_adduct:Charge was found 0 times in adduct [M+Fe-2H]\n",
      "2024-02-27 13:13:38,309:WARNING:matchms:interpret_unknown_adduct:Charge was found 0 times in adduct [M+Fe-2H]\n",
      "2024-02-27 13:13:38,324:WARNING:matchms:interpret_unknown_adduct:Charge was found 0 times in adduct [M+Fe-2H]\n",
      "2024-02-27 13:13:38,330:WARNING:matchms:interpret_unknown_adduct:Charge was found 0 times in adduct [M+Cr-2H]\n",
      "2024-02-27 13:13:38,337:WARNING:matchms:interpret_unknown_adduct:Charge was found 0 times in adduct [M+Al-2H]\n",
      "2024-02-27 13:13:38,344:WARNING:matchms:interpret_unknown_adduct:Charge was found 0 times in adduct [M+Al-2H]\n",
      "2024-02-27 13:13:38,351:WARNING:matchms:interpret_unknown_adduct:Charge was found 0 times in adduct [M+Al-2H]\n",
      "2024-02-27 13:13:38,370:WARNING:matchms:interpret_unknown_adduct:Charge was found 0 times in adduct [M+Al-2H]\n",
      "2024-02-27 13:13:38,428:WARNING:matchms:interpret_unknown_adduct:Charge was found 0 times in adduct [M+Fe-2H]\n",
      "2024-02-27 13:13:38,442:WARNING:matchms:interpret_unknown_adduct:Charge was found 0 times in adduct [M+Fe-2H]\n",
      "2024-02-27 13:13:38,451:WARNING:matchms:interpret_unknown_adduct:Charge was found 0 times in adduct [M+Fe-2H]\n"
     ]
    },
    {
     "name": "stderr",
     "output_type": "stream",
     "text": [
      "3445it [00:08, 393.71it/s]"
     ]
    },
    {
     "name": "stdout",
     "output_type": "stream",
     "text": [
      "2024-02-27 13:13:38,473:WARNING:matchms:interpret_unknown_adduct:Charge was found 0 times in adduct [M+Fe-2H]\n"
     ]
    },
    {
     "name": "stderr",
     "output_type": "stream",
     "text": [
      "3752it [00:09, 423.67it/s]"
     ]
    },
    {
     "name": "stdout",
     "output_type": "stream",
     "text": [
      "2024-02-27 13:13:39,311:WARNING:matchms:derive_adduct_from_name:Two potential adducts were found in the compound name that are both valid adducts. The first adduct is used. The adducts found are: ['[2M+H]+', '[M+H]+']\n"
     ]
    },
    {
     "name": "stderr",
     "output_type": "stream",
     "text": [
      "3979it [00:09, 539.23it/s]"
     ]
    },
    {
     "name": "stdout",
     "output_type": "stream",
     "text": [
      "2024-02-27 13:13:39,743:WARNING:matchms:interpret_unknown_adduct:Charge was found 0 times in adduct [M+Na+]\n"
     ]
    },
    {
     "name": "stderr",
     "output_type": "stream",
     "text": [
      "4525it [00:10, 698.70it/s]"
     ]
    },
    {
     "name": "stdout",
     "output_type": "stream",
     "text": [
      "2024-02-27 13:13:40,471:WARNING:matchms:interpret_unknown_adduct:Charge was found 0 times in adduct [M+H+]\n",
      "2024-02-27 13:13:40,478:WARNING:matchms:interpret_unknown_adduct:Charge was found 0 times in adduct [M+Na+]\n",
      "2024-02-27 13:13:40,545:WARNING:matchms:interpret_unknown_adduct:Charge was found 0 times in adduct [M+H+]\n",
      "2024-02-27 13:13:40,552:WARNING:matchms:interpret_unknown_adduct:Charge was found 0 times in adduct [M+Na+]\n"
     ]
    },
    {
     "name": "stderr",
     "output_type": "stream",
     "text": [
      "5030it [00:11, 691.48it/s]"
     ]
    },
    {
     "name": "stdout",
     "output_type": "stream",
     "text": [
      "2024-02-27 13:13:41,147:WARNING:matchms:interpret_unknown_adduct:Charge was found 0 times in adduct [M+NH4;]\n",
      "2024-02-27 13:13:41,164:WARNING:matchms:interpret_unknown_adduct:Charge was found 0 times in adduct [M+H-CO]\n",
      "2024-02-27 13:13:41,171:WARNING:matchms:interpret_unknown_adduct:Charge was found 0 times in adduct [M-CO+Hputative]\n",
      "2024-02-27 13:13:41,191:WARNING:matchms:interpret_unknown_adduct:Charge was found 0 times in adduct [M-CO+H]\n"
     ]
    },
    {
     "name": "stderr",
     "output_type": "stream",
     "text": [
      "5191it [00:11, 565.83it/s]"
     ]
    },
    {
     "name": "stdout",
     "output_type": "stream",
     "text": [
      "2024-02-27 13:13:41,512:WARNING:matchms:interpret_unknown_adduct:Charge was found 0 times in adduct [M-H2\n",
      "2024-02-27 13:13:41,539:WARNING:matchms:interpret_unknown_adduct:Charge was found 0 times in adduct [M-H2+Fe]\n",
      "2024-02-27 13:13:41,552:WARNING:matchms:interpret_unknown_adduct:Charge was found 0 times in adduct [M-H2+Fe]\n",
      "2024-02-27 13:13:41,566:WARNING:matchms:interpret_unknown_adduct:Charge was found 0 times in adduct [M-H2+Fe]\n",
      "2024-02-27 13:13:41,573:WARNING:matchms:interpret_unknown_adduct:Charge was found 0 times in adduct [M-H2+Fe]\n",
      "2024-02-27 13:13:41,580:WARNING:matchms:interpret_unknown_adduct:Charge was found 0 times in adduct [M-H2+Fe]\n",
      "2024-02-27 13:13:41,586:WARNING:matchms:interpret_unknown_adduct:Charge was found 0 times in adduct [M-H2+Fe]\n",
      "2024-02-27 13:13:41,637:WARNING:matchms:interpret_unknown_adduct:Charge was found 0 times in adduct [M-3H+Fe+Na]\n",
      "2024-02-27 13:13:41,644:WARNING:matchms:interpret_unknown_adduct:Charge was found 0 times in adduct [M-3H+Fe+Na]\n"
     ]
    },
    {
     "name": "stderr",
     "output_type": "stream",
     "text": [
      "6289it [00:13, 585.16it/s]"
     ]
    },
    {
     "name": "stdout",
     "output_type": "stream",
     "text": [
      "2024-02-27 13:13:43,509:WARNING:matchms:correct_charge:Changed sign of given charge: -1 to match positive ionmode\n",
      "2024-02-27 13:13:43,515:WARNING:matchms:correct_charge:Changed sign of given charge: -1 to match positive ionmode\n"
     ]
    },
    {
     "name": "stderr",
     "output_type": "stream",
     "text": [
      "7434it [00:15, 908.69it/s]"
     ]
    },
    {
     "name": "stdout",
     "output_type": "stream",
     "text": [
      "2024-02-27 13:13:45,372:WARNING:matchms:derive_adduct_from_name:Two potential adducts were found in the compound name that are both valid adducts. The first adduct is used. The adducts found are: ['[M+H]+', '[M+Al]+']\n"
     ]
    },
    {
     "name": "stderr",
     "output_type": "stream",
     "text": [
      "11777it [00:22, 820.06it/s]"
     ]
    },
    {
     "name": "stdout",
     "output_type": "stream",
     "text": [
      "2024-02-27 13:13:52,030:WARNING:matchms:derive_adduct_from_name:Two potential adducts were found in the compound name that are both valid adducts. The first adduct is used. The adducts found are: ['[M+Na]+', '[M+H]+']\n",
      "2024-02-27 13:13:52,038:WARNING:matchms:derive_adduct_from_name:Two potential adducts were found in the compound name that are both valid adducts. The first adduct is used. The adducts found are: ['[M+Na]+', '[M+H]+']\n",
      "2024-02-27 13:13:52,138:WARNING:matchms:interpret_unknown_adduct:Charge was found 0 times in adduct [M+2H+]\n"
     ]
    },
    {
     "name": "stderr",
     "output_type": "stream",
     "text": [
      "11867it [00:22, 642.40it/s]"
     ]
    },
    {
     "name": "stdout",
     "output_type": "stream",
     "text": [
      "2024-02-27 13:13:52,316:WARNING:matchms:correct_charge:Changed sign of given charge: -1 to match positive ionmode\n",
      "2024-02-27 13:13:52,335:WARNING:matchms:correct_charge:Changed sign of given charge: -1 to match positive ionmode\n"
     ]
    },
    {
     "name": "stderr",
     "output_type": "stream",
     "text": [
      "13365it [00:25, 401.02it/s]"
     ]
    },
    {
     "name": "stdout",
     "output_type": "stream",
     "text": [
      "2024-02-27 13:13:55,092:WARNING:matchms:correct_charge:Changed sign of given charge: -1 to match positive ionmode\n"
     ]
    },
    {
     "name": "stderr",
     "output_type": "stream",
     "text": [
      "14942it [00:28, 666.83it/s]"
     ]
    },
    {
     "name": "stdout",
     "output_type": "stream",
     "text": [
      "2024-02-27 13:13:58,593:WARNING:matchms:derive_adduct_from_name:Two potential adducts were found in the compound name that are both valid adducts. The first adduct is used. The adducts found are: ['[M+H]+', '[2M+Na]+']\n",
      "2024-02-27 13:13:58,602:WARNING:matchms:derive_adduct_from_name:Two potential adducts were found in the compound name that are both valid adducts. The first adduct is used. The adducts found are: ['[M+H]+', '[2M+Na]+']\n",
      "2024-02-27 13:13:58,610:WARNING:matchms:derive_adduct_from_name:Two potential adducts were found in the compound name that are both valid adducts. The first adduct is used. The adducts found are: ['[M+H]+', '[2M+Na]+']\n",
      "2024-02-27 13:13:58,754:WARNING:matchms:derive_adduct_from_name:Two potential adducts were found in the compound name that are both valid adducts. The first adduct is used. The adducts found are: ['[2M+Na]+', '[M+H]+']\n",
      "2024-02-27 13:13:58,761:WARNING:matchms:derive_adduct_from_name:Two potential adducts were found in the compound name that are both valid adducts. The first adduct is used. The adducts found are: ['[2M+Na]+', '[M+H]+']\n",
      "2024-02-27 13:13:58,767:WARNING:matchms:derive_adduct_from_name:Two potential adducts were found in the compound name that are both valid adducts. The first adduct is used. The adducts found are: ['[2M+Na]+', '[M+H]+']\n"
     ]
    },
    {
     "name": "stderr",
     "output_type": "stream",
     "text": [
      "15552it [00:29, 692.93it/s]"
     ]
    },
    {
     "name": "stdout",
     "output_type": "stream",
     "text": [
      "2024-02-27 13:13:59,399:WARNING:matchms:derive_adduct_from_name:Two potential adducts were found in the compound name that are both valid adducts. The first adduct is used. The adducts found are: ['[2M+Na]+', '[M+H]+']\n",
      "2024-02-27 13:13:59,408:WARNING:matchms:derive_adduct_from_name:Two potential adducts were found in the compound name that are both valid adducts. The first adduct is used. The adducts found are: ['[2M+Na]+', '[M+H]+']\n",
      "2024-02-27 13:13:59,415:WARNING:matchms:derive_adduct_from_name:Two potential adducts were found in the compound name that are both valid adducts. The first adduct is used. The adducts found are: ['[2M+Na]+', '[M+H]+']\n"
     ]
    },
    {
     "name": "stderr",
     "output_type": "stream",
     "text": [
      "16066it [00:30, 803.96it/s]"
     ]
    },
    {
     "name": "stdout",
     "output_type": "stream",
     "text": [
      "2024-02-27 13:14:00,097:WARNING:matchms:derive_adduct_from_name:Two potential adducts were found in the compound name that are both valid adducts. The first adduct is used. The adducts found are: ['[M+H]+', '[2M-2H2O+H]+']\n"
     ]
    },
    {
     "name": "stderr",
     "output_type": "stream",
     "text": [
      "16651it [00:31, 747.30it/s]"
     ]
    },
    {
     "name": "stdout",
     "output_type": "stream",
     "text": [
      "2024-02-27 13:14:00,948:WARNING:matchms:interpret_unknown_adduct:Charge was found 0 times in adduct [M+H2O+H]\n"
     ]
    },
    {
     "name": "stderr",
     "output_type": "stream",
     "text": [
      "93422it [02:31, 610.35it/s] "
     ]
    },
    {
     "name": "stdout",
     "output_type": "stream",
     "text": [
      "2024-02-27 13:16:01,787:WARNING:matchms:derive_adduct_from_name:Two potential adducts were found in the compound name that are both valid adducts. The first adduct is used. The adducts found are: ['[M+OAc]-', '[M-H]-']\n",
      "2024-02-27 13:16:01,794:WARNING:matchms:derive_adduct_from_name:Two potential adducts were found in the compound name that are both valid adducts. The first adduct is used. The adducts found are: ['[M-H]-', '[M-CH3]-']\n",
      "2024-02-27 13:16:01,838:WARNING:matchms:derive_adduct_from_name:Two potential adducts were found in the compound name that are both valid adducts. The first adduct is used. The adducts found are: ['[M-H]-', '[M-CH3]-']\n",
      "2024-02-27 13:16:01,917:WARNING:matchms:derive_adduct_from_name:Two potential adducts were found in the compound name that are both valid adducts. The first adduct is used. The adducts found are: ['[M+OAc]-', '[M-H]-']\n",
      "2024-02-27 13:16:01,949:WARNING:matchms:derive_adduct_from_name:Two potential adducts were found in the compound name that are both valid adducts. The first adduct is used. The adducts found are: ['[M-H]-', '[M-CH3]-']\n",
      "2024-02-27 13:16:01,967:WARNING:matchms:derive_adduct_from_name:Two potential adducts were found in the compound name that are both valid adducts. The first adduct is used. The adducts found are: ['[M-H]-', '[M-CH3]-']\n"
     ]
    },
    {
     "name": "stderr",
     "output_type": "stream",
     "text": [
      "93618it [02:32, 742.89it/s]"
     ]
    },
    {
     "name": "stdout",
     "output_type": "stream",
     "text": [
      "2024-02-27 13:16:02,050:WARNING:matchms:derive_adduct_from_name:Two potential adducts were found in the compound name that are both valid adducts. The first adduct is used. The adducts found are: ['[M+OAc]-', '[M-H]-']\n",
      "2024-02-27 13:16:02,064:WARNING:matchms:derive_adduct_from_name:Two potential adducts were found in the compound name that are both valid adducts. The first adduct is used. The adducts found are: ['[M-H]-', '[M-CH3]-']\n",
      "2024-02-27 13:16:02,071:WARNING:matchms:interpret_unknown_adduct:Charge was found 0 times in adduct [M-CH3]\n",
      "2024-02-27 13:16:02,085:WARNING:matchms:derive_adduct_from_name:Two potential adducts were found in the compound name that are both valid adducts. The first adduct is used. The adducts found are: ['[M-H]-', '[M-CH3]-']\n",
      "2024-02-27 13:16:02,092:WARNING:matchms:derive_adduct_from_name:Two potential adducts were found in the compound name that are both valid adducts. The first adduct is used. The adducts found are: ['[M-H]-', '[M-CH3]-SM(d18:0/16:0)']\n",
      "2024-02-27 13:16:02,105:WARNING:matchms:derive_adduct_from_name:Two potential adducts were found in the compound name that are both valid adducts. The first adduct is used. The adducts found are: ['[M-H]-', '[M-CH3]-']\n",
      "2024-02-27 13:16:02,109:WARNING:matchms:derive_adduct_from_name:Two potential adducts were found in the compound name that are both valid adducts. The first adduct is used. The adducts found are: ['[M-H]-', '[M-CH3]-']\n",
      "2024-02-27 13:16:02,116:WARNING:matchms:derive_adduct_from_name:Two potential adducts were found in the compound name that are both valid adducts. The first adduct is used. The adducts found are: ['[M-H]-', '[M-CH3]-']\n",
      "2024-02-27 13:16:02,123:WARNING:matchms:derive_adduct_from_name:Two potential adducts were found in the compound name that are both valid adducts. The first adduct is used. The adducts found are: ['[M-H]-', '[M-CH3]-']\n",
      "2024-02-27 13:16:02,135:WARNING:matchms:derive_adduct_from_name:Two potential adducts were found in the compound name that are both valid adducts. The first adduct is used. The adducts found are: ['[M-H]-', '[M-CH3]-']\n",
      "2024-02-27 13:16:02,135:WARNING:matchms:derive_adduct_from_name:Two potential adducts were found in the compound name that are both valid adducts. The first adduct is used. The adducts found are: ['[M-H]-', '[M-CH3]-']\n",
      "2024-02-27 13:16:02,174:WARNING:matchms:derive_adduct_from_name:Two potential adducts were found in the compound name that are both valid adducts. The first adduct is used. The adducts found are: ['[M+OAc]-', '[M-H]-']\n",
      "2024-02-27 13:16:02,178:WARNING:matchms:derive_adduct_from_name:Two potential adducts were found in the compound name that are both valid adducts. The first adduct is used. The adducts found are: ['[M-H]-', '[M-CH3]-']\n",
      "2024-02-27 13:16:02,183:WARNING:matchms:derive_adduct_from_name:Two potential adducts were found in the compound name that are both valid adducts. The first adduct is used. The adducts found are: ['[M-H]-', '[M-CH3]-']\n",
      "2024-02-27 13:16:02,191:WARNING:matchms:derive_adduct_from_name:Two potential adducts were found in the compound name that are both valid adducts. The first adduct is used. The adducts found are: ['[M-H]-', '[M-CH3]-']\n",
      "2024-02-27 13:16:02,196:WARNING:matchms:derive_adduct_from_name:Two potential adducts were found in the compound name that are both valid adducts. The first adduct is used. The adducts found are: ['[M-H]-', '[M-CH3]-']\n"
     ]
    },
    {
     "name": "stderr",
     "output_type": "stream",
     "text": [
      "93812it [02:32, 758.21it/s]"
     ]
    },
    {
     "name": "stdout",
     "output_type": "stream",
     "text": [
      "2024-02-27 13:16:02,314:WARNING:matchms:derive_adduct_from_name:Two potential adducts were found in the compound name that are both valid adducts. The first adduct is used. The adducts found are: ['[M-H]-', '[M+OAc]-']\n",
      "2024-02-27 13:16:02,348:WARNING:matchms:derive_adduct_from_name:Two potential adducts were found in the compound name that are both valid adducts. The first adduct is used. The adducts found are: ['[M-H]-', '[M+OAc]-']\n",
      "2024-02-27 13:16:02,393:WARNING:matchms:derive_adduct_from_name:Two potential adducts were found in the compound name that are both valid adducts. The first adduct is used. The adducts found are: ['[M-H]-', '[M+OAc]-']\n"
     ]
    },
    {
     "name": "stderr",
     "output_type": "stream",
     "text": [
      "98798it [02:38, 703.93it/s]"
     ]
    },
    {
     "name": "stdout",
     "output_type": "stream",
     "text": [
      "2024-02-27 13:16:08,801:WARNING:matchms:derive_adduct_from_name:Two potential adducts were found in the compound name that are both valid adducts. The first adduct is used. The adducts found are: ['[M+OAc]-', '[M-H]-']\n",
      "2024-02-27 13:16:08,808:WARNING:matchms:derive_adduct_from_name:Two potential adducts were found in the compound name that are both valid adducts. The first adduct is used. The adducts found are: ['[M+OAc]-', '[M-H]-']\n",
      "2024-02-27 13:16:08,819:WARNING:matchms:derive_adduct_from_name:Two potential adducts were found in the compound name that are both valid adducts. The first adduct is used. The adducts found are: ['[M+OAc]-', '[M-H]-']\n",
      "2024-02-27 13:16:08,826:WARNING:matchms:derive_adduct_from_name:Two potential adducts were found in the compound name that are both valid adducts. The first adduct is used. The adducts found are: ['[M+OAc]-', '[M-H]-']\n",
      "2024-02-27 13:16:08,833:WARNING:matchms:derive_adduct_from_name:Two potential adducts were found in the compound name that are both valid adducts. The first adduct is used. The adducts found are: ['[M+OAc]-', '[M-H]-']\n",
      "2024-02-27 13:16:08,840:WARNING:matchms:derive_adduct_from_name:Two potential adducts were found in the compound name that are both valid adducts. The first adduct is used. The adducts found are: ['[M+OAc]-', '[M-H]-']\n",
      "2024-02-27 13:16:08,846:WARNING:matchms:derive_adduct_from_name:Two potential adducts were found in the compound name that are both valid adducts. The first adduct is used. The adducts found are: ['[M+OAc]-', '[M-H]-']\n",
      "2024-02-27 13:16:08,853:WARNING:matchms:derive_adduct_from_name:Two potential adducts were found in the compound name that are both valid adducts. The first adduct is used. The adducts found are: ['[M+OAc]-', '[M-H]-']\n",
      "2024-02-27 13:16:08,860:WARNING:matchms:derive_adduct_from_name:Two potential adducts were found in the compound name that are both valid adducts. The first adduct is used. The adducts found are: ['[M+OAc]-', '[M-H]-']\n",
      "2024-02-27 13:16:08,867:WARNING:matchms:derive_adduct_from_name:Two potential adducts were found in the compound name that are both valid adducts. The first adduct is used. The adducts found are: ['[M+OAc]-', '[M-H]-']\n",
      "2024-02-27 13:16:08,874:WARNING:matchms:derive_adduct_from_name:Two potential adducts were found in the compound name that are both valid adducts. The first adduct is used. The adducts found are: ['[M+OAc]-', '[M-H]-']\n",
      "2024-02-27 13:16:08,880:WARNING:matchms:derive_adduct_from_name:Two potential adducts were found in the compound name that are both valid adducts. The first adduct is used. The adducts found are: ['[M+OAc]-', '[M-H]-']\n",
      "2024-02-27 13:16:08,887:WARNING:matchms:derive_adduct_from_name:Two potential adducts were found in the compound name that are both valid adducts. The first adduct is used. The adducts found are: ['[M+OAc]-', '[M-H]-']\n",
      "2024-02-27 13:16:08,894:WARNING:matchms:derive_adduct_from_name:Two potential adducts were found in the compound name that are both valid adducts. The first adduct is used. The adducts found are: ['[M+OAc]-', '[M-H]-']\n",
      "2024-02-27 13:16:08,901:WARNING:matchms:derive_adduct_from_name:Two potential adducts were found in the compound name that are both valid adducts. The first adduct is used. The adducts found are: ['[M+OAc]-', '[M-H]-']\n",
      "2024-02-27 13:16:08,908:WARNING:matchms:derive_adduct_from_name:Two potential adducts were found in the compound name that are both valid adducts. The first adduct is used. The adducts found are: ['[M+OAc]-', '[M-H]-']\n",
      "2024-02-27 13:16:08,915:WARNING:matchms:derive_adduct_from_name:Two potential adducts were found in the compound name that are both valid adducts. The first adduct is used. The adducts found are: ['[M+OAc]-', '[M-H]-']\n",
      "2024-02-27 13:16:08,921:WARNING:matchms:derive_adduct_from_name:Two potential adducts were found in the compound name that are both valid adducts. The first adduct is used. The adducts found are: ['[M+OAc]-', '[M-H]-']\n",
      "2024-02-27 13:16:08,927:WARNING:matchms:derive_adduct_from_name:Two potential adducts were found in the compound name that are both valid adducts. The first adduct is used. The adducts found are: ['[M+OAc]-', '[M-H]-']\n",
      "2024-02-27 13:16:08,934:WARNING:matchms:derive_adduct_from_name:Two potential adducts were found in the compound name that are both valid adducts. The first adduct is used. The adducts found are: ['[M+OAc]-', '[M-H]-']\n",
      "2024-02-27 13:16:08,940:WARNING:matchms:derive_adduct_from_name:Two potential adducts were found in the compound name that are both valid adducts. The first adduct is used. The adducts found are: ['[M+OAc]-', '[M-H]-']\n",
      "2024-02-27 13:16:08,947:WARNING:matchms:derive_adduct_from_name:Two potential adducts were found in the compound name that are both valid adducts. The first adduct is used. The adducts found are: ['[M+OAc]-', '[M-H]-']\n",
      "2024-02-27 13:16:08,954:WARNING:matchms:derive_adduct_from_name:Two potential adducts were found in the compound name that are both valid adducts. The first adduct is used. The adducts found are: ['[M-H]-', '[M-CH3]-']\n",
      "2024-02-27 13:16:08,961:WARNING:matchms:derive_adduct_from_name:Two potential adducts were found in the compound name that are both valid adducts. The first adduct is used. The adducts found are: ['[M-H]-', '[M-CH3]-']\n",
      "2024-02-27 13:16:08,967:WARNING:matchms:derive_adduct_from_name:Two potential adducts were found in the compound name that are both valid adducts. The first adduct is used. The adducts found are: ['[M-H]-', '[M-CH3]-']\n",
      "2024-02-27 13:16:08,974:WARNING:matchms:derive_adduct_from_name:Two potential adducts were found in the compound name that are both valid adducts. The first adduct is used. The adducts found are: ['[M-H]-', '[M-CH3]-']\n",
      "2024-02-27 13:16:08,981:WARNING:matchms:derive_adduct_from_name:Two potential adducts were found in the compound name that are both valid adducts. The first adduct is used. The adducts found are: ['[M-H]-', '[M-CH3]-']\n",
      "2024-02-27 13:16:08,988:WARNING:matchms:derive_adduct_from_name:Two potential adducts were found in the compound name that are both valid adducts. The first adduct is used. The adducts found are: ['[M-H]-', '[M-CH3]-']\n",
      "2024-02-27 13:16:08,995:WARNING:matchms:derive_adduct_from_name:Two potential adducts were found in the compound name that are both valid adducts. The first adduct is used. The adducts found are: ['[M-H]-', '[M-CH3]-']\n"
     ]
    },
    {
     "name": "stderr",
     "output_type": "stream",
     "text": [
      "98980it [02:39, 802.71it/s]"
     ]
    },
    {
     "name": "stdout",
     "output_type": "stream",
     "text": [
      "2024-02-27 13:16:09,002:WARNING:matchms:derive_adduct_from_name:Two potential adducts were found in the compound name that are both valid adducts. The first adduct is used. The adducts found are: ['[M-H]-', '[M-CH3]-']\n",
      "2024-02-27 13:16:09,009:WARNING:matchms:derive_adduct_from_name:Two potential adducts were found in the compound name that are both valid adducts. The first adduct is used. The adducts found are: ['[M-H]-', '[M-CH3]-']\n",
      "2024-02-27 13:16:09,016:WARNING:matchms:derive_adduct_from_name:Two potential adducts were found in the compound name that are both valid adducts. The first adduct is used. The adducts found are: ['[M-H]-', '[M-CH3]-PC(17:0/18:1)']\n",
      "2024-02-27 13:16:09,027:WARNING:matchms:derive_adduct_from_name:Two potential adducts were found in the compound name that are both valid adducts. The first adduct is used. The adducts found are: ['[M-H]-', '[M-CH3]-']\n",
      "2024-02-27 13:16:09,034:WARNING:matchms:derive_adduct_from_name:Two potential adducts were found in the compound name that are both valid adducts. The first adduct is used. The adducts found are: ['[M-H]-', '[M-CH3]-']\n",
      "2024-02-27 13:16:09,040:WARNING:matchms:derive_adduct_from_name:Two potential adducts were found in the compound name that are both valid adducts. The first adduct is used. The adducts found are: ['[M-H]-', '[M-CH3]-']\n",
      "2024-02-27 13:16:09,047:WARNING:matchms:derive_adduct_from_name:Two potential adducts were found in the compound name that are both valid adducts. The first adduct is used. The adducts found are: ['[M+H]+', '[M-CH3]-']\n",
      "2024-02-27 13:16:09,070:WARNING:matchms:derive_adduct_from_name:Two potential adducts were found in the compound name that are both valid adducts. The first adduct is used. The adducts found are: ['[M-H]-', '[M-CH3]-']\n",
      "2024-02-27 13:16:09,076:WARNING:matchms:derive_adduct_from_name:Two potential adducts were found in the compound name that are both valid adducts. The first adduct is used. The adducts found are: ['[M-H]-', '[M-CH3]-']\n",
      "2024-02-27 13:16:09,083:WARNING:matchms:derive_adduct_from_name:Two potential adducts were found in the compound name that are both valid adducts. The first adduct is used. The adducts found are: ['[M-H]-', '[M-CH3]-']\n",
      "2024-02-27 13:16:09,090:WARNING:matchms:derive_adduct_from_name:Two potential adducts were found in the compound name that are both valid adducts. The first adduct is used. The adducts found are: ['[M+H]+', '[M-CH3]-']\n",
      "2024-02-27 13:16:09,097:WARNING:matchms:derive_adduct_from_name:Two potential adducts were found in the compound name that are both valid adducts. The first adduct is used. The adducts found are: ['[M-H]-', '[M-CH3]-']\n",
      "2024-02-27 13:16:09,103:WARNING:matchms:derive_adduct_from_name:Two potential adducts were found in the compound name that are both valid adducts. The first adduct is used. The adducts found are: ['[M+H]+', '[M-CH3]-']\n",
      "2024-02-27 13:16:09,123:WARNING:matchms:derive_adduct_from_name:Two potential adducts were found in the compound name that are both valid adducts. The first adduct is used. The adducts found are: ['[M-H]-', '[M+OAc]-']\n"
     ]
    },
    {
     "name": "stderr",
     "output_type": "stream",
     "text": [
      "129526it [03:15, 744.73it/s] "
     ]
    },
    {
     "name": "stdout",
     "output_type": "stream",
     "text": [
      "2024-02-27 13:16:45,510:WARNING:matchms:derive_adduct_from_name:Two potential adducts were found in the compound name that are both valid adducts. The first adduct is used. The adducts found are: ['[M-H2O+H]+', '[M-H2O+H]+\"']\n",
      "2024-02-27 13:16:45,516:WARNING:matchms:derive_adduct_from_name:Two potential adducts were found in the compound name that are both valid adducts. The first adduct is used. The adducts found are: ['[M-H2O+H]+', '[M-H2O+H]+\"']\n",
      "2024-02-27 13:16:45,518:WARNING:matchms:derive_adduct_from_name:Two potential adducts were found in the compound name that are both valid adducts. The first adduct is used. The adducts found are: ['[M-H2O+H]+', '[M-H2O+H]+\"']\n",
      "2024-02-27 13:16:45,522:WARNING:matchms:derive_adduct_from_name:Two potential adducts were found in the compound name that are both valid adducts. The first adduct is used. The adducts found are: ['[M+Na]+', '[M+Na]+\"']\n",
      "2024-02-27 13:16:45,523:WARNING:matchms:derive_adduct_from_name:Two potential adducts were found in the compound name that are both valid adducts. The first adduct is used. The adducts found are: ['[2M+H]+', '[2M+H]+\"']\n",
      "2024-02-27 13:16:45,525:WARNING:matchms:derive_adduct_from_name:Two potential adducts were found in the compound name that are both valid adducts. The first adduct is used. The adducts found are: ['[M-H2O+H]+', '[M-H2O+H]+\"']\n",
      "2024-02-27 13:16:45,529:WARNING:matchms:derive_adduct_from_name:Two potential adducts were found in the compound name that are both valid adducts. The first adduct is used. The adducts found are: ['[M-2H2O+H]+\"', '[M-2H2O+H]+']\n",
      "2024-02-27 13:16:45,529:WARNING:matchms:derive_adduct_from_name:Two potential adducts were found in the compound name that are both valid adducts. The first adduct is used. The adducts found are: ['[M-H2O+H]+\"', '[M-H2O+H]+']\n",
      "2024-02-27 13:16:45,533:WARNING:matchms:derive_adduct_from_name:Two potential adducts were found in the compound name that are both valid adducts. The first adduct is used. The adducts found are: ['[M+Na]+', '[M+Na]+\"']\n",
      "2024-02-27 13:16:45,533:WARNING:matchms:derive_adduct_from_name:Two potential adducts were found in the compound name that are both valid adducts. The first adduct is used. The adducts found are: ['[M-H2O+H]+', '[M-H2O+H]+\"']\n",
      "2024-02-27 13:16:45,536:WARNING:matchms:derive_adduct_from_name:Two potential adducts were found in the compound name that are both valid adducts. The first adduct is used. The adducts found are: ['[M-H2O+H]+\"', '[M-H2O+H]+']\n",
      "2024-02-27 13:16:45,536:WARNING:matchms:derive_adduct_from_name:Two potential adducts were found in the compound name that are both valid adducts. The first adduct is used. The adducts found are: ['[M-H2O+H]+', '[M-H2O+H]+\"']\n",
      "2024-02-27 13:16:45,538:WARNING:matchms:derive_adduct_from_name:Two potential adducts were found in the compound name that are both valid adducts. The first adduct is used. The adducts found are: ['[M+H]+\"', '[M+H]+']\n",
      "2024-02-27 13:16:45,540:WARNING:matchms:derive_adduct_from_name:Two potential adducts were found in the compound name that are both valid adducts. The first adduct is used. The adducts found are: ['[M-2H2O+H]+\"', '[M-2H2O+H]+']\n",
      "2024-02-27 13:16:45,541:WARNING:matchms:derive_adduct_from_name:Two potential adducts were found in the compound name that are both valid adducts. The first adduct is used. The adducts found are: ['[M+Na]+', '[M+Na]+\"']\n",
      "2024-02-27 13:16:45,544:WARNING:matchms:derive_adduct_from_name:Two potential adducts were found in the compound name that are both valid adducts. The first adduct is used. The adducts found are: ['[M+H]+', '[M+H]+\"']\n",
      "2024-02-27 13:16:45,544:WARNING:matchms:derive_adduct_from_name:Two potential adducts were found in the compound name that are both valid adducts. The first adduct is used. The adducts found are: ['[M-H2O+H]+', '[M-H2O+H]+\"']\n",
      "2024-02-27 13:16:45,545:WARNING:matchms:derive_adduct_from_name:Two potential adducts were found in the compound name that are both valid adducts. The first adduct is used. The adducts found are: ['[M+H]+\"', '[M+H]+']\n",
      "2024-02-27 13:16:45,548:WARNING:matchms:derive_adduct_from_name:Two potential adducts were found in the compound name that are both valid adducts. The first adduct is used. The adducts found are: ['[2M+H]+\"', '[2M+H]+']\n",
      "2024-02-27 13:16:45,549:WARNING:matchms:derive_adduct_from_name:Two potential adducts were found in the compound name that are both valid adducts. The first adduct is used. The adducts found are: ['[M-H2O+H]+', '[M-H2O+H]+\"']\n",
      "2024-02-27 13:16:45,549:WARNING:matchms:derive_adduct_from_name:Two potential adducts were found in the compound name that are both valid adducts. The first adduct is used. The adducts found are: ['[M+H]+', '[M+H]+\"']\n",
      "2024-02-27 13:16:45,551:WARNING:matchms:derive_adduct_from_name:Two potential adducts were found in the compound name that are both valid adducts. The first adduct is used. The adducts found are: ['[M-2H2O+H]+\"', '[M-2H2O+H]+']\n",
      "2024-02-27 13:16:45,551:WARNING:matchms:derive_adduct_from_name:Two potential adducts were found in the compound name that are both valid adducts. The first adduct is used. The adducts found are: ['[M-H2O+H]+', '[M-H2O+H]+\"']\n",
      "2024-02-27 13:16:45,556:WARNING:matchms:derive_adduct_from_name:Two potential adducts were found in the compound name that are both valid adducts. The first adduct is used. The adducts found are: ['[M+H]+', '[M+H]+\"']\n",
      "2024-02-27 13:16:45,557:WARNING:matchms:derive_adduct_from_name:Two potential adducts were found in the compound name that are both valid adducts. The first adduct is used. The adducts found are: ['[M+H]+\"', '[M+H]+']\n",
      "2024-02-27 13:16:45,557:WARNING:matchms:derive_adduct_from_name:Two potential adducts were found in the compound name that are both valid adducts. The first adduct is used. The adducts found are: ['[M+H]+', '[M+H]+\"']\n",
      "2024-02-27 13:16:45,557:WARNING:matchms:derive_adduct_from_name:Two potential adducts were found in the compound name that are both valid adducts. The first adduct is used. The adducts found are: ['[M-2H2O+H]+\"', '[M-2H2O+H]+']\n",
      "2024-02-27 13:16:45,558:WARNING:matchms:derive_adduct_from_name:Two potential adducts were found in the compound name that are both valid adducts. The first adduct is used. The adducts found are: ['[M-2H2O+H]+\"', '[M-2H2O+H]+']\n",
      "2024-02-27 13:16:45,559:WARNING:matchms:derive_adduct_from_name:Two potential adducts were found in the compound name that are both valid adducts. The first adduct is used. The adducts found are: ['[M+Na]+', '[M+Na]+\"']\n",
      "2024-02-27 13:16:45,564:WARNING:matchms:derive_adduct_from_name:Two potential adducts were found in the compound name that are both valid adducts. The first adduct is used. The adducts found are: ['[M+H]+', '[M+H]+\"']\n",
      "2024-02-27 13:16:45,564:WARNING:matchms:derive_adduct_from_name:Two potential adducts were found in the compound name that are both valid adducts. The first adduct is used. The adducts found are: ['[M-H2O+H]+\"', '[M-H2O+H]+']\n",
      "2024-02-27 13:16:45,564:WARNING:matchms:derive_adduct_from_name:Two potential adducts were found in the compound name that are both valid adducts. The first adduct is used. The adducts found are: ['[M-2H2O+H]+\"', '[M-2H2O+H]+']\n",
      "2024-02-27 13:16:45,566:WARNING:matchms:derive_adduct_from_name:Two potential adducts were found in the compound name that are both valid adducts. The first adduct is used. The adducts found are: ['[M-2H2O+H]+\"', '[M-2H2O+H]+']\n",
      "2024-02-27 13:16:45,566:WARNING:matchms:derive_adduct_from_name:Two potential adducts were found in the compound name that are both valid adducts. The first adduct is used. The adducts found are: ['[M-2H2O+H]+\"', '[M-2H2O+H]+']\n",
      "2024-02-27 13:16:45,571:WARNING:matchms:derive_adduct_from_name:Two potential adducts were found in the compound name that are both valid adducts. The first adduct is used. The adducts found are: ['[M-H2O+H]+\"', '[M-H2O+H]+']\n",
      "2024-02-27 13:16:45,572:WARNING:matchms:derive_adduct_from_name:Two potential adducts were found in the compound name that are both valid adducts. The first adduct is used. The adducts found are: ['[M+H]+', '[M+H]+\"']\n",
      "2024-02-27 13:16:45,572:WARNING:matchms:derive_adduct_from_name:Two potential adducts were found in the compound name that are both valid adducts. The first adduct is used. The adducts found are: ['[M-H2O+H]+', '[M-H2O+H]+\"']\n",
      "2024-02-27 13:16:45,574:WARNING:matchms:derive_adduct_from_name:Two potential adducts were found in the compound name that are both valid adducts. The first adduct is used. The adducts found are: ['[M-2H2O+H]+\"', '[M-2H2O+H]+']\n",
      "2024-02-27 13:16:45,574:WARNING:matchms:derive_adduct_from_name:Two potential adducts were found in the compound name that are both valid adducts. The first adduct is used. The adducts found are: ['[M-2H2O+H]+\"', '[M-2H2O+H]+']\n",
      "2024-02-27 13:16:45,577:WARNING:matchms:derive_adduct_from_name:Two potential adducts were found in the compound name that are both valid adducts. The first adduct is used. The adducts found are: ['[M+H]+\"', '[M+H]+']\n",
      "2024-02-27 13:16:45,579:WARNING:matchms:derive_adduct_from_name:Two potential adducts were found in the compound name that are both valid adducts. The first adduct is used. The adducts found are: ['[2M+H]+', '[2M+H]+\"']\n",
      "2024-02-27 13:16:45,579:WARNING:matchms:derive_adduct_from_name:Two potential adducts were found in the compound name that are both valid adducts. The first adduct is used. The adducts found are: ['[M+Na]+\"', '[M+Na]+']\n",
      "2024-02-27 13:16:45,580:WARNING:matchms:derive_adduct_from_name:Two potential adducts were found in the compound name that are both valid adducts. The first adduct is used. The adducts found are: ['[M+H]+\"', '[M+H]+']\n",
      "2024-02-27 13:16:45,581:WARNING:matchms:derive_adduct_from_name:Two potential adducts were found in the compound name that are both valid adducts. The first adduct is used. The adducts found are: ['[M-2H2O+H]+\"', '[M-2H2O+H]+']\n",
      "2024-02-27 13:16:45,581:WARNING:matchms:derive_adduct_from_name:Two potential adducts were found in the compound name that are both valid adducts. The first adduct is used. The adducts found are: ['[M-2H2O+H]+\"', '[M-2H2O+H]+']\n",
      "2024-02-27 13:16:45,584:WARNING:matchms:derive_adduct_from_name:Two potential adducts were found in the compound name that are both valid adducts. The first adduct is used. The adducts found are: ['[M+H]+\"', '[M+H]+']\n",
      "2024-02-27 13:16:45,586:WARNING:matchms:derive_adduct_from_name:Two potential adducts were found in the compound name that are both valid adducts. The first adduct is used. The adducts found are: ['[2M+H]+', '[2M+H]+\"']\n",
      "2024-02-27 13:16:45,587:WARNING:matchms:derive_adduct_from_name:Two potential adducts were found in the compound name that are both valid adducts. The first adduct is used. The adducts found are: ['[M+Na]+\"', '[M+Na]+']\n",
      "2024-02-27 13:16:45,587:WARNING:matchms:derive_adduct_from_name:Two potential adducts were found in the compound name that are both valid adducts. The first adduct is used. The adducts found are: ['[M+H]+\"', '[M+H]+']\n",
      "2024-02-27 13:16:45,589:WARNING:matchms:derive_adduct_from_name:Two potential adducts were found in the compound name that are both valid adducts. The first adduct is used. The adducts found are: ['[M-H2O+H]+', '[M-H2O+H]+\"']\n",
      "2024-02-27 13:16:45,589:WARNING:matchms:derive_adduct_from_name:Two potential adducts were found in the compound name that are both valid adducts. The first adduct is used. The adducts found are: ['[2M+H]+', '[2M+H]+\"']\n",
      "2024-02-27 13:16:45,594:WARNING:matchms:derive_adduct_from_name:Two potential adducts were found in the compound name that are both valid adducts. The first adduct is used. The adducts found are: ['[2M+H]+', '[2M+H]+\"']\n",
      "2024-02-27 13:16:45,595:WARNING:matchms:derive_adduct_from_name:Two potential adducts were found in the compound name that are both valid adducts. The first adduct is used. The adducts found are: ['[M+H]+', '[M+H]+\"']\n",
      "2024-02-27 13:16:45,595:WARNING:matchms:derive_adduct_from_name:Two potential adducts were found in the compound name that are both valid adducts. The first adduct is used. The adducts found are: ['[M-2H2O+H]+\"', '[M-2H2O+H]+']\n",
      "2024-02-27 13:16:45,596:WARNING:matchms:derive_adduct_from_name:Two potential adducts were found in the compound name that are both valid adducts. The first adduct is used. The adducts found are: ['[M-H2O+H]+', '[M-H2O+H]+\"']\n",
      "2024-02-27 13:16:45,596:WARNING:matchms:derive_adduct_from_name:Two potential adducts were found in the compound name that are both valid adducts. The first adduct is used. The adducts found are: ['[2M+H]+', '[2M+H]+\"']\n",
      "2024-02-27 13:16:45,601:WARNING:matchms:derive_adduct_from_name:Two potential adducts were found in the compound name that are both valid adducts. The first adduct is used. The adducts found are: ['[M-H2O+H]+\"', '[M-H2O+H]+']\n",
      "2024-02-27 13:16:45,602:WARNING:matchms:derive_adduct_from_name:Two potential adducts were found in the compound name that are both valid adducts. The first adduct is used. The adducts found are: ['[M+H]+', '[M+H]+\"']\n",
      "2024-02-27 13:16:45,602:WARNING:matchms:derive_adduct_from_name:Two potential adducts were found in the compound name that are both valid adducts. The first adduct is used. The adducts found are: ['[M-2H2O+H]+\"', '[M-2H2O+H]+']\n",
      "2024-02-27 13:16:45,604:WARNING:matchms:derive_adduct_from_name:Two potential adducts were found in the compound name that are both valid adducts. The first adduct is used. The adducts found are: ['[M-2H2O+H]+\"', '[M-2H2O+H]+']\n",
      "2024-02-27 13:16:45,604:WARNING:matchms:derive_adduct_from_name:Two potential adducts were found in the compound name that are both valid adducts. The first adduct is used. The adducts found are: ['[2M+H]+', '[2M+H]+\"']\n",
      "2024-02-27 13:16:45,608:WARNING:matchms:derive_adduct_from_name:Two potential adducts were found in the compound name that are both valid adducts. The first adduct is used. The adducts found are: ['[M+H]+\"', '[M+H]+']\n",
      "2024-02-27 13:16:45,608:WARNING:matchms:derive_adduct_from_name:Two potential adducts were found in the compound name that are both valid adducts. The first adduct is used. The adducts found are: ['[M+H]+', '[M+H]+\"']\n",
      "2024-02-27 13:16:45,610:WARNING:matchms:derive_adduct_from_name:Two potential adducts were found in the compound name that are both valid adducts. The first adduct is used. The adducts found are: ['[M+H]+', '[M+H]+\"']\n",
      "2024-02-27 13:16:45,610:WARNING:matchms:derive_adduct_from_name:Two potential adducts were found in the compound name that are both valid adducts. The first adduct is used. The adducts found are: ['[M-H2O+H]+', '[M-H2O+H]+\"']\n",
      "2024-02-27 13:16:45,611:WARNING:matchms:derive_adduct_from_name:Two potential adducts were found in the compound name that are both valid adducts. The first adduct is used. The adducts found are: ['[M-2H2O+H]+\"', '[M-2H2O+H]+']\n",
      "2024-02-27 13:16:45,611:WARNING:matchms:derive_adduct_from_name:Two potential adducts were found in the compound name that are both valid adducts. The first adduct is used. The adducts found are: ['[M-2H2O+H]+\"', '[M-2H2O+H]+']\n",
      "2024-02-27 13:16:45,615:WARNING:matchms:derive_adduct_from_name:Two potential adducts were found in the compound name that are both valid adducts. The first adduct is used. The adducts found are: ['[M+H]+\"', '[M+H]+']\n",
      "2024-02-27 13:16:45,616:WARNING:matchms:derive_adduct_from_name:Two potential adducts were found in the compound name that are both valid adducts. The first adduct is used. The adducts found are: ['[M+H]+', '[M+H]+\"']\n",
      "2024-02-27 13:16:45,618:WARNING:matchms:derive_adduct_from_name:Two potential adducts were found in the compound name that are both valid adducts. The first adduct is used. The adducts found are: ['[M+Na]+\"', '[M+Na]+']\n",
      "2024-02-27 13:16:45,618:WARNING:matchms:derive_adduct_from_name:Two potential adducts were found in the compound name that are both valid adducts. The first adduct is used. The adducts found are: ['[M-H2O+H]+', '[M-H2O+H]+\"']\n",
      "2024-02-27 13:16:45,619:WARNING:matchms:derive_adduct_from_name:Two potential adducts were found in the compound name that are both valid adducts. The first adduct is used. The adducts found are: ['[M-2H2O+H]+\"', '[M-2H2O+H]+']\n",
      "2024-02-27 13:16:45,619:WARNING:matchms:derive_adduct_from_name:Two potential adducts were found in the compound name that are both valid adducts. The first adduct is used. The adducts found are: ['[M-2H2O+H]+\"', '[M-2H2O+H]+']\n",
      "2024-02-27 13:16:45,624:WARNING:matchms:derive_adduct_from_name:Two potential adducts were found in the compound name that are both valid adducts. The first adduct is used. The adducts found are: ['[M-H2O+H]+', '[M-H2O+H]+\"']\n",
      "2024-02-27 13:16:45,624:WARNING:matchms:derive_adduct_from_name:Two potential adducts were found in the compound name that are both valid adducts. The first adduct is used. The adducts found are: ['[M+H]+', '[M+H]+\"']\n",
      "2024-02-27 13:16:45,626:WARNING:matchms:derive_adduct_from_name:Two potential adducts were found in the compound name that are both valid adducts. The first adduct is used. The adducts found are: ['[M-H2O+H]+', '[M-H2O+H]+\"']\n",
      "2024-02-27 13:16:45,630:WARNING:matchms:derive_adduct_from_name:Two potential adducts were found in the compound name that are both valid adducts. The first adduct is used. The adducts found are: ['[M-H2O+H]+\"', '[M-H2O+H]+']\n",
      "2024-02-27 13:16:45,631:WARNING:matchms:derive_adduct_from_name:Two potential adducts were found in the compound name that are both valid adducts. The first adduct is used. The adducts found are: ['[M+Na]+', '[M+Na]+\"']\n",
      "2024-02-27 13:16:45,632:WARNING:matchms:derive_adduct_from_name:Two potential adducts were found in the compound name that are both valid adducts. The first adduct is used. The adducts found are: ['[M-H2O+H]+', '[M-H2O+H]+\"']\n",
      "2024-02-27 13:16:45,634:WARNING:matchms:derive_adduct_from_name:Two potential adducts were found in the compound name that are both valid adducts. The first adduct is used. The adducts found are: ['[M-H2O+H]+', '[M-H2O+H]+\"']\n",
      "2024-02-27 13:16:45,637:WARNING:matchms:derive_adduct_from_name:Two potential adducts were found in the compound name that are both valid adducts. The first adduct is used. The adducts found are: ['[M-H2O+H]+\"', '[M-H2O+H]+']\n",
      "2024-02-27 13:16:45,638:WARNING:matchms:derive_adduct_from_name:Two potential adducts were found in the compound name that are both valid adducts. The first adduct is used. The adducts found are: ['[M+H]+\"', '[M+H]+']\n",
      "2024-02-27 13:16:45,639:WARNING:matchms:derive_adduct_from_name:Two potential adducts were found in the compound name that are both valid adducts. The first adduct is used. The adducts found are: ['[M+Na]+', '[M+Na]+\"']\n",
      "2024-02-27 13:16:45,639:WARNING:matchms:derive_adduct_from_name:Two potential adducts were found in the compound name that are both valid adducts. The first adduct is used. The adducts found are: ['[M+H]+\"', '[M+H]+']\n",
      "2024-02-27 13:16:45,641:WARNING:matchms:derive_adduct_from_name:Two potential adducts were found in the compound name that are both valid adducts. The first adduct is used. The adducts found are: ['[M-H2O+H]+', '[M-H2O+H]+\"']\n",
      "2024-02-27 13:16:45,641:WARNING:matchms:derive_adduct_from_name:Two potential adducts were found in the compound name that are both valid adducts. The first adduct is used. The adducts found are: ['[M-H2O+H]+\"', '[M-H2O+H]+']\n",
      "2024-02-27 13:16:45,645:WARNING:matchms:derive_adduct_from_name:Two potential adducts were found in the compound name that are both valid adducts. The first adduct is used. The adducts found are: ['[M-H2O+H]+\"', '[M-H2O+H]+']\n",
      "2024-02-27 13:16:45,646:WARNING:matchms:derive_adduct_from_name:Two potential adducts were found in the compound name that are both valid adducts. The first adduct is used. The adducts found are: ['[M+H]+\"', '[M+H]+']\n",
      "2024-02-27 13:16:45,646:WARNING:matchms:derive_adduct_from_name:Two potential adducts were found in the compound name that are both valid adducts. The first adduct is used. The adducts found are: ['[2M+H]+', '[2M+H]+\"']\n",
      "2024-02-27 13:16:45,647:WARNING:matchms:derive_adduct_from_name:Two potential adducts were found in the compound name that are both valid adducts. The first adduct is used. The adducts found are: ['[M+H]+\"', '[M+H]+']\n",
      "2024-02-27 13:16:45,649:WARNING:matchms:derive_adduct_from_name:Two potential adducts were found in the compound name that are both valid adducts. The first adduct is used. The adducts found are: ['[M-H2O+H]+', '[M-H2O+H]+\"']\n",
      "2024-02-27 13:16:45,649:WARNING:matchms:derive_adduct_from_name:Two potential adducts were found in the compound name that are both valid adducts. The first adduct is used. The adducts found are: ['[M-2H2O+H]+\"', '[M-2H2O+H]+']\n",
      "2024-02-27 13:16:45,652:WARNING:matchms:derive_adduct_from_name:Two potential adducts were found in the compound name that are both valid adducts. The first adduct is used. The adducts found are: ['[M-H2O+H]+\"', '[M-H2O+H]+']\n",
      "2024-02-27 13:16:45,655:WARNING:matchms:derive_adduct_from_name:Two potential adducts were found in the compound name that are both valid adducts. The first adduct is used. The adducts found are: ['[M-2H2O+H]+\"', '[M-2H2O+H]+']\n",
      "2024-02-27 13:16:45,655:WARNING:matchms:derive_adduct_from_name:Two potential adducts were found in the compound name that are both valid adducts. The first adduct is used. The adducts found are: ['[M+H]+', '[M+H]+\"']\n",
      "2024-02-27 13:16:45,656:WARNING:matchms:derive_adduct_from_name:Two potential adducts were found in the compound name that are both valid adducts. The first adduct is used. The adducts found are: ['[M-2H2O+H]+\"', '[M-2H2O+H]+']\n",
      "2024-02-27 13:16:45,660:WARNING:matchms:derive_adduct_from_name:Two potential adducts were found in the compound name that are both valid adducts. The first adduct is used. The adducts found are: ['[M-H2O+H]+\"', '[M-H2O+H]+']\n",
      "2024-02-27 13:16:45,662:WARNING:matchms:derive_adduct_from_name:Two potential adducts were found in the compound name that are both valid adducts. The first adduct is used. The adducts found are: ['[M-H2O+H]+', '[M-H2O+H]+\"']\n",
      "2024-02-27 13:16:45,663:WARNING:matchms:derive_adduct_from_name:Two potential adducts were found in the compound name that are both valid adducts. The first adduct is used. The adducts found are: ['[M+H]+', '[M+H]+\"']\n",
      "2024-02-27 13:16:45,664:WARNING:matchms:derive_adduct_from_name:Two potential adducts were found in the compound name that are both valid adducts. The first adduct is used. The adducts found are: ['[M-2H2O+H]+\"', '[M-2H2O+H]+']\n",
      "2024-02-27 13:16:45,667:WARNING:matchms:derive_adduct_from_name:Two potential adducts were found in the compound name that are both valid adducts. The first adduct is used. The adducts found are: ['[M-H2O+H]+\"', '[M-H2O+H]+']\n",
      "2024-02-27 13:16:45,669:WARNING:matchms:derive_adduct_from_name:Two potential adducts were found in the compound name that are both valid adducts. The first adduct is used. The adducts found are: ['[2M+H]+\"', '[2M+H]+']\n",
      "2024-02-27 13:16:45,670:WARNING:matchms:derive_adduct_from_name:Two potential adducts were found in the compound name that are both valid adducts. The first adduct is used. The adducts found are: ['[M-2H2O+H]+\"', '[M-2H2O+H]+']\n",
      "2024-02-27 13:16:45,670:WARNING:matchms:derive_adduct_from_name:Two potential adducts were found in the compound name that are both valid adducts. The first adduct is used. The adducts found are: ['[M+H]+', '[M+H]+\"']\n",
      "2024-02-27 13:16:45,671:WARNING:matchms:derive_adduct_from_name:Two potential adducts were found in the compound name that are both valid adducts. The first adduct is used. The adducts found are: ['[M-2H2O+H]+\"', '[M-2H2O+H]+']\n",
      "2024-02-27 13:16:45,672:WARNING:matchms:derive_adduct_from_name:Two potential adducts were found in the compound name that are both valid adducts. The first adduct is used. The adducts found are: ['[M-2H2O+H]+\"', '[M-2H2O+H]+']\n",
      "2024-02-27 13:16:45,675:WARNING:matchms:derive_adduct_from_name:Two potential adducts were found in the compound name that are both valid adducts. The first adduct is used. The adducts found are: ['[2M+Na]+', '[2M+Na]+\"']\n",
      "2024-02-27 13:16:45,677:WARNING:matchms:derive_adduct_from_name:Two potential adducts were found in the compound name that are both valid adducts. The first adduct is used. The adducts found are: ['[M-2H2O+H]+\"', '[M-2H2O+H]+']\n",
      "2024-02-27 13:16:45,677:WARNING:matchms:derive_adduct_from_name:Two potential adducts were found in the compound name that are both valid adducts. The first adduct is used. The adducts found are: ['[M-2H2O+H]+\"', '[M-2H2O+H]+']\n",
      "2024-02-27 13:16:45,678:WARNING:matchms:derive_adduct_from_name:Two potential adducts were found in the compound name that are both valid adducts. The first adduct is used. The adducts found are: ['[M+H]+', '[M+H]+\"']\n",
      "2024-02-27 13:16:45,679:WARNING:matchms:derive_adduct_from_name:Two potential adducts were found in the compound name that are both valid adducts. The first adduct is used. The adducts found are: ['[M-2H2O+H]+\"', '[M-2H2O+H]+']\n",
      "2024-02-27 13:16:45,680:WARNING:matchms:derive_adduct_from_name:Two potential adducts were found in the compound name that are both valid adducts. The first adduct is used. The adducts found are: ['[M-H2O+H]+\"', '[M-H2O+H]+']\n",
      "2024-02-27 13:16:45,682:WARNING:matchms:derive_adduct_from_name:Two potential adducts were found in the compound name that are both valid adducts. The first adduct is used. The adducts found are: ['[M+H]+', '[M+H]+\"']\n",
      "2024-02-27 13:16:45,685:WARNING:matchms:derive_adduct_from_name:Two potential adducts were found in the compound name that are both valid adducts. The first adduct is used. The adducts found are: ['[M-2H2O+H]+\"', '[M-2H2O+H]+']\n",
      "2024-02-27 13:16:45,685:WARNING:matchms:derive_adduct_from_name:Two potential adducts were found in the compound name that are both valid adducts. The first adduct is used. The adducts found are: ['[M+H]+', '[M+H]+\"']\n",
      "2024-02-27 13:16:45,686:WARNING:matchms:derive_adduct_from_name:Two potential adducts were found in the compound name that are both valid adducts. The first adduct is used. The adducts found are: ['[M-H2O+H]+', '[M-H2O+H]+\"']\n",
      "2024-02-27 13:16:45,690:WARNING:matchms:derive_adduct_from_name:Two potential adducts were found in the compound name that are both valid adducts. The first adduct is used. The adducts found are: ['[M+H]+', '[M+H]+\"']\n",
      "2024-02-27 13:16:45,692:WARNING:matchms:derive_adduct_from_name:Two potential adducts were found in the compound name that are both valid adducts. The first adduct is used. The adducts found are: ['[M-H2O+H]+\"', '[M-H2O+H]+']\n",
      "2024-02-27 13:16:45,693:WARNING:matchms:derive_adduct_from_name:Two potential adducts were found in the compound name that are both valid adducts. The first adduct is used. The adducts found are: ['[M-2H2O+H]+\"', '[M-2H2O+H]+']\n",
      "2024-02-27 13:16:45,694:WARNING:matchms:derive_adduct_from_name:Two potential adducts were found in the compound name that are both valid adducts. The first adduct is used. The adducts found are: ['[M-2H2O+H]+\"', '[M-2H2O+H]+']\n",
      "2024-02-27 13:16:45,697:WARNING:matchms:derive_adduct_from_name:Two potential adducts were found in the compound name that are both valid adducts. The first adduct is used. The adducts found are: ['[M-2H2O+H]+\"', '[M-2H2O+H]+']\n",
      "2024-02-27 13:16:45,697:WARNING:matchms:derive_adduct_from_name:Two potential adducts were found in the compound name that are both valid adducts. The first adduct is used. The adducts found are: ['[M+H]+', '[M+H]+\"']\n",
      "2024-02-27 13:16:45,698:WARNING:matchms:derive_adduct_from_name:Two potential adducts were found in the compound name that are both valid adducts. The first adduct is used. The adducts found are: ['[M-2H2O+H]+\"', '[M-2H2O+H]+']\n",
      "2024-02-27 13:16:45,700:WARNING:matchms:derive_adduct_from_name:Two potential adducts were found in the compound name that are both valid adducts. The first adduct is used. The adducts found are: ['[M+Na]+', '[M+Na]+\"']\n",
      "2024-02-27 13:16:45,700:WARNING:matchms:derive_adduct_from_name:Two potential adducts were found in the compound name that are both valid adducts. The first adduct is used. The adducts found are: ['[M-H2O+H]+', '[M-H2O+H]+\"']\n",
      "2024-02-27 13:16:45,701:WARNING:matchms:derive_adduct_from_name:Two potential adducts were found in the compound name that are both valid adducts. The first adduct is used. The adducts found are: ['[M-H2O+H]+', '[M-H2O+H]+\"']\n",
      "2024-02-27 13:16:45,705:WARNING:matchms:derive_adduct_from_name:Two potential adducts were found in the compound name that are both valid adducts. The first adduct is used. The adducts found are: ['[M+H]+', '[M+H]+\"']\n",
      "2024-02-27 13:16:45,706:WARNING:matchms:derive_adduct_from_name:Two potential adducts were found in the compound name that are both valid adducts. The first adduct is used. The adducts found are: ['[M-2H2O+H]+\"', '[M-2H2O+H]+']\n",
      "2024-02-27 13:16:45,707:WARNING:matchms:derive_adduct_from_name:Two potential adducts were found in the compound name that are both valid adducts. The first adduct is used. The adducts found are: ['[M+Na]+', '[M+Na]+\"']\n",
      "2024-02-27 13:16:45,708:WARNING:matchms:derive_adduct_from_name:Two potential adducts were found in the compound name that are both valid adducts. The first adduct is used. The adducts found are: ['[M-H2O+H]+', '[M-H2O+H]+\"']\n",
      "2024-02-27 13:16:45,709:WARNING:matchms:derive_adduct_from_name:Two potential adducts were found in the compound name that are both valid adducts. The first adduct is used. The adducts found are: ['[M-2H2O+H]+\"', '[M-2H2O+H]+']\n",
      "2024-02-27 13:16:45,712:WARNING:matchms:derive_adduct_from_name:Two potential adducts were found in the compound name that are both valid adducts. The first adduct is used. The adducts found are: ['[M-H2O+H]+\"', '[M-H2O+H]+']\n"
     ]
    },
    {
     "name": "stderr",
     "output_type": "stream",
     "text": [
      "129699it [03:15, 742.44it/s]"
     ]
    },
    {
     "name": "stdout",
     "output_type": "stream",
     "text": [
      "2024-02-27 13:16:45,713:WARNING:matchms:derive_adduct_from_name:Two potential adducts were found in the compound name that are both valid adducts. The first adduct is used. The adducts found are: ['[M-H2O+H]+\"', '[M-H2O+H]+']\n",
      "2024-02-27 13:16:45,715:WARNING:matchms:derive_adduct_from_name:Two potential adducts were found in the compound name that are both valid adducts. The first adduct is used. The adducts found are: ['[M-H2O+H]+', '[M-H2O+H]+\"']\n",
      "2024-02-27 13:16:45,715:WARNING:matchms:derive_adduct_from_name:Two potential adducts were found in the compound name that are both valid adducts. The first adduct is used. The adducts found are: ['[M+Na]+', '[M+Na]+\"']\n",
      "2024-02-27 13:16:45,716:WARNING:matchms:derive_adduct_from_name:Two potential adducts were found in the compound name that are both valid adducts. The first adduct is used. The adducts found are: ['[M-2H2O+H]+\"', '[M-2H2O+H]+']\n",
      "2024-02-27 13:16:45,717:WARNING:matchms:derive_adduct_from_name:Two potential adducts were found in the compound name that are both valid adducts. The first adduct is used. The adducts found are: ['[M-H2O+H]+', '[M-H2O+H]+\"']\n",
      "2024-02-27 13:16:45,719:WARNING:matchms:derive_adduct_from_name:Two potential adducts were found in the compound name that are both valid adducts. The first adduct is used. The adducts found are: ['[M-H2O+H]+\"', '[M-H2O+H]+']\n",
      "2024-02-27 13:16:45,720:WARNING:matchms:derive_adduct_from_name:Two potential adducts were found in the compound name that are both valid adducts. The first adduct is used. The adducts found are: ['[M+H]+', '[M+H]+\"']\n",
      "2024-02-27 13:16:45,721:WARNING:matchms:derive_adduct_from_name:Two potential adducts were found in the compound name that are both valid adducts. The first adduct is used. The adducts found are: ['[M+Na]+', '[M+Na]+\"']\n",
      "2024-02-27 13:16:45,725:WARNING:matchms:derive_adduct_from_name:Two potential adducts were found in the compound name that are both valid adducts. The first adduct is used. The adducts found are: ['[M-H2O+H]+\"', '[M-H2O+H]+']\n",
      "2024-02-27 13:16:45,727:WARNING:matchms:derive_adduct_from_name:Two potential adducts were found in the compound name that are both valid adducts. The first adduct is used. The adducts found are: ['[M-H2O+H]+', '[M-H2O+H]+\"']\n",
      "2024-02-27 13:16:45,727:WARNING:matchms:derive_adduct_from_name:Two potential adducts were found in the compound name that are both valid adducts. The first adduct is used. The adducts found are: ['[M-H2O+H]+\"', '[M-H2O+H]+']\n",
      "2024-02-27 13:16:45,728:WARNING:matchms:derive_adduct_from_name:Two potential adducts were found in the compound name that are both valid adducts. The first adduct is used. The adducts found are: ['[M-H2O+H]+', '[M-H2O+H]+\"']\n",
      "2024-02-27 13:16:45,728:WARNING:matchms:derive_adduct_from_name:Two potential adducts were found in the compound name that are both valid adducts. The first adduct is used. The adducts found are: ['[M-2H2O+H]+\"', '[M-2H2O+H]+']\n",
      "2024-02-27 13:16:45,730:WARNING:matchms:derive_adduct_from_name:Two potential adducts were found in the compound name that are both valid adducts. The first adduct is used. The adducts found are: ['[M+Na]+', '[M+Na]+\"']\n",
      "2024-02-27 13:16:45,733:WARNING:matchms:derive_adduct_from_name:Two potential adducts were found in the compound name that are both valid adducts. The first adduct is used. The adducts found are: ['[M-H2O+H]+\"', '[M-H2O+H]+']\n",
      "2024-02-27 13:16:45,734:WARNING:matchms:derive_adduct_from_name:Two potential adducts were found in the compound name that are both valid adducts. The first adduct is used. The adducts found are: ['[M-2H2O+H]+\"', '[M-2H2O+H]+']\n",
      "2024-02-27 13:16:45,734:WARNING:matchms:derive_adduct_from_name:Two potential adducts were found in the compound name that are both valid adducts. The first adduct is used. The adducts found are: ['[M+H]+', '[M+H]+\"']\n",
      "2024-02-27 13:16:45,735:WARNING:matchms:derive_adduct_from_name:Two potential adducts were found in the compound name that are both valid adducts. The first adduct is used. The adducts found are: ['[M-2H2O+H]+\"', '[M-2H2O+H]+']\n",
      "2024-02-27 13:16:45,737:WARNING:matchms:derive_adduct_from_name:Two potential adducts were found in the compound name that are both valid adducts. The first adduct is used. The adducts found are: ['[M+Na]+', '[M+Na]+\"']\n",
      "2024-02-27 13:16:45,740:WARNING:matchms:derive_adduct_from_name:Two potential adducts were found in the compound name that are both valid adducts. The first adduct is used. The adducts found are: ['[M-H2O+H]+\"', '[M-H2O+H]+']\n",
      "2024-02-27 13:16:45,742:WARNING:matchms:derive_adduct_from_name:Two potential adducts were found in the compound name that are both valid adducts. The first adduct is used. The adducts found are: ['[M-2H2O+H]+\"', '[M-2H2O+H]+']\n",
      "2024-02-27 13:16:45,742:WARNING:matchms:derive_adduct_from_name:Two potential adducts were found in the compound name that are both valid adducts. The first adduct is used. The adducts found are: ['[2M+Na]+\"', '[2M+Na]+']\n",
      "2024-02-27 13:16:45,743:WARNING:matchms:derive_adduct_from_name:Two potential adducts were found in the compound name that are both valid adducts. The first adduct is used. The adducts found are: ['[M-2H2O+H]+\"', '[M-2H2O+H]+']\n",
      "2024-02-27 13:16:45,744:WARNING:matchms:derive_adduct_from_name:Two potential adducts were found in the compound name that are both valid adducts. The first adduct is used. The adducts found are: ['[M+Na]+', '[M+Na]+\"']\n",
      "2024-02-27 13:16:45,748:WARNING:matchms:derive_adduct_from_name:Two potential adducts were found in the compound name that are both valid adducts. The first adduct is used. The adducts found are: ['[M-H2O+H]+\"', '[M-H2O+H]+']\n",
      "2024-02-27 13:16:45,748:WARNING:matchms:derive_adduct_from_name:Two potential adducts were found in the compound name that are both valid adducts. The first adduct is used. The adducts found are: ['[M-H2O+H]+', '[M-H2O+H]+\"']\n",
      "2024-02-27 13:16:45,749:WARNING:matchms:derive_adduct_from_name:Two potential adducts were found in the compound name that are both valid adducts. The first adduct is used. The adducts found are: ['[M+H]+\"', '[M+H]+']\n",
      "2024-02-27 13:16:45,749:WARNING:matchms:derive_adduct_from_name:Two potential adducts were found in the compound name that are both valid adducts. The first adduct is used. The adducts found are: ['[M-H2O+H]+\"', '[M-H2O+H]+']\n",
      "2024-02-27 13:16:45,750:WARNING:matchms:derive_adduct_from_name:Two potential adducts were found in the compound name that are both valid adducts. The first adduct is used. The adducts found are: ['[M-2H2O+H]+\"', '[M-2H2O+H]+']\n",
      "2024-02-27 13:16:45,751:WARNING:matchms:derive_adduct_from_name:Two potential adducts were found in the compound name that are both valid adducts. The first adduct is used. The adducts found are: ['[M+Na]+', '[M+Na]+\"']\n",
      "2024-02-27 13:16:45,755:WARNING:matchms:derive_adduct_from_name:Two potential adducts were found in the compound name that are both valid adducts. The first adduct is used. The adducts found are: ['[M-H2O+H]+\"', '[M-H2O+H]+']\n",
      "2024-02-27 13:16:45,756:WARNING:matchms:derive_adduct_from_name:Two potential adducts were found in the compound name that are both valid adducts. The first adduct is used. The adducts found are: ['[M-H2O+H]+', '[M-H2O+H]+\"']\n",
      "2024-02-27 13:16:45,757:WARNING:matchms:derive_adduct_from_name:Two potential adducts were found in the compound name that are both valid adducts. The first adduct is used. The adducts found are: ['[2M+Na]+\"', '[2M+Na]+']\n",
      "2024-02-27 13:16:45,757:WARNING:matchms:derive_adduct_from_name:Two potential adducts were found in the compound name that are both valid adducts. The first adduct is used. The adducts found are: ['[M+Na]+', '[M+Na]+\"']\n",
      "2024-02-27 13:16:45,758:WARNING:matchms:derive_adduct_from_name:Two potential adducts were found in the compound name that are both valid adducts. The first adduct is used. The adducts found are: ['[2M+H]+', '[2M+H]+\"']\n",
      "2024-02-27 13:16:45,759:WARNING:matchms:derive_adduct_from_name:Two potential adducts were found in the compound name that are both valid adducts. The first adduct is used. The adducts found are: ['[M+Na]+', '[M+Na]+\"']\n",
      "2024-02-27 13:16:45,763:WARNING:matchms:derive_adduct_from_name:Two potential adducts were found in the compound name that are both valid adducts. The first adduct is used. The adducts found are: ['[M-H2O+H]+\"', '[M-H2O+H]+']\n",
      "2024-02-27 13:16:45,764:WARNING:matchms:derive_adduct_from_name:Two potential adducts were found in the compound name that are both valid adducts. The first adduct is used. The adducts found are: ['[M+Na]+', '[M+Na]+\"']\n",
      "2024-02-27 13:16:45,764:WARNING:matchms:derive_adduct_from_name:Two potential adducts were found in the compound name that are both valid adducts. The first adduct is used. The adducts found are: ['[M-H2O+H]+', '[M-H2O+H]+\"']\n",
      "2024-02-27 13:16:45,765:WARNING:matchms:derive_adduct_from_name:Two potential adducts were found in the compound name that are both valid adducts. The first adduct is used. The adducts found are: ['[2M+H]+', '[2M+H]+\"']\n",
      "2024-02-27 13:16:45,766:WARNING:matchms:derive_adduct_from_name:Two potential adducts were found in the compound name that are both valid adducts. The first adduct is used. The adducts found are: ['[M+Na]+', '[M+Na]+\"']\n",
      "2024-02-27 13:16:45,770:WARNING:matchms:derive_adduct_from_name:Two potential adducts were found in the compound name that are both valid adducts. The first adduct is used. The adducts found are: ['[M+Na]+\"', '[M+Na]+']\n",
      "2024-02-27 13:16:45,771:WARNING:matchms:derive_adduct_from_name:Two potential adducts were found in the compound name that are both valid adducts. The first adduct is used. The adducts found are: ['[M+Na]+', '[M+Na]+\"']\n",
      "2024-02-27 13:16:45,772:WARNING:matchms:derive_adduct_from_name:Two potential adducts were found in the compound name that are both valid adducts. The first adduct is used. The adducts found are: ['[M-H2O+H]+', '[M-H2O+H]+\"']\n",
      "2024-02-27 13:16:45,772:WARNING:matchms:derive_adduct_from_name:Two potential adducts were found in the compound name that are both valid adducts. The first adduct is used. The adducts found are: ['[2M+H]+', '[2M+H]+\"']\n",
      "2024-02-27 13:16:45,773:WARNING:matchms:derive_adduct_from_name:Two potential adducts were found in the compound name that are both valid adducts. The first adduct is used. The adducts found are: ['[M+Na]+', '[M+Na]+\"']\n",
      "2024-02-27 13:16:45,773:WARNING:matchms:derive_adduct_from_name:Two potential adducts were found in the compound name that are both valid adducts. The first adduct is used. The adducts found are: ['[M-H2O+H]+', '[M-H2O+H]+\"']\n",
      "2024-02-27 13:16:45,778:WARNING:matchms:derive_adduct_from_name:Two potential adducts were found in the compound name that are both valid adducts. The first adduct is used. The adducts found are: ['[M-H2O+H]+\"', '[M-H2O+H]+']\n",
      "2024-02-27 13:16:45,778:WARNING:matchms:derive_adduct_from_name:Two potential adducts were found in the compound name that are both valid adducts. The first adduct is used. The adducts found are: ['[M+Na]+', '[M+Na]+\"']\n",
      "2024-02-27 13:16:45,779:WARNING:matchms:derive_adduct_from_name:Two potential adducts were found in the compound name that are both valid adducts. The first adduct is used. The adducts found are: ['[M-H2O+H]+', '[M-H2O+H]+\"']\n",
      "2024-02-27 13:16:45,780:WARNING:matchms:derive_adduct_from_name:Two potential adducts were found in the compound name that are both valid adducts. The first adduct is used. The adducts found are: ['[2M+H]+', '[2M+H]+\"']\n",
      "2024-02-27 13:16:45,780:WARNING:matchms:derive_adduct_from_name:Two potential adducts were found in the compound name that are both valid adducts. The first adduct is used. The adducts found are: ['[M+Na]+', '[M+Na]+\"']\n",
      "2024-02-27 13:16:45,785:WARNING:matchms:derive_adduct_from_name:Two potential adducts were found in the compound name that are both valid adducts. The first adduct is used. The adducts found are: ['[M+Na]+', '[M+Na]+\"']\n",
      "2024-02-27 13:16:45,786:WARNING:matchms:derive_adduct_from_name:Two potential adducts were found in the compound name that are both valid adducts. The first adduct is used. The adducts found are: ['[M-H2O+H]+\"', '[M-H2O+H]+']\n",
      "2024-02-27 13:16:45,787:WARNING:matchms:derive_adduct_from_name:Two potential adducts were found in the compound name that are both valid adducts. The first adduct is used. The adducts found are: ['[M-2H2O+H]+\"', '[M-2H2O+H]+']\n",
      "2024-02-27 13:16:45,787:WARNING:matchms:derive_adduct_from_name:Two potential adducts were found in the compound name that are both valid adducts. The first adduct is used. The adducts found are: ['[M+Na]+', '[M+Na]+\"']\n",
      "2024-02-27 13:16:45,787:WARNING:matchms:derive_adduct_from_name:Two potential adducts were found in the compound name that are both valid adducts. The first adduct is used. The adducts found are: ['[M+H]+', '[M+H]+\"']\n",
      "2024-02-27 13:16:45,793:WARNING:matchms:derive_adduct_from_name:Two potential adducts were found in the compound name that are both valid adducts. The first adduct is used. The adducts found are: ['[M+H]+', '[M+H]+\"']\n",
      "2024-02-27 13:16:45,793:WARNING:matchms:derive_adduct_from_name:Two potential adducts were found in the compound name that are both valid adducts. The first adduct is used. The adducts found are: ['[M-H2O+H]+\"', '[M-H2O+H]+']\n",
      "2024-02-27 13:16:45,794:WARNING:matchms:derive_adduct_from_name:Two potential adducts were found in the compound name that are both valid adducts. The first adduct is used. The adducts found are: ['[M-H2O+H]+', '[M-H2O+H]+\"']\n",
      "2024-02-27 13:16:45,795:WARNING:matchms:derive_adduct_from_name:Two potential adducts were found in the compound name that are both valid adducts. The first adduct is used. The adducts found are: ['[M+H]+', '[M+H]+\"']\n",
      "2024-02-27 13:16:45,795:WARNING:matchms:derive_adduct_from_name:Two potential adducts were found in the compound name that are both valid adducts. The first adduct is used. The adducts found are: ['[M+Na]+', '[M+Na]+\"']\n",
      "2024-02-27 13:16:45,801:WARNING:matchms:derive_adduct_from_name:Two potential adducts were found in the compound name that are both valid adducts. The first adduct is used. The adducts found are: ['[M-H2O+H]+\"', '[M-H2O+H]+']\n",
      "2024-02-27 13:16:45,801:WARNING:matchms:derive_adduct_from_name:Two potential adducts were found in the compound name that are both valid adducts. The first adduct is used. The adducts found are: ['[M+H]+', '[M+H]+\"']\n",
      "2024-02-27 13:16:45,802:WARNING:matchms:derive_adduct_from_name:Two potential adducts were found in the compound name that are both valid adducts. The first adduct is used. The adducts found are: ['[M-2H2O+H]+\"', '[M-2H2O+H]+']\n",
      "2024-02-27 13:16:45,802:WARNING:matchms:derive_adduct_from_name:Two potential adducts were found in the compound name that are both valid adducts. The first adduct is used. The adducts found are: ['[M+H]+', '[M+H]+\"']\n",
      "2024-02-27 13:16:45,802:WARNING:matchms:derive_adduct_from_name:Two potential adducts were found in the compound name that are both valid adducts. The first adduct is used. The adducts found are: ['[M-H2O+H]+\"', '[M-H2O+H]+']\n",
      "2024-02-27 13:16:45,808:WARNING:matchms:derive_adduct_from_name:Two potential adducts were found in the compound name that are both valid adducts. The first adduct is used. The adducts found are: ['[M+H]+', '[M+H]+\"']\n",
      "2024-02-27 13:16:45,808:WARNING:matchms:derive_adduct_from_name:Two potential adducts were found in the compound name that are both valid adducts. The first adduct is used. The adducts found are: ['[M-H2O+H]+\"', '[M-H2O+H]+']\n",
      "2024-02-27 13:16:45,809:WARNING:matchms:derive_adduct_from_name:Two potential adducts were found in the compound name that are both valid adducts. The first adduct is used. The adducts found are: ['[M-2H2O+H]+\"', '[M-2H2O+H]+']\n",
      "2024-02-27 13:16:45,810:WARNING:matchms:derive_adduct_from_name:Two potential adducts were found in the compound name that are both valid adducts. The first adduct is used. The adducts found are: ['[M+H]+', '[M+H]+\"']\n",
      "2024-02-27 13:16:45,810:WARNING:matchms:derive_adduct_from_name:Two potential adducts were found in the compound name that are both valid adducts. The first adduct is used. The adducts found are: ['[M-H]-', '[M-H]-\"']\n",
      "2024-02-27 13:16:45,815:WARNING:matchms:derive_adduct_from_name:Two potential adducts were found in the compound name that are both valid adducts. The first adduct is used. The adducts found are: ['[M+H]+', '[M+H]+\"']\n",
      "2024-02-27 13:16:45,816:WARNING:matchms:derive_adduct_from_name:Two potential adducts were found in the compound name that are both valid adducts. The first adduct is used. The adducts found are: ['[M+H]+', '[M+H]+\"']\n",
      "2024-02-27 13:16:45,816:WARNING:matchms:derive_adduct_from_name:Two potential adducts were found in the compound name that are both valid adducts. The first adduct is used. The adducts found are: ['[2M+H]+', '[2M+H]+\"']\n",
      "2024-02-27 13:16:45,817:WARNING:matchms:derive_adduct_from_name:Two potential adducts were found in the compound name that are both valid adducts. The first adduct is used. The adducts found are: ['[M-2H2O+H]+\"', '[M-2H2O+H]+']\n",
      "2024-02-27 13:16:45,817:WARNING:matchms:derive_adduct_from_name:Two potential adducts were found in the compound name that are both valid adducts. The first adduct is used. The adducts found are: ['[M-2H2O+H]+\"', '[M-2H2O+H]+']\n",
      "2024-02-27 13:16:45,821:WARNING:matchms:derive_adduct_from_name:Two potential adducts were found in the compound name that are both valid adducts. The first adduct is used. The adducts found are: ['[M+H]+', '[M+H]+\"']\n",
      "2024-02-27 13:16:45,826:WARNING:matchms:derive_adduct_from_name:Two potential adducts were found in the compound name that are both valid adducts. The first adduct is used. The adducts found are: ['[M+H]+', '[M+H]+\"']\n",
      "2024-02-27 13:16:45,827:WARNING:matchms:derive_adduct_from_name:Two potential adducts were found in the compound name that are both valid adducts. The first adduct is used. The adducts found are: ['[2M+H]+', '[2M+H]+\"']\n",
      "2024-02-27 13:16:45,828:WARNING:matchms:derive_adduct_from_name:Two potential adducts were found in the compound name that are both valid adducts. The first adduct is used. The adducts found are: ['[M-H2O+H]+\"', '[M-H2O+H]+']\n",
      "2024-02-27 13:16:45,828:WARNING:matchms:derive_adduct_from_name:Two potential adducts were found in the compound name that are both valid adducts. The first adduct is used. The adducts found are: ['[M-H2O+H]+', '[M-H2O+H]+\"']\n",
      "2024-02-27 13:16:45,828:WARNING:matchms:derive_adduct_from_name:Two potential adducts were found in the compound name that are both valid adducts. The first adduct is used. The adducts found are: ['[M-2H2O+H]+\"', '[M-2H2O+H]+']\n",
      "2024-02-27 13:16:45,834:WARNING:matchms:derive_adduct_from_name:Two potential adducts were found in the compound name that are both valid adducts. The first adduct is used. The adducts found are: ['[M+H]+', '[M+H]+\"']\n",
      "2024-02-27 13:16:45,835:WARNING:matchms:derive_adduct_from_name:Two potential adducts were found in the compound name that are both valid adducts. The first adduct is used. The adducts found are: ['[2M+H]+', '[2M+H]+\"']\n",
      "2024-02-27 13:16:45,835:WARNING:matchms:derive_adduct_from_name:Two potential adducts were found in the compound name that are both valid adducts. The first adduct is used. The adducts found are: ['[M-H2O+H]+\"', '[M-H2O+H]+']\n",
      "2024-02-27 13:16:45,836:WARNING:matchms:derive_adduct_from_name:Two potential adducts were found in the compound name that are both valid adducts. The first adduct is used. The adducts found are: ['[M+H]+\"', '[M+H]+']\n",
      "2024-02-27 13:16:45,836:WARNING:matchms:derive_adduct_from_name:Two potential adducts were found in the compound name that are both valid adducts. The first adduct is used. The adducts found are: ['[M-H2O+H]+', '[M-H2O+H]+\"']\n",
      "2024-02-27 13:16:45,841:WARNING:matchms:derive_adduct_from_name:Two potential adducts were found in the compound name that are both valid adducts. The first adduct is used. The adducts found are: ['[M+H]+', '[M+H]+\"']\n",
      "2024-02-27 13:16:45,842:WARNING:matchms:derive_adduct_from_name:Two potential adducts were found in the compound name that are both valid adducts. The first adduct is used. The adducts found are: ['[2M+H]+', '[2M+H]+\"']\n",
      "2024-02-27 13:16:45,843:WARNING:matchms:derive_adduct_from_name:Two potential adducts were found in the compound name that are both valid adducts. The first adduct is used. The adducts found are: ['[M-H2O+H]+\"', '[M-H2O+H]+']\n",
      "2024-02-27 13:16:45,843:WARNING:matchms:derive_adduct_from_name:Two potential adducts were found in the compound name that are both valid adducts. The first adduct is used. The adducts found are: ['[M+H]+\"', '[M+H]+']\n",
      "2024-02-27 13:16:45,843:WARNING:matchms:derive_adduct_from_name:Two potential adducts were found in the compound name that are both valid adducts. The first adduct is used. The adducts found are: ['[M-H2O+H]+', '[M-H2O+H]+\"']\n",
      "2024-02-27 13:16:45,848:WARNING:matchms:derive_adduct_from_name:Two potential adducts were found in the compound name that are both valid adducts. The first adduct is used. The adducts found are: ['[M+H]+', '[M+H]+\"']\n",
      "2024-02-27 13:16:45,850:WARNING:matchms:derive_adduct_from_name:Two potential adducts were found in the compound name that are both valid adducts. The first adduct is used. The adducts found are: ['[2M+H]+', '[2M+H]+\"']\n",
      "2024-02-27 13:16:45,850:WARNING:matchms:derive_adduct_from_name:Two potential adducts were found in the compound name that are both valid adducts. The first adduct is used. The adducts found are: ['[M-H2O+H]+\"', '[M-H2O+H]+']\n",
      "2024-02-27 13:16:45,850:WARNING:matchms:derive_adduct_from_name:Two potential adducts were found in the compound name that are both valid adducts. The first adduct is used. The adducts found are: ['[M-H2O+H]+', '[M-H2O+H]+\"']\n",
      "2024-02-27 13:16:45,850:WARNING:matchms:derive_adduct_from_name:Two potential adducts were found in the compound name that are both valid adducts. The first adduct is used. The adducts found are: ['[M-H2O+H]+', '[M-H2O+H]+\"']\n",
      "2024-02-27 13:16:45,855:WARNING:matchms:derive_adduct_from_name:Two potential adducts were found in the compound name that are both valid adducts. The first adduct is used. The adducts found are: ['[M+H]+', '[M+H]+\"']\n",
      "2024-02-27 13:16:45,857:WARNING:matchms:derive_adduct_from_name:Two potential adducts were found in the compound name that are both valid adducts. The first adduct is used. The adducts found are: ['[M-2H2O+H]+\"', '[M-2H2O+H]+']\n",
      "2024-02-27 13:16:45,858:WARNING:matchms:derive_adduct_from_name:Two potential adducts were found in the compound name that are both valid adducts. The first adduct is used. The adducts found are: ['[M-H2O+H]+\"', '[M-H2O+H]+']\n",
      "2024-02-27 13:16:45,858:WARNING:matchms:derive_adduct_from_name:Two potential adducts were found in the compound name that are both valid adducts. The first adduct is used. The adducts found are: ['[M-H2O+H]+', '[M-H2O+H]+\"']\n",
      "2024-02-27 13:16:45,858:WARNING:matchms:derive_adduct_from_name:Two potential adducts were found in the compound name that are both valid adducts. The first adduct is used. The adducts found are: ['[M-H2O+H]+', '[M-H2O+H]+\"']\n",
      "2024-02-27 13:16:45,863:WARNING:matchms:derive_adduct_from_name:Two potential adducts were found in the compound name that are both valid adducts. The first adduct is used. The adducts found are: ['[M+H]+', '[M+H]+\"']\n",
      "2024-02-27 13:16:45,865:WARNING:matchms:derive_adduct_from_name:Two potential adducts were found in the compound name that are both valid adducts. The first adduct is used. The adducts found are: ['[M-2H2O+H]+\"', '[M-2H2O+H]+']\n",
      "2024-02-27 13:16:45,865:WARNING:matchms:derive_adduct_from_name:Two potential adducts were found in the compound name that are both valid adducts. The first adduct is used. The adducts found are: ['[M-H2O+H]+', '[M-H2O+H]+\"']\n",
      "2024-02-27 13:16:45,865:WARNING:matchms:derive_adduct_from_name:Two potential adducts were found in the compound name that are both valid adducts. The first adduct is used. The adducts found are: ['[M-H2O+H]+', '[M-H2O+H]+\"']\n",
      "2024-02-27 13:16:45,870:WARNING:matchms:derive_adduct_from_name:Two potential adducts were found in the compound name that are both valid adducts. The first adduct is used. The adducts found are: ['[M+H]+', '[M+H]+\"']\n",
      "2024-02-27 13:16:45,870:WARNING:matchms:derive_adduct_from_name:Two potential adducts were found in the compound name that are both valid adducts. The first adduct is used. The adducts found are: ['[M+Na]+', '[M+Na]+\"']\n",
      "2024-02-27 13:16:45,872:WARNING:matchms:derive_adduct_from_name:Two potential adducts were found in the compound name that are both valid adducts. The first adduct is used. The adducts found are: ['[2M+H]+', '[2M+H]+\"']\n",
      "2024-02-27 13:16:45,875:WARNING:matchms:derive_adduct_from_name:Two potential adducts were found in the compound name that are both valid adducts. The first adduct is used. The adducts found are: ['[M-H2O+H]+\"', '[M-H2O+H]+']\n",
      "2024-02-27 13:16:45,877:WARNING:matchms:derive_adduct_from_name:Two potential adducts were found in the compound name that are both valid adducts. The first adduct is used. The adducts found are: ['[M+H]+', '[M+H]+\"']\n",
      "2024-02-27 13:16:45,880:WARNING:matchms:derive_adduct_from_name:Two potential adducts were found in the compound name that are both valid adducts. The first adduct is used. The adducts found are: ['[M+Na]+\"', '[M+Na]+']\n",
      "2024-02-27 13:16:45,880:WARNING:matchms:derive_adduct_from_name:Two potential adducts were found in the compound name that are both valid adducts. The first adduct is used. The adducts found are: ['[M+Na]+', '[M+Na]+\"']\n",
      "2024-02-27 13:16:45,884:WARNING:matchms:derive_adduct_from_name:Two potential adducts were found in the compound name that are both valid adducts. The first adduct is used. The adducts found are: ['[M+H]+', '[M+H]+\"']\n",
      "2024-02-27 13:16:45,886:WARNING:matchms:derive_adduct_from_name:Two potential adducts were found in the compound name that are both valid adducts. The first adduct is used. The adducts found are: ['[M+Na]+', '[M+Na]+\"']\n",
      "2024-02-27 13:16:45,891:WARNING:matchms:derive_adduct_from_name:Two potential adducts were found in the compound name that are both valid adducts. The first adduct is used. The adducts found are: ['[M+Na]+', '[M+Na]+\"']\n",
      "2024-02-27 13:16:45,896:WARNING:matchms:derive_adduct_from_name:Two potential adducts were found in the compound name that are both valid adducts. The first adduct is used. The adducts found are: ['[M-2H2O+H]+\"', '[M-2H2O+H]+']\n",
      "2024-02-27 13:16:45,901:WARNING:matchms:derive_adduct_from_name:Two potential adducts were found in the compound name that are both valid adducts. The first adduct is used. The adducts found are: ['[M-2H2O+H]+\"', '[M-2H2O+H]+']\n"
     ]
    },
    {
     "name": "stderr",
     "output_type": "stream",
     "text": [
      "147186it [03:41, 730.04it/s]"
     ]
    },
    {
     "name": "stdout",
     "output_type": "stream",
     "text": [
      "2024-02-27 13:17:11,354:WARNING:matchms:derive_adduct_from_name:Two potential adducts were found in the compound name that are both valid adducts. The first adduct is used. The adducts found are: ['[M+H]+', '[M+H]+\"']\n",
      "2024-02-27 13:17:11,362:WARNING:matchms:derive_adduct_from_name:Two potential adducts were found in the compound name that are both valid adducts. The first adduct is used. The adducts found are: ['[M+H]+', '[M+H]+\"']\n",
      "2024-02-27 13:17:11,370:WARNING:matchms:derive_adduct_from_name:Two potential adducts were found in the compound name that are both valid adducts. The first adduct is used. The adducts found are: ['[M+H]+', '[M+H]+\"']\n",
      "2024-02-27 13:17:11,377:WARNING:matchms:derive_adduct_from_name:Two potential adducts were found in the compound name that are both valid adducts. The first adduct is used. The adducts found are: ['[M+H]+', '[M+H]+\"']\n",
      "2024-02-27 13:17:11,385:WARNING:matchms:derive_adduct_from_name:Two potential adducts were found in the compound name that are both valid adducts. The first adduct is used. The adducts found are: ['[M+H]+', '[M+H]+\"']\n",
      "2024-02-27 13:17:11,396:WARNING:matchms:derive_adduct_from_name:Two potential adducts were found in the compound name that are both valid adducts. The first adduct is used. The adducts found are: ['[M+H]+', '[M+H]+\"']\n",
      "2024-02-27 13:17:11,404:WARNING:matchms:derive_adduct_from_name:Two potential adducts were found in the compound name that are both valid adducts. The first adduct is used. The adducts found are: ['[M+H]+', '[M+H]+\"']\n",
      "2024-02-27 13:17:11,411:WARNING:matchms:derive_adduct_from_name:Two potential adducts were found in the compound name that are both valid adducts. The first adduct is used. The adducts found are: ['[M+H]+', '[M+H]+\"']\n",
      "2024-02-27 13:17:11,419:WARNING:matchms:derive_adduct_from_name:Two potential adducts were found in the compound name that are both valid adducts. The first adduct is used. The adducts found are: ['[M+H]+', '[M+H]+\"']\n"
     ]
    },
    {
     "name": "stderr",
     "output_type": "stream",
     "text": [
      "147477it [03:41, 875.55it/s]"
     ]
    },
    {
     "name": "stdout",
     "output_type": "stream",
     "text": [
      "2024-02-27 13:17:11,680:WARNING:matchms:derive_adduct_from_name:Two potential adducts were found in the compound name that are both valid adducts. The first adduct is used. The adducts found are: ['[M+H]+\"', '[M+H]+']\n",
      "2024-02-27 13:17:11,687:WARNING:matchms:derive_adduct_from_name:Two potential adducts were found in the compound name that are both valid adducts. The first adduct is used. The adducts found are: ['[M+H]+\"', '[M+H]+']\n",
      "2024-02-27 13:17:11,695:WARNING:matchms:derive_adduct_from_name:Two potential adducts were found in the compound name that are both valid adducts. The first adduct is used. The adducts found are: ['[M+H]+\"', '[M+H]+']\n"
     ]
    },
    {
     "name": "stderr",
     "output_type": "stream",
     "text": [
      "153786it [03:50, 636.19it/s]"
     ]
    },
    {
     "name": "stdout",
     "output_type": "stream",
     "text": [
      "2024-02-27 13:17:20,699:WARNING:matchms:derive_adduct_from_name:Two potential adducts were found in the compound name that are both valid adducts. The first adduct is used. The adducts found are: ['[2M+H]+', '[M+H]+']\n",
      "2024-02-27 13:17:20,706:WARNING:matchms:derive_adduct_from_name:Two potential adducts were found in the compound name that are both valid adducts. The first adduct is used. The adducts found are: ['[2M+H]+', '[M+H]+']\n",
      "2024-02-27 13:17:20,714:WARNING:matchms:derive_adduct_from_name:Two potential adducts were found in the compound name that are both valid adducts. The first adduct is used. The adducts found are: ['[2M+H]+', '[M+H]+']\n",
      "2024-02-27 13:17:20,720:WARNING:matchms:derive_adduct_from_name:Two potential adducts were found in the compound name that are both valid adducts. The first adduct is used. The adducts found are: ['[2M+H]+', '[M+H]+']\n",
      "2024-02-27 13:17:20,726:WARNING:matchms:derive_adduct_from_name:Two potential adducts were found in the compound name that are both valid adducts. The first adduct is used. The adducts found are: ['[2M+H]+', '[M+H]+']\n",
      "2024-02-27 13:17:20,733:WARNING:matchms:derive_adduct_from_name:Two potential adducts were found in the compound name that are both valid adducts. The first adduct is used. The adducts found are: ['[2M+H]+', '[M+H]+']\n",
      "2024-02-27 13:17:20,740:WARNING:matchms:derive_adduct_from_name:Two potential adducts were found in the compound name that are both valid adducts. The first adduct is used. The adducts found are: ['[2M+H]+', '[M+H]+']\n",
      "2024-02-27 13:17:20,747:WARNING:matchms:derive_adduct_from_name:Two potential adducts were found in the compound name that are both valid adducts. The first adduct is used. The adducts found are: ['[2M+H]+', '[M+H]+']\n",
      "2024-02-27 13:17:20,754:WARNING:matchms:derive_adduct_from_name:Two potential adducts were found in the compound name that are both valid adducts. The first adduct is used. The adducts found are: ['[2M+H]+', '[M+H]+']\n"
     ]
    },
    {
     "name": "stderr",
     "output_type": "stream",
     "text": [
      "157630it [03:56, 670.31it/s]"
     ]
    },
    {
     "name": "stdout",
     "output_type": "stream",
     "text": [
      "2024-02-27 13:17:26,108:WARNING:matchms:interpret_unknown_adduct:Charge was found 0 times in adduct [M+Fe-2H]\n",
      "2024-02-27 13:17:26,115:WARNING:matchms:interpret_unknown_adduct:Charge was found 0 times in adduct [M+Fe-2H]\n",
      "2024-02-27 13:17:26,122:WARNING:matchms:interpret_unknown_adduct:Charge was found 0 times in adduct [M+Fe-2H]\n",
      "2024-02-27 13:17:26,130:WARNING:matchms:interpret_unknown_adduct:Charge was found 0 times in adduct [M+Fe-2H]\n",
      "2024-02-27 13:17:26,138:WARNING:matchms:interpret_unknown_adduct:Charge was found 0 times in adduct [M+Fe-2H]\n",
      "2024-02-27 13:17:26,145:WARNING:matchms:interpret_unknown_adduct:Charge was found 0 times in adduct [M+Fe-2H]\n",
      "2024-02-27 13:17:26,152:WARNING:matchms:interpret_unknown_adduct:Charge was found 0 times in adduct [M+Fe-2H]\n",
      "2024-02-27 13:17:26,159:WARNING:matchms:interpret_unknown_adduct:Charge was found 0 times in adduct [M+Fe-2H]\n",
      "2024-02-27 13:17:26,167:WARNING:matchms:interpret_unknown_adduct:Charge was found 0 times in adduct [M+Fe-2H]\n",
      "2024-02-27 13:17:26,174:WARNING:matchms:interpret_unknown_adduct:Charge was found 0 times in adduct [M+Fe-2H]\n"
     ]
    },
    {
     "name": "stderr",
     "output_type": "stream",
     "text": [
      "163725it [04:04, 696.45it/s]"
     ]
    },
    {
     "name": "stdout",
     "output_type": "stream",
     "text": [
      "2024-02-27 13:17:34,604:WARNING:matchms:derive_adduct_from_name:Two potential adducts were found in the compound name that are both valid adducts. The first adduct is used. The adducts found are: ['[M+H]+', '[M+H]+\"']\n",
      "2024-02-27 13:17:34,612:WARNING:matchms:derive_adduct_from_name:Two potential adducts were found in the compound name that are both valid adducts. The first adduct is used. The adducts found are: ['[M+H]+', '[M+H]+\"']\n",
      "2024-02-27 13:17:34,619:WARNING:matchms:derive_adduct_from_name:Two potential adducts were found in the compound name that are both valid adducts. The first adduct is used. The adducts found are: ['[M+H]+', '[M+H]+\"']\n",
      "2024-02-27 13:17:34,627:WARNING:matchms:derive_adduct_from_name:Two potential adducts were found in the compound name that are both valid adducts. The first adduct is used. The adducts found are: ['[M+H]+', '[M+H]+\"']\n",
      "2024-02-27 13:17:34,636:WARNING:matchms:derive_adduct_from_name:Two potential adducts were found in the compound name that are both valid adducts. The first adduct is used. The adducts found are: ['[M+H]+', '[M+H]+\"']\n"
     ]
    },
    {
     "name": "stderr",
     "output_type": "stream",
     "text": [
      "175136it [04:22, 805.80it/s]"
     ]
    },
    {
     "name": "stdout",
     "output_type": "stream",
     "text": [
      "2024-02-27 13:17:52,291:WARNING:matchms:derive_adduct_from_name:Two potential adducts were found in the compound name that are both valid adducts. The first adduct is used. The adducts found are: ['[M+H]+', '[M+H]+\"']\n"
     ]
    },
    {
     "name": "stderr",
     "output_type": "stream",
     "text": [
      "187464it [04:41, 644.86it/s]"
     ]
    },
    {
     "name": "stdout",
     "output_type": "stream",
     "text": [
      "2024-02-27 13:18:10,954:WARNING:matchms:derive_adduct_from_name:Two potential adducts were found in the compound name that are both valid adducts. The first adduct is used. The adducts found are: ['[M+H]+', '[M+H]+\"']\n"
     ]
    },
    {
     "name": "stderr",
     "output_type": "stream",
     "text": [
      "511815it [11:01, 1048.28it/s]"
     ]
    },
    {
     "name": "stdout",
     "output_type": "stream",
     "text": [
      "2024-02-27 13:24:31,414:WARNING:matchms:derive_adduct_from_name:Two potential adducts were found in the compound name that are both valid adducts. The first adduct is used. The adducts found are: ['[M-H]-', '[M+H]+']\n",
      "2024-02-27 13:24:31,427:WARNING:matchms:derive_adduct_from_name:Two potential adducts were found in the compound name that are both valid adducts. The first adduct is used. The adducts found are: ['[M-H]-', '[M+H]+']\n",
      "2024-02-27 13:24:31,449:WARNING:matchms:derive_adduct_from_name:Two potential adducts were found in the compound name that are both valid adducts. The first adduct is used. The adducts found are: ['[M-H]-', '[M+H]+']\n"
     ]
    },
    {
     "name": "stderr",
     "output_type": "stream",
     "text": [
      "512682it [11:02, 884.83it/s] "
     ]
    },
    {
     "name": "stdout",
     "output_type": "stream",
     "text": [
      "2024-02-27 13:24:32,448:WARNING:matchms:derive_adduct_from_name:Two potential adducts were found in the compound name that are both valid adducts. The first adduct is used. The adducts found are: ['[M-H]-', '[M+2H]2+']\n",
      "2024-02-27 13:24:32,582:WARNING:matchms:derive_adduct_from_name:Two potential adducts were found in the compound name that are both valid adducts. The first adduct is used. The adducts found are: ['[M-H]-', '[M+H]+']\n",
      "2024-02-27 13:24:32,630:WARNING:matchms:derive_adduct_from_name:Two potential adducts were found in the compound name that are both valid adducts. The first adduct is used. The adducts found are: ['[M-H]-', '[M+H]+']\n",
      "2024-02-27 13:24:32,640:WARNING:matchms:derive_adduct_from_name:Two potential adducts were found in the compound name that are both valid adducts. The first adduct is used. The adducts found are: ['[M-H]-', '[M+H]+']\n"
     ]
    },
    {
     "name": "stderr",
     "output_type": "stream",
     "text": [
      "512861it [11:02, 850.96it/s]"
     ]
    },
    {
     "name": "stdout",
     "output_type": "stream",
     "text": [
      "2024-02-27 13:24:32,662:WARNING:matchms:derive_adduct_from_name:Two potential adducts were found in the compound name that are both valid adducts. The first adduct is used. The adducts found are: ['[M-H]-', '[M+H]+']\n",
      "2024-02-27 13:24:32,676:WARNING:matchms:derive_adduct_from_name:Two potential adducts were found in the compound name that are both valid adducts. The first adduct is used. The adducts found are: ['[M-H]-', '[M+H]+']\n",
      "2024-02-27 13:24:32,677:WARNING:matchms:derive_adduct_from_name:Two potential adducts were found in the compound name that are both valid adducts. The first adduct is used. The adducts found are: ['[M-H]-', '[M+H]+']\n",
      "2024-02-27 13:24:32,736:WARNING:matchms:derive_adduct_from_name:Two potential adducts were found in the compound name that are both valid adducts. The first adduct is used. The adducts found are: ['[M-H]-', '[M+H]+']\n",
      "2024-02-27 13:24:32,743:WARNING:matchms:derive_adduct_from_name:Two potential adducts were found in the compound name that are both valid adducts. The first adduct is used. The adducts found are: ['[M-H]-', '[M+H]+']\n",
      "2024-02-27 13:24:32,751:WARNING:matchms:derive_adduct_from_name:Two potential adducts were found in the compound name that are both valid adducts. The first adduct is used. The adducts found are: ['[M-H]-', '[M+H]+']\n",
      "2024-02-27 13:24:32,788:WARNING:matchms:derive_adduct_from_name:Two potential adducts were found in the compound name that are both valid adducts. The first adduct is used. The adducts found are: ['[M+H]+', '[M-H]-']\n",
      "2024-02-27 13:24:32,804:WARNING:matchms:derive_adduct_from_name:Two potential adducts were found in the compound name that are both valid adducts. The first adduct is used. The adducts found are: ['[M+H]+', '[M-H]-']\n",
      "2024-02-27 13:24:32,811:WARNING:matchms:derive_adduct_from_name:Two potential adducts were found in the compound name that are both valid adducts. The first adduct is used. The adducts found are: ['[M+H]+', '[M-H]-']\n",
      "2024-02-27 13:24:32,817:WARNING:matchms:derive_adduct_from_name:Two potential adducts were found in the compound name that are both valid adducts. The first adduct is used. The adducts found are: ['[M+H]+', '[M-H]-']\n",
      "2024-02-27 13:24:32,828:WARNING:matchms:derive_adduct_from_name:Two potential adducts were found in the compound name that are both valid adducts. The first adduct is used. The adducts found are: ['[M+H]+', '[M-H]-']\n",
      "2024-02-27 13:24:32,829:WARNING:matchms:derive_adduct_from_name:Two potential adducts were found in the compound name that are both valid adducts. The first adduct is used. The adducts found are: ['[M-H]-', '[M+H]+']\n",
      "2024-02-27 13:24:32,835:WARNING:matchms:derive_adduct_from_name:Two potential adducts were found in the compound name that are both valid adducts. The first adduct is used. The adducts found are: ['[M+H]+', '[M-H]-']\n",
      "2024-02-27 13:24:32,849:WARNING:matchms:derive_adduct_from_name:Two potential adducts were found in the compound name that are both valid adducts. The first adduct is used. The adducts found are: ['[M+H]+', '[M-H]-']\n",
      "2024-02-27 13:24:32,857:WARNING:matchms:derive_adduct_from_name:Two potential adducts were found in the compound name that are both valid adducts. The first adduct is used. The adducts found are: ['[M+H]+', '[M-H]-']\n"
     ]
    },
    {
     "name": "stderr",
     "output_type": "stream",
     "text": [
      "513056it [11:03, 885.49it/s]"
     ]
    },
    {
     "name": "stdout",
     "output_type": "stream",
     "text": [
      "2024-02-27 13:24:32,873:WARNING:matchms:derive_adduct_from_name:Two potential adducts were found in the compound name that are both valid adducts. The first adduct is used. The adducts found are: ['[M-H]-', '[M+H]+']\n",
      "2024-02-27 13:24:32,891:WARNING:matchms:derive_adduct_from_name:Two potential adducts were found in the compound name that are both valid adducts. The first adduct is used. The adducts found are: ['[M-H]-', '[M+H]+']\n",
      "2024-02-27 13:24:32,906:WARNING:matchms:derive_adduct_from_name:Two potential adducts were found in the compound name that are both valid adducts. The first adduct is used. The adducts found are: ['[M+H]+', '[M-H]-']\n",
      "2024-02-27 13:24:32,974:WARNING:matchms:derive_adduct_from_name:Two potential adducts were found in the compound name that are both valid adducts. The first adduct is used. The adducts found are: ['[M-H]-', '[M+H]+']\n",
      "2024-02-27 13:24:33,013:WARNING:matchms:derive_adduct_from_name:Two potential adducts were found in the compound name that are both valid adducts. The first adduct is used. The adducts found are: ['[M+H]+', '[M-H]-']\n"
     ]
    },
    {
     "name": "stderr",
     "output_type": "stream",
     "text": [
      "513252it [11:03, 869.41it/s]"
     ]
    },
    {
     "name": "stdout",
     "output_type": "stream",
     "text": [
      "2024-02-27 13:24:33,121:WARNING:matchms:derive_adduct_from_name:Two potential adducts were found in the compound name that are both valid adducts. The first adduct is used. The adducts found are: ['[M-H]-', '[M+H]+']\n",
      "2024-02-27 13:24:33,136:WARNING:matchms:derive_adduct_from_name:Two potential adducts were found in the compound name that are both valid adducts. The first adduct is used. The adducts found are: ['[M-H]-', '[M+H]+']\n"
     ]
    },
    {
     "name": "stderr",
     "output_type": "stream",
     "text": [
      "513621it [11:03, 868.98it/s] "
     ]
    },
    {
     "name": "stdout",
     "output_type": "stream",
     "text": [
      "2024-02-27 13:24:33,495:WARNING:matchms:derive_adduct_from_name:Two potential adducts were found in the compound name that are both valid adducts. The first adduct is used. The adducts found are: ['[M+H]+', '[M-H]-']\n",
      "2024-02-27 13:24:33,612:WARNING:matchms:derive_adduct_from_name:Two potential adducts were found in the compound name that are both valid adducts. The first adduct is used. The adducts found are: ['[M+H]+', '[M-H]-']\n"
     ]
    },
    {
     "name": "stderr",
     "output_type": "stream",
     "text": [
      "513824it [11:03, 860.10it/s]"
     ]
    },
    {
     "name": "stdout",
     "output_type": "stream",
     "text": [
      "2024-02-27 13:24:33,768:WARNING:matchms:derive_adduct_from_name:Two potential adducts were found in the compound name that are both valid adducts. The first adduct is used. The adducts found are: ['[M+H]+', '[M-H]-']\n",
      "2024-02-27 13:24:33,882:WARNING:matchms:derive_adduct_from_name:Two potential adducts were found in the compound name that are both valid adducts. The first adduct is used. The adducts found are: ['[M+H]+', '[M-H]-']\n"
     ]
    },
    {
     "name": "stderr",
     "output_type": "stream",
     "text": [
      "514147it [11:04, 889.30it/s]"
     ]
    },
    {
     "name": "stdout",
     "output_type": "stream",
     "text": [
      "2024-02-27 13:24:34,128:WARNING:matchms:derive_adduct_from_name:Two potential adducts were found in the compound name that are both valid adducts. The first adduct is used. The adducts found are: ['[M-H]-', '[M+H]+']\n",
      "2024-02-27 13:24:34,179:WARNING:matchms:derive_adduct_from_name:Two potential adducts were found in the compound name that are both valid adducts. The first adduct is used. The adducts found are: ['[M-H]-', '[M+H]+']\n"
     ]
    },
    {
     "name": "stderr",
     "output_type": "stream",
     "text": [
      "514446it [11:04, 922.66it/s]"
     ]
    },
    {
     "name": "stdout",
     "output_type": "stream",
     "text": [
      "2024-02-27 13:24:34,483:WARNING:matchms:derive_adduct_from_name:Two potential adducts were found in the compound name that are both valid adducts. The first adduct is used. The adducts found are: ['[M+H]+', '[M-H]-']\n",
      "2024-02-27 13:24:34,523:WARNING:matchms:derive_adduct_from_name:Two potential adducts were found in the compound name that are both valid adducts. The first adduct is used. The adducts found are: ['[M+H]+', '[M-H]-']\n",
      "2024-02-27 13:24:34,663:WARNING:matchms:derive_adduct_from_name:Two potential adducts were found in the compound name that are both valid adducts. The first adduct is used. The adducts found are: ['[M+H]+', '[M-H]-']\n",
      "2024-02-27 13:24:34,670:WARNING:matchms:derive_adduct_from_name:Two potential adducts were found in the compound name that are both valid adducts. The first adduct is used. The adducts found are: ['[M+H]+', '[M-H]-']\n"
     ]
    },
    {
     "name": "stderr",
     "output_type": "stream",
     "text": [
      "514668it [11:04, 892.88it/s]"
     ]
    },
    {
     "name": "stdout",
     "output_type": "stream",
     "text": [
      "2024-02-27 13:24:34,781:WARNING:matchms:derive_adduct_from_name:Two potential adducts were found in the compound name that are both valid adducts. The first adduct is used. The adducts found are: ['[M+H]+', '[M+2H]2+']\n"
     ]
    },
    {
     "name": "stderr",
     "output_type": "stream",
     "text": [
      "515150it [11:05, 749.14it/s]"
     ]
    },
    {
     "name": "stdout",
     "output_type": "stream",
     "text": [
      "2024-02-27 13:24:35,313:WARNING:matchms:derive_adduct_from_name:Two potential adducts were found in the compound name that are both valid adducts. The first adduct is used. The adducts found are: ['[M+H]+', '[M+2H]2+']\n",
      "2024-02-27 13:24:35,341:WARNING:matchms:derive_adduct_from_name:Two potential adducts were found in the compound name that are both valid adducts. The first adduct is used. The adducts found are: ['[M+2H]2+', '[M+H]+']\n",
      "2024-02-27 13:24:35,422:WARNING:matchms:derive_adduct_from_name:Two potential adducts were found in the compound name that are both valid adducts. The first adduct is used. The adducts found are: ['[M-H]-', '[M+H]+']\n",
      "2024-02-27 13:24:35,481:WARNING:matchms:derive_adduct_from_name:Two potential adducts were found in the compound name that are both valid adducts. The first adduct is used. The adducts found are: ['[M-H]-', '[M+H]+']\n",
      "2024-02-27 13:24:35,497:WARNING:matchms:derive_adduct_from_name:Two potential adducts were found in the compound name that are both valid adducts. The first adduct is used. The adducts found are: ['[M-H]-', '[M+H]+']\n"
     ]
    },
    {
     "name": "stderr",
     "output_type": "stream",
     "text": [
      "515586it [11:05, 906.81it/s]"
     ]
    },
    {
     "name": "stdout",
     "output_type": "stream",
     "text": [
      "2024-02-27 13:24:35,754:WARNING:matchms:derive_adduct_from_name:Two potential adducts were found in the compound name that are both valid adducts. The first adduct is used. The adducts found are: ['[M-H]-', '[M+H]+']\n"
     ]
    },
    {
     "name": "stderr",
     "output_type": "stream",
     "text": [
      "516114it [11:06, 956.23it/s]"
     ]
    },
    {
     "name": "stdout",
     "output_type": "stream",
     "text": [
      "2024-02-27 13:24:36,319:WARNING:matchms:derive_adduct_from_name:Two potential adducts were found in the compound name that are both valid adducts. The first adduct is used. The adducts found are: ['[M-H]-', '[M+H]+']\n",
      "2024-02-27 13:24:36,368:WARNING:matchms:derive_adduct_from_name:Two potential adducts were found in the compound name that are both valid adducts. The first adduct is used. The adducts found are: ['[M-H]-', '[M+H]+']\n",
      "2024-02-27 13:24:36,476:WARNING:matchms:derive_adduct_from_name:Two potential adducts were found in the compound name that are both valid adducts. The first adduct is used. The adducts found are: ['[M+H]+', '[M-H]-']\n"
     ]
    },
    {
     "name": "stderr",
     "output_type": "stream",
     "text": [
      "516214it [11:06, 735.18it/s]"
     ]
    },
    {
     "name": "stdout",
     "output_type": "stream",
     "text": [
      "2024-02-27 13:24:36,606:WARNING:matchms:derive_adduct_from_name:Two potential adducts were found in the compound name that are both valid adducts. The first adduct is used. The adducts found are: ['[M-H]-', '[M+H]+']\n",
      "2024-02-27 13:24:36,772:WARNING:matchms:derive_adduct_from_name:Two potential adducts were found in the compound name that are both valid adducts. The first adduct is used. The adducts found are: ['[M-H]-', '[M+H]+']\n"
     ]
    },
    {
     "name": "stderr",
     "output_type": "stream",
     "text": [
      "516549it [11:07, 838.23it/s]"
     ]
    },
    {
     "name": "stdout",
     "output_type": "stream",
     "text": [
      "2024-02-27 13:24:36,946:WARNING:matchms:derive_adduct_from_name:Two potential adducts were found in the compound name that are both valid adducts. The first adduct is used. The adducts found are: ['[M-H]-', '[M+H]+']\n",
      "2024-02-27 13:24:37,164:WARNING:matchms:derive_adduct_from_name:Two potential adducts were found in the compound name that are both valid adducts. The first adduct is used. The adducts found are: ['[M+H]+', '[M-H]-']\n"
     ]
    },
    {
     "name": "stderr",
     "output_type": "stream",
     "text": [
      "516730it [11:07, 756.58it/s]"
     ]
    },
    {
     "name": "stdout",
     "output_type": "stream",
     "text": [
      "2024-02-27 13:24:37,272:WARNING:matchms:derive_adduct_from_name:Two potential adducts were found in the compound name that are both valid adducts. The first adduct is used. The adducts found are: ['[M+H]+', '[M-H]-']\n",
      "2024-02-27 13:24:37,352:WARNING:matchms:derive_adduct_from_name:Two potential adducts were found in the compound name that are both valid adducts. The first adduct is used. The adducts found are: ['[M-H]-', '[M+H]+']\n"
     ]
    },
    {
     "name": "stderr",
     "output_type": "stream",
     "text": [
      "516988it [11:07, 817.13it/s]"
     ]
    },
    {
     "name": "stdout",
     "output_type": "stream",
     "text": [
      "2024-02-27 13:24:37,558:WARNING:matchms:derive_adduct_from_name:Two potential adducts were found in the compound name that are both valid adducts. The first adduct is used. The adducts found are: ['[M+H]+', '[M-H]-']\n",
      "2024-02-27 13:24:37,601:WARNING:matchms:derive_adduct_from_name:Two potential adducts were found in the compound name that are both valid adducts. The first adduct is used. The adducts found are: ['[M+H]+', '[M-H]-']\n"
     ]
    },
    {
     "name": "stderr",
     "output_type": "stream",
     "text": [
      "517229it [11:07, 983.39it/s]"
     ]
    },
    {
     "name": "stdout",
     "output_type": "stream",
     "text": [
      "2024-02-27 13:24:37,788:WARNING:matchms:derive_adduct_from_name:Two potential adducts were found in the compound name that are both valid adducts. The first adduct is used. The adducts found are: ['[M-H]-', '[M+H]+']\n",
      "2024-02-27 13:24:37,811:WARNING:matchms:derive_adduct_from_name:Two potential adducts were found in the compound name that are both valid adducts. The first adduct is used. The adducts found are: ['[M-H]-', '[M+H]+']\n",
      "2024-02-27 13:24:37,880:WARNING:matchms:derive_adduct_from_name:Two potential adducts were found in the compound name that are both valid adducts. The first adduct is used. The adducts found are: ['[M+H]+', '[M-H]-']\n",
      "2024-02-27 13:24:37,970:WARNING:matchms:derive_adduct_from_name:Two potential adducts were found in the compound name that are both valid adducts. The first adduct is used. The adducts found are: ['[M+H]+', '[M-H]-']\n",
      "2024-02-27 13:24:37,985:WARNING:matchms:derive_adduct_from_name:Two potential adducts were found in the compound name that are both valid adducts. The first adduct is used. The adducts found are: ['[M-H]-', '[M+H]+']\n"
     ]
    },
    {
     "name": "stderr",
     "output_type": "stream",
     "text": [
      "517420it [11:08, 693.62it/s]"
     ]
    },
    {
     "name": "stdout",
     "output_type": "stream",
     "text": [
      "2024-02-27 13:24:38,084:WARNING:matchms:derive_adduct_from_name:Two potential adducts were found in the compound name that are both valid adducts. The first adduct is used. The adducts found are: ['[M+H]+', '[M-H]-']\n",
      "2024-02-27 13:24:38,094:WARNING:matchms:derive_adduct_from_name:Two potential adducts were found in the compound name that are both valid adducts. The first adduct is used. The adducts found are: ['[M+H]+', '[M-H]-']\n",
      "2024-02-27 13:24:38,115:WARNING:matchms:derive_adduct_from_name:Two potential adducts were found in the compound name that are both valid adducts. The first adduct is used. The adducts found are: ['[M+H]+', '[M-H]-']\n",
      "2024-02-27 13:24:38,182:WARNING:matchms:derive_adduct_from_name:Two potential adducts were found in the compound name that are both valid adducts. The first adduct is used. The adducts found are: ['[M-H]-', '[M+H]+']\n",
      "2024-02-27 13:24:38,198:WARNING:matchms:derive_adduct_from_name:Two potential adducts were found in the compound name that are both valid adducts. The first adduct is used. The adducts found are: ['[M+H]+', '[M-H]-']\n",
      "2024-02-27 13:24:38,232:WARNING:matchms:derive_adduct_from_name:Two potential adducts were found in the compound name that are both valid adducts. The first adduct is used. The adducts found are: ['[M-H]-', '[M+Na]+']\n",
      "2024-02-27 13:24:38,249:WARNING:matchms:derive_adduct_from_name:Two potential adducts were found in the compound name that are both valid adducts. The first adduct is used. The adducts found are: ['[M-H]-', '[M+Na]+']\n",
      "2024-02-27 13:24:38,251:WARNING:matchms:derive_adduct_from_name:Two potential adducts were found in the compound name that are both valid adducts. The first adduct is used. The adducts found are: ['[M-H]-', '[M+H]+']\n",
      "2024-02-27 13:24:38,260:WARNING:matchms:derive_adduct_from_name:Two potential adducts were found in the compound name that are both valid adducts. The first adduct is used. The adducts found are: ['[M+H]+', '[M-H]-']\n"
     ]
    },
    {
     "name": "stderr",
     "output_type": "stream",
     "text": [
      "517857it [11:08, 864.68it/s]"
     ]
    },
    {
     "name": "stdout",
     "output_type": "stream",
     "text": [
      "2024-02-27 13:24:38,564:WARNING:matchms:derive_adduct_from_name:Two potential adducts were found in the compound name that are both valid adducts. The first adduct is used. The adducts found are: ['[M+2H]2+', '[M+H]+']\n",
      "2024-02-27 13:24:38,605:WARNING:matchms:derive_adduct_from_name:Two potential adducts were found in the compound name that are both valid adducts. The first adduct is used. The adducts found are: ['[M-H]-', '[M+H]+']\n",
      "2024-02-27 13:24:38,623:WARNING:matchms:derive_adduct_from_name:Two potential adducts were found in the compound name that are both valid adducts. The first adduct is used. The adducts found are: ['[M-H]-', '[M+H]+']\n"
     ]
    },
    {
     "name": "stderr",
     "output_type": "stream",
     "text": [
      "518321it [11:09, 1048.19it/s]"
     ]
    },
    {
     "name": "stdout",
     "output_type": "stream",
     "text": [
      "2024-02-27 13:24:39,089:WARNING:matchms:derive_adduct_from_name:Two potential adducts were found in the compound name that are both valid adducts. The first adduct is used. The adducts found are: ['[M+H]+', '[M-H]-']\n",
      "2024-02-27 13:24:39,103:WARNING:matchms:derive_adduct_from_name:Two potential adducts were found in the compound name that are both valid adducts. The first adduct is used. The adducts found are: ['[M-H]-', '[M+H]+']\n"
     ]
    },
    {
     "name": "stderr",
     "output_type": "stream",
     "text": [
      "518552it [11:09, 824.15it/s] "
     ]
    },
    {
     "name": "stdout",
     "output_type": "stream",
     "text": [
      "2024-02-27 13:24:39,383:WARNING:matchms:derive_adduct_from_name:Two potential adducts were found in the compound name that are both valid adducts. The first adduct is used. The adducts found are: ['[M+H]+', '[M-H]-']\n",
      "2024-02-27 13:24:39,403:WARNING:matchms:derive_adduct_from_name:Two potential adducts were found in the compound name that are both valid adducts. The first adduct is used. The adducts found are: ['[M-H]-', '[M+H]+']\n"
     ]
    },
    {
     "name": "stderr",
     "output_type": "stream",
     "text": [
      "518816it [11:09, 892.13it/s]"
     ]
    },
    {
     "name": "stdout",
     "output_type": "stream",
     "text": [
      "2024-02-27 13:24:39,595:WARNING:matchms:derive_adduct_from_name:Two potential adducts were found in the compound name that are both valid adducts. The first adduct is used. The adducts found are: ['[M+H]+', '[M-H]-']\n",
      "2024-02-27 13:24:39,600:WARNING:matchms:derive_adduct_from_name:Two potential adducts were found in the compound name that are both valid adducts. The first adduct is used. The adducts found are: ['[M+H]+', '[M-H]-']\n"
     ]
    },
    {
     "name": "stderr",
     "output_type": "stream",
     "text": [
      "520066it [11:11, 809.64it/s] "
     ]
    },
    {
     "name": "stdout",
     "output_type": "stream",
     "text": [
      "2024-02-27 13:24:41,001:WARNING:matchms:derive_adduct_from_name:Two potential adducts were found in the compound name that are both valid adducts. The first adduct is used. The adducts found are: ['[M-H]-', '[M+H]+']\n"
     ]
    },
    {
     "name": "stderr",
     "output_type": "stream",
     "text": [
      "520415it [11:11, 859.82it/s]"
     ]
    },
    {
     "name": "stdout",
     "output_type": "stream",
     "text": [
      "2024-02-27 13:24:41,336:WARNING:matchms:derive_adduct_from_name:Two potential adducts were found in the compound name that are both valid adducts. The first adduct is used. The adducts found are: ['[M+H]+', '[M-H]-']\n",
      "2024-02-27 13:24:41,455:WARNING:matchms:derive_adduct_from_name:Two potential adducts were found in the compound name that are both valid adducts. The first adduct is used. The adducts found are: ['[M+H]+', '[M-H]-']\n"
     ]
    },
    {
     "name": "stderr",
     "output_type": "stream",
     "text": [
      "520508it [11:11, 751.89it/s]"
     ]
    },
    {
     "name": "stdout",
     "output_type": "stream",
     "text": [
      "2024-02-27 13:24:41,574:WARNING:matchms:derive_adduct_from_name:Two potential adducts were found in the compound name that are both valid adducts. The first adduct is used. The adducts found are: ['[M+H]+', '[M-H]-']\n"
     ]
    },
    {
     "name": "stderr",
     "output_type": "stream",
     "text": [
      "521072it [11:12, 1023.25it/s]"
     ]
    },
    {
     "name": "stdout",
     "output_type": "stream",
     "text": [
      "2024-02-27 13:24:42,150:WARNING:matchms:derive_adduct_from_name:Two potential adducts were found in the compound name that are both valid adducts. The first adduct is used. The adducts found are: ['[M-H]-', '[M+H]+']\n",
      "2024-02-27 13:24:42,179:WARNING:matchms:derive_adduct_from_name:Two potential adducts were found in the compound name that are both valid adducts. The first adduct is used. The adducts found are: ['[M-H]-', '[M+H]+']\n",
      "2024-02-27 13:24:42,239:WARNING:matchms:derive_adduct_from_name:Two potential adducts were found in the compound name that are both valid adducts. The first adduct is used. The adducts found are: ['[M-H]-', '[M+H]+']\n",
      "2024-02-27 13:24:42,305:WARNING:matchms:derive_adduct_from_name:Two potential adducts were found in the compound name that are both valid adducts. The first adduct is used. The adducts found are: ['[M+H]+', '[M-H]-']\n"
     ]
    },
    {
     "name": "stderr",
     "output_type": "stream",
     "text": [
      "521504it [11:12, 904.31it/s] "
     ]
    },
    {
     "name": "stdout",
     "output_type": "stream",
     "text": [
      "2024-02-27 13:24:42,571:WARNING:matchms:derive_adduct_from_name:Two potential adducts were found in the compound name that are both valid adducts. The first adduct is used. The adducts found are: ['[M+H]+', '[M-H]-']\n"
     ]
    },
    {
     "name": "stderr",
     "output_type": "stream",
     "text": [
      "521599it [11:12, 810.19it/s]"
     ]
    },
    {
     "name": "stdout",
     "output_type": "stream",
     "text": [
      "2024-02-27 13:24:42,803:WARNING:matchms:derive_adduct_from_name:Two potential adducts were found in the compound name that are both valid adducts. The first adduct is used. The adducts found are: ['[M+H]+', '[M-H]-']\n"
     ]
    },
    {
     "name": "stderr",
     "output_type": "stream",
     "text": [
      "521915it [11:13, 815.54it/s]"
     ]
    },
    {
     "name": "stdout",
     "output_type": "stream",
     "text": [
      "2024-02-27 13:24:43,219:WARNING:matchms:derive_adduct_from_name:Two potential adducts were found in the compound name that are both valid adducts. The first adduct is used. The adducts found are: ['[M+H]+', '[M-H]-']\n",
      "2024-02-27 13:24:43,249:WARNING:matchms:derive_adduct_from_name:Two potential adducts were found in the compound name that are both valid adducts. The first adduct is used. The adducts found are: ['[M-H]-', '[M+H]+']\n",
      "2024-02-27 13:24:43,283:WARNING:matchms:derive_adduct_from_name:Two potential adducts were found in the compound name that are both valid adducts. The first adduct is used. The adducts found are: ['[M-H]-', '[M+H]+']\n",
      "2024-02-27 13:24:43,300:WARNING:matchms:derive_adduct_from_name:Two potential adducts were found in the compound name that are both valid adducts. The first adduct is used. The adducts found are: ['[M+H]+', '[M-H]-']\n"
     ]
    },
    {
     "name": "stderr",
     "output_type": "stream",
     "text": [
      "522721it [11:14, 883.76it/s] "
     ]
    },
    {
     "name": "stdout",
     "output_type": "stream",
     "text": [
      "2024-02-27 13:24:43,997:WARNING:matchms:derive_adduct_from_name:Two potential adducts were found in the compound name that are both valid adducts. The first adduct is used. The adducts found are: ['[M+H]+', '[M-H]-']\n"
     ]
    },
    {
     "name": "stderr",
     "output_type": "stream",
     "text": [
      "522968it [11:14, 1016.09it/s]"
     ]
    },
    {
     "name": "stdout",
     "output_type": "stream",
     "text": [
      "2024-02-27 13:24:44,294:WARNING:matchms:derive_adduct_from_name:Two potential adducts were found in the compound name that are both valid adducts. The first adduct is used. The adducts found are: ['[M+H]+', '[M-H]-']\n"
     ]
    },
    {
     "name": "stderr",
     "output_type": "stream",
     "text": [
      "560642it [12:39, 822.32it/s] "
     ]
    },
    {
     "name": "stdout",
     "output_type": "stream",
     "text": [
      "2024-02-27 13:26:09,007:WARNING:matchms:interpret_unknown_adduct:Charge was found 0 times in adduct [M-HYDROXYHIPPURIC]\n"
     ]
    },
    {
     "name": "stderr",
     "output_type": "stream",
     "text": [
      "563576it [12:42, 783.48it/s] "
     ]
    },
    {
     "name": "stdout",
     "output_type": "stream",
     "text": [
      "2024-02-27 13:26:12,513:WARNING:matchms:interpret_unknown_adduct:Charge was found 0 times in adduct [M-HYDROXYHIPPURIC]\n"
     ]
    },
    {
     "name": "stderr",
     "output_type": "stream",
     "text": [
      "563804it [12:42, 765.26it/s]"
     ]
    },
    {
     "name": "stdout",
     "output_type": "stream",
     "text": [
      "2024-02-27 13:26:12,752:WARNING:matchms:interpret_unknown_adduct:Charge was found 0 times in adduct [M-HYDROXYHIPPURIC]\n",
      "2024-02-27 13:26:12,900:WARNING:matchms:interpret_unknown_adduct:Charge was found 0 times in adduct [M-HYDROXYHIPPURIC]\n"
     ]
    },
    {
     "name": "stderr",
     "output_type": "stream",
     "text": [
      "591667it [13:14, 744.51it/s] \n"
     ]
    }
   ],
   "source": [
    "from cudams.utils import download\n",
    "from pathlib import Path\n",
    "from joblib import Parallel, delayed\n",
    "from matchms.filtering import default_filters, normalize_intensities, reduce_to_number_of_peaks\n",
    "from matchms.importing import load_from_mgf\n",
    "import pickle\n",
    "\n",
    "spectra_file = download('ALL_GNPS.mgf')\n",
    "def parse_spectrum(spectrum):\n",
    "    spectrum = default_filters(spectrum)\n",
    "    spectrum = reduce_to_number_of_peaks(spectrum, n_max=max_peaks)\n",
    "    spectrum = normalize_intensities(spectrum)\n",
    "    return spectrum\n",
    "\n",
    "spectrums = Parallel(-1)(delayed(parse_spectrum)(spec) for spec in tqdm(load_from_mgf(spectra_file)))\n",
    "spectrums = [spe for spe in spectrums if spe is not None]\n",
    "\n",
    "## Download and read prepared pickle\n",
    "# spectra_file = download('ALL_GNPS.pickle')\n",
    "# spectrums = tuple(pickle.load(open(spectra_file, 'rb')))"
   ]
  },
  {
   "cell_type": "code",
   "execution_count": 6,
   "metadata": {},
   "outputs": [
    {
     "name": "stdout",
     "output_type": "stream",
     "text": [
      "We have 2.000e+05 spectra\n",
      "Pairwise comparisons have 1.000e+10 pairs in total\n"
     ]
    }
   ],
   "source": [
    "# Pairwise similarity between all\n",
    "references, queries = spectrums, spectrums\n",
    "\n",
    "references = references[:100_000]\n",
    "queries = queries[:100_000]\n",
    "\n",
    "print(f\"We have {len(references) + len(queries):.3e} spectra\")\n",
    "print(f\"Pairwise comparisons have {len(references)*len(queries):.3e} pairs in total\")"
   ]
  },
  {
   "cell_type": "code",
   "execution_count": 7,
   "metadata": {},
   "outputs": [
    {
     "name": "stderr",
     "output_type": "stream",
     "text": [
      "Batch all references: 13it [00:02,  4.52it/s]                        \n",
      "Batch all queries: 13it [00:02,  4.55it/s]                        \n"
     ]
    }
   ],
   "source": [
    "from cudams.utils import spectra_peaks_to_tensor\n",
    "from itertools import product\n",
    "dtype = np.float32\n",
    "padding = None\n",
    "\n",
    "batches_r = []\n",
    "for bstart, bend in tqdm(\n",
    "    argbatch(references, batch_size), desc=\"Batch all references\",\n",
    "    total=len(references)//batch_size\n",
    "):\n",
    "    rbatch = references[bstart:bend]\n",
    "    rspec, rlen = spectra_peaks_to_tensor(rbatch, dtype=dtype)\n",
    "    batches_r.append([rspec, rlen, bstart, bend])\n",
    "\n",
    "batches_q = []\n",
    "for bstart, bend in tqdm(\n",
    "    argbatch(queries, batch_size), desc=\"Batch all queries\",\n",
    "    total=len(queries)//batch_size\n",
    "):\n",
    "    qbatch = queries[bstart:bend]\n",
    "    qspec, qlen = spectra_peaks_to_tensor(qbatch, dtype=dtype)\n",
    "    batches_q.append([qspec, qlen, bstart, bend])\n",
    "    \n",
    "batched_inputs = tuple(product(batches_r, batches_q))"
   ]
  },
  {
   "cell_type": "code",
   "execution_count": 8,
   "metadata": {},
   "outputs": [
    {
     "name": "stderr",
     "output_type": "stream",
     "text": [
      "100%|██████████| 169/169 [14:31<00:00,  5.16s/it] \n"
     ]
    }
   ],
   "source": [
    "device = torch.device('cuda')\n",
    "host = torch.device('cpu')\n",
    "\n",
    "! rm -rf data/output\n",
    "! mkdir -p data/output\n",
    "\n",
    "with torch.no_grad():\n",
    "    for batch_i in tqdm(range(len(batched_inputs))):\n",
    "        (rspec, rlen, rstart, rend), (qspec, qlen, qstart, qend) = batched_inputs[\n",
    "            batch_i\n",
    "        ]\n",
    "        \n",
    "        lens = torch.zeros(2, batch_size, dtype=torch.int32)\n",
    "        lens[0, :len(rlen)] = torch.from_numpy(rlen)\n",
    "        lens[1, :len(qlen)] = torch.from_numpy(qlen)\n",
    "        \n",
    "        lens = lens.to(device)\n",
    "        \n",
    "        rspec = torch.from_numpy(rspec).to(device)\n",
    "        qspec = torch.from_numpy(qspec).to(device)\n",
    "    \n",
    "        rspec = cuda.as_cuda_array(rspec)\n",
    "        qspec = cuda.as_cuda_array(qspec)\n",
    "        lens = cuda.as_cuda_array(lens)\n",
    "            \n",
    "        out = torch.empty(3, batch_size, batch_size, dtype=torch.float32, device=device)\n",
    "        out = cuda.as_cuda_array(out)\n",
    "        \n",
    "        kernel(rspec, qspec, lens, out)\n",
    "        \n",
    "        out = torch.as_tensor(out, device=device)\n",
    "        mask = out[0] >= threshold\n",
    "        row, col = torch.nonzero(mask, as_tuple=True)\n",
    "        rabs = rstart + row\n",
    "        qabs = qstart + col\n",
    "        score, matches, overflow = out[:, mask].to(host)\n",
    "        \n",
    "        np.savez_compressed(\n",
    "            f'data/output/{rstart}-{rend}-{qstart}-{qend}.npz', \n",
    "            rabs=rabs.int().to(host), \n",
    "            qabs=qabs.int().to(host), \n",
    "            score=score.float(),\n",
    "            matches=matches.int(),\n",
    "            overflow=overflow.bool()\n",
    "        )"
   ]
  },
  {
   "cell_type": "code",
   "execution_count": 9,
   "metadata": {},
   "outputs": [
    {
     "name": "stdout",
     "output_type": "stream",
     "text": [
      "667M\tdata/output/\n"
     ]
    }
   ],
   "source": [
    "! du -hs data/output/"
   ]
  },
  {
   "cell_type": "code",
   "execution_count": 10,
   "metadata": {},
   "outputs": [
    {
     "name": "stdout",
     "output_type": "stream",
     "text": [
      "667M\tdata/output/\n",
      "Total file size 0.699 GB\n"
     ]
    }
   ],
   "source": [
    "from pathlib import Path\n",
    "\n",
    "! du -hs data/output/\n",
    "\n",
    "total_size = sum(f.stat().st_size for f in Path('data/output').glob('**/*') if f.is_file())\n",
    "print(f'Total file size {total_size/1e9:.3f} GB')"
   ]
  },
  {
   "cell_type": "code",
   "execution_count": 11,
   "metadata": {},
   "outputs": [
    {
     "name": "stderr",
     "output_type": "stream",
     "text": [
      "169it [00:07, 23.78it/s]\n"
     ]
    }
   ],
   "source": [
    "qabs = []\n",
    "rabs = []\n",
    "score = []\n",
    "matches = []\n",
    "overflow = []\n",
    "for file in tqdm(Path('data/output').glob('*.npz')):\n",
    "    bunch = np.load(file)\n",
    "    qabs += [bunch['qabs']]\n",
    "    rabs += [bunch['rabs']]\n",
    "    score += [bunch['score']]\n",
    "    matches += [bunch['matches']]\n",
    "    overflow += [bunch['overflow']]"
   ]
  },
  {
   "cell_type": "code",
   "execution_count": 12,
   "metadata": {},
   "outputs": [],
   "source": [
    "qabs = np.concatenate(qabs)\n",
    "rabs = np.concatenate(rabs)\n",
    "score = np.concatenate(score)\n",
    "matches = np.concatenate(matches)\n",
    "overflow = np.concatenate(overflow)"
   ]
  },
  {
   "cell_type": "code",
   "execution_count": 13,
   "metadata": {},
   "outputs": [],
   "source": [
    "# Suppose we want to query these absolute query IDs, and sort their results\n",
    "query = np.array([1, 42, 121, 99_999])"
   ]
  },
  {
   "cell_type": "code",
   "execution_count": 14,
   "metadata": {},
   "outputs": [
    {
     "name": "stdout",
     "output_type": "stream",
     "text": [
      "Similarity for chemical with QueryID=1\n"
     ]
    },
    {
     "data": {
      "text/html": [
       "<div>\n",
       "<style scoped>\n",
       "    .dataframe tbody tr th:only-of-type {\n",
       "        vertical-align: middle;\n",
       "    }\n",
       "\n",
       "    .dataframe tbody tr th {\n",
       "        vertical-align: top;\n",
       "    }\n",
       "\n",
       "    .dataframe thead th {\n",
       "        text-align: right;\n",
       "    }\n",
       "</style>\n",
       "<table border=\"1\" class=\"dataframe\">\n",
       "  <thead>\n",
       "    <tr style=\"text-align: right;\">\n",
       "      <th></th>\n",
       "      <th>ReferenceID</th>\n",
       "      <th>Score</th>\n",
       "      <th>Matches</th>\n",
       "      <th>Overflow</th>\n",
       "    </tr>\n",
       "  </thead>\n",
       "  <tbody>\n",
       "    <tr>\n",
       "      <th>0</th>\n",
       "      <td>1.0</td>\n",
       "      <td>1.0</td>\n",
       "      <td>335.0</td>\n",
       "      <td>0.0</td>\n",
       "    </tr>\n",
       "  </tbody>\n",
       "</table>\n",
       "</div>"
      ],
      "text/plain": [
       "   ReferenceID  Score  Matches  Overflow\n",
       "0          1.0    1.0    335.0       0.0"
      ]
     },
     "metadata": {},
     "output_type": "display_data"
    },
    {
     "name": "stdout",
     "output_type": "stream",
     "text": [
      "Similarity for chemical with QueryID=42\n"
     ]
    },
    {
     "data": {
      "text/html": [
       "<div>\n",
       "<style scoped>\n",
       "    .dataframe tbody tr th:only-of-type {\n",
       "        vertical-align: middle;\n",
       "    }\n",
       "\n",
       "    .dataframe tbody tr th {\n",
       "        vertical-align: top;\n",
       "    }\n",
       "\n",
       "    .dataframe thead th {\n",
       "        text-align: right;\n",
       "    }\n",
       "</style>\n",
       "<table border=\"1\" class=\"dataframe\">\n",
       "  <thead>\n",
       "    <tr style=\"text-align: right;\">\n",
       "      <th></th>\n",
       "      <th>ReferenceID</th>\n",
       "      <th>Score</th>\n",
       "      <th>Matches</th>\n",
       "      <th>Overflow</th>\n",
       "    </tr>\n",
       "  </thead>\n",
       "  <tbody>\n",
       "    <tr>\n",
       "      <th>0</th>\n",
       "      <td>42.0</td>\n",
       "      <td>1.000000</td>\n",
       "      <td>14.0</td>\n",
       "      <td>0.0</td>\n",
       "    </tr>\n",
       "    <tr>\n",
       "      <th>1</th>\n",
       "      <td>44.0</td>\n",
       "      <td>0.920637</td>\n",
       "      <td>10.0</td>\n",
       "      <td>0.0</td>\n",
       "    </tr>\n",
       "    <tr>\n",
       "      <th>2</th>\n",
       "      <td>31928.0</td>\n",
       "      <td>0.767068</td>\n",
       "      <td>4.0</td>\n",
       "      <td>0.0</td>\n",
       "    </tr>\n",
       "  </tbody>\n",
       "</table>\n",
       "</div>"
      ],
      "text/plain": [
       "   ReferenceID     Score  Matches  Overflow\n",
       "0         42.0  1.000000     14.0       0.0\n",
       "1         44.0  0.920637     10.0       0.0\n",
       "2      31928.0  0.767068      4.0       0.0"
      ]
     },
     "metadata": {},
     "output_type": "display_data"
    },
    {
     "name": "stdout",
     "output_type": "stream",
     "text": [
      "Similarity for chemical with QueryID=121\n"
     ]
    },
    {
     "data": {
      "text/html": [
       "<div>\n",
       "<style scoped>\n",
       "    .dataframe tbody tr th:only-of-type {\n",
       "        vertical-align: middle;\n",
       "    }\n",
       "\n",
       "    .dataframe tbody tr th {\n",
       "        vertical-align: top;\n",
       "    }\n",
       "\n",
       "    .dataframe thead th {\n",
       "        text-align: right;\n",
       "    }\n",
       "</style>\n",
       "<table border=\"1\" class=\"dataframe\">\n",
       "  <thead>\n",
       "    <tr style=\"text-align: right;\">\n",
       "      <th></th>\n",
       "      <th>ReferenceID</th>\n",
       "      <th>Score</th>\n",
       "      <th>Matches</th>\n",
       "      <th>Overflow</th>\n",
       "    </tr>\n",
       "  </thead>\n",
       "  <tbody>\n",
       "    <tr>\n",
       "      <th>0</th>\n",
       "      <td>121.0</td>\n",
       "      <td>1.000000</td>\n",
       "      <td>16.0</td>\n",
       "      <td>0.0</td>\n",
       "    </tr>\n",
       "    <tr>\n",
       "      <th>1</th>\n",
       "      <td>137.0</td>\n",
       "      <td>0.996308</td>\n",
       "      <td>6.0</td>\n",
       "      <td>0.0</td>\n",
       "    </tr>\n",
       "    <tr>\n",
       "      <th>2</th>\n",
       "      <td>7200.0</td>\n",
       "      <td>0.909340</td>\n",
       "      <td>1.0</td>\n",
       "      <td>0.0</td>\n",
       "    </tr>\n",
       "    <tr>\n",
       "      <th>3</th>\n",
       "      <td>27747.0</td>\n",
       "      <td>0.898213</td>\n",
       "      <td>1.0</td>\n",
       "      <td>0.0</td>\n",
       "    </tr>\n",
       "  </tbody>\n",
       "</table>\n",
       "</div>"
      ],
      "text/plain": [
       "   ReferenceID     Score  Matches  Overflow\n",
       "0        121.0  1.000000     16.0       0.0\n",
       "1        137.0  0.996308      6.0       0.0\n",
       "2       7200.0  0.909340      1.0       0.0\n",
       "3      27747.0  0.898213      1.0       0.0"
      ]
     },
     "metadata": {},
     "output_type": "display_data"
    },
    {
     "name": "stdout",
     "output_type": "stream",
     "text": [
      "Similarity for chemical with QueryID=99999\n"
     ]
    },
    {
     "data": {
      "text/html": [
       "<div>\n",
       "<style scoped>\n",
       "    .dataframe tbody tr th:only-of-type {\n",
       "        vertical-align: middle;\n",
       "    }\n",
       "\n",
       "    .dataframe tbody tr th {\n",
       "        vertical-align: top;\n",
       "    }\n",
       "\n",
       "    .dataframe thead th {\n",
       "        text-align: right;\n",
       "    }\n",
       "</style>\n",
       "<table border=\"1\" class=\"dataframe\">\n",
       "  <thead>\n",
       "    <tr style=\"text-align: right;\">\n",
       "      <th></th>\n",
       "      <th>ReferenceID</th>\n",
       "      <th>Score</th>\n",
       "      <th>Matches</th>\n",
       "      <th>Overflow</th>\n",
       "    </tr>\n",
       "  </thead>\n",
       "  <tbody>\n",
       "    <tr>\n",
       "      <th>0</th>\n",
       "      <td>2250.0</td>\n",
       "      <td>0.860784</td>\n",
       "      <td>2.0</td>\n",
       "      <td>0.0</td>\n",
       "    </tr>\n",
       "    <tr>\n",
       "      <th>1</th>\n",
       "      <td>16953.0</td>\n",
       "      <td>0.883292</td>\n",
       "      <td>6.0</td>\n",
       "      <td>0.0</td>\n",
       "    </tr>\n",
       "    <tr>\n",
       "      <th>2</th>\n",
       "      <td>17925.0</td>\n",
       "      <td>0.926368</td>\n",
       "      <td>1.0</td>\n",
       "      <td>0.0</td>\n",
       "    </tr>\n",
       "    <tr>\n",
       "      <th>3</th>\n",
       "      <td>24743.0</td>\n",
       "      <td>0.841180</td>\n",
       "      <td>8.0</td>\n",
       "      <td>0.0</td>\n",
       "    </tr>\n",
       "    <tr>\n",
       "      <th>4</th>\n",
       "      <td>24823.0</td>\n",
       "      <td>0.854928</td>\n",
       "      <td>2.0</td>\n",
       "      <td>0.0</td>\n",
       "    </tr>\n",
       "    <tr>\n",
       "      <th>5</th>\n",
       "      <td>24949.0</td>\n",
       "      <td>0.769974</td>\n",
       "      <td>5.0</td>\n",
       "      <td>0.0</td>\n",
       "    </tr>\n",
       "    <tr>\n",
       "      <th>6</th>\n",
       "      <td>31472.0</td>\n",
       "      <td>0.887954</td>\n",
       "      <td>3.0</td>\n",
       "      <td>0.0</td>\n",
       "    </tr>\n",
       "    <tr>\n",
       "      <th>7</th>\n",
       "      <td>31681.0</td>\n",
       "      <td>0.848997</td>\n",
       "      <td>1.0</td>\n",
       "      <td>0.0</td>\n",
       "    </tr>\n",
       "    <tr>\n",
       "      <th>8</th>\n",
       "      <td>31824.0</td>\n",
       "      <td>0.755243</td>\n",
       "      <td>6.0</td>\n",
       "      <td>0.0</td>\n",
       "    </tr>\n",
       "    <tr>\n",
       "      <th>9</th>\n",
       "      <td>34241.0</td>\n",
       "      <td>0.848997</td>\n",
       "      <td>1.0</td>\n",
       "      <td>0.0</td>\n",
       "    </tr>\n",
       "    <tr>\n",
       "      <th>10</th>\n",
       "      <td>99831.0</td>\n",
       "      <td>0.955330</td>\n",
       "      <td>2.0</td>\n",
       "      <td>0.0</td>\n",
       "    </tr>\n",
       "    <tr>\n",
       "      <th>11</th>\n",
       "      <td>99867.0</td>\n",
       "      <td>0.939054</td>\n",
       "      <td>2.0</td>\n",
       "      <td>0.0</td>\n",
       "    </tr>\n",
       "    <tr>\n",
       "      <th>12</th>\n",
       "      <td>99869.0</td>\n",
       "      <td>0.944399</td>\n",
       "      <td>1.0</td>\n",
       "      <td>0.0</td>\n",
       "    </tr>\n",
       "    <tr>\n",
       "      <th>13</th>\n",
       "      <td>99938.0</td>\n",
       "      <td>0.953977</td>\n",
       "      <td>1.0</td>\n",
       "      <td>0.0</td>\n",
       "    </tr>\n",
       "    <tr>\n",
       "      <th>14</th>\n",
       "      <td>99997.0</td>\n",
       "      <td>0.963578</td>\n",
       "      <td>2.0</td>\n",
       "      <td>0.0</td>\n",
       "    </tr>\n",
       "    <tr>\n",
       "      <th>15</th>\n",
       "      <td>99999.0</td>\n",
       "      <td>1.000000</td>\n",
       "      <td>15.0</td>\n",
       "      <td>0.0</td>\n",
       "    </tr>\n",
       "  </tbody>\n",
       "</table>\n",
       "</div>"
      ],
      "text/plain": [
       "    ReferenceID     Score  Matches  Overflow\n",
       "0        2250.0  0.860784      2.0       0.0\n",
       "1       16953.0  0.883292      6.0       0.0\n",
       "2       17925.0  0.926368      1.0       0.0\n",
       "3       24743.0  0.841180      8.0       0.0\n",
       "4       24823.0  0.854928      2.0       0.0\n",
       "5       24949.0  0.769974      5.0       0.0\n",
       "6       31472.0  0.887954      3.0       0.0\n",
       "7       31681.0  0.848997      1.0       0.0\n",
       "8       31824.0  0.755243      6.0       0.0\n",
       "9       34241.0  0.848997      1.0       0.0\n",
       "10      99831.0  0.955330      2.0       0.0\n",
       "11      99867.0  0.939054      2.0       0.0\n",
       "12      99869.0  0.944399      1.0       0.0\n",
       "13      99938.0  0.953977      1.0       0.0\n",
       "14      99997.0  0.963578      2.0       0.0\n",
       "15      99999.0  1.000000     15.0       0.0"
      ]
     },
     "metadata": {},
     "output_type": "display_data"
    }
   ],
   "source": [
    "import pandas as pd\n",
    "from IPython.display import display\n",
    "for q in query:\n",
    "    idx = qabs == q\n",
    "    res = np.stack([rabs[idx], score[idx], matches[idx], overflow[idx]],axis=1)\n",
    "    res = pd.DataFrame(res, columns='ReferenceID Score Matches Overflow'.split())\n",
    "    print(f\"Similarity for chemical with QueryID={q}\")\n",
    "    display(res)"
   ]
  }
 ],
 "metadata": {
  "kernelspec": {
   "display_name": "Python 3 (ipykernel)",
   "language": "python",
   "name": "python3"
  },
  "language_info": {
   "codemirror_mode": {
    "name": "ipython",
    "version": 3
   },
   "file_extension": ".py",
   "mimetype": "text/x-python",
   "name": "python",
   "nbconvert_exporter": "python",
   "pygments_lexer": "ipython3",
   "version": "3.10.13"
  }
 },
 "nbformat": 4,
 "nbformat_minor": 4
}
