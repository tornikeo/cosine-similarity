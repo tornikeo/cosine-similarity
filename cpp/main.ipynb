{
 "cells": [
  {
   "cell_type": "code",
   "execution_count": 1,
   "metadata": {},
   "outputs": [],
   "source": [
    "# All required imports\n",
    "# import tensorflow as tf\n",
    "# print(\"GPU available\", tf.test.is_gpu_available())\n",
    "from joblib import Parallel, delayed\n",
    "from tqdm import tqdm\n",
    "import numba\n",
    "from typing import Tuple, List\n",
    "from matchms import Spectrum\n",
    "from matchms.typing import SpectrumType\n",
    "import numpy as np\n",
    "import pandas as pd\n",
    "from pathlib import Path\n",
    "import json\n",
    "\n",
    "from matchms import Spectrum\n",
    "\n",
    "from matchms.filtering import normalize_intensities\n",
    "from matchms.filtering import require_minimum_number_of_peaks\n",
    "from matchms.filtering import select_by_mz\n",
    "from matchms.filtering import select_by_relative_intensity\n",
    "from matchms.filtering import reduce_to_number_of_peaks\n",
    "from matchms.filtering import add_losses\n",
    "\n",
    "def process_spectrum(spectrum):\n",
    "    spectrum = select_by_mz(spectrum, mz_from=10.0, mz_to=1000.0)\n",
    "    spectrum = normalize_intensities(spectrum)\n",
    "    spectrum = select_by_relative_intensity(spectrum, intensity_from=0.001)\n",
    "    spectrum = reduce_to_number_of_peaks(spectrum, n_max=1000)\n",
    "    spectrum = require_minimum_number_of_peaks(spectrum, n_required=5)\n",
    "    return spectrum\n",
    "\n",
    "\n",
    "def get_ref_spectra_from_df(spectra_df):\n",
    "    # This function will take a dataframe with spectra and return a list of matchms spectra\n",
    "    # Argh, This function is annoyingly slow. Added simple parallelization.\n",
    "    \n",
    "    # for index, row in spectra_df.iterrows():\n",
    "    def fn(index, row):\n",
    "        pbid = row[\"pbid\"]\n",
    "        precursor_mz = row[\"precursor_mz\"]\n",
    "        smiles = row[\"pb_smiles\"]\n",
    "        inchikey = row[\"pb_inchikey\"]\n",
    "        mz_array = np.array(json.loads(row[\"peaks_mz\"]))\n",
    "        intensity_array = np.array(json.loads(row[\"peaks_intensities\"]))\n",
    "        sp = Spectrum(mz=mz_array, intensities=intensity_array,\n",
    "                        metadata={'id': pbid, \n",
    "                                'precursor_mz': precursor_mz, \n",
    "                                'smiles': smiles, \n",
    "                                'inchikey': inchikey}) \n",
    "        sp = process_spectrum(sp)\n",
    "        return sp\n",
    "    \n",
    "    spectra = Parallel(-2)(delayed(fn)(index, row) for index, row in tqdm(spectra_df.iterrows(), total=len(spectra_df)))\n",
    "    spectra = [s for s in spectra if s is not None]\n",
    "    return spectra\n"
   ]
  },
  {
   "cell_type": "code",
   "execution_count": 2,
   "metadata": {},
   "outputs": [
    {
     "name": "stderr",
     "output_type": "stream",
     "text": [
      "100%|██████████| 100001/100001 [00:28<00:00, 3479.77it/s]\n"
     ]
    }
   ],
   "source": [
    "ref_spectra_df_path = Path(\"example_dataset_tornike.csv\")\n",
    "ref_spectra_df = pd.read_csv(ref_spectra_df_path)\n",
    "large_references = get_ref_spectra_from_df(ref_spectra_df)"
   ]
  },
  {
   "cell_type": "code",
   "execution_count": 4,
   "metadata": {},
   "outputs": [],
   "source": [
    "queries = large_references[:100]\n",
    "references = large_references[100:400]"
   ]
  },
  {
   "cell_type": "code",
   "execution_count": 31,
   "metadata": {},
   "outputs": [
    {
     "name": "stderr",
     "output_type": "stream",
     "text": [
      "100%|██████████| 300/300 [00:03<00:00, 90.73it/s] \n",
      "  0%|          | 0/22970 [00:00<?, ?it/s]"
     ]
    },
    {
     "name": "stdout",
     "output_type": "stream",
     "text": [
      "0.012345400054709363\n"
     ]
    },
    {
     "name": "stderr",
     "output_type": "stream",
     "text": [
      "\n"
     ]
    },
    {
     "ename": "RuntimeError",
     "evalue": "No active exception to reraise",
     "output_type": "error",
     "traceback": [
      "\u001b[0;31m---------------------------------------------------------------------------\u001b[0m",
      "\u001b[0;31mRuntimeError\u001b[0m                              Traceback (most recent call last)",
      "\u001b[1;32m/home/tornikeo/Documents/work/scalexa/pangeaai/optimize-cosine/cpp/main.ipynb Cell 6\u001b[0m line \u001b[0;36m1\n\u001b[1;32m    <a href='vscode-notebook-cell:/home/tornikeo/Documents/work/scalexa/pangeaai/optimize-cosine/cpp/main.ipynb#X14sZmlsZQ%3D%3D?line=144'>145</a>\u001b[0m scores \u001b[39m=\u001b[39m []\n\u001b[1;32m    <a href='vscode-notebook-cell:/home/tornikeo/Documents/work/scalexa/pangeaai/optimize-cosine/cpp/main.ipynb#X14sZmlsZQ%3D%3D?line=145'>146</a>\u001b[0m \u001b[39mfor\u001b[39;00m matching_pairs, spectrum_1, spectrum_2 \u001b[39min\u001b[39;00m tqdm(pairs_to_score_list):\n\u001b[0;32m--> <a href='vscode-notebook-cell:/home/tornikeo/Documents/work/scalexa/pangeaai/optimize-cosine/cpp/main.ipynb#X14sZmlsZQ%3D%3D?line=146'>147</a>\u001b[0m     scores\u001b[39m.\u001b[39mappend(score_best_matches(matching_pairs, spectrum_1\u001b[39m.\u001b[39;49mpeaks\u001b[39m.\u001b[39;49mto_numpy, spectrum_2\u001b[39m.\u001b[39;49mpeaks\u001b[39m.\u001b[39;49mto_numpy,\n\u001b[1;32m    <a href='vscode-notebook-cell:/home/tornikeo/Documents/work/scalexa/pangeaai/optimize-cosine/cpp/main.ipynb#X14sZmlsZQ%3D%3D?line=147'>148</a>\u001b[0m                                 \u001b[39m0.0\u001b[39;49m, \u001b[39m1.0\u001b[39;49m))\n\u001b[1;32m    <a href='vscode-notebook-cell:/home/tornikeo/Documents/work/scalexa/pangeaai/optimize-cosine/cpp/main.ipynb#X14sZmlsZQ%3D%3D?line=148'>149</a>\u001b[0m end_collect_peaks \u001b[39m=\u001b[39m time\u001b[39m.\u001b[39mtime()\n\u001b[1;32m    <a href='vscode-notebook-cell:/home/tornikeo/Documents/work/scalexa/pangeaai/optimize-cosine/cpp/main.ipynb#X14sZmlsZQ%3D%3D?line=149'>150</a>\u001b[0m \u001b[39mprint\u001b[39m(\u001b[39m\"\u001b[39m\u001b[39mTime to collect matching pairs: \u001b[39m\u001b[39m\"\u001b[39m, end_collect_peaks \u001b[39m-\u001b[39m start_collect_peaks)\n",
      "\u001b[1;32m/home/tornikeo/Documents/work/scalexa/pangeaai/optimize-cosine/cpp/main.ipynb Cell 6\u001b[0m line \u001b[0;36m1\n\u001b[1;32m    <a href='vscode-notebook-cell:/home/tornikeo/Documents/work/scalexa/pangeaai/optimize-cosine/cpp/main.ipynb#X14sZmlsZQ%3D%3D?line=111'>112</a>\u001b[0m         used_matches \u001b[39m+\u001b[39m\u001b[39m=\u001b[39m \u001b[39m1\u001b[39m\n\u001b[1;32m    <a href='vscode-notebook-cell:/home/tornikeo/Documents/work/scalexa/pangeaai/optimize-cosine/cpp/main.ipynb#X14sZmlsZQ%3D%3D?line=112'>113</a>\u001b[0m \u001b[39mprint\u001b[39m(score)\n\u001b[0;32m--> <a href='vscode-notebook-cell:/home/tornikeo/Documents/work/scalexa/pangeaai/optimize-cosine/cpp/main.ipynb#X14sZmlsZQ%3D%3D?line=113'>114</a>\u001b[0m \u001b[39mraise\u001b[39;00m\n\u001b[1;32m    <a href='vscode-notebook-cell:/home/tornikeo/Documents/work/scalexa/pangeaai/optimize-cosine/cpp/main.ipynb#X14sZmlsZQ%3D%3D?line=114'>115</a>\u001b[0m \u001b[39m# Normalize score:\u001b[39;00m\n\u001b[1;32m    <a href='vscode-notebook-cell:/home/tornikeo/Documents/work/scalexa/pangeaai/optimize-cosine/cpp/main.ipynb#X14sZmlsZQ%3D%3D?line=115'>116</a>\u001b[0m spec1_power \u001b[39m=\u001b[39m spec1[:, \u001b[39m0\u001b[39m] \u001b[39m*\u001b[39m\u001b[39m*\u001b[39m mz_power \u001b[39m*\u001b[39m spec1[:, \u001b[39m1\u001b[39m] \u001b[39m*\u001b[39m\u001b[39m*\u001b[39m intensity_power\n",
      "\u001b[0;31mRuntimeError\u001b[0m: No active exception to reraise"
     ]
    }
   ],
   "source": [
    "import time\n",
    "\n",
    "def collect_peak_pairs(spec1: np.ndarray, spec2: np.ndarray,\n",
    "                       tolerance: float, shift: float = 0, mz_power: float = 0.0,\n",
    "                       intensity_power: float = 1.0):\n",
    "    # pylint: disable=too-many-arguments\n",
    "    \"\"\"Find matching pairs between two spectra.\n",
    "\n",
    "    Args\n",
    "    ----\n",
    "    spec1:\n",
    "        Spectrum peaks and intensities as numpy array.\n",
    "    spec2:\n",
    "        Spectrum peaks and intensities as numpy array.\n",
    "    tolerance\n",
    "        Peaks will be considered a match when <= tolerance appart.\n",
    "    shift\n",
    "        Shift spectra peaks by shift. The default is 0.\n",
    "    mz_power:\n",
    "        The power to raise mz to in the cosine function. The default is 0, in which\n",
    "        case the peak intensity products will not depend on the m/z ratios.\n",
    "    intensity_power:\n",
    "        The power to raise intensity to in the cosine function. The default is 1.\n",
    "\n",
    "    Returns\n",
    "    -------\n",
    "    matching_pairs : numpy array\n",
    "        Array of found matching peaks.\n",
    "    \"\"\"\n",
    "    matches = find_matches(spec1[:, 0], spec2[:, 0], tolerance, shift)\n",
    "    # global a\n",
    "    # a = matches\n",
    "    # matches_op = find_matches_opt(spec1[:, 0], spec2[:, 0], tolerance, shift)\n",
    "    # global b\n",
    "    # b = matches_op\n",
    "    # assert np.allclose(matches, matches_op)\n",
    "    \n",
    "    idx1 = [x[0] for x in matches]\n",
    "    idx2 = [x[1] for x in matches]\n",
    "    if len(idx1) == 0:\n",
    "        return None\n",
    "    matching_pairs = []\n",
    "    for i, idx in enumerate(idx1):\n",
    "        power_prod_spec1 = (spec1[idx, 0] ** mz_power) * (spec1[idx, 1] ** intensity_power)\n",
    "        power_prod_spec2 = (spec2[idx2[i], 0] ** mz_power) * (spec2[idx2[i], 1] ** intensity_power)\n",
    "        # print((idx, idx2[i], power_prod_spec1,power_prod_spec2))\n",
    "        # raise\n",
    "        matching_pairs.append([idx, idx2[i], power_prod_spec1 * power_prod_spec2])\n",
    "    # print(matching_pairs)\n",
    "    # raise\n",
    "    return np.array(matching_pairs.copy())\n",
    "\n",
    "\n",
    "# @numba.njit\n",
    "def find_matches(spec1_mz: np.ndarray, spec2_mz: np.ndarray,\n",
    "                 tolerance: float, shift: float = 0) -> List[Tuple[int, int]]:\n",
    "    \"\"\"Faster search for matching peaks.\n",
    "    Makes use of the fact that spec1 and spec2 contain ordered peak m/z (from\n",
    "    low to high m/z).\n",
    "\n",
    "    Parameters\n",
    "    ----------\n",
    "    spec1_mz:\n",
    "        Spectrum peak m/z values as numpy array. Peak mz values must be ordered.\n",
    "    spec2_mz:\n",
    "        Spectrum peak m/z values as numpy array. Peak mz values must be ordered.\n",
    "    tolerance\n",
    "        Peaks will be considered a match when <= tolerance appart.\n",
    "    shift\n",
    "        Shift peaks of second spectra by shift. The default is 0.\n",
    "\n",
    "    Returns\n",
    "    -------\n",
    "    matches\n",
    "        List containing entries of type (idx1, idx2).\n",
    "\n",
    "    \"\"\"\n",
    "    \n",
    "    lowest_idx = 0\n",
    "    matches = []\n",
    "    for peak1_idx in range(spec1_mz.shape[0]):\n",
    "        mz = spec1_mz[peak1_idx]\n",
    "        low_bound = mz - tolerance\n",
    "        high_bound = mz + tolerance\n",
    "        for peak2_idx in range(lowest_idx, spec2_mz.shape[0]):\n",
    "            mz2 = spec2_mz[peak2_idx] + shift\n",
    "            if mz2 > high_bound:\n",
    "                break\n",
    "            if mz2 < low_bound:\n",
    "                lowest_idx = peak2_idx\n",
    "            else:\n",
    "                matches.append((peak1_idx, peak2_idx))\n",
    "    # print(matches)\n",
    "    return matches\n",
    "\n",
    "\n",
    "@numba.njit(fastmath=True)\n",
    "def score_best_matches(matching_pairs: np.ndarray, spec1: np.ndarray,\n",
    "                       spec2: np.ndarray, mz_power: float = 0.0,\n",
    "                       intensity_power: float = 1.0) -> Tuple[float, int]:\n",
    "    \"\"\"Calculate cosine-like score by multiplying matches. Does require a sorted\n",
    "    list of matching peaks (sorted by intensity product).\"\"\"\n",
    "    score = float(0.0)\n",
    "    used_matches = int(0)\n",
    "    used1 = set()\n",
    "    used2 = set()\n",
    "    for i in range(matching_pairs.shape[0]):\n",
    "        if not matching_pairs[i, 0] in used1 and not matching_pairs[i, 1] in used2:\n",
    "            score += matching_pairs[i, 2]\n",
    "            used1.add(matching_pairs[i, 0])  # Every peak can only be paired once\n",
    "            used2.add(matching_pairs[i, 1])  # Every peak can only be paired once\n",
    "            used_matches += 1\n",
    "    # print(score)\n",
    "    # raise\n",
    "    # Normalize score:\n",
    "    spec1_power = spec1[:, 0] ** mz_power * spec1[:, 1] ** intensity_power\n",
    "    spec2_power = spec2[:, 0] ** mz_power * spec2[:, 1] ** intensity_power\n",
    "    # print(spec1_power)\n",
    "    # print(spec2_power)\n",
    "    # raise\n",
    "    score_norm = (np.sum(spec1_power ** 2) ** 0.5 * np.sum(spec2_power ** 2) ** 0.5)\n",
    "    score = score/score_norm\n",
    "    # print(score, \"/\", score_norm)\n",
    "    # raise\n",
    "    return score, used_matches\n",
    "\n",
    "start_collect_peaks = time.time()\n",
    "pairs_to_score_list = []\n",
    "\n",
    "for spectrum_1 in tqdm(references):\n",
    "    for spectrum_2 in queries:\n",
    "        spec1 = spectrum_1.peaks.to_numpy\n",
    "        spec2 = spectrum_2.peaks.to_numpy\n",
    "        \n",
    "        matching_pairs = collect_peak_pairs(\n",
    "                    spectrum_1.peaks.to_numpy, \n",
    "                    spectrum_2.peaks.to_numpy, \n",
    "                    tolerance=0.1,\n",
    "                    shift=0.0, \n",
    "                    mz_power=0.0,\n",
    "                    intensity_power=1.0\n",
    "        ) \n",
    "        if matching_pairs is not None:\n",
    "            pairs_to_score_list.append([ matching_pairs, spectrum_1, spectrum_2])  \n",
    "scores = []\n",
    "for matching_pairs, spectrum_1, spectrum_2 in tqdm(pairs_to_score_list):\n",
    "    scores.append(score_best_matches(matching_pairs, spectrum_1.peaks.to_numpy, spectrum_2.peaks.to_numpy,\n",
    "                                0.0, 1.0))\n",
    "end_collect_peaks = time.time()\n",
    "print(\"Time to collect matching pairs: \", end_collect_peaks - start_collect_peaks)"
   ]
  },
  {
   "cell_type": "code",
   "execution_count": 61,
   "metadata": {},
   "outputs": [],
   "source": [
    "def spectra_peaks_to_tensor(spectra: list, fill: float):\n",
    "    sp_max_shape = max(len(s.peaks) for s in spectra)\n",
    "    sp = np.full((len(spectra), sp_max_shape, 2), fill, 'float64')\n",
    "    batch = np.zeros(len(spectra),dtype=np.uint64)\n",
    "    for i, s in enumerate(spectra):\n",
    "        sp[i, :len(s.peaks)] = s.peaks.to_numpy\n",
    "        batch[i] = len(s.peaks)\n",
    "    return sp, batch\n",
    "\n",
    "references_batch, references_batch_size \\\n",
    "    = spectra_peaks_to_tensor(references, fill=-1e6)\n",
    "queries_batch, queries_batch_size \\\n",
    "    = spectra_peaks_to_tensor(queries, fill=-1e6)"
   ]
  },
  {
   "cell_type": "code",
   "execution_count": 62,
   "metadata": {},
   "outputs": [],
   "source": [
    "np.save('builddir/references_mz.npy', references_batch[...,0])\n",
    "np.save('builddir/references_int.npy', references_batch[...,1])\n",
    "np.save('builddir/references_batch_size.npy', references_batch_size)\n",
    "np.save('builddir/queries_mz.npy', queries_batch[...,0])\n",
    "np.save('builddir/queries_int.npy', queries_batch[...,1])\n",
    "np.save('builddir/queries_batch_size.npy', queries_batch_size)\n",
    "# np.save('builddir/scores_100x100.npy', np.array(scores))"
   ]
  },
  {
   "cell_type": "code",
   "execution_count": 52,
   "metadata": {},
   "outputs": [
    {
     "name": "stdout",
     "output_type": "stream",
     "text": [
      "[[8.63016898e-03 5.00000000e+00]\n",
      " [1.57968525e-02 6.00000000e+00]\n",
      " [4.26263552e-02 7.00000000e+00]\n",
      " ...\n",
      " [6.88239339e-03 6.00000000e+00]\n",
      " [1.81943264e-02 9.00000000e+00]\n",
      " [4.84264270e-02 1.10000000e+01]]\n",
      "(22970, 2) float64\n",
      "[6.47754888e-07 7.81780158e-07 8.52989985e-07 ... 9.97076190e-01\n",
      " 9.97387727e-01 9.97983564e-01]\n"
     ]
    }
   ],
   "source": [
    "load_scores_true = np.load('builddir/scores_100x100.npy')\n",
    "print(load_scores_true)\n",
    "print(load_scores_true.shape, load_scores_true.dtype)\n",
    "print(np.sort(load_scores_true[:,0]))"
   ]
  },
  {
   "cell_type": "code",
   "execution_count": 63,
   "metadata": {},
   "outputs": [
    {
     "name": "stdout",
     "output_type": "stream",
     "text": [
      "[[0.00863017 5.        ]\n",
      " [0.01579685 6.        ]\n",
      " [0.04262635 7.        ]\n",
      " ...\n",
      " [0.00768438 6.        ]\n",
      " [0.00716775 5.        ]\n",
      " [0.0072776  4.        ]]\n",
      "(4002, 2) float64\n",
      "[1.89974935e-06 2.08323263e-06 2.16184708e-06 ... 9.97076154e-01\n",
      " 9.97387826e-01 9.97983634e-01]\n"
     ]
    }
   ],
   "source": [
    "load_scores = np.load('builddir/results.npy')\n",
    "print(load_scores)\n",
    "print(load_scores.shape, load_scores.dtype)\n",
    "print(np.sort(load_scores[:,0]))"
   ]
  },
  {
   "cell_type": "code",
   "execution_count": 59,
   "metadata": {},
   "outputs": [
    {
     "data": {
      "text/plain": [
       "[<matplotlib.lines.Line2D at 0x7f8f43e26ad0>]"
      ]
     },
     "execution_count": 59,
     "metadata": {},
     "output_type": "execute_result"
    },
    {
     "data": {
      "image/png": "[encoded data removed]",
      "text/plain": [
       "<Figure size 640x480 with 1 Axes>"
      ]
     },
     "metadata": {},
     "output_type": "display_data"
    }
   ],
   "source": [
    "\n",
    "import matplotlib.pyplot as plt\n",
    "plt.plot(load_scores[:,1] - load_scores_true[:len(load_scores[:,1]),1])"
   ]
  }
 ],
 "metadata": {
  "kernelspec": {
   "display_name": "pb",
   "language": "python",
   "name": "python3"
  },
  "language_info": {
   "codemirror_mode": {
    "name": "ipython",
    "version": 3
   },
   "file_extension": ".py",
   "mimetype": "text/x-python",
   "name": "python",
   "nbconvert_exporter": "python",
   "pygments_lexer": "ipython3",
   "version": "3.10.11"
  }
 },
 "nbformat": 4,
 "nbformat_minor": 2
}
