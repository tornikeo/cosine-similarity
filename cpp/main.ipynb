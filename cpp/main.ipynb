{
 "cells": [
  {
   "cell_type": "code",
   "execution_count": 1,
   "metadata": {},
   "outputs": [],
   "source": [
    "# All required imports\n",
    "# import tensorflow as tf\n",
    "# print(\"GPU available\", tf.test.is_gpu_available())\n",
    "from joblib import Parallel, delayed\n",
    "from tqdm import tqdm\n",
    "import numba\n",
    "from typing import Tuple, List\n",
    "from matchms import Spectrum\n",
    "from matchms.typing import SpectrumType\n",
    "import numpy as np\n",
    "import pandas as pd\n",
    "from pathlib import Path\n",
    "import json\n",
    "\n",
    "from matchms import Spectrum\n",
    "\n",
    "from matchms.filtering import normalize_intensities\n",
    "from matchms.filtering import require_minimum_number_of_peaks\n",
    "from matchms.filtering import select_by_mz\n",
    "from matchms.filtering import select_by_relative_intensity\n",
    "from matchms.filtering import reduce_to_number_of_peaks\n",
    "from matchms.filtering import add_losses\n",
    "\n",
    "def process_spectrum(spectrum):\n",
    "    spectrum = select_by_mz(spectrum, mz_from=10.0, mz_to=1000.0)\n",
    "    spectrum = normalize_intensities(spectrum)\n",
    "    spectrum = select_by_relative_intensity(spectrum, intensity_from=0.001)\n",
    "    spectrum = reduce_to_number_of_peaks(spectrum, n_max=1000)\n",
    "    spectrum = require_minimum_number_of_peaks(spectrum, n_required=5)\n",
    "    return spectrum\n",
    "\n",
    "\n",
    "def get_ref_spectra_from_df(spectra_df, limit=None):\n",
    "    # This function will take a dataframe with spectra and return a list of matchms spectra\n",
    "    # Argh, This function is annoyingly slow. Added simple parallelization.\n",
    "    \n",
    "    # for index, row in spectra_df.iterrows():\n",
    "    def fn(index, row):\n",
    "        pbid = row[\"pbid\"]\n",
    "        precursor_mz = row[\"precursor_mz\"]\n",
    "        smiles = row[\"pb_smiles\"]\n",
    "        inchikey = row[\"pb_inchikey\"]\n",
    "        mz_array = np.array(json.loads(row[\"peaks_mz\"]))\n",
    "        intensity_array = np.array(json.loads(row[\"peaks_intensities\"]))\n",
    "        sp = Spectrum(mz=mz_array, intensities=intensity_array,\n",
    "                        metadata={'id': pbid, \n",
    "                                'precursor_mz': precursor_mz, \n",
    "                                'smiles': smiles, \n",
    "                                'inchikey': inchikey}) \n",
    "        sp = process_spectrum(sp)\n",
    "        return sp\n",
    "    if limit is not None:\n",
    "        spectra_df = spectra_df.head(limit)\n",
    "    spectra = Parallel(-2)(delayed(fn)(index, row) for index, row in tqdm(spectra_df.iterrows(), total=len(spectra_df)) )\n",
    "    spectra = [s for s in spectra if s is not None]\n",
    "    return spectra"
   ]
  },
  {
   "cell_type": "code",
   "execution_count": 2,
   "metadata": {},
   "outputs": [
    {
     "name": "stderr",
     "output_type": "stream",
     "text": [
      "100%|██████████| 2000/2000 [00:02<00:00, 793.57it/s] \n"
     ]
    }
   ],
   "source": [
    "ref_spectra_df_path = Path(\"data/input/example_dataset_tornike.csv\")\n",
    "ref_spectra_df = pd.read_csv(ref_spectra_df_path)\n",
    "large_references = get_ref_spectra_from_df(ref_spectra_df, limit=2000)"
   ]
  },
  {
   "cell_type": "code",
   "execution_count": 32,
   "metadata": {},
   "outputs": [
    {
     "name": "stdout",
     "output_type": "stream",
     "text": [
      "Total iterations: 200\n"
     ]
    }
   ],
   "source": [
    "N = 10\n",
    "queries = large_references[:N]\n",
    "references = large_references[N:(3*N)]\n",
    "\n",
    "print(f\"Total iterations: {len(queries) * len(references)}\")"
   ]
  },
  {
   "cell_type": "code",
   "execution_count": 33,
   "metadata": {},
   "outputs": [],
   "source": [
    "def spectra_peaks_to_tensor(spectra: list, fill: float):\n",
    "    sp_max_shape = max(len(s.peaks) for s in spectra)\n",
    "    sp = np.full((len(spectra), sp_max_shape, 2), fill, 'float32')\n",
    "    # batch = np.zeros(len(spectra),dtype=np.uint64)\n",
    "    for i, s in enumerate(spectra):\n",
    "        sp[i, :len(s.peaks)] = s.peaks.to_numpy\n",
    "        # batch[i] = len(s.peaks)\n",
    "    return sp\n",
    "\n",
    "references_batch = spectra_peaks_to_tensor(references, fill=-1e6)\n",
    "queries_batch = spectra_peaks_to_tensor(queries, fill=-1e6)"
   ]
  },
  {
   "cell_type": "code",
   "execution_count": 34,
   "metadata": {},
   "outputs": [],
   "source": [
    "import time\n",
    "\n",
    "\n",
    "# @numba.njit\n",
    "def find_matches(spec1_mz: np.ndarray, spec2_mz: np.ndarray,\n",
    "                 tolerance: float, shift: float = 0) -> List[Tuple[int, int]]:\n",
    "    \"\"\"Faster search for matching peaks.\n",
    "    Makes use of the fact that spec1 and spec2 contain ordered peak m/z (from\n",
    "    low to high m/z).\n",
    "\n",
    "    Parameters\n",
    "    ----------\n",
    "    spec1_mz:\n",
    "        Spectrum peak m/z values as numpy array. Peak mz values must be ordered.\n",
    "    spec2_mz:\n",
    "        Spectrum peak m/z values as numpy array. Peak mz values must be ordered.\n",
    "    tolerance\n",
    "        Peaks will be considered a match when <= tolerance appart.\n",
    "    shift\n",
    "        Shift peaks of second spectra by shift. The default is 0.\n",
    "\n",
    "    Returns\n",
    "    -------\n",
    "    matches\n",
    "        List containing entries of type (idx1, idx2).\n",
    "\n",
    "    \"\"\"\n",
    "    \n",
    "    lowest_idx = 0\n",
    "    matches = []\n",
    "    for peak1_idx in range(spec1_mz.shape[0]):\n",
    "        mz = spec1_mz[peak1_idx]\n",
    "        low_bound = mz - tolerance\n",
    "        high_bound = mz + tolerance\n",
    "        for peak2_idx in range(lowest_idx, spec2_mz.shape[0]):\n",
    "            mz2 = spec2_mz[peak2_idx] + shift\n",
    "            if mz2 > high_bound:\n",
    "                break\n",
    "            if mz2 < low_bound:\n",
    "                lowest_idx = peak2_idx\n",
    "            else:\n",
    "                matches.append((peak1_idx, peak2_idx))\n",
    "                # print((peak1_idx, peak2_idx))\n",
    "    # print(matches)\n",
    "    return matches\n",
    "\n",
    "\n",
    "@numba.njit(fastmath=True)\n",
    "def score_best_matches(matching_pairs: np.ndarray, spec1: np.ndarray,\n",
    "                       spec2: np.ndarray, mz_power: float = 0.0,\n",
    "                       intensity_power: float = 1.0) -> Tuple[float, int]:\n",
    "    \"\"\"Calculate cosine-like score by multiplying matches. Does require a sorted\n",
    "    list of matching peaks (sorted by intensity product).\"\"\"\n",
    "    score = float(0.0)\n",
    "    used_matches = int(0)\n",
    "    used1 = set()\n",
    "    used2 = set()\n",
    "    for i in range(matching_pairs.shape[0]):\n",
    "        if not matching_pairs[i, 0] in used1 and not matching_pairs[i, 1] in used2:\n",
    "            score += matching_pairs[i, 2]\n",
    "            used1.add(matching_pairs[i, 0])  # Every peak can only be paired once\n",
    "            used2.add(matching_pairs[i, 1])  # Every peak can only be paired once\n",
    "            # print(i, matching_pairs[i,0], matching_pairs[i,1], used_matches, score)\n",
    "            used_matches += 1\n",
    "\n",
    "    # Normalize score:\n",
    "    spec1_power = spec1[:, 0] ** mz_power * spec1[:, 1] ** intensity_power    \n",
    "    spec2_power = spec2[:, 0] ** mz_power * spec2[:, 1] ** intensity_power\n",
    "\n",
    "    # print(spec1_power)\n",
    "    # print(spec2_power)\n",
    "    # raise\n",
    "    score_norm = (np.sum(spec1_power ** 2) ** 0.5 * np.sum(spec2_power ** 2) ** 0.5)\n",
    "    # print(score, score_norm, used_matches)\n",
    "    score = score/score_norm\n",
    "    # print(score, \"/\", score_norm)\n",
    "    # raise\n",
    "    return score, used_matches\n",
    "\n",
    "\n",
    "def collect_peak_pairs(spec1: np.ndarray, spec2: np.ndarray,\n",
    "                       tolerance: float, shift: float = 0, mz_power: float = 0.0,\n",
    "                       intensity_power: float = 1.0):\n",
    "    # pylint: disable=too-many-arguments\n",
    "    \"\"\"Find matching pairs between two spectra.\n",
    "\n",
    "    Args\n",
    "    ----\n",
    "    spec1:\n",
    "        Spectrum peaks and intensities as numpy array.\n",
    "    spec2:\n",
    "        Spectrum peaks and intensities as numpy array.\n",
    "    tolerance\n",
    "        Peaks will be considered a match when <= tolerance appart.\n",
    "    shift\n",
    "        Shift spectra peaks by shift. The default is 0.\n",
    "    mz_power:\n",
    "        The power to raise mz to in the cosine function. The default is 0, in which\n",
    "        case the peak intensity products will not depend on the m/z ratios.\n",
    "    intensity_power:\n",
    "        The power to raise intensity to in the cosine function. The default is 1.\n",
    "\n",
    "    Returns\n",
    "    -------\n",
    "    matching_pairs : numpy array\n",
    "        Array of found matching peaks.\n",
    "    \"\"\"\n",
    "    matches = find_matches(spec1[:, 0], spec2[:, 0], tolerance, shift)\n",
    "    # global a\n",
    "    # a = matches\n",
    "    # matches_op = find_matches_opt(spec1[:, 0], spec2[:, 0], tolerance, shift)\n",
    "    # global b\n",
    "    # b = matches_op\n",
    "    # assert np.allclose(matches, matches_op)\n",
    "    \n",
    "    idx1 = [x[0] for x in matches]\n",
    "    idx2 = [x[1] for x in matches]\n",
    "    if len(idx1) == 0:\n",
    "        return None\n",
    "    matching_pairs = []\n",
    "    for i, idx in enumerate(idx1):\n",
    "        power_prod_spec1 = (spec1[idx, 0] ** mz_power) * (spec1[idx, 1] ** intensity_power)\n",
    "        power_prod_spec2 = (spec2[idx2[i], 0] ** mz_power) * (spec2[idx2[i], 1] ** intensity_power)\n",
    "        # print((idx, idx2[i], power_prod_spec1 * power_prod_spec2))\n",
    "        matching_pairs.append([idx, idx2[i], power_prod_spec1 * power_prod_spec2])\n",
    "    return np.array(matching_pairs.copy())\n"
   ]
  },
  {
   "cell_type": "code",
   "execution_count": 35,
   "metadata": {},
   "outputs": [],
   "source": [
    "np.set_printoptions(precision=2)"
   ]
  },
  {
   "cell_type": "code",
   "execution_count": 36,
   "metadata": {},
   "outputs": [
    {
     "name": "stderr",
     "output_type": "stream",
     "text": [
      "20it [00:00, 33.74it/s]"
     ]
    },
    {
     "name": "stdout",
     "output_type": "stream",
     "text": [
      "Time to collect matching pairs:  0.5950500965118408\n",
      "[[ 5.  6.  8.  8. 13. 22. 33. 43. 52. 62.]\n",
      " [ 5.  6.  8.  8. 13. 21. 32. 41. 49. 59.]\n",
      " [12. 12. 12. 13. 13. 13. 11. 11. 10.  9.]\n",
      " [ 3.  4.  4.  5.  4.  4.  3.  3.  3.  3.]\n",
      " [ 3.  4.  4.  5.  4.  4.  3.  3.  3.  3.]\n",
      " [ 3.  4.  4.  5.  6.  7.  6.  6.  6.  6.]\n",
      " [ 3.  4.  4.  4.  6.  6.  5.  5.  5.  5.]\n",
      " [ 2.  3.  3.  3.  5.  6.  5.  5.  5.  5.]\n",
      " [ 3.  4.  4.  4.  6.  7.  6.  6.  6.  6.]\n",
      " [ 4.  5.  5.  5.  7.  8.  9.  9.  9.  9.]\n",
      " [ 4.  5.  5.  5.  7.  9. 10. 12. 13. 13.]\n",
      " [ 4.  5.  5.  5.  9. 11. 14. 17. 19. 21.]\n",
      " [ 4.  5.  5.  5. 10. 12. 17. 21. 24. 28.]\n",
      " [ 3.  4.  4.  4.  8. 10. 17. 21. 23. 28.]\n",
      " [ 1.  2.  2.  2.  3.  5. 12. 15. 17. 22.]\n",
      " [ 1.  2.  2.  2.  3.  4.  9. 12. 15. 21.]\n",
      " [ 1.  2.  2.  2.  2.  3.  8. 11. 14. 19.]\n",
      " [-1. -1. -1. -1. -1.  1.  5.  8. 11. 16.]\n",
      " [ 5.  5.  6.  7.  9. 11. 11. 11. 10.  9.]\n",
      " [ 6.  6.  7.  8. 12. 18. 20. 20. 19. 18.]]\n",
      "[[ 2.61e-02  3.44e-02  6.45e-02  1.12e-01  1.62e-01  2.38e-01  3.85e-01\n",
      "   5.66e-01  7.43e-01  9.16e-01]\n",
      " [ 5.73e-03  9.13e-03  2.17e-02  4.21e-02  6.71e-02  1.12e-01  2.09e-01\n",
      "   3.55e-01  5.41e-01  7.66e-01]\n",
      " [ 9.84e-01  9.97e-01  9.96e-01  9.64e-01  9.15e-01  8.53e-01  7.04e-01\n",
      "   4.61e-01  2.32e-01  1.04e-01]\n",
      " [ 3.25e-01  3.26e-01  2.77e-01  1.97e-01  1.47e-01  1.50e-01  1.88e-01\n",
      "   2.21e-01  2.17e-01  1.74e-01]\n",
      " [ 2.80e-01  2.90e-01  2.82e-01  2.64e-01  2.64e-01  3.06e-01  3.93e-01\n",
      "   4.61e-01  4.53e-01  3.63e-01]\n",
      " [ 1.63e-01  1.82e-01  2.30e-01  3.02e-01  3.68e-01  4.54e-01  5.90e-01\n",
      "   6.92e-01  6.80e-01  5.45e-01]\n",
      " [ 6.75e-02  9.10e-02  1.69e-01  2.89e-01  3.90e-01  4.93e-01  6.44e-01\n",
      "   7.55e-01  7.42e-01  5.95e-01]\n",
      " [ 3.55e-02  5.98e-02  1.46e-01  2.79e-01  3.90e-01  4.96e-01  6.48e-01\n",
      "   7.61e-01  7.47e-01  5.99e-01]\n",
      " [ 3.09e-02  5.53e-02  1.42e-01  2.77e-01  3.89e-01  4.96e-01  6.49e-01\n",
      "   7.61e-01  7.48e-01  6.00e-01]\n",
      " [ 3.05e-02  5.49e-02  1.42e-01  2.77e-01  3.89e-01  4.96e-01  6.49e-01\n",
      "   7.62e-01  7.51e-01  6.06e-01]\n",
      " [ 2.96e-02  5.39e-02  1.41e-01  2.75e-01  3.87e-01  4.94e-01  6.47e-01\n",
      "   7.63e-01  7.60e-01  6.30e-01]\n",
      " [ 2.73e-02  5.01e-02  1.32e-01  2.59e-01  3.64e-01  4.64e-01  6.11e-01\n",
      "   7.31e-01  7.57e-01  6.84e-01]\n",
      " [ 1.86e-02  3.42e-02  9.04e-02  1.77e-01  2.50e-01  3.20e-01  4.26e-01\n",
      "   5.29e-01  6.05e-01  6.52e-01]\n",
      " [ 7.66e-03  1.45e-02  3.90e-02  7.69e-02  1.08e-01  1.40e-01  1.93e-01\n",
      "   2.62e-01  3.64e-01  4.99e-01]\n",
      " [ 2.50e-03  4.76e-03  1.29e-02  2.55e-02  3.59e-02  4.76e-02  7.11e-02\n",
      "   1.19e-01  2.20e-01  3.78e-01]\n",
      " [ 7.13e-04  1.36e-03  3.70e-03  7.30e-03  1.03e-02  1.48e-02  2.69e-02\n",
      "   6.27e-02  1.51e-01  2.96e-01]\n",
      " [ 1.45e-04  2.80e-04  7.58e-04  1.50e-03  2.11e-03  3.99e-03  1.08e-02\n",
      "   3.60e-02  1.03e-01  2.15e-01]\n",
      " [-1.00e+00 -1.00e+00 -1.00e+00 -1.00e+00 -1.00e+00  8.82e-04  4.76e-03\n",
      "   2.15e-02  6.74e-02  1.47e-01]\n",
      " [ 9.20e-01  9.34e-01  9.50e-01  9.45e-01  9.14e-01  8.61e-01  7.17e-01\n",
      "   4.76e-01  2.48e-01  1.21e-01]\n",
      " [ 9.10e-01  9.25e-01  9.40e-01  9.36e-01  9.09e-01  8.63e-01  7.33e-01\n",
      "   5.05e-01  2.80e-01  1.58e-01]]\n"
     ]
    },
    {
     "name": "stderr",
     "output_type": "stream",
     "text": [
      "\n"
     ]
    }
   ],
   "source": [
    "start_collect_peaks = time.time()\n",
    "pairs_to_score_list = []\n",
    "scores = []\n",
    "grid_outp = np.full((len(references), len(queries), 3), \n",
    "                    fill_value=-1, \n",
    "                    dtype='float32')\n",
    "for i,spectrum_1 in tqdm(enumerate(references)):\n",
    "    for j,spectrum_2 in enumerate(queries):\n",
    "        spec1 = spectrum_1.peaks.to_numpy\n",
    "        spec2 = spectrum_2.peaks.to_numpy\n",
    "        \n",
    "        matching_pairs = collect_peak_pairs(\n",
    "                    spectrum_1.peaks.to_numpy, \n",
    "                    spectrum_2.peaks.to_numpy, \n",
    "                    tolerance=0.1,\n",
    "                    shift=0.0, \n",
    "                    mz_power=0.0,\n",
    "                    intensity_power=1.0\n",
    "        )\n",
    "        if matching_pairs is not None:\n",
    "            # Store in grid\n",
    "            matching_pairs = matching_pairs[np.argsort(matching_pairs[:, 2])[::-1], :] \n",
    "            pairs_to_score_list.append([ matching_pairs, spectrum_1, spectrum_2]) \n",
    "            # for matching_pairs, spectrum_1, spectrum_2 in tqdm(pairs_to_score_list):\n",
    "            score = score_best_matches(matching_pairs, spec1, spec2, 0.0, 1.0)\n",
    "            grid_outp[i,j,0] = score[0]\n",
    "            grid_outp[i,j,1] = score[1]\n",
    "            # grid_outp[i,j,3] = scores[]\n",
    "            # grid_outp[i,j,4] = matching_pairs[0,2]\n",
    "            scores.append(score)\n",
    "end_collect_peaks = time.time()\n",
    "print(\"Time to collect matching pairs: \", end_collect_peaks - start_collect_peaks)\n",
    "print(grid_outp[...,1])\n",
    "print(grid_outp[...,0])\n",
    "np.save('data/grid_outp.npy', grid_outp)"
   ]
  },
  {
   "cell_type": "code",
   "execution_count": 20,
   "metadata": {},
   "outputs": [
    {
     "data": {
      "text/plain": [
       "(0.268704144384625, 18)"
      ]
     },
     "execution_count": 20,
     "metadata": {},
     "output_type": "execute_result"
    }
   ],
   "source": [
    "score"
   ]
  },
  {
   "cell_type": "code",
   "execution_count": 15,
   "metadata": {},
   "outputs": [
    {
     "data": {
      "text/plain": [
       "(35, 3)"
      ]
     },
     "execution_count": 15,
     "metadata": {},
     "output_type": "execute_result"
    }
   ],
   "source": [
    "matching_pairs.shape"
   ]
  },
  {
   "cell_type": "code",
   "execution_count": 16,
   "metadata": {},
   "outputs": [
    {
     "data": {
      "text/plain": [
       "(20, 10, 3)"
      ]
     },
     "execution_count": 16,
     "metadata": {},
     "output_type": "execute_result"
    }
   ],
   "source": [
    "grid_outp.shape"
   ]
  },
  {
   "cell_type": "code",
   "execution_count": 7,
   "metadata": {},
   "outputs": [
    {
     "ename": "RuntimeError",
     "evalue": "No active exception to reraise",
     "output_type": "error",
     "traceback": [
      "\u001b[0;31m---------------------------------------------------------------------------\u001b[0m",
      "\u001b[0;31mRuntimeError\u001b[0m                              Traceback (most recent call last)",
      "\u001b[1;32m/home/tornikeo/Documents/work/scalexa/pangeaai/optimize-cosine/cpp/main.ipynb Cell 7\u001b[0m line \u001b[0;36m1\n\u001b[0;32m----> <a href='vscode-notebook-cell:/home/tornikeo/Documents/work/scalexa/pangeaai/optimize-cosine/cpp/main.ipynb#X11sZmlsZQ%3D%3D?line=0'>1</a>\u001b[0m \u001b[39mraise\u001b[39;00m\n",
      "\u001b[0;31mRuntimeError\u001b[0m: No active exception to reraise"
     ]
    }
   ],
   "source": [
    "raise"
   ]
  },
  {
   "cell_type": "code",
   "execution_count": 8,
   "metadata": {},
   "outputs": [
    {
     "data": {
      "text/plain": [
       "512"
      ]
     },
     "execution_count": 8,
     "metadata": {},
     "output_type": "execute_result"
    }
   ],
   "source": [
    "16 * 16 * 2"
   ]
  },
  {
   "cell_type": "code",
   "execution_count": null,
   "metadata": {},
   "outputs": [
    {
     "name": "stderr",
     "output_type": "stream",
     "text": [
      "  0%|          | 0/947000 [00:00<?, ?it/s]"
     ]
    },
    {
     "name": "stderr",
     "output_type": "stream",
     "text": [
      "100%|██████████| 947000/947000 [01:37<00:00, 9744.21it/s] \n"
     ]
    },
    {
     "name": "stdout",
     "output_type": "stream",
     "text": [
      "Time to collect matching pairs:  97.95659852027893\n"
     ]
    }
   ],
   "source": [
    "from itertools import product\n",
    "start_collect_peaks = time.time()\n",
    "queries_npy = [q.peaks.to_numpy.astype('float32') for q in queries]\n",
    "references_npy = [q.peaks.to_numpy.astype('float32') for q in references]\n",
    "\n",
    "def fn(spectrum_1, spectrum_2):\n",
    "    matching_pairs = collect_peak_pairs(\n",
    "                spectrum_1, \n",
    "                spectrum_2, \n",
    "                tolerance=0.1,\n",
    "                shift=0.0, \n",
    "                mz_power=0.0,\n",
    "                intensity_power=1.0\n",
    "    ) \n",
    "    if matching_pairs is not None:\n",
    "        return score_best_matches(matching_pairs, spectrum_1, spectrum_2, 0.0, 1.0)\n",
    "    \n",
    "total_len = len(references_npy) * len(queries_npy)\n",
    "scores = Parallel(-1)(delayed(fn)(spectrum_1, spectrum_2)\n",
    "                      for (spectrum_1, spectrum_2) in \n",
    "                      tqdm(product(references_npy,queries_npy), total=total_len))\n",
    "\n",
    "end_collect_peaks = time.time()\n",
    "print(\"Time to collect matching pairs: \", end_collect_peaks - start_collect_peaks)"
   ]
  },
  {
   "cell_type": "code",
   "execution_count": null,
   "metadata": {},
   "outputs": [],
   "source": [
    "def spectra_peaks_to_tensor(spectra: list, fill: float):\n",
    "    sp_max_shape = max(len(s.peaks) for s in spectra)\n",
    "    sp = np.full((len(spectra), sp_max_shape, 2), fill, 'float32')\n",
    "    batch = np.zeros(len(spectra),dtype=np.uint64)\n",
    "    for i, s in enumerate(spectra):\n",
    "        sp[i, :len(s.peaks)] = s.peaks.to_numpy\n",
    "        batch[i] = len(s.peaks)\n",
    "    return sp, batch\n",
    "\n",
    "# queries = large_references[:1000]\n",
    "# references = large_references[1000:]\n",
    "\n",
    "references_batch, references_batch_size \\\n",
    "    = spectra_peaks_to_tensor(references, fill=-1e6)\n",
    "queries_batch, queries_batch_size \\\n",
    "    = spectra_peaks_to_tensor(queries, fill=-1e6)"
   ]
  },
  {
   "cell_type": "code",
   "execution_count": null,
   "metadata": {},
   "outputs": [],
   "source": [
    "np.save('data/references_mz.npy', references_batch[...,0])\n",
    "np.save('data/references_int.npy', references_batch[...,1])\n",
    "np.save('data/queries_mz.npy', queries_batch[...,0])\n",
    "np.save('data/queries_int.npy', queries_batch[...,1])\n",
    "# np.save('data/scores_100x100.npy', np.array(scores))"
   ]
  },
  {
   "cell_type": "code",
   "execution_count": null,
   "metadata": {},
   "outputs": [
    {
     "ename": "FileNotFoundError",
     "evalue": "[Errno 2] No such file or directory: 'data/scores_100x100.npy'",
     "output_type": "error",
     "traceback": [
      "\u001b[0;31m---------------------------------------------------------------------------\u001b[0m",
      "\u001b[0;31mFileNotFoundError\u001b[0m                         Traceback (most recent call last)",
      "\u001b[1;32m/home/tornikeo/Documents/work/scalexa/pangeaai/optimize-cosine/cpp/main.ipynb Cell 14\u001b[0m line \u001b[0;36m1\n\u001b[0;32m----> <a href='vscode-notebook-cell:/home/tornikeo/Documents/work/scalexa/pangeaai/optimize-cosine/cpp/main.ipynb#X21sZmlsZQ%3D%3D?line=0'>1</a>\u001b[0m load_scores_true \u001b[39m=\u001b[39m np\u001b[39m.\u001b[39;49mload(\u001b[39m'\u001b[39;49m\u001b[39mdata/scores_100x100.npy\u001b[39;49m\u001b[39m'\u001b[39;49m)\n\u001b[1;32m      <a href='vscode-notebook-cell:/home/tornikeo/Documents/work/scalexa/pangeaai/optimize-cosine/cpp/main.ipynb#X21sZmlsZQ%3D%3D?line=1'>2</a>\u001b[0m \u001b[39mprint\u001b[39m(load_scores_true)\n\u001b[1;32m      <a href='vscode-notebook-cell:/home/tornikeo/Documents/work/scalexa/pangeaai/optimize-cosine/cpp/main.ipynb#X21sZmlsZQ%3D%3D?line=2'>3</a>\u001b[0m \u001b[39mprint\u001b[39m(load_scores_true\u001b[39m.\u001b[39mshape, load_scores_true\u001b[39m.\u001b[39mdtype)\n",
      "File \u001b[0;32m~/miniconda3/envs/pb2/lib/python3.10/site-packages/numpy/lib/npyio.py:427\u001b[0m, in \u001b[0;36mload\u001b[0;34m(file, mmap_mode, allow_pickle, fix_imports, encoding, max_header_size)\u001b[0m\n\u001b[1;32m    425\u001b[0m     own_fid \u001b[39m=\u001b[39m \u001b[39mFalse\u001b[39;00m\n\u001b[1;32m    426\u001b[0m \u001b[39melse\u001b[39;00m:\n\u001b[0;32m--> 427\u001b[0m     fid \u001b[39m=\u001b[39m stack\u001b[39m.\u001b[39menter_context(\u001b[39mopen\u001b[39;49m(os_fspath(file), \u001b[39m\"\u001b[39;49m\u001b[39mrb\u001b[39;49m\u001b[39m\"\u001b[39;49m))\n\u001b[1;32m    428\u001b[0m     own_fid \u001b[39m=\u001b[39m \u001b[39mTrue\u001b[39;00m\n\u001b[1;32m    430\u001b[0m \u001b[39m# Code to distinguish from NumPy binary files and pickles.\u001b[39;00m\n",
      "\u001b[0;31mFileNotFoundError\u001b[0m: [Errno 2] No such file or directory: 'data/scores_100x100.npy'"
     ]
    }
   ],
   "source": [
    "load_scores_true = np.load('data/scores_100x100.npy')\n",
    "print(load_scores_true)\n",
    "print(load_scores_true.shape, load_scores_true.dtype)\n",
    "print(np.sort(load_scores_true[:,0]))"
   ]
  },
  {
   "cell_type": "code",
   "execution_count": null,
   "metadata": {},
   "outputs": [
    {
     "name": "stdout",
     "output_type": "stream",
     "text": [
      "[[0.0000000e+00 5.0000000e+00 2.9956270e-06 1.0000000e+00]\n",
      " [0.0000000e+00 6.0000000e+00 7.0604798e-04 5.0000000e+00]\n",
      " [0.0000000e+00 7.0000000e+00 2.6819189e-03 1.0000000e+01]\n",
      " ...\n",
      " [7.6410000e+03 9.9700000e+02 5.7682420e-05 1.0000000e+00]\n",
      " [7.6410000e+03 9.9800000e+02 2.6733984e-05 1.0000000e+00]\n",
      " [7.6410000e+03 9.9900000e+02 7.2767034e-06 1.0000000e+00]]\n",
      "(65748867, 4) float32\n",
      "[    0.     0.     0. ... 91697. 91697. 91697.]\n"
     ]
    }
   ],
   "source": [
    "load_scores = np.load('data/results.npy')\n",
    "print(load_scores)\n",
    "print(load_scores.shape, load_scores.dtype)\n",
    "print(np.sort(load_scores[:,0]))"
   ]
  },
  {
   "cell_type": "code",
   "execution_count": null,
   "metadata": {},
   "outputs": [
    {
     "data": {
      "text/plain": [
       "1.051981872"
      ]
     },
     "execution_count": 13,
     "metadata": {},
     "output_type": "execute_result"
    }
   ],
   "source": [
    "load_scores.nbytes / 1e9"
   ]
  },
  {
   "cell_type": "code",
   "execution_count": null,
   "metadata": {},
   "outputs": [
    {
     "ename": "ValueError",
     "evalue": "operands could not be broadcast together with shapes (1740258,) (22970,) ",
     "output_type": "error",
     "traceback": [
      "\u001b[0;31m---------------------------------------------------------------------------\u001b[0m",
      "\u001b[0;31mValueError\u001b[0m                                Traceback (most recent call last)",
      "\u001b[1;32m/home/tornikeo/Documents/work/scalexa/pangeaai/optimize-cosine/cpp/main.ipynb Cell 9\u001b[0m line \u001b[0;36m2\n\u001b[1;32m      <a href='vscode-notebook-cell:/home/tornikeo/Documents/work/scalexa/pangeaai/optimize-cosine/cpp/main.ipynb#X26sZmlsZQ%3D%3D?line=0'>1</a>\u001b[0m \u001b[39mimport\u001b[39;00m \u001b[39mmatplotlib\u001b[39;00m\u001b[39m.\u001b[39;00m\u001b[39mpyplot\u001b[39;00m \u001b[39mas\u001b[39;00m \u001b[39mplt\u001b[39;00m\n\u001b[0;32m----> <a href='vscode-notebook-cell:/home/tornikeo/Documents/work/scalexa/pangeaai/optimize-cosine/cpp/main.ipynb#X26sZmlsZQ%3D%3D?line=1'>2</a>\u001b[0m plt\u001b[39m.\u001b[39mplot(load_scores[:,\u001b[39m1\u001b[39;49m] \u001b[39m-\u001b[39;49m load_scores_true[:\u001b[39mlen\u001b[39;49m(load_scores[:,\u001b[39m1\u001b[39;49m]),\u001b[39m1\u001b[39;49m])\n",
      "\u001b[0;31mValueError\u001b[0m: operands could not be broadcast together with shapes (1740258,) (22970,) "
     ]
    }
   ],
   "source": [
    "import matplotlib.pyplot as plt\n",
    "plt.plot(load_scores[:,1] - load_scores_true[:len(load_scores[:,1]),1])"
   ]
  }
 ],
 "metadata": {
  "kernelspec": {
   "display_name": "pb",
   "language": "python",
   "name": "python3"
  },
  "language_info": {
   "codemirror_mode": {
    "name": "ipython",
    "version": 3
   },
   "file_extension": ".py",
   "mimetype": "text/x-python",
   "name": "python",
   "nbconvert_exporter": "python",
   "pygments_lexer": "ipython3",
   "version": "3.10.11"
  }
 },
 "nbformat": 4,
 "nbformat_minor": 2
}
