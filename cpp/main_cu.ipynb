{
 "cells": [
  {
   "cell_type": "code",
   "execution_count": 1,
   "metadata": {},
   "outputs": [],
   "source": [
    "# All required imports\n",
    "# import tensorflow as tf\n",
    "# print(\"GPU available\", tf.test.is_gpu_available())\n",
    "from joblib import Parallel, delayed\n",
    "from tqdm import tqdm\n",
    "import numba\n",
    "from typing import Tuple, List\n",
    "from matchms import Spectrum\n",
    "from matchms.typing import SpectrumType\n",
    "import numpy as np\n",
    "import pandas as pd\n",
    "from pathlib import Path\n",
    "import json\n",
    "\n",
    "from matchms import Spectrum\n",
    "\n",
    "from matchms.filtering import normalize_intensities\n",
    "from matchms.filtering import require_minimum_number_of_peaks\n",
    "from matchms.filtering import select_by_mz\n",
    "from matchms.filtering import select_by_relative_intensity\n",
    "from matchms.filtering import reduce_to_number_of_peaks\n",
    "from matchms.filtering import add_losses\n",
    "\n",
    "def process_spectrum(spectrum):\n",
    "    spectrum = select_by_mz(spectrum, mz_from=10.0, mz_to=1000.0)\n",
    "    spectrum = normalize_intensities(spectrum)\n",
    "    spectrum = select_by_relative_intensity(spectrum, intensity_from=0.001)\n",
    "    spectrum = reduce_to_number_of_peaks(spectrum, n_max=1000)\n",
    "    spectrum = require_minimum_number_of_peaks(spectrum, n_required=5)\n",
    "    return spectrum\n",
    "\n",
    "\n",
    "def get_ref_spectra_from_df(spectra_df, limit=None):\n",
    "    # This function will take a dataframe with spectra and return a list of matchms spectra\n",
    "    # Argh, This function is annoyingly slow. Added simple parallelization.\n",
    "    \n",
    "    # for index, row in spectra_df.iterrows():\n",
    "    def fn(index, row):\n",
    "        pbid = row[\"pbid\"]\n",
    "        precursor_mz = row[\"precursor_mz\"]\n",
    "        smiles = row[\"pb_smiles\"]\n",
    "        inchikey = row[\"pb_inchikey\"]\n",
    "        mz_array = np.array(json.loads(row[\"peaks_mz\"]))\n",
    "        intensity_array = np.array(json.loads(row[\"peaks_intensities\"]))\n",
    "        sp = Spectrum(mz=mz_array, intensities=intensity_array,\n",
    "                        metadata={'id': pbid, \n",
    "                                'precursor_mz': precursor_mz, \n",
    "                                'smiles': smiles, \n",
    "                                'inchikey': inchikey}) \n",
    "        sp = process_spectrum(sp)\n",
    "        return sp\n",
    "    if limit is not None:\n",
    "        spectra_df = spectra_df.head(limit)\n",
    "    spectra = Parallel(-2)(delayed(fn)(index, row) for index, row in tqdm(spectra_df.iterrows(), total=len(spectra_df)) )\n",
    "    spectra = [s for s in spectra if s is not None]\n",
    "    return spectra"
   ]
  },
  {
   "cell_type": "code",
   "execution_count": 2,
   "metadata": {},
   "outputs": [
    {
     "name": "stderr",
     "output_type": "stream",
     "text": [
      "100%|██████████| 10000/10000 [00:08<00:00, 1229.28it/s]\n"
     ]
    }
   ],
   "source": [
    "ref_spectra_df_path = Path(\"data/input/example_dataset_tornike.csv\")\n",
    "ref_spectra_df = pd.read_csv(ref_spectra_df_path)\n",
    "large_references = get_ref_spectra_from_df(ref_spectra_df, limit=10000)"
   ]
  },
  {
   "cell_type": "code",
   "execution_count": 49,
   "metadata": {},
   "outputs": [
    {
     "name": "stdout",
     "output_type": "stream",
     "text": [
      "Total iterations: 50\n"
     ]
    }
   ],
   "source": [
    "N = 10\n",
    "M = 5\n",
    "queries = large_references[:N]\n",
    "references = large_references[N:N+M]\n",
    "\n",
    "print(f\"Total iterations: {len(queries) * len(references)}\")"
   ]
  },
  {
   "cell_type": "code",
   "execution_count": 50,
   "metadata": {},
   "outputs": [],
   "source": [
    "from numba import cuda"
   ]
  },
  {
   "cell_type": "code",
   "execution_count": 51,
   "metadata": {},
   "outputs": [],
   "source": [
    "def spectra_peaks_to_tensor(spectra: list, fill: float):\n",
    "    sp_max_shape = max(len(s.peaks) for s in spectra)\n",
    "    mz = np.full((len(spectra), sp_max_shape), fill, 'float32')\n",
    "    int = np.full((len(spectra), sp_max_shape), fill, 'float32')\n",
    "    batch = np.zeros(len(spectra),dtype=np.int32)\n",
    "    for i, s in enumerate(spectra):\n",
    "        arr = s.peaks.to_numpy\n",
    "        mz[i, :len(s.peaks)] = arr[...,0] \n",
    "        int[i, :len(s.peaks)] = arr[...,1]\n",
    "        batch[i] = len(s.peaks)\n",
    "    return mz, int, batch"
   ]
  },
  {
   "cell_type": "code",
   "execution_count": 52,
   "metadata": {},
   "outputs": [],
   "source": [
    "np.set_printoptions(precision=3)"
   ]
  },
  {
   "cell_type": "code",
   "execution_count": 62,
   "metadata": {},
   "outputs": [
    {
     "name": "stderr",
     "output_type": "stream",
     "text": [
      "/home/tornikeo/miniconda3/envs/pb2/lib/python3.10/site-packages/numba/cuda/dispatcher.py:536: NumbaPerformanceWarning: \u001b[1mGrid size 50 will likely result in GPU under-utilization due to low occupancy.\u001b[0m\n",
      "  warn(NumbaPerformanceWarning(msg))\n"
     ]
    },
    {
     "name": "stdout",
     "output_type": "stream",
     "text": [
      "Correct without overflows: False\n",
      "Correct with overflows: False\n",
      "[[ 5.  6.  8.  8. 13. 22. 33. 43. 52. 61.]\n",
      " [ 5.  6.  8.  8. 13. 21. 32. 41. 49. 59.]\n",
      " [12. 12. 12. 13. 13. 13. 11. 11. 10.  9.]\n",
      " [ 3.  4.  4.  5.  4.  4.  3.  3.  3.  3.]\n",
      " [ 3.  4.  4.  5.  4.  4.  3.  3.  3.  3.]]\n",
      "[[0.059 0.077 0.102 0.175 0.143 0.187 0.301 0.481 0.648 0.801]\n",
      " [0.031 0.049 0.064 0.122 0.073 0.093 0.17  0.309 0.475 0.675]\n",
      " [0.995 0.996 0.995 0.963 0.914 0.852 0.73  0.489 0.267 0.146]\n",
      " [0.692 0.705 0.736 0.605 0.374 0.302 0.995 0.993 0.993 0.994]\n",
      " [0.597 0.627 0.747 0.812 0.673 0.615 0.994 0.99  0.991 0.992]]\n",
      "[[ 5.  6.  8.  8. 13. 22. 33. 43. 52. 62.]\n",
      " [ 5.  6.  8.  8. 13. 21. 32. 41. 49. 59.]\n",
      " [12. 12. 12. 13. 13. 13. 11. 11. 10.  9.]\n",
      " [ 3.  4.  4.  5.  4.  4.  3.  3.  3.  3.]\n",
      " [ 3.  4.  4.  5.  4.  4.  3.  3.  3.  3.]]\n",
      "[[0.026 0.034 0.065 0.112 0.162 0.238 0.385 0.566 0.743 0.916]\n",
      " [0.006 0.009 0.022 0.042 0.067 0.112 0.209 0.355 0.541 0.766]\n",
      " [0.984 0.997 0.996 0.964 0.915 0.853 0.704 0.461 0.232 0.104]\n",
      " [0.325 0.326 0.277 0.197 0.147 0.15  0.188 0.221 0.217 0.174]\n",
      " [0.28  0.29  0.282 0.264 0.264 0.306 0.393 0.461 0.453 0.363]]\n"
     ]
    }
   ],
   "source": [
    "from numba.cuda.cudadrv.devicearray import DeviceNDArray\n",
    "from numba import types\n",
    "from numba.cuda import float32x3\n",
    "import math\n",
    "\n",
    "rmz_bs, rint_bs, references_cutoff = spectra_peaks_to_tensor(references, fill=-1e6)\n",
    "qmz_bs, qint_bs, queries_cutoff  = spectra_peaks_to_tensor(queries, fill=-1e6)\n",
    "\n",
    "rmz_cu = cuda.to_device(rmz_bs)\n",
    "rint_cu = cuda.to_device(rint_bs)\n",
    "rlen_cu = cuda.to_device(references_cutoff)\n",
    "\n",
    "qmz_cu = cuda.to_device(qmz_bs)\n",
    "qint_cu = cuda.to_device(qint_bs)\n",
    "qlen_cu = cuda.to_device(queries_cutoff)\n",
    "\n",
    "R,N = rmz_cu.shape\n",
    "Q,M = qmz_cu.shape\n",
    "\n",
    "K = 100\n",
    "\n",
    "out = np.full((R, Q, 3), fill_value=-1, dtype='float32')\n",
    "overflow = np.full((R, Q, 1), fill_value=0, dtype='uint8')\n",
    "out_cu = cuda.to_device(out)\n",
    "overflow_cu = cuda.to_device(overflow)        \n",
    "\n",
    "@cuda.jit\n",
    "def process(rmz: DeviceNDArray, \n",
    "            qmz: DeviceNDArray,\n",
    "            rint: DeviceNDArray,\n",
    "            qint: DeviceNDArray,\n",
    "            rlen: DeviceNDArray, \n",
    "            qlen: DeviceNDArray,            \n",
    "            out: DeviceNDArray,\n",
    "            overflow: DeviceNDArray,\n",
    "            \n",
    "            R: int, \n",
    "            Q: int,\n",
    "            M: int,\n",
    "            N: int,\n",
    "            \n",
    "            tolerance: float,\n",
    "            shift: float,\n",
    "            mz_power: float,\n",
    "            int_power: float,\n",
    "            ):\n",
    "    \n",
    "    i,j = cuda.grid(2)\n",
    "    thread_i = cuda.threadIdx.x\n",
    "    thread_j = cuda.threadIdx.y\n",
    "    match_cap = 100\n",
    "    \n",
    "    # Using shared `matches` array like we do, \n",
    "    # requires guaranteeing exclusive access for 0-thread\n",
    "    if thread_i == 0 and thread_j == 0:\n",
    "        \n",
    "        if i < R and j < Q:\n",
    "            \n",
    "            spec1_mz = rmz[i]\n",
    "            spec2_mz = qmz[j]\n",
    "            \n",
    "            spec1_int = rint[i]\n",
    "            spec2_int = qint[j]\n",
    "            \n",
    "            lowest_idx = types.int32(0)\n",
    "            num_match = types.int32(0)\n",
    "            # For cuda 7.5, each SM (block, basically) has access to \n",
    "            # 64kb mem. This is allocating only (100,5,32) = 2kb\n",
    "            # This can be increased if need be.\n",
    "            matches = cuda.shared.array((match_cap,5), types.float32)\n",
    "                    \n",
    "            for peak1_idx in range(rlen[i]):\n",
    "                mz = spec1_mz[peak1_idx]\n",
    "                low_bound = mz - tolerance\n",
    "                high_bound = mz + tolerance\n",
    "                \n",
    "                for peak2_idx in range(lowest_idx, qlen[j]):\n",
    "                    mz2 = spec2_mz[peak2_idx] + shift\n",
    "                    if mz2 > high_bound:\n",
    "                        break\n",
    "                    if mz2 < low_bound:\n",
    "                        lowest_idx = peak2_idx\n",
    "                    else:\n",
    "                        if num_match < match_cap:\n",
    "                            power_prod_spec1 = (spec1_mz[peak1_idx] ** mz_power) * (spec1_int[peak1_idx] ** int_power)\n",
    "                            power_prod_spec2 = (spec2_mz[peak2_idx] ** mz_power) * (spec2_int[peak2_idx] ** int_power)\n",
    "                            prod = power_prod_spec1 * power_prod_spec2\n",
    "                            matches[num_match, 0] = prod\n",
    "                            matches[num_match, 1] = peak1_idx\n",
    "                            matches[num_match, 2] = peak2_idx\n",
    "                            matches[num_match, 3] = power_prod_spec1\n",
    "                            matches[num_match, 4] = power_prod_spec2\n",
    "                            num_match += 1\n",
    "                        else:\n",
    "                            overflow[i, j, 0] = 1 # This is the errorcode for overflow\n",
    "                            break\n",
    "\n",
    "            if num_match == 0: \n",
    "                return\n",
    "            \n",
    "            # Extemely slow - Bubble sort\n",
    "            \n",
    "            score = types.float32(0.0)\n",
    "            score_norm_spec1 = types.float32(0.0)\n",
    "            score_norm_spec2 = types.float32(0.0)\n",
    "            used_matches = types.int32(0)\n",
    "            # We need two cases, bubble sort up to 50 elems is fine\n",
    "            # if num_match < 50:\n",
    "            for si in range(0, num_match):\n",
    "                score_norm_spec1 += matches[si, 3] ** 2\n",
    "                score_norm_spec2 += matches[si, 4] ** 2\n",
    "                \n",
    "            for si in range(0, num_match):\n",
    "                max_prod = -1\n",
    "                max_peak1_idx = -1\n",
    "                max_peak2_idx = -1\n",
    "                \n",
    "                for sj in range(0, num_match):\n",
    "                    if matches[sj,0] > max_prod:\n",
    "                        max_prod = matches[sj,0]\n",
    "                        max_peak1_idx = matches[sj, 1]\n",
    "                        max_peak2_idx = matches[sj, 2]\n",
    "\n",
    "                if max_prod > 0:\n",
    "                    for sj in range(0, num_match):\n",
    "                        if matches[sj, 1] == max_peak1_idx or matches[sj, 2] == max_peak2_idx:\n",
    "                            matches[sj, 0] = -1 # \"Remove\" it\n",
    "                    score += max_prod\n",
    "                    used_matches += 1\n",
    "                    \n",
    "                if max_prod < 0:\n",
    "                    break\n",
    "                \n",
    "            if score > 0:\n",
    "                score = score / math.sqrt(score_norm_spec1 * score_norm_spec2)\n",
    "                \n",
    "            out[i,j,0] = score\n",
    "            out[i,j,1] = used_matches\n",
    "\n",
    "TPB = (1,1)\n",
    "BPG_x = math.ceil(rmz_cu.shape[0] / TPB[0])\n",
    "BPG_y = math.ceil(qmz_cu.shape[0] / TPB[0])\n",
    "BPG = (BPG_x, BPG_y)\n",
    "\n",
    "tolerance = types.float32(0.1)\n",
    "shift = types.float32(0.0)\n",
    "mz_power = types.float32(0.0)\n",
    "int_power = types.float32(1.0)\n",
    "\n",
    "process[BPG, TPB](\n",
    "                rmz_cu, qmz_cu, \n",
    "                rint_cu, qint_cu, \n",
    "                rlen_cu, qlen_cu,\n",
    "                out_cu, overflow_cu,\n",
    "                \n",
    "                R, Q, M, N,\n",
    "                \n",
    "                tolerance, shift, mz_power, int_power)\n",
    "out_cu.copy_to_host(out)\n",
    "overflow_cu.copy_to_host(overflow)\n",
    "\n",
    "non_overflow = (1-overflow)\n",
    "out_underflow = out * non_overflow\n",
    "\n",
    "out_true = np.load('data/grid_outp.npy')\n",
    "out_true_underflow = out_true * non_overflow\n",
    "\n",
    "print(\"Correct without overflows:\", np.allclose(out_underflow, out_true_underflow))\n",
    "print(\"Correct with overflows:\", np.allclose(out, out_true))\n",
    "\n",
    "print(out[...,1])\n",
    "print(out[...,0])\n",
    "print(out_true[...,1])\n",
    "print(out_true[...,0])"
   ]
  },
  {
   "cell_type": "code",
   "execution_count": null,
   "metadata": {},
   "outputs": [],
   "source": []
  },
  {
   "cell_type": "code",
   "execution_count": 38,
   "metadata": {},
   "outputs": [
    {
     "data": {
      "text/plain": [
       "array([[ 5.367e-02,  6.977e-02,  1.287e-01,  2.249e-01,  3.377e-01,\n",
       "         5.318e-01,  1.058e+00,  1.420e+00,  1.898e+00,  0.000e+00],\n",
       "       [ 1.020e-02,  1.600e-02,  3.745e-02,  7.308e-02,  1.206e-01,\n",
       "         2.159e-01,  4.978e-01,  7.696e-01,  1.194e+00,  2.112e+00],\n",
       "       [ 1.103e+00,  1.100e+00,  1.081e+00,  1.053e+00,  1.035e+00,\n",
       "         1.035e+00,  1.053e+00,  6.292e-01,  3.221e-01,  1.812e-01],\n",
       "       [ 3.667e-01,  3.612e-01,  3.029e-01,  2.162e-01,  1.668e-01,\n",
       "         1.833e-01,  2.829e-01,  3.031e-01,  3.031e-01,  3.030e-01],\n",
       "       [ 3.801e-01,  3.864e-01,  3.699e-01,  3.492e-01,  3.612e-01,\n",
       "         4.492e-01,  7.117e-01,  7.622e-01,  7.622e-01,  7.621e-01],\n",
       "       [ 1.936e-01,  2.130e-01,  2.648e-01,  3.489e-01,  4.415e-01,\n",
       "         5.833e-01,  9.349e-01,  1.001e+00,  1.001e+00,  1.001e+00],\n",
       "       [ 7.344e-02,  9.733e-02,  1.779e-01,  3.057e-01,  4.284e-01,\n",
       "         5.805e-01,  9.345e-01,  1.000e+00,  1.001e+00,  1.001e+00],\n",
       "       [ 3.832e-02,  6.351e-02,  1.525e-01,  2.931e-01,  4.245e-01,\n",
       "         5.796e-01,  9.344e-01,  1.000e+00,  1.001e+00,  1.001e+00],\n",
       "       [ 3.336e-02,  5.873e-02,  1.489e-01,  2.913e-01,  4.240e-01,\n",
       "         5.795e-01,  9.345e-01,  1.001e+00,  1.001e+00,  1.002e+00],\n",
       "       [ 3.294e-02,  5.832e-02,  1.486e-01,  2.912e-01,  4.240e-01,\n",
       "         5.796e-01,  9.350e-01,  1.002e+00,  1.005e+00,  1.011e+00],\n",
       "       [ 3.210e-02,  5.752e-02,  1.480e-01,  2.909e-01,  4.239e-01,\n",
       "         5.798e-01,  9.366e-01,  1.008e+00,  1.023e+00,  1.058e+00],\n",
       "       [ 3.149e-02,  5.692e-02,  1.476e-01,  2.907e-01,  4.239e-01,\n",
       "         5.806e-01,  9.418e-01,  1.028e+00,  1.085e+00,  1.221e+00],\n",
       "       [ 3.126e-02,  5.671e-02,  1.475e-01,  2.907e-01,  4.240e-01,\n",
       "         5.824e-01,  9.564e-01,  1.085e+00,  1.263e+00,  1.699e+00],\n",
       "       [ 1.086e-02,  2.020e-02,  5.359e-02,  1.063e-01,  1.553e-01,\n",
       "         2.151e-01,  3.646e-01,  4.535e-01,  6.394e-01,  1.095e+00],\n",
       "       [ 3.405e-03,  6.387e-03,  1.703e-02,  3.382e-02,  4.944e-02,\n",
       "         7.026e-02,  1.295e-01,  1.980e-01,  3.725e-01,  7.984e-01],\n",
       "       [ 1.042e-03,  1.963e-03,  5.232e-03,  1.039e-02,  1.519e-02,\n",
       "         2.340e-02,  5.256e-02,  1.118e-01,  2.744e-01,  6.706e-01],\n",
       "       [ 2.452e-04,  4.662e-04,  1.241e-03,  2.468e-03,  3.607e-03,\n",
       "         7.304e-03,  2.429e-02,  7.415e-02,  2.156e-01,  5.631e-01],\n",
       "       [-1.000e+00, -1.000e+00, -1.000e+00, -1.000e+00, -1.000e+00,\n",
       "         1.399e-03,  9.315e-03,  3.839e-02,  1.225e-01,  3.345e-01],\n",
       "       [ 1.000e+00,  1.000e+00,  1.001e+00,  1.001e+00,  1.004e+00,\n",
       "         1.014e+00,  1.041e+00,  6.314e-01,  3.341e-01,  2.042e-01],\n",
       "       [ 1.001e+00,  1.001e+00,  1.001e+00,  1.002e+00,  1.008e+00,\n",
       "         1.027e+00,  1.076e+00,  6.767e-01,  3.818e-01,  2.687e-01]],\n",
       "      dtype=float32)"
      ]
     },
     "execution_count": 38,
     "metadata": {},
     "output_type": "execute_result"
    }
   ],
   "source": [
    "out[...,0]"
   ]
  },
  {
   "cell_type": "code",
   "execution_count": 37,
   "metadata": {},
   "outputs": [
    {
     "data": {
      "text/plain": [
       "array([[ 5.367e-02,  6.977e-02,  1.287e-01,  2.249e-01,  3.377e-01,\n",
       "         5.318e-01,  1.058e+00,  1.420e+00,  1.898e+00,  0.000e+00],\n",
       "       [ 1.020e-02,  1.600e-02,  3.745e-02,  7.308e-02,  1.206e-01,\n",
       "         2.159e-01,  4.978e-01,  7.696e-01,  1.194e+00,  2.112e+00],\n",
       "       [ 1.103e+00,  1.100e+00,  1.081e+00,  1.053e+00,  1.035e+00,\n",
       "         1.035e+00,  1.053e+00,  6.292e-01,  3.221e-01,  1.812e-01],\n",
       "       [ 3.667e-01,  3.612e-01,  3.029e-01,  2.162e-01,  1.668e-01,\n",
       "         1.833e-01,  2.829e-01,  3.031e-01,  3.031e-01,  3.030e-01],\n",
       "       [ 3.801e-01,  3.864e-01,  3.699e-01,  3.492e-01,  3.612e-01,\n",
       "         4.492e-01,  7.117e-01,  7.622e-01,  7.622e-01,  7.621e-01],\n",
       "       [ 1.936e-01,  2.130e-01,  2.648e-01,  3.489e-01,  4.415e-01,\n",
       "         5.833e-01,  9.349e-01,  1.001e+00,  1.001e+00,  1.001e+00],\n",
       "       [ 7.344e-02,  9.733e-02,  1.779e-01,  3.057e-01,  4.284e-01,\n",
       "         5.805e-01,  9.345e-01,  1.000e+00,  1.001e+00,  1.001e+00],\n",
       "       [ 3.832e-02,  6.351e-02,  1.525e-01,  2.931e-01,  4.245e-01,\n",
       "         5.796e-01,  9.344e-01,  1.000e+00,  1.001e+00,  1.001e+00],\n",
       "       [ 3.336e-02,  5.873e-02,  1.489e-01,  2.913e-01,  4.240e-01,\n",
       "         5.795e-01,  9.345e-01,  1.001e+00,  1.001e+00,  1.002e+00],\n",
       "       [ 3.294e-02,  5.832e-02,  1.486e-01,  2.912e-01,  4.240e-01,\n",
       "         5.796e-01,  9.350e-01,  1.002e+00,  1.005e+00,  1.011e+00],\n",
       "       [ 3.210e-02,  5.752e-02,  1.480e-01,  2.909e-01,  4.239e-01,\n",
       "         5.798e-01,  9.366e-01,  1.008e+00,  1.023e+00,  1.058e+00],\n",
       "       [ 3.149e-02,  5.692e-02,  1.476e-01,  2.907e-01,  4.239e-01,\n",
       "         5.806e-01,  9.418e-01,  1.028e+00,  1.085e+00,  1.221e+00],\n",
       "       [ 3.126e-02,  5.671e-02,  1.475e-01,  2.907e-01,  4.240e-01,\n",
       "         5.824e-01,  9.564e-01,  1.085e+00,  1.263e+00,  1.699e+00],\n",
       "       [ 1.086e-02,  2.020e-02,  5.359e-02,  1.063e-01,  1.553e-01,\n",
       "         2.151e-01,  3.646e-01,  4.535e-01,  6.394e-01,  1.095e+00],\n",
       "       [ 3.405e-03,  6.387e-03,  1.703e-02,  3.382e-02,  4.944e-02,\n",
       "         7.026e-02,  1.295e-01,  1.980e-01,  3.725e-01,  7.984e-01],\n",
       "       [ 1.042e-03,  1.963e-03,  5.232e-03,  1.039e-02,  1.519e-02,\n",
       "         2.340e-02,  5.256e-02,  1.118e-01,  2.744e-01,  6.706e-01],\n",
       "       [ 2.452e-04,  4.662e-04,  1.241e-03,  2.468e-03,  3.607e-03,\n",
       "         7.304e-03,  2.429e-02,  7.415e-02,  2.156e-01,  5.631e-01],\n",
       "       [-1.000e+00, -1.000e+00, -1.000e+00, -1.000e+00, -1.000e+00,\n",
       "         1.399e-03,  9.315e-03,  3.839e-02,  1.225e-01,  3.345e-01],\n",
       "       [ 1.000e+00,  1.000e+00,  1.001e+00,  1.001e+00,  1.004e+00,\n",
       "         1.014e+00,  1.041e+00,  6.314e-01,  3.341e-01,  2.042e-01],\n",
       "       [ 1.001e+00,  1.001e+00,  1.001e+00,  1.002e+00,  1.008e+00,\n",
       "         1.027e+00,  1.076e+00,  6.767e-01,  3.818e-01,  2.687e-01]],\n",
       "      dtype=float32)"
      ]
     },
     "execution_count": 37,
     "metadata": {},
     "output_type": "execute_result"
    }
   ],
   "source": [
    "out_true_underflow[...,0]"
   ]
  },
  {
   "cell_type": "code",
   "execution_count": 34,
   "metadata": {},
   "outputs": [
    {
     "name": "stdout",
     "output_type": "stream",
     "text": [
      "True\n",
      "False\n"
     ]
    }
   ],
   "source": []
  },
  {
   "cell_type": "code",
   "execution_count": 23,
   "metadata": {},
   "outputs": [
    {
     "data": {
      "text/plain": [
       "((20, 10, 3), (20, 10, 1))"
      ]
     },
     "execution_count": 23,
     "metadata": {},
     "output_type": "execute_result"
    }
   ],
   "source": [
    "out_true.shape, overflow.shape"
   ]
  },
  {
   "cell_type": "code",
   "execution_count": 18,
   "metadata": {},
   "outputs": [
    {
     "data": {
      "text/plain": [
       "array([[ 5.,  6.,  8.,  8., 13., 22., 33., 43., 52.,  0.],\n",
       "       [ 5.,  6.,  8.,  8., 13., 21., 32., 41., 49., 59.],\n",
       "       [12., 12., 12., 13., 13., 13., 11., 11., 10.,  9.],\n",
       "       [ 3.,  4.,  4.,  5.,  4.,  4.,  3.,  3.,  3.,  3.],\n",
       "       [ 3.,  4.,  4.,  5.,  4.,  4.,  3.,  3.,  3.,  3.],\n",
       "       [ 3.,  4.,  4.,  5.,  6.,  7.,  6.,  6.,  6.,  6.],\n",
       "       [ 3.,  4.,  4.,  4.,  6.,  6.,  5.,  5.,  5.,  5.],\n",
       "       [ 2.,  3.,  3.,  3.,  5.,  6.,  5.,  5.,  5.,  5.],\n",
       "       [ 3.,  4.,  4.,  4.,  6.,  7.,  6.,  6.,  6.,  6.],\n",
       "       [ 4.,  5.,  5.,  5.,  7.,  8.,  9.,  9.,  9.,  9.],\n",
       "       [ 4.,  5.,  5.,  5.,  7.,  9., 10., 12., 13., 13.],\n",
       "       [ 4.,  5.,  5.,  5.,  9., 11., 14., 17., 19., 21.],\n",
       "       [ 4.,  5.,  5.,  5., 10., 12., 17., 21., 24., 28.],\n",
       "       [ 3.,  4.,  4.,  4.,  8., 10., 17., 21., 23., 28.],\n",
       "       [ 1.,  2.,  2.,  2.,  3.,  5., 12., 15., 17., 22.],\n",
       "       [ 1.,  2.,  2.,  2.,  3.,  4.,  9., 12., 15., 21.],\n",
       "       [ 1.,  2.,  2.,  2.,  2.,  3.,  8., 11., 14., 19.],\n",
       "       [-1., -1., -1., -1., -1.,  1.,  5.,  8., 11., 16.],\n",
       "       [ 5.,  5.,  6.,  7.,  9., 11., 11., 11., 10.,  9.],\n",
       "       [ 6.,  6.,  7.,  8., 12., 18., 20., 20., 19., 18.]], dtype=float32)"
      ]
     },
     "execution_count": 18,
     "metadata": {},
     "output_type": "execute_result"
    }
   ],
   "source": [
    "(out * non_overflow[...,None])[...,1]"
   ]
  },
  {
   "cell_type": "code",
   "execution_count": 8,
   "metadata": {},
   "outputs": [
    {
     "ename": "RuntimeError",
     "evalue": "No active exception to reraise",
     "output_type": "error",
     "traceback": [
      "\u001b[0;31m---------------------------------------------------------------------------\u001b[0m",
      "\u001b[0;31mRuntimeError\u001b[0m                              Traceback (most recent call last)",
      "\u001b[1;32m/home/tornikeo/Documents/work/scalexa/pangeaai/optimize-cosine/cpp/main_cu.ipynb Cell 8\u001b[0m line \u001b[0;36m1\n\u001b[0;32m----> <a href='vscode-notebook-cell:/home/tornikeo/Documents/work/scalexa/pangeaai/optimize-cosine/cpp/main_cu.ipynb#X45sZmlsZQ%3D%3D?line=0'>1</a>\u001b[0m \u001b[39mraise\u001b[39;00m\n",
      "\u001b[0;31mRuntimeError\u001b[0m: No active exception to reraise"
     ]
    }
   ],
   "source": [
    "raise"
   ]
  },
  {
   "cell_type": "code",
   "execution_count": null,
   "metadata": {},
   "outputs": [
    {
     "name": "stderr",
     "output_type": "stream",
     "text": [
      "  0%|          | 0/8 [00:00<?, ?it/s]/home/tornikeo/miniconda3/envs/pb2/lib/python3.10/site-packages/numba/cuda/dispatcher.py:536: NumbaPerformanceWarning: \u001b[1mGrid size 16 will likely result in GPU under-utilization due to low occupancy.\u001b[0m\n",
      "  warn(NumbaPerformanceWarning(msg))\n",
      "100%|██████████| 8/8 [00:00<00:00, 37.77it/s]\n"
     ]
    }
   ],
   "source": [
    "batch_size = 4\n",
    "\n",
    "for br in tqdm(range(0, math.ceil(len(references) / batch_size))):\n",
    "    for bq in range(0, math.ceil(len(queries) / batch_size)):\n",
    "        rmz_bs, rint_bs, references_cutoff = spectra_peaks_to_tensor(references[br:br+batch_size], fill=-1e6)\n",
    "        qmz_bs, qint_bs, queries_cutoff  = spectra_peaks_to_tensor(queries[bq:bq+batch_size], fill=-1e6)\n",
    "\n",
    "        \n",
    "        rmz_cu = cuda.to_device(rmz_bs)\n",
    "        rint_cu = cuda.to_device(rint_bs)\n",
    "        rlen_cu = cuda.to_device(references_cutoff)\n",
    "\n",
    "        qmz_cu = cuda.to_device(qmz_bs)\n",
    "        qint_cu = cuda.to_device(qint_bs)\n",
    "        qlen_cu = cuda.to_device(queries_cutoff)\n",
    "\n",
    "        R,N = rmz_cu.shape\n",
    "        Q,M = qmz_cu.shape\n",
    "\n",
    "        K = 100\n",
    "\n",
    "        out = np.full((R, Q, 3), fill_value=-1, dtype='float32')\n",
    "        overflow = np.full((R, Q), fill_value=0, dtype='uint8')\n",
    "        out_cu = cuda.to_device(out)\n",
    "        overflow_cu = cuda.to_device(overflow)        \n",
    "\n",
    "        TPB = (1,1)\n",
    "        BPG_x = math.ceil(rmz_cu.shape[0] / TPB[0])\n",
    "        BPG_y = math.ceil(qmz_cu.shape[0] / TPB[0])\n",
    "        BPG = (BPG_x, BPG_y)\n",
    "\n",
    "        tolerance = types.float32(0.1)\n",
    "        shift = types.float32(0.0)\n",
    "        mz_power = types.float32(0.0)\n",
    "        int_power = types.float32(1.0)\n",
    "\n",
    "        process[BPG, TPB](\n",
    "                        rmz_cu, qmz_cu, \n",
    "                        rint_cu, qint_cu, \n",
    "                        rlen_cu, qlen_cu,\n",
    "                        out_cu, overflow_cu,\n",
    "                        \n",
    "                        R, Q, M, N,\n",
    "                        \n",
    "                        tolerance, shift, mz_power, int_power)\n",
    "        out_cu.copy_to_host(out)\n",
    "        overflow_cu.copy_to_host(overflow)\n",
    "        # print(overflow.sum())\n",
    "        # print(np.allclose(np.load('data/grid_outp.npy'), out, atol=1e-2))\n",
    "        # print(out.shape)\n",
    "        # print(out[...,0,1])\n",
    "        # print(overflow)"
   ]
  },
  {
   "cell_type": "code",
   "execution_count": null,
   "metadata": {},
   "outputs": [
    {
     "data": {
      "text/plain": [
       "0.0029296875"
      ]
     },
     "execution_count": 71,
     "metadata": {},
     "output_type": "execute_result"
    }
   ],
   "source": [
    "overflow.mean()"
   ]
  },
  {
   "cell_type": "code",
   "execution_count": null,
   "metadata": {},
   "outputs": [],
   "source": [
    "np.argsort(out[..., ])"
   ]
  },
  {
   "cell_type": "code",
   "execution_count": null,
   "metadata": {},
   "outputs": [
    {
     "data": {
      "text/plain": [
       "(32, 32, 100, 3)"
      ]
     },
     "execution_count": 56,
     "metadata": {},
     "output_type": "execute_result"
    }
   ],
   "source": [
    "out.shape"
   ]
  },
  {
   "cell_type": "code",
   "execution_count": null,
   "metadata": {},
   "outputs": [
    {
     "data": {
      "text/plain": [
       "1.2582912"
      ]
     },
     "execution_count": 54,
     "metadata": {},
     "output_type": "execute_result"
    }
   ],
   "source": [
    "(out.nbytes * 32 * 32) / 1e9"
   ]
  },
  {
   "cell_type": "code",
   "execution_count": null,
   "metadata": {},
   "outputs": [
    {
     "data": {
      "text/plain": [
       "0.849462890625"
      ]
     },
     "execution_count": 45,
     "metadata": {},
     "output_type": "execute_result"
    }
   ],
   "source": [
    "np.mean((out == -1), axis=(2,3)).mean()"
   ]
  },
  {
   "cell_type": "code",
   "execution_count": null,
   "metadata": {},
   "outputs": [
    {
     "data": {
      "text/plain": [
       "(32, 32, 77, 96, 2)"
      ]
     },
     "execution_count": 33,
     "metadata": {},
     "output_type": "execute_result"
    }
   ],
   "source": [
    "out.shape"
   ]
  },
  {
   "cell_type": "code",
   "execution_count": null,
   "metadata": {},
   "outputs": [
    {
     "data": {
      "text/plain": [
       "16.0"
      ]
     },
     "execution_count": 28,
     "metadata": {},
     "output_type": "execute_result"
    }
   ],
   "source": [
    "512 / 32"
   ]
  },
  {
   "cell_type": "code",
   "execution_count": null,
   "metadata": {},
   "outputs": [
    {
     "data": {
      "text/plain": [
       "2.866282496"
      ]
     },
     "execution_count": 17,
     "metadata": {},
     "output_type": "execute_result"
    }
   ],
   "source": [
    "np.prod((512, 512, 71, 77, 2)) / 1e9"
   ]
  },
  {
   "cell_type": "code",
   "execution_count": null,
   "metadata": {},
   "outputs": [
    {
     "data": {
      "text/plain": [
       "(11.620976231783484, 0, 526, 20.412919474583756)"
      ]
     },
     "execution_count": 48,
     "metadata": {},
     "output_type": "execute_result"
    }
   ],
   "source": [
    "z = out[...,0].ravel().astype('int32')\n",
    "z.mean(), z.min(), z.max(), z.std()"
   ]
  },
  {
   "cell_type": "code",
   "execution_count": null,
   "metadata": {},
   "outputs": [
    {
     "data": {
      "image/png": "[encoded data removed]",
      "text/plain": [
       "<Figure size 640x480 with 1 Axes>"
      ]
     },
     "metadata": {},
     "output_type": "display_data"
    }
   ],
   "source": [
    "import matplotlib.pyplot as plt \n",
    "plt.plot(np.bincount(z), )\n",
    "# plt.xscale('log')\n",
    "plt.yscale('log')"
   ]
  },
  {
   "cell_type": "code",
   "execution_count": null,
   "metadata": {},
   "outputs": [
    {
     "data": {
      "text/plain": [
       "((10, 71), (20, 77))"
      ]
     },
     "execution_count": 112,
     "metadata": {},
     "output_type": "execute_result"
    }
   ],
   "source": [
    "qmz_cu.shape, rmz_cu.shape"
   ]
  },
  {
   "cell_type": "code",
   "execution_count": null,
   "metadata": {},
   "outputs": [
    {
     "data": {
      "text/plain": [
       "(array([ 1.180654e+02,  1.250155e+02,  1.320811e+02,  1.330844e+02,\n",
       "         1.435732e+02,  1.440810e+02,  1.445916e+02,  1.450786e+02,\n",
       "         1.450844e+02,  1.540421e+02,  1.550454e+02,  1.680577e+02,\n",
       "         2.851158e+02,  2.861193e+02, -1.000000e+06, -1.000000e+06,\n",
       "        -1.000000e+06, -1.000000e+06, -1.000000e+06, -1.000000e+06,\n",
       "        -1.000000e+06, -1.000000e+06, -1.000000e+06, -1.000000e+06,\n",
       "        -1.000000e+06, -1.000000e+06, -1.000000e+06, -1.000000e+06,\n",
       "        -1.000000e+06, -1.000000e+06, -1.000000e+06, -1.000000e+06,\n",
       "        -1.000000e+06, -1.000000e+06, -1.000000e+06, -1.000000e+06,\n",
       "        -1.000000e+06, -1.000000e+06, -1.000000e+06, -1.000000e+06,\n",
       "        -1.000000e+06, -1.000000e+06, -1.000000e+06, -1.000000e+06,\n",
       "        -1.000000e+06, -1.000000e+06, -1.000000e+06, -1.000000e+06,\n",
       "        -1.000000e+06, -1.000000e+06, -1.000000e+06, -1.000000e+06,\n",
       "        -1.000000e+06, -1.000000e+06, -1.000000e+06, -1.000000e+06,\n",
       "        -1.000000e+06, -1.000000e+06, -1.000000e+06, -1.000000e+06,\n",
       "        -1.000000e+06, -1.000000e+06, -1.000000e+06, -1.000000e+06,\n",
       "        -1.000000e+06, -1.000000e+06, -1.000000e+06, -1.000000e+06,\n",
       "        -1.000000e+06, -1.000000e+06, -1.000000e+06], dtype=float32),\n",
       " (20, 77))"
      ]
     },
     "execution_count": 54,
     "metadata": {},
     "output_type": "execute_result"
    }
   ],
   "source": [
    "raise\n",
    "qmz_cu[0].copy_to_host(), rmz_cu.shape"
   ]
  },
  {
   "cell_type": "code",
   "execution_count": null,
   "metadata": {},
   "outputs": [
    {
     "ename": "TypeError",
     "evalue": "DeviceNDArrayBase.copy_to_device() missing 1 required positional argument: 'ary'",
     "output_type": "error",
     "traceback": [
      "\u001b[0;31m---------------------------------------------------------------------------\u001b[0m",
      "\u001b[0;31mTypeError\u001b[0m                                 Traceback (most recent call last)",
      "\u001b[1;32m/home/tornikeo/Documents/work/scalexa/pangeaai/optimize-cosine/cpp/main_cu.ipynb Cell 8\u001b[0m line \u001b[0;36m1\n\u001b[0;32m----> <a href='vscode-notebook-cell:/home/tornikeo/Documents/work/scalexa/pangeaai/optimize-cosine/cpp/main_cu.ipynb#X30sZmlsZQ%3D%3D?line=0'>1</a>\u001b[0m qmz_cu[\u001b[39m0\u001b[39;49m]\u001b[39m.\u001b[39;49mcopy_to_device()\n",
      "File \u001b[0;32m~/miniconda3/envs/pb2/lib/python3.10/site-packages/numba/cuda/cudadrv/devices.py:232\u001b[0m, in \u001b[0;36mrequire_context.<locals>._require_cuda_context\u001b[0;34m(*args, **kws)\u001b[0m\n\u001b[1;32m    229\u001b[0m \u001b[39m@functools\u001b[39m\u001b[39m.\u001b[39mwraps(fn)\n\u001b[1;32m    230\u001b[0m \u001b[39mdef\u001b[39;00m \u001b[39m_require_cuda_context\u001b[39m(\u001b[39m*\u001b[39margs, \u001b[39m*\u001b[39m\u001b[39m*\u001b[39mkws):\n\u001b[1;32m    231\u001b[0m     \u001b[39mwith\u001b[39;00m _runtime\u001b[39m.\u001b[39mensure_context():\n\u001b[0;32m--> 232\u001b[0m         \u001b[39mreturn\u001b[39;00m fn(\u001b[39m*\u001b[39;49margs, \u001b[39m*\u001b[39;49m\u001b[39m*\u001b[39;49mkws)\n",
      "\u001b[0;31mTypeError\u001b[0m: DeviceNDArrayBase.copy_to_device() missing 1 required positional argument: 'ary'"
     ]
    }
   ],
   "source": [
    "raise"
   ]
  },
  {
   "cell_type": "code",
   "execution_count": null,
   "metadata": {},
   "outputs": [],
   "source": [
    "import time\n",
    "\n",
    "def collect_peak_pairs(spec1: np.ndarray, spec2: np.ndarray,\n",
    "                       tolerance: float, shift: float = 0, mz_power: float = 0.0,\n",
    "                       intensity_power: float = 1.0):\n",
    "    # pylint: disable=too-many-arguments\n",
    "    \"\"\"Find matching pairs between two spectra.\n",
    "\n",
    "    Args\n",
    "    ----\n",
    "    spec1:\n",
    "        Spectrum peaks and intensities as numpy array.\n",
    "    spec2:\n",
    "        Spectrum peaks and intensities as numpy array.\n",
    "    tolerance\n",
    "        Peaks will be considered a match when <= tolerance appart.\n",
    "    shift\n",
    "        Shift spectra peaks by shift. The default is 0.\n",
    "    mz_power:\n",
    "        The power to raise mz to in the cosine function. The default is 0, in which\n",
    "        case the peak intensity products will not depend on the m/z ratios.\n",
    "    intensity_power:\n",
    "        The power to raise intensity to in the cosine function. The default is 1.\n",
    "\n",
    "    Returns\n",
    "    -------\n",
    "    matching_pairs : numpy array\n",
    "        Array of found matching peaks.\n",
    "    \"\"\"\n",
    "    matches = find_matches(spec1[:, 0], spec2[:, 0], tolerance, shift)\n",
    "    # global a\n",
    "    # a = matches\n",
    "    # matches_op = find_matches_opt(spec1[:, 0], spec2[:, 0], tolerance, shift)\n",
    "    # global b\n",
    "    # b = matches_op\n",
    "    # assert np.allclose(matches, matches_op)\n",
    "    \n",
    "    idx1 = [x[0] for x in matches]\n",
    "    idx2 = [x[1] for x in matches]\n",
    "    if len(idx1) == 0:\n",
    "        return None\n",
    "    matching_pairs = []\n",
    "    for i, idx in enumerate(idx1):\n",
    "        power_prod_spec1 = (spec1[idx, 0] ** mz_power) * (spec1[idx, 1] ** intensity_power)\n",
    "        power_prod_spec2 = (spec2[idx2[i], 0] ** mz_power) * (spec2[idx2[i], 1] ** intensity_power)\n",
    "        # print((idx, idx2[i], power_prod_spec1 * power_prod_spec2))\n",
    "        # raise\n",
    "        matching_pairs.append([idx, idx2[i], power_prod_spec1 * power_prod_spec2])\n",
    "    # print(matching_pairs)\n",
    "    # raise\n",
    "    return np.array(matching_pairs.copy())\n",
    "\n",
    "\n",
    "# @numba.njit\n",
    "def find_matches(spec1_mz: np.ndarray, spec2_mz: np.ndarray,\n",
    "                 tolerance: float, shift: float = 0) -> List[Tuple[int, int]]:\n",
    "    \"\"\"Faster search for matching peaks.\n",
    "    Makes use of the fact that spec1 and spec2 contain ordered peak m/z (from\n",
    "    low to high m/z).\n",
    "\n",
    "    Parameters\n",
    "    ----------\n",
    "    spec1_mz:\n",
    "        Spectrum peak m/z values as numpy array. Peak mz values must be ordered.\n",
    "    spec2_mz:\n",
    "        Spectrum peak m/z values as numpy array. Peak mz values must be ordered.\n",
    "    tolerance\n",
    "        Peaks will be considered a match when <= tolerance appart.\n",
    "    shift\n",
    "        Shift peaks of second spectra by shift. The default is 0.\n",
    "\n",
    "    Returns\n",
    "    -------\n",
    "    matches\n",
    "        List containing entries of type (idx1, idx2).\n",
    "\n",
    "    \"\"\"\n",
    "    \n",
    "    lowest_idx = 0\n",
    "    matches = []\n",
    "    for peak1_idx in range(spec1_mz.shape[0]):\n",
    "        mz = spec1_mz[peak1_idx]\n",
    "        low_bound = mz - tolerance\n",
    "        high_bound = mz + tolerance\n",
    "        for peak2_idx in range(lowest_idx, spec2_mz.shape[0]):\n",
    "            mz2 = spec2_mz[peak2_idx] + shift\n",
    "            if mz2 > high_bound:\n",
    "                break\n",
    "            if mz2 < low_bound:\n",
    "                lowest_idx = peak2_idx\n",
    "            else:\n",
    "                matches.append((peak1_idx, peak2_idx))\n",
    "                # print((peak1_idx, peak2_idx))\n",
    "    # print(matches)\n",
    "    return matches\n",
    "\n",
    "\n",
    "@numba.njit(fastmath=True)\n",
    "def score_best_matches(matching_pairs: np.ndarray, spec1: np.ndarray,\n",
    "                       spec2: np.ndarray, mz_power: float = 0.0,\n",
    "                       intensity_power: float = 1.0) -> Tuple[float, int]:\n",
    "    \"\"\"Calculate cosine-like score by multiplying matches. Does require a sorted\n",
    "    list of matching peaks (sorted by intensity product).\"\"\"\n",
    "    score = float(0.0)\n",
    "    used_matches = int(0)\n",
    "    used1 = set()\n",
    "    used2 = set()\n",
    "    for i in range(matching_pairs.shape[0]):\n",
    "        if not matching_pairs[i, 0] in used1 and not matching_pairs[i, 1] in used2:\n",
    "            score += matching_pairs[i, 2]\n",
    "            used1.add(matching_pairs[i, 0])  # Every peak can only be paired once\n",
    "            used2.add(matching_pairs[i, 1])  # Every peak can only be paired once\n",
    "            # print(i, matching_pairs[i,0], matching_pairs[i,1], used_matches, score)\n",
    "            used_matches += 1\n",
    "    # print(score)\n",
    "    # raise\n",
    "    # Normalize score:\n",
    "    spec1_power = spec1[:, 0] ** mz_power * spec1[:, 1] ** intensity_power\n",
    "    \n",
    "    spec2_power = spec2[:, 0] ** mz_power * spec2[:, 1] ** intensity_power\n",
    "\n",
    "    # print(spec1_power)\n",
    "    # print(spec2_power)\n",
    "    # raise\n",
    "    score_norm = (np.sum(spec1_power ** 2) ** 0.5 * np.sum(spec2_power ** 2) ** 0.5)\n",
    "    # print(score, score_norm, used_matches)\n",
    "    score = score/score_norm\n",
    "    # print(score, \"/\", score_norm)\n",
    "    # raise\n",
    "    return score, used_matches\n"
   ]
  },
  {
   "cell_type": "code",
   "execution_count": null,
   "metadata": {},
   "outputs": [
    {
     "name": "stderr",
     "output_type": "stream",
     "text": [
      "20it [00:00, 871.57it/s]\n",
      "100%|██████████| 195/195 [00:00<00:00, 31363.19it/s]"
     ]
    },
    {
     "name": "stdout",
     "output_type": "stream",
     "text": [
      "Time to collect matching pairs:  0.033110857009887695\n"
     ]
    },
    {
     "name": "stderr",
     "output_type": "stream",
     "text": [
      "\n"
     ]
    }
   ],
   "source": [
    "start_collect_peaks = time.time()\n",
    "pairs_to_score_list = []\n",
    "scores = []\n",
    "grid_outp = np.full((len(references), len(queries), 3), \n",
    "                    fill_value=-1, \n",
    "                    dtype='float32')\n",
    "for i,spectrum_1 in tqdm(enumerate(references)):\n",
    "    for j,spectrum_2 in enumerate(queries):\n",
    "        spec1 = spectrum_1.peaks.to_numpy\n",
    "        spec2 = spectrum_2.peaks.to_numpy\n",
    "        \n",
    "        matching_pairs = collect_peak_pairs(\n",
    "                    spectrum_1.peaks.to_numpy, \n",
    "                    spectrum_2.peaks.to_numpy, \n",
    "                    tolerance=0.1,\n",
    "                    shift=0.0, \n",
    "                    mz_power=0.0,\n",
    "                    intensity_power=1.0\n",
    "        )\n",
    "        if matching_pairs is not None:\n",
    "            # Store in grid\n",
    "            grid_outp[i,j,0] = matching_pairs[0,0]\n",
    "            grid_outp[i,j,1] = matching_pairs[0,1]\n",
    "            grid_outp[i,j,2] = matching_pairs[0,2]\n",
    "            matching_pairs = matching_pairs[np.argsort(matching_pairs[:, 2])[::-1], :] \n",
    "            pairs_to_score_list.append([ matching_pairs, spectrum_1, spectrum_2]) \n",
    "for matching_pairs, spectrum_1, spectrum_2 in tqdm(pairs_to_score_list):\n",
    "    scores.append(score_best_matches(matching_pairs, spectrum_1.peaks.to_numpy, spectrum_2.peaks.to_numpy,\n",
    "                                0.0, 1.0))\n",
    "end_collect_peaks = time.time()\n",
    "print(\"Time to collect matching pairs: \", end_collect_peaks - start_collect_peaks)"
   ]
  },
  {
   "cell_type": "code",
   "execution_count": null,
   "metadata": {},
   "outputs": [
    {
     "name": "stdout",
     "output_type": "stream",
     "text": [
      "[[49. 49. 47. 47. 25. 20.  7.  1.  1.  0.]\n",
      " [54. 54. 52. 52. 30. 26. 10.  1.  1.  0.]\n",
      " [ 1.  1.  0.  0.  0.  0.  0.  0.  0.  0.]\n",
      " [ 0.  0.  0.  0.  0.  0.  0.  0.  0.  0.]\n",
      " [ 0.  0.  0.  0.  0.  0.  0.  0.  0.  0.]\n",
      " [ 2.  2.  2.  2.  1.  0.  0.  0.  0.  0.]\n",
      " [ 1.  1.  1.  1.  0.  0.  0.  0.  0.  0.]\n",
      " [ 2.  2.  2.  2.  1.  0.  0.  0.  0.  0.]\n",
      " [ 2.  2.  2.  2.  1.  0.  0.  0.  0.  0.]\n",
      " [ 5.  5.  5.  5.  4.  0.  0.  0.  0.  0.]\n",
      " [ 8.  8.  8.  8.  7.  3.  3.  0.  0.  0.]\n",
      " [16. 16. 16. 16.  9.  6.  4.  0.  0.  0.]\n",
      " [28. 28. 28. 28. 19. 14.  6.  0.  0.  0.]\n",
      " [30. 30. 30. 30. 20. 15.  7.  1.  1.  0.]\n",
      " [29. 29. 29. 29. 21. 17.  9.  1.  1.  0.]\n",
      " [32. 32. 32. 32. 25. 21. 17.  1.  1.  0.]\n",
      " [33. 33. 33. 33. 33. 24. 18.  1.  1.  0.]\n",
      " [-1. -1. -1. -1. -1. 25. 20.  2.  2.  0.]\n",
      " [ 6.  6.  2.  2.  0.  0.  0.  0.  0.  0.]\n",
      " [ 8.  8.  6.  6.  0.  0.  0.  0.  0.  0.]]\n",
      "[[ 0.  0.  0.  0.  0.  0.  0.  0.  0.  0.]\n",
      " [ 0.  0.  0.  0.  0.  0.  0.  0.  0.  0.]\n",
      " [ 0.  0.  0.  0.  2.  5. 14. 22. 29. 37.]\n",
      " [ 1.  1.  2.  2.  7. 10. 20. 28. 36. 44.]\n",
      " [ 1.  1.  2.  2.  7. 10. 20. 28. 36. 44.]\n",
      " [ 1.  1.  2.  2.  6.  0.  2.  7. 10. 15.]\n",
      " [ 1.  1.  2.  2.  6.  9. 19. 27. 35. 43.]\n",
      " [ 1.  1.  2.  2.  6.  0.  2.  7. 10. 15.]\n",
      " [ 1.  1.  2.  2.  6.  0.  2.  7. 10. 15.]\n",
      " [ 1.  1.  2.  2.  6.  0.  2.  7. 10. 15.]\n",
      " [ 1.  1.  2.  2.  6.  0.  2.  1.  1.  4.]\n",
      " [ 1.  1.  2.  2.  0.  0.  1.  1.  1.  4.]\n",
      " [ 1.  1.  2.  2.  0.  0.  0.  0.  0.  1.]\n",
      " [ 1.  1.  2.  2.  0.  0.  0.  0.  0.  0.]\n",
      " [ 1.  1.  2.  2.  0.  0.  0.  0.  0.  0.]\n",
      " [ 1.  1.  2.  2.  0.  0.  1.  0.  0.  0.]\n",
      " [ 1.  1.  2.  2.  7.  0.  1.  0.  0.  0.]\n",
      " [-1. -1. -1. -1. -1.  0.  1.  0.  0.  0.]\n",
      " [ 4.  5.  0.  0.  1.  3. 10. 18. 24. 32.]\n",
      " [ 0.  0.  0.  0.  0.  1.  4.  9. 13. 18.]]\n",
      "[[ 1.01638274e-04  1.00426856e-04  9.03065200e-04  4.71099047e-03\n",
      "   1.04609109e-03  2.31657689e-03  6.45289947e-06  6.62624589e-05\n",
      "   3.90285888e-04  1.26102077e-05]\n",
      " [ 6.29669739e-05  6.22164735e-05  5.74412232e-04  2.99651735e-03\n",
      "   8.00905982e-04  2.60260259e-03  1.96392580e-06  1.14719325e-04\n",
      "   6.75696821e-04  2.77755225e-05]\n",
      " [ 4.44719990e-05  4.39419382e-05  3.78757136e-06  1.97584977e-05\n",
      "   6.94388063e-06  3.09107891e-05  1.29703272e-04  2.85667047e-04\n",
      "   5.20685862e-04  9.02430969e-04]\n",
      " [ 8.80360231e-03  1.64935514e-02  4.39878330e-02  8.73448923e-02\n",
      "   1.27656758e-01  1.74629435e-01  2.81633794e-01  3.01501513e-01\n",
      "   3.01501513e-01  3.01501513e-01]\n",
      " [ 2.22060047e-02  4.16029543e-02  1.10953905e-01  2.20316768e-01\n",
      "   3.21998507e-01  4.40481275e-01  7.10386634e-01  7.60500491e-01\n",
      "   7.60500491e-01  7.60500491e-01]\n",
      " [ 2.91991998e-02  5.47047034e-02  1.45895898e-01  2.89699703e-01\n",
      "   3.52705047e-06  2.86572867e-06  1.81643099e-05  6.84909101e-05\n",
      "   2.07225239e-04  5.23348164e-04]\n",
      " [ 2.91991998e-02  5.47047034e-02  1.45895898e-01  2.89699703e-01\n",
      "   4.00801218e-06  6.01201782e-06  1.02705308e-05  1.15230341e-05\n",
      "   1.20240356e-05  9.76952924e-06]\n",
      " [ 2.91991998e-02  5.47047034e-02  1.45895898e-01  2.89699703e-01\n",
      "   5.29057570e-06  2.60520778e-06  1.65130095e-05  6.22644657e-05\n",
      "   1.88386592e-04  4.75771056e-04]\n",
      " [ 2.91991998e-02  5.47047034e-02  1.45895898e-01  2.89699703e-01\n",
      "   6.09217841e-06  8.07614379e-06  5.11903309e-05  1.93019849e-04\n",
      "   5.83998393e-04  1.47489028e-03]\n",
      " [ 2.91991998e-02  5.47047034e-02  1.45895898e-01  2.89699703e-01\n",
      "   6.73346040e-06  4.71021558e-05  2.98555213e-04  1.12574152e-03\n",
      "   3.40602943e-03  8.60194117e-03]\n",
      " [ 2.91991998e-02  5.47047034e-02  1.45895898e-01  2.89699703e-01\n",
      "   6.89378066e-06  2.34755280e-04  1.48798723e-03  5.41081636e-06\n",
      "   2.16232256e-05  8.54908940e-05]\n",
      " [ 2.91991998e-02  5.47047034e-02  1.45895898e-01  2.89699703e-01\n",
      "   2.40480722e-06  8.28924996e-04  1.04047995e-05  4.62083699e-05\n",
      "   1.84662335e-04  7.30092230e-04]\n",
      " [ 2.91991998e-02  5.47047034e-02  1.45895898e-01  2.89699703e-01\n",
      "   9.15329747e-06  2.48755654e-03  1.82364545e-06  1.30260389e-06\n",
      "   7.67233723e-06  2.82404526e-05]\n",
      " [ 1.06926356e-02  2.00326554e-02  5.34265228e-02  1.06086925e-01\n",
      "   9.75449893e-06  2.60260259e-03  2.10420626e-06  5.70139719e-06\n",
      "   3.35812292e-05  3.75751119e-06]\n",
      " [ 3.40452720e-03  6.37838244e-03  1.70109645e-02  3.37780006e-02\n",
      "   6.16231864e-06  2.60260259e-03  1.40280417e-06  1.74148117e-05\n",
      "   1.02573242e-04  1.17084055e-05]\n",
      " [ 1.04228570e-03  1.95272244e-03  5.20785572e-03  1.03410324e-02\n",
      "   2.70540818e-06  2.60260259e-03  7.92715655e-05  3.59318292e-05\n",
      "   2.11638471e-04  3.09318311e-05]\n",
      " [ 2.45226518e-04  4.59431903e-04  1.22529187e-03  2.43301340e-03\n",
      "   3.55591043e-03  2.36941036e-03  6.49649664e-05  8.09818812e-05\n",
      "   4.76983289e-04  9.03906912e-05]\n",
      " [-1.00000000e+00 -1.00000000e+00 -1.00000000e+00 -1.00000000e+00\n",
      "  -1.00000000e+00  1.39915291e-03  2.99137973e-05  9.35971038e-05\n",
      "   5.51286910e-04  1.43837533e-04]\n",
      " [ 7.69538292e-06  9.93986941e-06  2.70540818e-06  1.41132123e-05\n",
      "   1.01402702e-05  5.57253952e-05  2.70284305e-04  6.07586582e-04\n",
      "   1.06896891e-03  1.79349119e-03]\n",
      " [ 1.68136103e-05  1.66132104e-05  1.38697260e-05  7.23537378e-05\n",
      "   4.80961444e-06  2.46572890e-05  1.34861592e-04  3.74765164e-04\n",
      "   8.29626399e-04  1.62914465e-03]]\n"
     ]
    }
   ],
   "source": [
    "print(grid_outp[...,0])\n",
    "print(grid_outp[...,1])\n",
    "print(grid_outp[...,2])"
   ]
  },
  {
   "cell_type": "code",
   "execution_count": null,
   "metadata": {},
   "outputs": [
    {
     "data": {
      "text/plain": [
       "[array([[7.00000000e+01, 5.00000000e+00, 3.30030030e-02],\n",
       "        [5.20000000e+01, 1.00000000e+00, 1.84744123e-02],\n",
       "        [6.90000000e+01, 5.00000000e+00, 5.59559560e-03],\n",
       "        [7.10000000e+01, 8.00000000e+00, 1.52285980e-03],\n",
       "        [7.30000000e+01, 1.00000000e+01, 5.38289641e-04],\n",
       "        [5.00000000e+01, 0.00000000e+00, 1.28455984e-04],\n",
       "        [4.90000000e+01, 0.00000000e+00, 1.01638275e-04],\n",
       "        [7.10000000e+01, 7.00000000e+00, 4.72404336e-05]]),\n",
       " Spectrum(precursor m/z=285.12, 74 fragments between 50.0 and 155.1),\n",
       " Spectrum(precursor m/z=285.12, 14 fragments between 118.1 and 286.1)]"
      ]
     },
     "execution_count": 47,
     "metadata": {},
     "output_type": "execute_result"
    }
   ],
   "source": [
    "pairs_to_score_list[0]"
   ]
  },
  {
   "cell_type": "code",
   "execution_count": null,
   "metadata": {},
   "outputs": [
    {
     "data": {
      "text/plain": [
       "[(0.02605932348386438, 5),\n",
       " (0.03442222082648898, 6),\n",
       " (0.06452274444206799, 8),\n",
       " (0.11209947205892355, 8),\n",
       " (0.1623664287234474, 13),\n",
       " (0.23840139483322562, 22),\n",
       " (0.3848047853392426, 33),\n",
       " (0.5657118496972595, 43),\n",
       " (0.7429066000116887, 52),\n",
       " (0.9162835881551422, 62),\n",
       " (0.005728378647648435, 5),\n",
       " (0.009132206272256797, 6),\n",
       " (0.021709608341931294, 8),\n",
       " (0.04213699303551976, 8),\n",
       " (0.06706815456959091, 13),\n",
       " (0.11193900110163978, 21),\n",
       " (0.20943092375678907, 32),\n",
       " (0.3547077252764144, 41),\n",
       " (0.5405889742079147, 49),\n",
       " (0.7662681701490394, 59),\n",
       " (0.9839733090233771, 12),\n",
       " (0.9972879869804555, 12),\n",
       " (0.9955911964844311, 12),\n",
       " (0.964456618462334, 13),\n",
       " (0.9148682500738545, 13),\n",
       " (0.8527410050476982, 13),\n",
       " (0.7035701317343943, 11),\n",
       " (0.4606751332163862, 11),\n",
       " (0.23167265520749364, 10),\n",
       " (0.10444423283199249, 9),\n",
       " (0.3253888505462898, 3),\n",
       " (0.32565130293613376, 4),\n",
       " (0.27739187239428803, 4),\n",
       " (0.196922979415211, 5),\n",
       " (0.14655759650837452, 4),\n",
       " (0.15012987464297978, 4),\n",
       " (0.18799849781377598, 3),\n",
       " (0.2206754137351674, 3),\n",
       " (0.21678727298502343, 3),\n",
       " (0.1736764651693238, 3),\n",
       " (0.2803876444050339, 3),\n",
       " (0.28954309689986785, 4),\n",
       " (0.2815979331727658, 4),\n",
       " (0.2644123099142414, 5),\n",
       " (0.2638242114020741, 4),\n",
       " (0.30587070300046615, 4),\n",
       " (0.3932062351594757, 3),\n",
       " (0.46129148121763963, 3),\n",
       " (0.45319428391184285, 3),\n",
       " (0.3631612671054422, 3),\n",
       " (0.16301333071280036, 3),\n",
       " (0.18228228304506386, 4),\n",
       " (0.2302007689885565, 4),\n",
       " (0.301662864449876, 5),\n",
       " (0.36819431557101434, 6),\n",
       " (0.4535161664554394, 7),\n",
       " (0.5897615680477188, 6),\n",
       " (0.6917576113253484, 6),\n",
       " (0.6797290156402285, 6),\n",
       " (0.5449164970925856, 6),\n",
       " (0.06754932488785412, 3),\n",
       " (0.09096054382178023, 4),\n",
       " (0.16892941336504158, 4),\n",
       " (0.2886375221021771, 4),\n",
       " (0.3901755947492616, 6),\n",
       " (0.49286117679990515, 6),\n",
       " (0.643837498892649, 5),\n",
       " (0.7550776433116079, 5),\n",
       " (0.7418562876220318, 5),\n",
       " (0.5945576860956281, 5),\n",
       " (0.03550470681343969, 2),\n",
       " (0.059783750716123366, 3),\n",
       " (0.1458726603296392, 3),\n",
       " (0.2787256093156955, 3),\n",
       " (0.38950881958186523, 5),\n",
       " (0.49573958410579966, 6),\n",
       " (0.6484611605962343, 5),\n",
       " (0.7605079214183046, 5),\n",
       " (0.747288657669695, 5),\n",
       " (0.5990919065570508, 5),\n",
       " (0.03091935041736776, 3),\n",
       " (0.05530458074701109, 4),\n",
       " (0.1424876064042804, 4),\n",
       " (0.2771179319506203, 4),\n",
       " (0.38914824082864996, 6),\n",
       " (0.4958379854626962, 7),\n",
       " (0.6487628868777758, 6),\n",
       " (0.7609500475328825, 6),\n",
       " (0.7479174285820706, 6),\n",
       " (0.5999513969345318, 6),\n",
       " (0.03052316852970554, 4),\n",
       " (0.05491251694943796, 5),\n",
       " (0.1421782226108839, 5),\n",
       " (0.2769496253269068, 5),\n",
       " (0.38907382265073054, 7),\n",
       " (0.4958236684336057, 8),\n",
       " (0.6489391047517403, 9),\n",
       " (0.7618133317548061, 9),\n",
       " (0.750578843524467, 9),\n",
       " (0.6055264315574215, 9),\n",
       " (0.029603123813878224, 4),\n",
       " (0.053890140383776236, 5),\n",
       " (0.14091945852137328, 5),\n",
       " (0.27534800013161287, 5),\n",
       " (0.3871430613942561, 7),\n",
       " (0.49362269699819666, 9),\n",
       " (0.6469131257822911, 10),\n",
       " (0.7625999087929901, 12),\n",
       " (0.7602853497651543, 13),\n",
       " (0.6304151178882524, 13),\n",
       " (0.027280698925960484, 4),\n",
       " (0.05011121941037548, 5),\n",
       " (0.13201029171089237, 5),\n",
       " (0.2585328973520579, 5),\n",
       " (0.3637347936790605, 9),\n",
       " (0.4643617237500311, 11),\n",
       " (0.6112304461130764, 14),\n",
       " (0.7307022970907889, 17),\n",
       " (0.7574799639292878, 19),\n",
       " (0.6837759540691751, 21),\n",
       " (0.018578113842490567, 4),\n",
       " (0.03423933650429114, 5),\n",
       " (0.09044927651652865, 5),\n",
       " (0.17729683382068442, 5),\n",
       " (0.2495076290985187, 10),\n",
       " (0.3195041406907525, 12),\n",
       " (0.4257086042407531, 17),\n",
       " (0.5289690549335558, 21),\n",
       " (0.6052136753365461, 24),\n",
       " (0.6524268980909272, 28),\n",
       " (0.007656577865062448, 3),\n",
       " (0.014474436182260391, 4),\n",
       " (0.039011311888466765, 4),\n",
       " (0.07693805165809929, 4),\n",
       " (0.10845614220175451, 8),\n",
       " (0.140074509231064, 10),\n",
       " (0.19259448375340726, 17),\n",
       " (0.2624777688010775, 21),\n",
       " (0.36352361022051916, 23),\n",
       " (0.4987666878378979, 28),\n",
       " (0.0024967290400113944, 1),\n",
       " (0.00475908252709964, 2),\n",
       " (0.012891826724626455, 2),\n",
       " (0.02546106611463418, 2),\n",
       " (0.03590345992901354, 3),\n",
       " (0.04756717316028175, 5),\n",
       " (0.07110794240549774, 12),\n",
       " (0.11913599618669249, 15),\n",
       " (0.2201939750988474, 17),\n",
       " (0.3782882134620023, 22),\n",
       " (0.0007131611955928424, 1),\n",
       " (0.0013647843540335325, 2),\n",
       " (0.003695078008719369, 2),\n",
       " (0.007300772952064788, 2),\n",
       " (0.01029565245674454, 3),\n",
       " (0.01478083907932279, 4),\n",
       " (0.02693985200446107, 9),\n",
       " (0.06274760356161034, 12),\n",
       " (0.15135941764418745, 15),\n",
       " (0.2964442765612651, 21),\n",
       " (0.000145172750425737, 1),\n",
       " (0.0002804121934898408, 2),\n",
       " (0.0007582588791025088, 2),\n",
       " (0.001499646304720232, 2),\n",
       " (0.0021144696996429416, 2),\n",
       " (0.003991928374963191, 3),\n",
       " (0.010769070960276118, 8),\n",
       " (0.03601740509775366, 11),\n",
       " (0.10287589502063177, 14),\n",
       " (0.21536651877089516, 19),\n",
       " (0.000881615280381087, 1),\n",
       " (0.004762324010920562, 5),\n",
       " (0.02149939372559689, 8),\n",
       " (0.06738470109463335, 11),\n",
       " (0.147495681244269, 16),\n",
       " (0.9196858972165044, 5),\n",
       " (0.9344342253308717, 5),\n",
       " (0.949508810526784, 6),\n",
       " (0.9449139730647481, 7),\n",
       " (0.914273330642831, 9),\n",
       " (0.8606585168856816, 11),\n",
       " (0.7167150238266885, 11),\n",
       " (0.4763403850321299, 11),\n",
       " (0.24760768623975052, 10),\n",
       " (0.12128119428112098, 9),\n",
       " (0.9104562630765752, 6),\n",
       " (0.925046419223635, 6),\n",
       " (0.9401325513587561, 7),\n",
       " (0.9362376725832205, 8),\n",
       " (0.9085874605394053, 12),\n",
       " (0.8628973181495476, 18),\n",
       " (0.7332619772611648, 20),\n",
       " (0.5052153714108577, 20),\n",
       " (0.28004356266318386, 19),\n",
       " (0.15796646168206246, 18)]"
      ]
     },
     "execution_count": 40,
     "metadata": {},
     "output_type": "execute_result"
    }
   ],
   "source": [
    "scores"
   ]
  },
  {
   "cell_type": "code",
   "execution_count": null,
   "metadata": {},
   "outputs": [
    {
     "name": "stderr",
     "output_type": "stream",
     "text": [
      "  0%|          | 0/947000 [00:00<?, ?it/s]"
     ]
    },
    {
     "name": "stderr",
     "output_type": "stream",
     "text": [
      "100%|██████████| 947000/947000 [01:37<00:00, 9744.21it/s] \n"
     ]
    },
    {
     "name": "stdout",
     "output_type": "stream",
     "text": [
      "Time to collect matching pairs:  97.95659852027893\n"
     ]
    }
   ],
   "source": [
    "from itertools import product\n",
    "start_collect_peaks = time.time()\n",
    "queries_npy = [q.peaks.to_numpy.astype('float32') for q in queries]\n",
    "references_npy = [q.peaks.to_numpy.astype('float32') for q in references]\n",
    "\n",
    "def fn(spectrum_1, spectrum_2):\n",
    "    matching_pairs = collect_peak_pairs(\n",
    "                spectrum_1, \n",
    "                spectrum_2, \n",
    "                tolerance=0.1,\n",
    "                shift=0.0, \n",
    "                mz_power=0.0,\n",
    "                intensity_power=1.0\n",
    "    ) \n",
    "    if matching_pairs is not None:\n",
    "        return score_best_matches(matching_pairs, spectrum_1, spectrum_2, 0.0, 1.0)\n",
    "    \n",
    "total_len = len(references_npy) * len(queries_npy)\n",
    "scores = Parallel(-1)(delayed(fn)(spectrum_1, spectrum_2)\n",
    "                      for (spectrum_1, spectrum_2) in \n",
    "                      tqdm(product(references_npy,queries_npy), total=total_len))\n",
    "\n",
    "end_collect_peaks = time.time()\n",
    "print(\"Time to collect matching pairs: \", end_collect_peaks - start_collect_peaks)"
   ]
  },
  {
   "cell_type": "code",
   "execution_count": null,
   "metadata": {},
   "outputs": [],
   "source": [
    "def spectra_peaks_to_tensor(spectra: list, fill: float):\n",
    "    sp_max_shape = max(len(s.peaks) for s in spectra)\n",
    "    sp = np.full((len(spectra), sp_max_shape, 2), fill, 'float32')\n",
    "    batch = np.zeros(len(spectra),dtype=np.uint64)\n",
    "    for i, s in enumerate(spectra):\n",
    "        sp[i, :len(s.peaks)] = s.peaks.to_numpy\n",
    "        batch[i] = len(s.peaks)\n",
    "    return sp, batch\n",
    "\n",
    "# queries = large_references[:1000]\n",
    "# references = large_references[1000:]\n",
    "\n",
    "references_batch, references_batch_size \\\n",
    "    = spectra_peaks_to_tensor(references, fill=-1e6)\n",
    "queries_batch, queries_batch_size \\\n",
    "    = spectra_peaks_to_tensor(queries, fill=-1e6)"
   ]
  },
  {
   "cell_type": "code",
   "execution_count": null,
   "metadata": {},
   "outputs": [],
   "source": [
    "np.save('data/references_mz.npy', references_batch[...,0])\n",
    "np.save('data/references_int.npy', references_batch[...,1])\n",
    "np.save('data/queries_mz.npy', queries_batch[...,0])\n",
    "np.save('data/queries_int.npy', queries_batch[...,1])\n",
    "# np.save('data/scores_100x100.npy', np.array(scores))"
   ]
  },
  {
   "cell_type": "code",
   "execution_count": null,
   "metadata": {},
   "outputs": [
    {
     "ename": "FileNotFoundError",
     "evalue": "[Errno 2] No such file or directory: 'data/scores_100x100.npy'",
     "output_type": "error",
     "traceback": [
      "\u001b[0;31m---------------------------------------------------------------------------\u001b[0m",
      "\u001b[0;31mFileNotFoundError\u001b[0m                         Traceback (most recent call last)",
      "\u001b[1;32m/home/tornikeo/Documents/work/scalexa/pangeaai/optimize-cosine/cpp/main.ipynb Cell 14\u001b[0m line \u001b[0;36m1\n\u001b[0;32m----> <a href='vscode-notebook-cell:/home/tornikeo/Documents/work/scalexa/pangeaai/optimize-cosine/cpp/main.ipynb#X21sZmlsZQ%3D%3D?line=0'>1</a>\u001b[0m load_scores_true \u001b[39m=\u001b[39m np\u001b[39m.\u001b[39;49mload(\u001b[39m'\u001b[39;49m\u001b[39mdata/scores_100x100.npy\u001b[39;49m\u001b[39m'\u001b[39;49m)\n\u001b[1;32m      <a href='vscode-notebook-cell:/home/tornikeo/Documents/work/scalexa/pangeaai/optimize-cosine/cpp/main.ipynb#X21sZmlsZQ%3D%3D?line=1'>2</a>\u001b[0m \u001b[39mprint\u001b[39m(load_scores_true)\n\u001b[1;32m      <a href='vscode-notebook-cell:/home/tornikeo/Documents/work/scalexa/pangeaai/optimize-cosine/cpp/main.ipynb#X21sZmlsZQ%3D%3D?line=2'>3</a>\u001b[0m \u001b[39mprint\u001b[39m(load_scores_true\u001b[39m.\u001b[39mshape, load_scores_true\u001b[39m.\u001b[39mdtype)\n",
      "File \u001b[0;32m~/miniconda3/envs/pb2/lib/python3.10/site-packages/numpy/lib/npyio.py:427\u001b[0m, in \u001b[0;36mload\u001b[0;34m(file, mmap_mode, allow_pickle, fix_imports, encoding, max_header_size)\u001b[0m\n\u001b[1;32m    425\u001b[0m     own_fid \u001b[39m=\u001b[39m \u001b[39mFalse\u001b[39;00m\n\u001b[1;32m    426\u001b[0m \u001b[39melse\u001b[39;00m:\n\u001b[0;32m--> 427\u001b[0m     fid \u001b[39m=\u001b[39m stack\u001b[39m.\u001b[39menter_context(\u001b[39mopen\u001b[39;49m(os_fspath(file), \u001b[39m\"\u001b[39;49m\u001b[39mrb\u001b[39;49m\u001b[39m\"\u001b[39;49m))\n\u001b[1;32m    428\u001b[0m     own_fid \u001b[39m=\u001b[39m \u001b[39mTrue\u001b[39;00m\n\u001b[1;32m    430\u001b[0m \u001b[39m# Code to distinguish from NumPy binary files and pickles.\u001b[39;00m\n",
      "\u001b[0;31mFileNotFoundError\u001b[0m: [Errno 2] No such file or directory: 'data/scores_100x100.npy'"
     ]
    }
   ],
   "source": [
    "load_scores_true = np.load('data/scores_100x100.npy')\n",
    "print(load_scores_true)\n",
    "print(load_scores_true.shape, load_scores_true.dtype)\n",
    "print(np.sort(load_scores_true[:,0]))"
   ]
  },
  {
   "cell_type": "code",
   "execution_count": null,
   "metadata": {},
   "outputs": [
    {
     "name": "stdout",
     "output_type": "stream",
     "text": [
      "[[0.0000000e+00 5.0000000e+00 2.9956270e-06 1.0000000e+00]\n",
      " [0.0000000e+00 6.0000000e+00 7.0604798e-04 5.0000000e+00]\n",
      " [0.0000000e+00 7.0000000e+00 2.6819189e-03 1.0000000e+01]\n",
      " ...\n",
      " [7.6410000e+03 9.9700000e+02 5.7682420e-05 1.0000000e+00]\n",
      " [7.6410000e+03 9.9800000e+02 2.6733984e-05 1.0000000e+00]\n",
      " [7.6410000e+03 9.9900000e+02 7.2767034e-06 1.0000000e+00]]\n",
      "(65748867, 4) float32\n",
      "[    0.     0.     0. ... 91697. 91697. 91697.]\n"
     ]
    }
   ],
   "source": [
    "load_scores = np.load('data/results.npy')\n",
    "print(load_scores)\n",
    "print(load_scores.shape, load_scores.dtype)\n",
    "print(np.sort(load_scores[:,0]))"
   ]
  },
  {
   "cell_type": "code",
   "execution_count": null,
   "metadata": {},
   "outputs": [
    {
     "data": {
      "text/plain": [
       "1.051981872"
      ]
     },
     "execution_count": 13,
     "metadata": {},
     "output_type": "execute_result"
    }
   ],
   "source": [
    "load_scores.nbytes / 1e9"
   ]
  },
  {
   "cell_type": "code",
   "execution_count": null,
   "metadata": {},
   "outputs": [
    {
     "ename": "ValueError",
     "evalue": "operands could not be broadcast together with shapes (1740258,) (22970,) ",
     "output_type": "error",
     "traceback": [
      "\u001b[0;31m---------------------------------------------------------------------------\u001b[0m",
      "\u001b[0;31mValueError\u001b[0m                                Traceback (most recent call last)",
      "\u001b[1;32m/home/tornikeo/Documents/work/scalexa/pangeaai/optimize-cosine/cpp/main.ipynb Cell 9\u001b[0m line \u001b[0;36m2\n\u001b[1;32m      <a href='vscode-notebook-cell:/home/tornikeo/Documents/work/scalexa/pangeaai/optimize-cosine/cpp/main.ipynb#X26sZmlsZQ%3D%3D?line=0'>1</a>\u001b[0m \u001b[39mimport\u001b[39;00m \u001b[39mmatplotlib\u001b[39;00m\u001b[39m.\u001b[39;00m\u001b[39mpyplot\u001b[39;00m \u001b[39mas\u001b[39;00m \u001b[39mplt\u001b[39;00m\n\u001b[0;32m----> <a href='vscode-notebook-cell:/home/tornikeo/Documents/work/scalexa/pangeaai/optimize-cosine/cpp/main.ipynb#X26sZmlsZQ%3D%3D?line=1'>2</a>\u001b[0m plt\u001b[39m.\u001b[39mplot(load_scores[:,\u001b[39m1\u001b[39;49m] \u001b[39m-\u001b[39;49m load_scores_true[:\u001b[39mlen\u001b[39;49m(load_scores[:,\u001b[39m1\u001b[39;49m]),\u001b[39m1\u001b[39;49m])\n",
      "\u001b[0;31mValueError\u001b[0m: operands could not be broadcast together with shapes (1740258,) (22970,) "
     ]
    }
   ],
   "source": [
    "import matplotlib.pyplot as plt\n",
    "plt.plot(load_scores[:,1] - load_scores_true[:len(load_scores[:,1]),1])"
   ]
  }
 ],
 "metadata": {
  "kernelspec": {
   "display_name": "pb",
   "language": "python",
   "name": "python3"
  },
  "language_info": {
   "codemirror_mode": {
    "name": "ipython",
    "version": 3
   },
   "file_extension": ".py",
   "mimetype": "text/x-python",
   "name": "python",
   "nbconvert_exporter": "python",
   "pygments_lexer": "ipython3",
   "version": "3.10.11"
  }
 },
 "nbformat": 4,
 "nbformat_minor": 2
}
